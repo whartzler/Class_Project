{
 "cells": [
  {
   "cell_type": "markdown",
   "metadata": {
    "id": "BL_LfsVn_bv1"
   },
   "source": [
    "# Final Project - Maintaining EV customers\n",
    "\n",
    "---------------\n",
    "## Context\n",
    "---------------\n",
    "This dataset presents results from a survey of FCV and BEV and compared the sociodeographic profile of FCV buyers vs BEV Households.  \n",
    "\n",
    "\n",
    "-----------------\n",
    "## Objective\n",
    "-----------------\n",
    "Based on the data we want to identify Current FCV & BEV Owners Demographics and see if there are any major differences between the two car owners.  \n",
    "\n",
    "For our ML model we will attempt to predict based on the information if we can identify the customer as a FCV or BEV owner.  \n",
    "\n",
    "-------------------------\n",
    "## Data Dictionary\n",
    "-------------------------\n",
    "\n",
    "The dataset has the following information:\n",
    "- When the customer submitted their data\n",
    "- If they Previously Owned a PHEV, BEV, HEV, CNG\n",
    "- Household Income\n",
    "- Importance of Reducing Greenhouse Emissions\n",
    "- Demographics of the customer current car (year, manufacture, model)\n",
    "- Demographics on the customer's (home type, ownership of home,  education, gender, age, # of people in household)\n",
    "- Demographics on customers car usage (longest trip, number of trips over 200 miles, one way commute distance, annual VMT vehicle miles traveled)\n",
    "- If the customer is currently a FCV or BEV Current Owner\n",
    "\n",
    "\n",
    "#### Acronyms used\n",
    "- BEV: Battery Electric Vehicle\n",
    "- FCV: Fuel Cell Vehicle (Hydrogen fuel cell vehicle)\n",
    "- PHEV: Plug-in hybrid electric vehicle\n",
    "- CNG: Compressed Natural Gas (everyday car)"
   ]
  },
  {
   "cell_type": "markdown",
   "metadata": {
    "id": "vVR3oeVo_bv5"
   },
   "source": [
    "### Import the necessary libraries or dependencies"
   ]
  },
  {
   "cell_type": "code",
   "execution_count": 2,
   "metadata": {
    "id": "sQPI1Bzz_bv5"
   },
   "outputs": [],
   "source": [
    "#Import Dependencies\n",
    "import pandas as pd\n",
    "import matplotlib.pyplot as plt\n",
    "import seaborn as sns"
   ]
  },
  {
   "cell_type": "markdown",
   "metadata": {
    "id": "8WpI8LC7_bv7"
   },
   "source": [
    "###  Read the Dataset "
   ]
  },
  {
   "cell_type": "code",
   "execution_count": 3,
   "metadata": {
    "id": "OTzXe_vA_bv7"
   },
   "outputs": [],
   "source": [
    "#Import File\n",
    "fcv_df = pd.read_excel('FCV&EVMT Data_6.18.19.xlsx')"
   ]
  },
  {
   "cell_type": "markdown",
   "metadata": {},
   "source": [
    "## Descriptive Analysis/EDA\n",
    "\n",
    "1. Check dimensions of the dataframe in terms of rows and columns\n",
    "2. Check data types. Ensure your data types are correct. Refer data definitions to validate\n",
    "3. If data types are not as per business definition, change the data types as per requirement\n",
    "4. Study summary statistics\n",
    "5. Check for missing values\n",
    "6. Study correlation\n",
    "7. Detect outliers"
   ]
  },
  {
   "cell_type": "markdown",
   "metadata": {
    "id": "H3SziaVY_bv8"
   },
   "source": [
    "### Examine Dataset "
   ]
  },
  {
   "cell_type": "code",
   "execution_count": 4,
   "metadata": {},
   "outputs": [
    {
     "data": {
      "text/html": [
       "<div>\n",
       "<style scoped>\n",
       "    .dataframe tbody tr th:only-of-type {\n",
       "        vertical-align: middle;\n",
       "    }\n",
       "\n",
       "    .dataframe tbody tr th {\n",
       "        vertical-align: top;\n",
       "    }\n",
       "\n",
       "    .dataframe thead th {\n",
       "        text-align: right;\n",
       "    }\n",
       "</style>\n",
       "<table border=\"1\" class=\"dataframe\">\n",
       "  <thead>\n",
       "    <tr style=\"text-align: right;\">\n",
       "      <th></th>\n",
       "      <th>id. Response ID</th>\n",
       "      <th>submitdate. Date submitted</th>\n",
       "      <th>Month Year[subm...Date submitted]</th>\n",
       "      <th>Month[Month Yea...ate submitted]]</th>\n",
       "      <th>Year[Month Year...ate submitted]]</th>\n",
       "      <th>lastpage. Last page</th>\n",
       "      <th>Carmain</th>\n",
       "      <th>Previous PHEVs</th>\n",
       "      <th>Previous BEVs</th>\n",
       "      <th>Previous HEVs</th>\n",
       "      <th>...</th>\n",
       "      <th>Highest Level of Education</th>\n",
       "      <th>Longest trip in the last 12 months</th>\n",
       "      <th>Number of trips over 200 miles in the last 12 months</th>\n",
       "      <th>One-way commute distance</th>\n",
       "      <th>Number of people in the household</th>\n",
       "      <th>Age</th>\n",
       "      <th>Gender (Male 1)</th>\n",
       "      <th>Number of vehicles in the household</th>\n",
       "      <th>Annual VMT Estimate</th>\n",
       "      <th>FCV, BEV Dummy</th>\n",
       "    </tr>\n",
       "  </thead>\n",
       "  <tbody>\n",
       "    <tr>\n",
       "      <th>0</th>\n",
       "      <td>FCV_1_3</td>\n",
       "      <td>2017/06/02 11:30:57</td>\n",
       "      <td>06/2017</td>\n",
       "      <td>6.0</td>\n",
       "      <td>2017.0</td>\n",
       "      <td>42.0</td>\n",
       "      <td>2016 Toyota Mirai</td>\n",
       "      <td>1.0</td>\n",
       "      <td>0.0</td>\n",
       "      <td>0.0</td>\n",
       "      <td>...</td>\n",
       "      <td>3.0</td>\n",
       "      <td>483.14</td>\n",
       "      <td>0.0</td>\n",
       "      <td>0.01</td>\n",
       "      <td>2.0</td>\n",
       "      <td>65.0</td>\n",
       "      <td>0.0</td>\n",
       "      <td>2</td>\n",
       "      <td>14622.000000</td>\n",
       "      <td>0.0</td>\n",
       "    </tr>\n",
       "    <tr>\n",
       "      <th>1</th>\n",
       "      <td>FCV_1_4</td>\n",
       "      <td>2017/06/02 11:15:39</td>\n",
       "      <td>06/2017</td>\n",
       "      <td>6.0</td>\n",
       "      <td>2017.0</td>\n",
       "      <td>42.0</td>\n",
       "      <td>2016 Toyota Mirai</td>\n",
       "      <td>0.0</td>\n",
       "      <td>0.0</td>\n",
       "      <td>1.0</td>\n",
       "      <td>...</td>\n",
       "      <td>4.0</td>\n",
       "      <td>568.09</td>\n",
       "      <td>1.0</td>\n",
       "      <td>10.69</td>\n",
       "      <td>3.0</td>\n",
       "      <td>65.0</td>\n",
       "      <td>0.0</td>\n",
       "      <td>3</td>\n",
       "      <td>9197.142857</td>\n",
       "      <td>0.0</td>\n",
       "    </tr>\n",
       "    <tr>\n",
       "      <th>2</th>\n",
       "      <td>FCV_1_2</td>\n",
       "      <td>2017/06/02 10:51:59</td>\n",
       "      <td>06/2017</td>\n",
       "      <td>6.0</td>\n",
       "      <td>2017.0</td>\n",
       "      <td>42.0</td>\n",
       "      <td>2016 Toyota Mirai</td>\n",
       "      <td>1.0</td>\n",
       "      <td>1.0</td>\n",
       "      <td>0.0</td>\n",
       "      <td>...</td>\n",
       "      <td>4.0</td>\n",
       "      <td>398.57</td>\n",
       "      <td>0.0</td>\n",
       "      <td>9.39</td>\n",
       "      <td>5.0</td>\n",
       "      <td>55.0</td>\n",
       "      <td>1.0</td>\n",
       "      <td>4</td>\n",
       "      <td>15360.000000</td>\n",
       "      <td>0.0</td>\n",
       "    </tr>\n",
       "    <tr>\n",
       "      <th>3</th>\n",
       "      <td>FCV_1_5</td>\n",
       "      <td>NaN</td>\n",
       "      <td>NaN</td>\n",
       "      <td>NaN</td>\n",
       "      <td>NaN</td>\n",
       "      <td>NaN</td>\n",
       "      <td>NaN</td>\n",
       "      <td>NaN</td>\n",
       "      <td>NaN</td>\n",
       "      <td>NaN</td>\n",
       "      <td>...</td>\n",
       "      <td>NaN</td>\n",
       "      <td>NaN</td>\n",
       "      <td>NaN</td>\n",
       "      <td>NaN</td>\n",
       "      <td>NaN</td>\n",
       "      <td>NaN</td>\n",
       "      <td>NaN</td>\n",
       "      <td>1</td>\n",
       "      <td>NaN</td>\n",
       "      <td>NaN</td>\n",
       "    </tr>\n",
       "    <tr>\n",
       "      <th>4</th>\n",
       "      <td>FCV_1_15</td>\n",
       "      <td>2017/06/02 19:35:59</td>\n",
       "      <td>06/2017</td>\n",
       "      <td>6.0</td>\n",
       "      <td>2017.0</td>\n",
       "      <td>42.0</td>\n",
       "      <td>2017 Toyota Mirai</td>\n",
       "      <td>1.0</td>\n",
       "      <td>0.0</td>\n",
       "      <td>0.0</td>\n",
       "      <td>...</td>\n",
       "      <td>2.0</td>\n",
       "      <td>255.16</td>\n",
       "      <td>0.0</td>\n",
       "      <td>17.63</td>\n",
       "      <td>2.0</td>\n",
       "      <td>55.0</td>\n",
       "      <td>0.0</td>\n",
       "      <td>3</td>\n",
       "      <td>5082.352941</td>\n",
       "      <td>0.0</td>\n",
       "    </tr>\n",
       "  </tbody>\n",
       "</table>\n",
       "<p>5 rows × 25 columns</p>\n",
       "</div>"
      ],
      "text/plain": [
       "  id. Response ID submitdate. Date submitted  \\\n",
       "0         FCV_1_3        2017/06/02 11:30:57   \n",
       "1         FCV_1_4        2017/06/02 11:15:39   \n",
       "2         FCV_1_2        2017/06/02 10:51:59   \n",
       "3         FCV_1_5                        NaN   \n",
       "4        FCV_1_15        2017/06/02 19:35:59   \n",
       "\n",
       "  Month Year[subm...Date submitted]  Month[Month Yea...ate submitted]]  \\\n",
       "0                           06/2017                                6.0   \n",
       "1                           06/2017                                6.0   \n",
       "2                           06/2017                                6.0   \n",
       "3                               NaN                                NaN   \n",
       "4                           06/2017                                6.0   \n",
       "\n",
       "   Year[Month Year...ate submitted]]  lastpage. Last page            Carmain  \\\n",
       "0                             2017.0                 42.0  2016 Toyota Mirai   \n",
       "1                             2017.0                 42.0  2016 Toyota Mirai   \n",
       "2                             2017.0                 42.0  2016 Toyota Mirai   \n",
       "3                                NaN                  NaN                NaN   \n",
       "4                             2017.0                 42.0  2017 Toyota Mirai   \n",
       "\n",
       "   Previous PHEVs  Previous BEVs  Previous HEVs  ...  \\\n",
       "0             1.0            0.0            0.0  ...   \n",
       "1             0.0            0.0            1.0  ...   \n",
       "2             1.0            1.0            0.0  ...   \n",
       "3             NaN            NaN            NaN  ...   \n",
       "4             1.0            0.0            0.0  ...   \n",
       "\n",
       "   Highest Level of Education  Longest trip in the last 12 months  \\\n",
       "0                         3.0                              483.14   \n",
       "1                         4.0                              568.09   \n",
       "2                         4.0                              398.57   \n",
       "3                         NaN                                 NaN   \n",
       "4                         2.0                              255.16   \n",
       "\n",
       "   Number of trips over 200 miles in the last 12 months  \\\n",
       "0                                                0.0      \n",
       "1                                                1.0      \n",
       "2                                                0.0      \n",
       "3                                                NaN      \n",
       "4                                                0.0      \n",
       "\n",
       "   One-way commute distance  Number of people in the household   Age  \\\n",
       "0                      0.01                                2.0  65.0   \n",
       "1                     10.69                                3.0  65.0   \n",
       "2                      9.39                                5.0  55.0   \n",
       "3                       NaN                                NaN   NaN   \n",
       "4                     17.63                                2.0  55.0   \n",
       "\n",
       "   Gender (Male 1)  Number of vehicles in the household  Annual VMT Estimate   \\\n",
       "0              0.0                                    2          14622.000000   \n",
       "1              0.0                                    3           9197.142857   \n",
       "2              1.0                                    4          15360.000000   \n",
       "3              NaN                                    1                   NaN   \n",
       "4              0.0                                    3           5082.352941   \n",
       "\n",
       "   FCV, BEV Dummy  \n",
       "0             0.0  \n",
       "1             0.0  \n",
       "2             0.0  \n",
       "3             NaN  \n",
       "4             0.0  \n",
       "\n",
       "[5 rows x 25 columns]"
      ]
     },
     "execution_count": 4,
     "metadata": {},
     "output_type": "execute_result"
    }
   ],
   "source": [
    "fcv_df.head()"
   ]
  },
  {
   "cell_type": "markdown",
   "metadata": {
    "id": "OzzsF3Pg_bv-"
   },
   "source": [
    "### The dimension of the `data` dataframe. (shape, r x c)"
   ]
  },
  {
   "cell_type": "markdown",
   "metadata": {
    "id": "oILSLGBL_bwA"
   },
   "source": [
    "#### Observations: \n"
   ]
  },
  {
   "cell_type": "code",
   "execution_count": 5,
   "metadata": {
    "id": "zdtFn47Q_bwA"
   },
   "outputs": [
    {
     "data": {
      "text/plain": [
       "(27021, 25)"
      ]
     },
     "execution_count": 5,
     "metadata": {},
     "output_type": "execute_result"
    }
   ],
   "source": [
    "fcv_df.shape"
   ]
  },
  {
   "cell_type": "markdown",
   "metadata": {
    "id": "DyG29Cqz_bwA"
   },
   "source": [
    "### Data Types/Categorical vs. Numerical Columns"
   ]
  },
  {
   "cell_type": "code",
   "execution_count": 6,
   "metadata": {},
   "outputs": [
    {
     "data": {
      "text/plain": [
       "id. Response ID                                                                     object\n",
       "submitdate. Date submitted                                                          object\n",
       "Month Year[subm...Date submitted]                                                   object\n",
       "Month[Month Yea...ate submitted]]                                                  float64\n",
       "Year[Month Year...ate submitted]]                                                  float64\n",
       "lastpage. Last page                                                                float64\n",
       "Carmain                                                                             object\n",
       "Previous PHEVs                                                                     float64\n",
       "Previous BEVs                                                                      float64\n",
       "Previous HEVs                                                                      float64\n",
       "Previous CNGs                                                                      float64\n",
       "Household Income                                                                   float64\n",
       "Importance of reducing greenhouse gas emissions (-3 not important, 3 important)    float64\n",
       "Home ownership (own 1)                                                             float64\n",
       "Home Type (detached 1)                                                             float64\n",
       "Highest Level of Education                                                         float64\n",
       "Longest trip in the last 12 months                                                 float64\n",
       "Number of trips over 200 miles in the last 12 months                               float64\n",
       "One-way commute distance                                                           float64\n",
       "Number of people in the household                                                  float64\n",
       "Age                                                                                float64\n",
       "Gender (Male 1)                                                                    float64\n",
       "Number of vehicles in the household                                                  int64\n",
       "Annual VMT Estimate                                                                float64\n",
       "FCV, BEV Dummy                                                                     float64\n",
       "dtype: object"
      ]
     },
     "execution_count": 6,
     "metadata": {},
     "output_type": "execute_result"
    }
   ],
   "source": [
    "fcv_df.dtypes"
   ]
  },
  {
   "cell_type": "markdown",
   "metadata": {
    "id": "OqnMczju_bwB"
   },
   "source": [
    "#### Observations:"
   ]
  },
  {
   "cell_type": "raw",
   "metadata": {
    "id": "RdARzto8_bwB"
   },
   "source": []
  },
  {
   "cell_type": "markdown",
   "metadata": {
    "id": "wHYJkmek_bwB"
   },
   "source": [
    "### Missing Values\n",
    "\n",
    "**If we encounter with missing data, what we can do:**\n",
    "\n",
    "* leave as is\n",
    "* drop them with dropna()\n",
    "* fill missing value with fillna()\n",
    "* fill missing values with test statistics like mean\n",
    "\n",
    "Mode Inputation\n",
    "* Mode imputation means replacing missing values by the mode, or the most frequent- category value.\n"
   ]
  },
  {
   "cell_type": "code",
   "execution_count": 7,
   "metadata": {},
   "outputs": [
    {
     "data": {
      "text/plain": [
       "id. Response ID                                                                        0\n",
       "submitdate. Date submitted                                                          6939\n",
       "Month Year[subm...Date submitted]                                                   6939\n",
       "Month[Month Yea...ate submitted]]                                                   6939\n",
       "Year[Month Year...ate submitted]]                                                   6939\n",
       "lastpage. Last page                                                                  996\n",
       "Carmain                                                                             1405\n",
       "Previous PHEVs                                                                     11077\n",
       "Previous BEVs                                                                      11077\n",
       "Previous HEVs                                                                      11077\n",
       "Previous CNGs                                                                      11077\n",
       "Household Income                                                                   10057\n",
       "Importance of reducing greenhouse gas emissions (-3 not important, 3 important)     8519\n",
       "Home ownership (own 1)                                                              8077\n",
       "Home Type (detached 1)                                                              8022\n",
       "Highest Level of Education                                                          8004\n",
       "Longest trip in the last 12 months                                                 14401\n",
       "Number of trips over 200 miles in the last 12 months                               11836\n",
       "One-way commute distance                                                            7485\n",
       "Number of people in the household                                                   5187\n",
       "Age                                                                                 5418\n",
       "Gender (Male 1)                                                                     5454\n",
       "Number of vehicles in the household                                                    0\n",
       "Annual VMT Estimate                                                                 8196\n",
       "FCV, BEV Dummy                                                                     12977\n",
       "dtype: int64"
      ]
     },
     "execution_count": 7,
     "metadata": {},
     "output_type": "execute_result"
    }
   ],
   "source": [
    "fcv_df.isnull().sum()"
   ]
  },
  {
   "cell_type": "markdown",
   "metadata": {
    "id": "CpcpowUT_bwC"
   },
   "source": [
    "#### Observations: "
   ]
  },
  {
   "cell_type": "markdown",
   "metadata": {
    "id": "RmTpaojz_bwC"
   },
   "source": [
    "### Summary Statistics"
   ]
  },
  {
   "cell_type": "code",
   "execution_count": 8,
   "metadata": {},
   "outputs": [
    {
     "data": {
      "text/html": [
       "<div>\n",
       "<style scoped>\n",
       "    .dataframe tbody tr th:only-of-type {\n",
       "        vertical-align: middle;\n",
       "    }\n",
       "\n",
       "    .dataframe tbody tr th {\n",
       "        vertical-align: top;\n",
       "    }\n",
       "\n",
       "    .dataframe thead th {\n",
       "        text-align: right;\n",
       "    }\n",
       "</style>\n",
       "<table border=\"1\" class=\"dataframe\">\n",
       "  <thead>\n",
       "    <tr style=\"text-align: right;\">\n",
       "      <th></th>\n",
       "      <th>Month[Month Yea...ate submitted]]</th>\n",
       "      <th>Year[Month Year...ate submitted]]</th>\n",
       "      <th>lastpage. Last page</th>\n",
       "      <th>Previous PHEVs</th>\n",
       "      <th>Previous BEVs</th>\n",
       "      <th>Previous HEVs</th>\n",
       "      <th>Previous CNGs</th>\n",
       "      <th>Household Income</th>\n",
       "      <th>Importance of reducing greenhouse gas emissions (-3 not important, 3 important)</th>\n",
       "      <th>Home ownership (own 1)</th>\n",
       "      <th>...</th>\n",
       "      <th>Highest Level of Education</th>\n",
       "      <th>Longest trip in the last 12 months</th>\n",
       "      <th>Number of trips over 200 miles in the last 12 months</th>\n",
       "      <th>One-way commute distance</th>\n",
       "      <th>Number of people in the household</th>\n",
       "      <th>Age</th>\n",
       "      <th>Gender (Male 1)</th>\n",
       "      <th>Number of vehicles in the household</th>\n",
       "      <th>Annual VMT Estimate</th>\n",
       "      <th>FCV, BEV Dummy</th>\n",
       "    </tr>\n",
       "  </thead>\n",
       "  <tbody>\n",
       "    <tr>\n",
       "      <th>count</th>\n",
       "      <td>20082.000000</td>\n",
       "      <td>20082.000000</td>\n",
       "      <td>26025.000000</td>\n",
       "      <td>15944.000000</td>\n",
       "      <td>15944.000000</td>\n",
       "      <td>15944.000000</td>\n",
       "      <td>15944.000000</td>\n",
       "      <td>16964.000000</td>\n",
       "      <td>18502.000000</td>\n",
       "      <td>18944.000000</td>\n",
       "      <td>...</td>\n",
       "      <td>19017.000000</td>\n",
       "      <td>12620.000000</td>\n",
       "      <td>1.518500e+04</td>\n",
       "      <td>19536.000000</td>\n",
       "      <td>21834.000000</td>\n",
       "      <td>21603.000000</td>\n",
       "      <td>21567.000000</td>\n",
       "      <td>27021.000000</td>\n",
       "      <td>1.882500e+04</td>\n",
       "      <td>14044.000000</td>\n",
       "    </tr>\n",
       "    <tr>\n",
       "      <th>mean</th>\n",
       "      <td>7.227169</td>\n",
       "      <td>2016.549995</td>\n",
       "      <td>37.354621</td>\n",
       "      <td>0.114714</td>\n",
       "      <td>0.128638</td>\n",
       "      <td>0.235575</td>\n",
       "      <td>0.004328</td>\n",
       "      <td>191924.074511</td>\n",
       "      <td>1.701342</td>\n",
       "      <td>0.845703</td>\n",
       "      <td>...</td>\n",
       "      <td>3.336909</td>\n",
       "      <td>373.786568</td>\n",
       "      <td>1.478094e+06</td>\n",
       "      <td>19.484645</td>\n",
       "      <td>2.846341</td>\n",
       "      <td>50.044994</td>\n",
       "      <td>0.263644</td>\n",
       "      <td>2.191074</td>\n",
       "      <td>1.298698e+04</td>\n",
       "      <td>0.934420</td>\n",
       "    </tr>\n",
       "    <tr>\n",
       "      <th>std</th>\n",
       "      <td>2.182451</td>\n",
       "      <td>1.142510</td>\n",
       "      <td>13.540183</td>\n",
       "      <td>0.318686</td>\n",
       "      <td>0.334809</td>\n",
       "      <td>0.424371</td>\n",
       "      <td>0.065644</td>\n",
       "      <td>109658.500036</td>\n",
       "      <td>1.638336</td>\n",
       "      <td>0.361243</td>\n",
       "      <td>...</td>\n",
       "      <td>0.701598</td>\n",
       "      <td>358.396789</td>\n",
       "      <td>1.803439e+08</td>\n",
       "      <td>44.501239</td>\n",
       "      <td>1.253612</td>\n",
       "      <td>13.427983</td>\n",
       "      <td>0.440618</td>\n",
       "      <td>1.013026</td>\n",
       "      <td>2.773889e+04</td>\n",
       "      <td>0.247555</td>\n",
       "    </tr>\n",
       "    <tr>\n",
       "      <th>min</th>\n",
       "      <td>4.000000</td>\n",
       "      <td>2015.000000</td>\n",
       "      <td>-1.000000</td>\n",
       "      <td>0.000000</td>\n",
       "      <td>0.000000</td>\n",
       "      <td>0.000000</td>\n",
       "      <td>0.000000</td>\n",
       "      <td>50000.000000</td>\n",
       "      <td>-3.000000</td>\n",
       "      <td>0.000000</td>\n",
       "      <td>...</td>\n",
       "      <td>1.000000</td>\n",
       "      <td>0.000000</td>\n",
       "      <td>0.000000e+00</td>\n",
       "      <td>0.000000</td>\n",
       "      <td>1.000000</td>\n",
       "      <td>18.000000</td>\n",
       "      <td>0.000000</td>\n",
       "      <td>1.000000</td>\n",
       "      <td>-2.400000e+05</td>\n",
       "      <td>0.000000</td>\n",
       "    </tr>\n",
       "    <tr>\n",
       "      <th>25%</th>\n",
       "      <td>5.000000</td>\n",
       "      <td>2015.000000</td>\n",
       "      <td>42.000000</td>\n",
       "      <td>0.000000</td>\n",
       "      <td>0.000000</td>\n",
       "      <td>0.000000</td>\n",
       "      <td>0.000000</td>\n",
       "      <td>125000.000000</td>\n",
       "      <td>1.160000</td>\n",
       "      <td>1.000000</td>\n",
       "      <td>...</td>\n",
       "      <td>3.000000</td>\n",
       "      <td>169.845000</td>\n",
       "      <td>0.000000e+00</td>\n",
       "      <td>6.320000</td>\n",
       "      <td>2.000000</td>\n",
       "      <td>35.000000</td>\n",
       "      <td>0.000000</td>\n",
       "      <td>1.000000</td>\n",
       "      <td>8.000000e+03</td>\n",
       "      <td>1.000000</td>\n",
       "    </tr>\n",
       "    <tr>\n",
       "      <th>50%</th>\n",
       "      <td>8.000000</td>\n",
       "      <td>2017.000000</td>\n",
       "      <td>43.000000</td>\n",
       "      <td>0.000000</td>\n",
       "      <td>0.000000</td>\n",
       "      <td>0.000000</td>\n",
       "      <td>0.000000</td>\n",
       "      <td>175000.000000</td>\n",
       "      <td>2.570000</td>\n",
       "      <td>1.000000</td>\n",
       "      <td>...</td>\n",
       "      <td>3.000000</td>\n",
       "      <td>313.885000</td>\n",
       "      <td>0.000000e+00</td>\n",
       "      <td>14.040000</td>\n",
       "      <td>3.000000</td>\n",
       "      <td>45.000000</td>\n",
       "      <td>0.000000</td>\n",
       "      <td>2.000000</td>\n",
       "      <td>1.122720e+04</td>\n",
       "      <td>1.000000</td>\n",
       "    </tr>\n",
       "    <tr>\n",
       "      <th>75%</th>\n",
       "      <td>9.000000</td>\n",
       "      <td>2018.000000</td>\n",
       "      <td>45.000000</td>\n",
       "      <td>0.000000</td>\n",
       "      <td>0.000000</td>\n",
       "      <td>0.000000</td>\n",
       "      <td>0.000000</td>\n",
       "      <td>225000.000000</td>\n",
       "      <td>2.770000</td>\n",
       "      <td>1.000000</td>\n",
       "      <td>...</td>\n",
       "      <td>4.000000</td>\n",
       "      <td>431.147500</td>\n",
       "      <td>3.000000e+00</td>\n",
       "      <td>24.620000</td>\n",
       "      <td>4.000000</td>\n",
       "      <td>55.000000</td>\n",
       "      <td>1.000000</td>\n",
       "      <td>3.000000</td>\n",
       "      <td>1.545247e+04</td>\n",
       "      <td>1.000000</td>\n",
       "    </tr>\n",
       "    <tr>\n",
       "      <th>max</th>\n",
       "      <td>12.000000</td>\n",
       "      <td>2018.000000</td>\n",
       "      <td>49.000000</td>\n",
       "      <td>1.000000</td>\n",
       "      <td>1.000000</td>\n",
       "      <td>1.000000</td>\n",
       "      <td>1.000000</td>\n",
       "      <td>500000.000000</td>\n",
       "      <td>3.000000</td>\n",
       "      <td>1.000000</td>\n",
       "      <td>...</td>\n",
       "      <td>4.000000</td>\n",
       "      <td>4865.700000</td>\n",
       "      <td>2.222222e+10</td>\n",
       "      <td>2449.170000</td>\n",
       "      <td>13.000000</td>\n",
       "      <td>80.000000</td>\n",
       "      <td>1.000000</td>\n",
       "      <td>5.000000</td>\n",
       "      <td>3.000000e+06</td>\n",
       "      <td>1.000000</td>\n",
       "    </tr>\n",
       "  </tbody>\n",
       "</table>\n",
       "<p>8 rows × 21 columns</p>\n",
       "</div>"
      ],
      "text/plain": [
       "       Month[Month Yea...ate submitted]]  Year[Month Year...ate submitted]]  \\\n",
       "count                       20082.000000                       20082.000000   \n",
       "mean                            7.227169                        2016.549995   \n",
       "std                             2.182451                           1.142510   \n",
       "min                             4.000000                        2015.000000   \n",
       "25%                             5.000000                        2015.000000   \n",
       "50%                             8.000000                        2017.000000   \n",
       "75%                             9.000000                        2018.000000   \n",
       "max                            12.000000                        2018.000000   \n",
       "\n",
       "       lastpage. Last page  Previous PHEVs  Previous BEVs  Previous HEVs  \\\n",
       "count         26025.000000    15944.000000   15944.000000   15944.000000   \n",
       "mean             37.354621        0.114714       0.128638       0.235575   \n",
       "std              13.540183        0.318686       0.334809       0.424371   \n",
       "min              -1.000000        0.000000       0.000000       0.000000   \n",
       "25%              42.000000        0.000000       0.000000       0.000000   \n",
       "50%              43.000000        0.000000       0.000000       0.000000   \n",
       "75%              45.000000        0.000000       0.000000       0.000000   \n",
       "max              49.000000        1.000000       1.000000       1.000000   \n",
       "\n",
       "       Previous CNGs  Household Income  \\\n",
       "count   15944.000000      16964.000000   \n",
       "mean        0.004328     191924.074511   \n",
       "std         0.065644     109658.500036   \n",
       "min         0.000000      50000.000000   \n",
       "25%         0.000000     125000.000000   \n",
       "50%         0.000000     175000.000000   \n",
       "75%         0.000000     225000.000000   \n",
       "max         1.000000     500000.000000   \n",
       "\n",
       "       Importance of reducing greenhouse gas emissions (-3 not important, 3 important)  \\\n",
       "count                                       18502.000000                                 \n",
       "mean                                            1.701342                                 \n",
       "std                                             1.638336                                 \n",
       "min                                            -3.000000                                 \n",
       "25%                                             1.160000                                 \n",
       "50%                                             2.570000                                 \n",
       "75%                                             2.770000                                 \n",
       "max                                             3.000000                                 \n",
       "\n",
       "       Home ownership (own 1)  ...  Highest Level of Education  \\\n",
       "count            18944.000000  ...                19017.000000   \n",
       "mean                 0.845703  ...                    3.336909   \n",
       "std                  0.361243  ...                    0.701598   \n",
       "min                  0.000000  ...                    1.000000   \n",
       "25%                  1.000000  ...                    3.000000   \n",
       "50%                  1.000000  ...                    3.000000   \n",
       "75%                  1.000000  ...                    4.000000   \n",
       "max                  1.000000  ...                    4.000000   \n",
       "\n",
       "       Longest trip in the last 12 months  \\\n",
       "count                        12620.000000   \n",
       "mean                           373.786568   \n",
       "std                            358.396789   \n",
       "min                              0.000000   \n",
       "25%                            169.845000   \n",
       "50%                            313.885000   \n",
       "75%                            431.147500   \n",
       "max                           4865.700000   \n",
       "\n",
       "       Number of trips over 200 miles in the last 12 months  \\\n",
       "count                                       1.518500e+04      \n",
       "mean                                        1.478094e+06      \n",
       "std                                         1.803439e+08      \n",
       "min                                         0.000000e+00      \n",
       "25%                                         0.000000e+00      \n",
       "50%                                         0.000000e+00      \n",
       "75%                                         3.000000e+00      \n",
       "max                                         2.222222e+10      \n",
       "\n",
       "       One-way commute distance  Number of people in the household  \\\n",
       "count              19536.000000                       21834.000000   \n",
       "mean                  19.484645                           2.846341   \n",
       "std                   44.501239                           1.253612   \n",
       "min                    0.000000                           1.000000   \n",
       "25%                    6.320000                           2.000000   \n",
       "50%                   14.040000                           3.000000   \n",
       "75%                   24.620000                           4.000000   \n",
       "max                 2449.170000                          13.000000   \n",
       "\n",
       "                Age  Gender (Male 1)  Number of vehicles in the household  \\\n",
       "count  21603.000000     21567.000000                         27021.000000   \n",
       "mean      50.044994         0.263644                             2.191074   \n",
       "std       13.427983         0.440618                             1.013026   \n",
       "min       18.000000         0.000000                             1.000000   \n",
       "25%       35.000000         0.000000                             1.000000   \n",
       "50%       45.000000         0.000000                             2.000000   \n",
       "75%       55.000000         1.000000                             3.000000   \n",
       "max       80.000000         1.000000                             5.000000   \n",
       "\n",
       "       Annual VMT Estimate   FCV, BEV Dummy  \n",
       "count          1.882500e+04    14044.000000  \n",
       "mean           1.298698e+04        0.934420  \n",
       "std            2.773889e+04        0.247555  \n",
       "min           -2.400000e+05        0.000000  \n",
       "25%            8.000000e+03        1.000000  \n",
       "50%            1.122720e+04        1.000000  \n",
       "75%            1.545247e+04        1.000000  \n",
       "max            3.000000e+06        1.000000  \n",
       "\n",
       "[8 rows x 21 columns]"
      ]
     },
     "execution_count": 8,
     "metadata": {},
     "output_type": "execute_result"
    }
   ],
   "source": [
    "fcv_df.describe()"
   ]
  },
  {
   "cell_type": "code",
   "execution_count": 9,
   "metadata": {},
   "outputs": [],
   "source": [
    "# Update Column Names\n",
    "fcv_df = fcv_df.rename(columns={'submitdate. Date submitted': 'Date Submitted',\n",
    "                                'Month Year[subm...Date submitted]':'Month/Year Submitted',\n",
    "                                'Month[Month Yea...ate submitted]]': 'Month Submitted',\n",
    "                                'Year[Month Year...ate submitted]]':'Year Submitted'})"
   ]
  },
  {
   "cell_type": "code",
   "execution_count": 10,
   "metadata": {},
   "outputs": [],
   "source": [
    "#Split Carmain into separate columns\n",
    "fcv_df[['Model Year', 'Manufacturer', 'Model']] = fcv_df['Carmain'].str.split(' ', n=2, expand=True)\n",
    "\n",
    "#Drop Carmain, & ID as not longer needed\n",
    "fcv_df = fcv_df.drop(columns=['Carmain','id. Response ID', 'Month/Year Submitted', 'lastpage. Last page'],axis=1)"
   ]
  },
  {
   "cell_type": "code",
   "execution_count": 11,
   "metadata": {},
   "outputs": [
    {
     "data": {
      "text/html": [
       "<div>\n",
       "<style scoped>\n",
       "    .dataframe tbody tr th:only-of-type {\n",
       "        vertical-align: middle;\n",
       "    }\n",
       "\n",
       "    .dataframe tbody tr th {\n",
       "        vertical-align: top;\n",
       "    }\n",
       "\n",
       "    .dataframe thead th {\n",
       "        text-align: right;\n",
       "    }\n",
       "</style>\n",
       "<table border=\"1\" class=\"dataframe\">\n",
       "  <thead>\n",
       "    <tr style=\"text-align: right;\">\n",
       "      <th></th>\n",
       "      <th>Date Submitted</th>\n",
       "      <th>Month Submitted</th>\n",
       "      <th>Year Submitted</th>\n",
       "      <th>Previous PHEVs</th>\n",
       "      <th>Previous BEVs</th>\n",
       "      <th>Previous HEVs</th>\n",
       "      <th>Previous CNGs</th>\n",
       "      <th>Household Income</th>\n",
       "      <th>Importance of reducing greenhouse gas emissions (-3 not important, 3 important)</th>\n",
       "      <th>Home ownership (own 1)</th>\n",
       "      <th>...</th>\n",
       "      <th>One-way commute distance</th>\n",
       "      <th>Number of people in the household</th>\n",
       "      <th>Age</th>\n",
       "      <th>Gender (Male 1)</th>\n",
       "      <th>Number of vehicles in the household</th>\n",
       "      <th>Annual VMT Estimate</th>\n",
       "      <th>FCV, BEV Dummy</th>\n",
       "      <th>Model Year</th>\n",
       "      <th>Manufacturer</th>\n",
       "      <th>Model</th>\n",
       "    </tr>\n",
       "  </thead>\n",
       "  <tbody>\n",
       "    <tr>\n",
       "      <th>0</th>\n",
       "      <td>2017/06/02 11:30:57</td>\n",
       "      <td>6.0</td>\n",
       "      <td>2017.0</td>\n",
       "      <td>1.0</td>\n",
       "      <td>0.0</td>\n",
       "      <td>0.0</td>\n",
       "      <td>0.0</td>\n",
       "      <td>275000.0</td>\n",
       "      <td>2.52</td>\n",
       "      <td>1.0</td>\n",
       "      <td>...</td>\n",
       "      <td>0.01</td>\n",
       "      <td>2.0</td>\n",
       "      <td>65.0</td>\n",
       "      <td>0.0</td>\n",
       "      <td>2</td>\n",
       "      <td>14622.0</td>\n",
       "      <td>0.0</td>\n",
       "      <td>2016</td>\n",
       "      <td>Toyota</td>\n",
       "      <td>Mirai</td>\n",
       "    </tr>\n",
       "  </tbody>\n",
       "</table>\n",
       "<p>1 rows × 24 columns</p>\n",
       "</div>"
      ],
      "text/plain": [
       "        Date Submitted  Month Submitted  Year Submitted  Previous PHEVs  \\\n",
       "0  2017/06/02 11:30:57              6.0          2017.0             1.0   \n",
       "\n",
       "   Previous BEVs  Previous HEVs  Previous CNGs  Household Income  \\\n",
       "0            0.0            0.0            0.0          275000.0   \n",
       "\n",
       "   Importance of reducing greenhouse gas emissions (-3 not important, 3 important)  \\\n",
       "0                                               2.52                                 \n",
       "\n",
       "   Home ownership (own 1)  ...  One-way commute distance  \\\n",
       "0                     1.0  ...                      0.01   \n",
       "\n",
       "   Number of people in the household   Age  Gender (Male 1)  \\\n",
       "0                                2.0  65.0              0.0   \n",
       "\n",
       "   Number of vehicles in the household  Annual VMT Estimate   FCV, BEV Dummy  \\\n",
       "0                                    2               14622.0             0.0   \n",
       "\n",
       "   Model Year  Manufacturer  Model  \n",
       "0        2016        Toyota  Mirai  \n",
       "\n",
       "[1 rows x 24 columns]"
      ]
     },
     "execution_count": 11,
     "metadata": {},
     "output_type": "execute_result"
    }
   ],
   "source": [
    "# Viewing the first row of the dataframe\n",
    "fcv_df.head(1)"
   ]
  },
  {
   "cell_type": "markdown",
   "metadata": {},
   "source": [
    "### Dropping null values"
   ]
  },
  {
   "cell_type": "code",
   "execution_count": 12,
   "metadata": {
    "scrolled": true
   },
   "outputs": [],
   "source": [
    "fcv_df = fcv_df.dropna()"
   ]
  },
  {
   "cell_type": "markdown",
   "metadata": {
    "id": "y20K1lOx_bwC"
   },
   "source": [
    "### Converting the columns into the appropriate datatypes"
   ]
  },
  {
   "cell_type": "code",
   "execution_count": 13,
   "metadata": {},
   "outputs": [
    {
     "data": {
      "text/plain": [
       "Date Submitted                                                                      object\n",
       "Month Submitted                                                                    float64\n",
       "Year Submitted                                                                     float64\n",
       "Previous PHEVs                                                                     float64\n",
       "Previous BEVs                                                                      float64\n",
       "Previous HEVs                                                                      float64\n",
       "Previous CNGs                                                                      float64\n",
       "Household Income                                                                   float64\n",
       "Importance of reducing greenhouse gas emissions (-3 not important, 3 important)    float64\n",
       "Home ownership (own 1)                                                             float64\n",
       "Home Type (detached 1)                                                             float64\n",
       "Highest Level of Education                                                         float64\n",
       "Longest trip in the last 12 months                                                 float64\n",
       "Number of trips over 200 miles in the last 12 months                               float64\n",
       "One-way commute distance                                                           float64\n",
       "Number of people in the household                                                  float64\n",
       "Age                                                                                float64\n",
       "Gender (Male 1)                                                                    float64\n",
       "Number of vehicles in the household                                                  int64\n",
       "Annual VMT Estimate                                                                float64\n",
       "FCV, BEV Dummy                                                                     float64\n",
       "Model Year                                                                          object\n",
       "Manufacturer                                                                        object\n",
       "Model                                                                               object\n",
       "dtype: object"
      ]
     },
     "execution_count": 13,
     "metadata": {},
     "output_type": "execute_result"
    }
   ],
   "source": [
    "# Viewing the original datatypes of the columns\n",
    "fcv_df.dtypes"
   ]
  },
  {
   "cell_type": "code",
   "execution_count": 14,
   "metadata": {
    "scrolled": true
   },
   "outputs": [],
   "source": [
    "# Changing the datatypes\n",
    "fcv_df['Date Submitted'] = pd.to_datetime(fcv_df['Date Submitted'])\n",
    "\n",
    "fcv_df[['Age', \n",
    "        'Gender (Male 1)', \n",
    "        'Home ownership (own 1)', \n",
    "        'Home Type (detached 1)',\n",
    "        'Importance of reducing greenhouse gas emissions (-3 not important, 3 important)',\n",
    "        'Previous PHEVs', \n",
    "        'Previous BEVs', \n",
    "        'Previous HEVs', \n",
    "        'Previous CNGs',\n",
    "        'Month Submitted', \n",
    "        'Year Submitted', \n",
    "        'Number of people in the household', \n",
    "        'Highest Level of Education',\n",
    "        'Number of trips over 200 miles in the last 12 months']] = fcv_df[['Age', \n",
    "                                                                           'Gender (Male 1)', \n",
    "                                                                            'Home ownership (own 1)', \n",
    "                                                                            'Home Type (detached 1)',\n",
    "                                                                            'Importance of reducing greenhouse gas emissions (-3 not important, 3 important)',\n",
    "                                                                            'Previous PHEVs', \n",
    "                                                                            'Previous BEVs', \n",
    "                                                                            'Previous HEVs', \n",
    "                                                                            'Previous CNGs',\n",
    "                                                                            'Month Submitted', \n",
    "                                                                            'Year Submitted', \n",
    "                                                                            'Number of people in the household', \n",
    "                                                                            'Highest Level of Education',\n",
    "                                                                            'Number of trips over 200 miles in the last 12 months']].astype(int) \n"
   ]
  },
  {
   "cell_type": "code",
   "execution_count": 15,
   "metadata": {
    "scrolled": false
   },
   "outputs": [
    {
     "data": {
      "text/plain": [
       "Date Submitted                                                                     datetime64[ns]\n",
       "Month Submitted                                                                             int32\n",
       "Year Submitted                                                                              int32\n",
       "Previous PHEVs                                                                              int32\n",
       "Previous BEVs                                                                               int32\n",
       "Previous HEVs                                                                               int32\n",
       "Previous CNGs                                                                               int32\n",
       "Household Income                                                                          float64\n",
       "Importance of reducing greenhouse gas emissions (-3 not important, 3 important)             int32\n",
       "Home ownership (own 1)                                                                      int32\n",
       "Home Type (detached 1)                                                                      int32\n",
       "Highest Level of Education                                                                  int32\n",
       "Longest trip in the last 12 months                                                        float64\n",
       "Number of trips over 200 miles in the last 12 months                                        int32\n",
       "One-way commute distance                                                                  float64\n",
       "Number of people in the household                                                           int32\n",
       "Age                                                                                         int32\n",
       "Gender (Male 1)                                                                             int32\n",
       "Number of vehicles in the household                                                         int64\n",
       "Annual VMT Estimate                                                                       float64\n",
       "FCV, BEV Dummy                                                                            float64\n",
       "Model Year                                                                                 object\n",
       "Manufacturer                                                                               object\n",
       "Model                                                                                      object\n",
       "dtype: object"
      ]
     },
     "execution_count": 15,
     "metadata": {},
     "output_type": "execute_result"
    }
   ],
   "source": [
    "# Viewing the new datatypes\n",
    "fcv_df.dtypes"
   ]
  },
  {
   "cell_type": "code",
   "execution_count": 16,
   "metadata": {},
   "outputs": [
    {
     "data": {
      "text/html": [
       "<div>\n",
       "<style scoped>\n",
       "    .dataframe tbody tr th:only-of-type {\n",
       "        vertical-align: middle;\n",
       "    }\n",
       "\n",
       "    .dataframe tbody tr th {\n",
       "        vertical-align: top;\n",
       "    }\n",
       "\n",
       "    .dataframe thead th {\n",
       "        text-align: right;\n",
       "    }\n",
       "</style>\n",
       "<table border=\"1\" class=\"dataframe\">\n",
       "  <thead>\n",
       "    <tr style=\"text-align: right;\">\n",
       "      <th></th>\n",
       "      <th>Date Submitted</th>\n",
       "      <th>Month Submitted</th>\n",
       "      <th>Year Submitted</th>\n",
       "      <th>Previous PHEVs</th>\n",
       "      <th>Previous BEVs</th>\n",
       "      <th>Previous HEVs</th>\n",
       "      <th>Previous CNGs</th>\n",
       "      <th>Household Income</th>\n",
       "      <th>Importance of reducing greenhouse gas emissions (-3 not important, 3 important)</th>\n",
       "      <th>Home ownership (own 1)</th>\n",
       "      <th>...</th>\n",
       "      <th>One-way commute distance</th>\n",
       "      <th>Number of people in the household</th>\n",
       "      <th>Age</th>\n",
       "      <th>Gender (Male 1)</th>\n",
       "      <th>Number of vehicles in the household</th>\n",
       "      <th>Annual VMT Estimate</th>\n",
       "      <th>FCV, BEV Dummy</th>\n",
       "      <th>Model Year</th>\n",
       "      <th>Manufacturer</th>\n",
       "      <th>Model</th>\n",
       "    </tr>\n",
       "  </thead>\n",
       "  <tbody>\n",
       "    <tr>\n",
       "      <th>0</th>\n",
       "      <td>2017-06-02 11:30:57</td>\n",
       "      <td>6</td>\n",
       "      <td>2017</td>\n",
       "      <td>1</td>\n",
       "      <td>0</td>\n",
       "      <td>0</td>\n",
       "      <td>0</td>\n",
       "      <td>275000.0</td>\n",
       "      <td>2</td>\n",
       "      <td>1</td>\n",
       "      <td>...</td>\n",
       "      <td>0.01</td>\n",
       "      <td>2</td>\n",
       "      <td>65</td>\n",
       "      <td>0</td>\n",
       "      <td>2</td>\n",
       "      <td>14622.000000</td>\n",
       "      <td>0.0</td>\n",
       "      <td>2016</td>\n",
       "      <td>Toyota</td>\n",
       "      <td>Mirai</td>\n",
       "    </tr>\n",
       "    <tr>\n",
       "      <th>1</th>\n",
       "      <td>2017-06-02 11:15:39</td>\n",
       "      <td>6</td>\n",
       "      <td>2017</td>\n",
       "      <td>0</td>\n",
       "      <td>0</td>\n",
       "      <td>1</td>\n",
       "      <td>0</td>\n",
       "      <td>275000.0</td>\n",
       "      <td>2</td>\n",
       "      <td>1</td>\n",
       "      <td>...</td>\n",
       "      <td>10.69</td>\n",
       "      <td>3</td>\n",
       "      <td>65</td>\n",
       "      <td>0</td>\n",
       "      <td>3</td>\n",
       "      <td>9197.142857</td>\n",
       "      <td>0.0</td>\n",
       "      <td>2016</td>\n",
       "      <td>Toyota</td>\n",
       "      <td>Mirai</td>\n",
       "    </tr>\n",
       "    <tr>\n",
       "      <th>4</th>\n",
       "      <td>2017-06-02 19:35:59</td>\n",
       "      <td>6</td>\n",
       "      <td>2017</td>\n",
       "      <td>1</td>\n",
       "      <td>0</td>\n",
       "      <td>0</td>\n",
       "      <td>0</td>\n",
       "      <td>125000.0</td>\n",
       "      <td>2</td>\n",
       "      <td>1</td>\n",
       "      <td>...</td>\n",
       "      <td>17.63</td>\n",
       "      <td>2</td>\n",
       "      <td>55</td>\n",
       "      <td>0</td>\n",
       "      <td>3</td>\n",
       "      <td>5082.352941</td>\n",
       "      <td>0.0</td>\n",
       "      <td>2017</td>\n",
       "      <td>Toyota</td>\n",
       "      <td>Mirai</td>\n",
       "    </tr>\n",
       "    <tr>\n",
       "      <th>5</th>\n",
       "      <td>2017-06-06 12:11:14</td>\n",
       "      <td>6</td>\n",
       "      <td>2017</td>\n",
       "      <td>0</td>\n",
       "      <td>0</td>\n",
       "      <td>1</td>\n",
       "      <td>0</td>\n",
       "      <td>175000.0</td>\n",
       "      <td>1</td>\n",
       "      <td>1</td>\n",
       "      <td>...</td>\n",
       "      <td>3.53</td>\n",
       "      <td>2</td>\n",
       "      <td>75</td>\n",
       "      <td>0</td>\n",
       "      <td>2</td>\n",
       "      <td>13025.454545</td>\n",
       "      <td>0.0</td>\n",
       "      <td>2016</td>\n",
       "      <td>Toyota</td>\n",
       "      <td>Mirai</td>\n",
       "    </tr>\n",
       "    <tr>\n",
       "      <th>7</th>\n",
       "      <td>2017-06-02 15:57:08</td>\n",
       "      <td>6</td>\n",
       "      <td>2017</td>\n",
       "      <td>0</td>\n",
       "      <td>0</td>\n",
       "      <td>1</td>\n",
       "      <td>0</td>\n",
       "      <td>500000.0</td>\n",
       "      <td>1</td>\n",
       "      <td>1</td>\n",
       "      <td>...</td>\n",
       "      <td>28.05</td>\n",
       "      <td>3</td>\n",
       "      <td>45</td>\n",
       "      <td>0</td>\n",
       "      <td>3</td>\n",
       "      <td>18000.000000</td>\n",
       "      <td>0.0</td>\n",
       "      <td>2016</td>\n",
       "      <td>Toyota</td>\n",
       "      <td>Mirai</td>\n",
       "    </tr>\n",
       "  </tbody>\n",
       "</table>\n",
       "<p>5 rows × 24 columns</p>\n",
       "</div>"
      ],
      "text/plain": [
       "       Date Submitted  Month Submitted  Year Submitted  Previous PHEVs  \\\n",
       "0 2017-06-02 11:30:57                6            2017               1   \n",
       "1 2017-06-02 11:15:39                6            2017               0   \n",
       "4 2017-06-02 19:35:59                6            2017               1   \n",
       "5 2017-06-06 12:11:14                6            2017               0   \n",
       "7 2017-06-02 15:57:08                6            2017               0   \n",
       "\n",
       "   Previous BEVs  Previous HEVs  Previous CNGs  Household Income  \\\n",
       "0              0              0              0          275000.0   \n",
       "1              0              1              0          275000.0   \n",
       "4              0              0              0          125000.0   \n",
       "5              0              1              0          175000.0   \n",
       "7              0              1              0          500000.0   \n",
       "\n",
       "   Importance of reducing greenhouse gas emissions (-3 not important, 3 important)  \\\n",
       "0                                                  2                                 \n",
       "1                                                  2                                 \n",
       "4                                                  2                                 \n",
       "5                                                  1                                 \n",
       "7                                                  1                                 \n",
       "\n",
       "   Home ownership (own 1)  ...  One-way commute distance  \\\n",
       "0                       1  ...                      0.01   \n",
       "1                       1  ...                     10.69   \n",
       "4                       1  ...                     17.63   \n",
       "5                       1  ...                      3.53   \n",
       "7                       1  ...                     28.05   \n",
       "\n",
       "   Number of people in the household  Age  Gender (Male 1)  \\\n",
       "0                                  2   65                0   \n",
       "1                                  3   65                0   \n",
       "4                                  2   55                0   \n",
       "5                                  2   75                0   \n",
       "7                                  3   45                0   \n",
       "\n",
       "   Number of vehicles in the household  Annual VMT Estimate   FCV, BEV Dummy  \\\n",
       "0                                    2          14622.000000             0.0   \n",
       "1                                    3           9197.142857             0.0   \n",
       "4                                    3           5082.352941             0.0   \n",
       "5                                    2          13025.454545             0.0   \n",
       "7                                    3          18000.000000             0.0   \n",
       "\n",
       "   Model Year  Manufacturer  Model  \n",
       "0        2016        Toyota  Mirai  \n",
       "1        2016        Toyota  Mirai  \n",
       "4        2017        Toyota  Mirai  \n",
       "5        2016        Toyota  Mirai  \n",
       "7        2016        Toyota  Mirai  \n",
       "\n",
       "[5 rows x 24 columns]"
      ]
     },
     "execution_count": 16,
     "metadata": {},
     "output_type": "execute_result"
    }
   ],
   "source": [
    "# Viewing the dataframe\n",
    "fcv_df.head()"
   ]
  },
  {
   "cell_type": "markdown",
   "metadata": {},
   "source": [
    "## Viewing FCV, BEV dummy vs. demographics"
   ]
  },
  {
   "cell_type": "code",
   "execution_count": null,
   "metadata": {},
   "outputs": [],
   "source": [
    "sns.catplot(x = 'FCV, BEV Dummy', hue = 'Number of trips over 200 miles in the last 12 months', data = fcv_df, kind = 'count')"
   ]
  },
  {
   "cell_type": "code",
   "execution_count": 19,
   "metadata": {
    "scrolled": true
   },
   "outputs": [
    {
     "data": {
      "text/plain": [
       "<seaborn.axisgrid.FacetGrid at 0x1a730ad85c8>"
      ]
     },
     "execution_count": 19,
     "metadata": {},
     "output_type": "execute_result"
    },
    {
     "data": {
      "image/png": "[encoded data removed]",
      "text/plain": [
       "<Figure size 880.111x500 with 1 Axes>"
      ]
     },
     "metadata": {},
     "output_type": "display_data"
    }
   ],
   "source": [
    "sns.catplot(x = 'FCV, BEV Dummy', hue = 'Number of trips over 200 miles in the last 12 months', data = fcv_df, kind = 'count')"
   ]
  },
  {
   "cell_type": "code",
   "execution_count": 18,
   "metadata": {
    "scrolled": false
   },
   "outputs": [
    {
     "data": {
      "text/plain": [
       "<seaborn.axisgrid.FacetGrid at 0x1a7309c80c8>"
      ]
     },
     "execution_count": 18,
     "metadata": {},
     "output_type": "execute_result"
    },
    {
     "data": {
      "image/png": "[encoded data removed]",
      "text/plain": [
       "<Figure size 639.611x500 with 1 Axes>"
      ]
     },
     "metadata": {},
     "output_type": "display_data"
    }
   ],
   "source": [
    "sns.catplot(x = 'FCV, BEV Dummy', hue = 'Household Income', data = fcv_df, kind = 'count')"
   ]
  },
  {
   "cell_type": "code",
   "execution_count": 17,
   "metadata": {
    "scrolled": false
   },
   "outputs": [
    {
     "data": {
      "text/plain": [
       "<seaborn.axisgrid.FacetGrid at 0x1a730018dc8>"
      ]
     },
     "execution_count": 17,
     "metadata": {},
     "output_type": "execute_result"
    },
    {
     "data": {
      "image/png": "[encoded data removed]",
      "text/plain": [
       "<Figure size 567.75x500 with 1 Axes>"
      ]
     },
     "metadata": {},
     "output_type": "display_data"
    }
   ],
   "source": [
    "sns.catplot(x = 'FCV, BEV Dummy', hue = 'Age', data = fcv_df, kind = 'count')"
   ]
  },
  {
   "cell_type": "markdown",
   "metadata": {
    "id": "H82v-Oiq_bwD"
   },
   "source": [
    "### Check for Max and Min Values"
   ]
  },
  {
   "cell_type": "code",
   "execution_count": null,
   "metadata": {},
   "outputs": [],
   "source": []
  },
  {
   "cell_type": "markdown",
   "metadata": {
    "id": "JiUByWjP_bwE"
   },
   "source": [
    "#### Observation:\n"
   ]
  },
  {
   "cell_type": "raw",
   "metadata": {
    "id": "pE2GYrtU_bwE"
   },
   "source": []
  },
  {
   "cell_type": "markdown",
   "metadata": {
    "id": "0xN_VJOl_bwE"
   },
   "source": [
    "### Examine the mean, median, and mode. Are the three measures of central tendency equal?\n",
    "-- this will help describe the skewness/distribution of attributes"
   ]
  },
  {
   "cell_type": "markdown",
   "metadata": {
    "id": "F381SOUJ_bwE"
   },
   "source": [
    "#### Observations: "
   ]
  },
  {
   "cell_type": "raw",
   "metadata": {
    "id": "NNYE_suf_bwE"
   },
   "source": []
  },
  {
   "cell_type": "markdown",
   "metadata": {
    "id": "O8KX8Nva_bwF"
   },
   "source": [
    "### Pairplot for the variables. "
   ]
  },
  {
   "cell_type": "code",
   "execution_count": 12,
   "metadata": {
    "id": "dDj12snn_bwG"
   },
   "outputs": [],
   "source": [
    "#sns.pairplot(data = pima, vars = ['Glucose', 'SkinThickness', 'DiabetesPedigreeFunction'], hue = 'Outcome')\n"
   ]
  },
  {
   "cell_type": "markdown",
   "metadata": {
    "id": "S7CMbCwL_bwG"
   },
   "source": [
    "#### Observations: "
   ]
  },
  {
   "cell_type": "raw",
   "metadata": {
    "id": "S2bPFIk9_bwG"
   },
   "source": []
  },
  {
   "cell_type": "markdown",
   "metadata": {
    "id": "pTzCIQOb_bwG"
   },
   "source": [
    "### Scatterplots "
   ]
  },
  {
   "cell_type": "code",
   "execution_count": 13,
   "metadata": {
    "id": "CNHLuzOD_bwG",
    "scrolled": false
   },
   "outputs": [],
   "source": [
    "#plt.scatter(x = 'Glucose', y = 'Insulin', data = pima)\n",
    "#plt.show()"
   ]
  },
  {
   "cell_type": "markdown",
   "metadata": {
    "id": "1AhKhAbf_bwG"
   },
   "source": [
    "#### Observations:"
   ]
  },
  {
   "cell_type": "raw",
   "metadata": {
    "id": "YScevRlr_bwG"
   },
   "source": []
  },
  {
   "cell_type": "markdown",
   "metadata": {
    "id": "NzGHKjXv_bwG"
   },
   "source": [
    "### Boxplots for Variables\n",
    "Check the distribution and outliers for each column in the data.**"
   ]
  },
  {
   "cell_type": "code",
   "execution_count": 14,
   "metadata": {
    "id": "zmWjERJM_bwH"
   },
   "outputs": [],
   "source": [
    "#plt.boxplot(pima['Age'])\n",
    "#plt.title('Boxplot of Age')\n",
    "#plt.ylabel('Age')\n",
    "#plt.show()"
   ]
  },
  {
   "cell_type": "markdown",
   "metadata": {
    "id": "Vm5bRpLz_bwH"
   },
   "source": [
    "#### Observations:\n"
   ]
  },
  {
   "cell_type": "raw",
   "metadata": {
    "id": "ID7pFghO_bwH"
   },
   "source": []
  },
  {
   "cell_type": "markdown",
   "metadata": {
    "id": "M6A_z8kr_bwH"
   },
   "source": [
    "### Histograms"
   ]
  },
  {
   "cell_type": "code",
   "execution_count": 15,
   "metadata": {
    "id": "5DpqaiXH_bwH"
   },
   "outputs": [],
   "source": [
    "#plt.hist(pima[pima['Outcome'] == 1]['Age'], bins = 5)\n",
    "#plt.title('Distribution of Age for Women who has Diabetes')\n",
    "#plt.xlabel('Age')\n",
    "#plt.ylabel('Frequency')\n",
    "#plt.show()"
   ]
  },
  {
   "cell_type": "markdown",
   "metadata": {
    "id": "InfhuW8o_bwH"
   },
   "source": [
    "#### Observations:"
   ]
  },
  {
   "cell_type": "raw",
   "metadata": {
    "id": "D6iAgeF-_bwI"
   },
   "source": [
    " "
   ]
  },
  {
   "cell_type": "markdown",
   "metadata": {
    "id": "EpTEjZ-q_bwI"
   },
   "source": [
    "### The interquartile range of all the variables"
   ]
  },
  {
   "cell_type": "code",
   "execution_count": 16,
   "metadata": {
    "id": "JVOqHx1W_bwI"
   },
   "outputs": [],
   "source": [
    "#Q1 = df.quantile(0.25)\n",
    "#Q3 = df.quantile(0.75)\n",
    "#IQR = Q3 - Q1\n",
    "#print(IQR)"
   ]
  },
  {
   "cell_type": "markdown",
   "metadata": {
    "id": "WWtc2nex_bwI"
   },
   "source": [
    "#### Observations: "
   ]
  },
  {
   "cell_type": "markdown",
   "metadata": {
    "id": "2vLWPyd-_bwI"
   },
   "source": [
    "## Export of File to CSV for database"
   ]
  },
  {
   "cell_type": "code",
   "execution_count": 17,
   "metadata": {},
   "outputs": [],
   "source": [
    "fcv_df.to_csv('Exports/FCV_Dataset.csv')"
   ]
  },
  {
   "cell_type": "markdown",
   "metadata": {
    "id": "KjldKKMs_bwI"
   },
   "source": [
    "### Visualize the Correlation Matrix.\n",
    "\n",
    "* Correlation is a statistic that measures the degree to which two variables move in relation to each other. A positive correlation indicates\n",
    "* the extent to which those variables increase or decrease in parallel; a negative correlation indicates the extent to which one variable\n",
    "* increases as the other decreases. Correction among multiple variables can be represented in the form of a matrix. This allows us to see which pairs have the high correlations.\n",
    "* correlation Correlation is a mutual relationship or connection between two or more things. It takes a value between (+1) and (-1)\n",
    "* The correlation between two independent events is zero, two events with zero correlations may not be independent."
   ]
  },
  {
   "cell_type": "code",
   "execution_count": 18,
   "metadata": {
    "id": "Ju8Gymxw_bwJ",
    "scrolled": true
   },
   "outputs": [],
   "source": [
    "#plt.figure(figsize = (8, 8))\n",
    "#sns.heatmap(corr_matrix, annot = True)\n",
    "\n",
    "# Display the plot\n",
    "#plt.show()"
   ]
  },
  {
   "cell_type": "markdown",
   "metadata": {
    "id": "Woaq6vqT_bwJ"
   },
   "source": [
    "#### Observations: \n"
   ]
  },
  {
   "cell_type": "raw",
   "metadata": {
    "id": "m3AKvSrM_bwJ"
   },
   "source": []
  },
  {
   "cell_type": "markdown",
   "metadata": {},
   "source": [
    "## Data Preprocessing for Modeling\n",
    "\n",
    "* Renaming Columns\n",
    "* Scaling/Normalizing\n",
    "* Dropping unnecessary columns\n",
    "* Hot encoding\n",
    "* Imputing missing values with mode/median for columns\n",
    "* Converting data types\n",
    "* Format data types\n",
    "* Apply get_dummies on the dataframe data"
   ]
  },
  {
   "cell_type": "code",
   "execution_count": null,
   "metadata": {},
   "outputs": [],
   "source": []
  },
  {
   "cell_type": "markdown",
   "metadata": {},
   "source": [
    "## Predictive Analysis/Building Models"
   ]
  },
  {
   "cell_type": "markdown",
   "metadata": {},
   "source": [
    "### **Checking the below linear regression assumptions**\n",
    "\n",
    "1. **Mean of residuals should be 0**\n",
    "2. **No Heteroscedasticity**\n",
    "3. **Linearity of variables**\n",
    "4. **Normality of error terms**"
   ]
  },
  {
   "cell_type": "code",
   "execution_count": null,
   "metadata": {},
   "outputs": [],
   "source": []
  },
  {
   "cell_type": "markdown",
   "metadata": {},
   "source": [
    "## **Actionable Insights and Business Recommendations**"
   ]
  },
  {
   "cell_type": "code",
   "execution_count": null,
   "metadata": {},
   "outputs": [],
   "source": []
  }
 ],
 "metadata": {
  "colab": {
   "collapsed_sections": [
    "5_7DfrKa_bv_",
    "V5duvKqA_bv_",
    "oILSLGBL_bwA",
    "DyG29Cqz_bwA",
    "OqnMczju_bwB",
    "wHYJkmek_bwB",
    "CpcpowUT_bwC",
    "RmTpaojz_bwC",
    "-aYGSoyf_bwC",
    "3gO4yNoS_bwD",
    "tFmj2sAi_bwD",
    "H82v-Oiq_bwD",
    "JiUByWjP_bwE",
    "0xN_VJOl_bwE",
    "F381SOUJ_bwE",
    "zQgUfx28_bwE",
    "zNopQzBy_bwF",
    "TUFPGMGX_bwF",
    "KgU-UehX_bwF",
    "O8KX8Nva_bwF",
    "S7CMbCwL_bwG",
    "pTzCIQOb_bwG",
    "1AhKhAbf_bwG",
    "NzGHKjXv_bwG",
    "Vm5bRpLz_bwH",
    "M6A_z8kr_bwH",
    "InfhuW8o_bwH",
    "EpTEjZ-q_bwI",
    "WWtc2nex_bwI",
    "KjldKKMs_bwI",
    "Woaq6vqT_bwJ"
   ],
   "name": "MIT_FDS_Project_Diabetes_Analysis_Questions-1.ipynb",
   "provenance": []
  },
  "kernelspec": {
   "display_name": "PythonData",
   "language": "python",
   "name": "pythondata"
  },
  "language_info": {
   "codemirror_mode": {
    "name": "ipython",
    "version": 3
   },
   "file_extension": ".py",
   "mimetype": "text/x-python",
   "name": "python",
   "nbconvert_exporter": "python",
   "pygments_lexer": "ipython3",
   "version": "3.7.13"
  },
  "toc": {
   "base_numbering": 1,
   "nav_menu": {},
   "number_sections": true,
   "sideBar": true,
   "skip_h1_title": false,
   "title_cell": "Table of Contents",
   "title_sidebar": "Contents",
   "toc_cell": false,
   "toc_position": {},
   "toc_section_display": true,
   "toc_window_display": false
  },
  "varInspector": {
   "cols": {
    "lenName": 16,
    "lenType": 16,
    "lenVar": 40
   },
   "kernels_config": {
    "python": {
     "delete_cmd_postfix": "",
     "delete_cmd_prefix": "del ",
     "library": "var_list.py",
     "varRefreshCmd": "print(var_dic_list())"
    },
    "r": {
     "delete_cmd_postfix": ") ",
     "delete_cmd_prefix": "rm(",
     "library": "var_list.r",
     "varRefreshCmd": "cat(var_dic_list()) "
    }
   },
   "types_to_exclude": [
    "module",
    "function",
    "builtin_function_or_method",
    "instance",
    "_Feature"
   ],
   "window_display": false
  }
 },
 "nbformat": 4,
 "nbformat_minor": 1
}
