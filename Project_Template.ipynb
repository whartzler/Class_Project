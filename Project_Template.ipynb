{
 "cells": [
  {
   "cell_type": "markdown",
   "metadata": {
    "id": "BL_LfsVn_bv1"
   },
   "source": [
    "# Final Project - Maintaining EV customers\n",
    "\n",
    "---------------\n",
    "## Context\n",
    "---------------\n",
    "This dataset presents results from a survey of FCV and BEV and compared the sociodeographic profile of FCV buyers vs BEV Households.  \n",
    "\n",
    "\n",
    "-----------------\n",
    "## Objective\n",
    "-----------------\n",
    "Based on the data we want to identify Current FCV & BEV Owners Demographics and see if there are any major differences between the two car owners.  \n",
    "\n",
    "For our ML model we will attemp to predict based on the information if we can identify the customer as a FCV or BEV owner.  \n",
    "\n",
    "-------------------------\n",
    "## Data Dictionary\n",
    "-------------------------\n",
    "\n",
    "The dataset has the following information:\n",
    "- When the customer submitted their data\n",
    "- If they Previously Owned a PHEV, BEV, HEV, CNG\n",
    "- Household Income\n",
    "- Importance of Reducing Greenhouse Emissions\n",
    "- Demographics of the customer current car (year, manufacture, model)\n",
    "- Demographics on the customer's (home type, ownership of home,  education, gender, age, # of people in household)\n",
    "- Demographics on customers car usage (longest trip, number of trips over 200 miles, one way commute distance, annual VMT vehicle miles traveled)\n",
    "- If the customer is currently a FCV or BEV Current Owner\n",
    "\n",
    "\n",
    "#### Acronyms used\n",
    "- BEV: Battery Electric Vehicle\n",
    "- FCV: Fuel Cell Vehicle (Hydrogen fuel cell vehicle)\n",
    "- PHEV: Plug-in hybrid electric vehicle\n",
    "- CNG: Compressed Natural Gas (everyday car)"
   ]
  },
  {
   "cell_type": "markdown",
   "metadata": {
    "id": "vVR3oeVo_bv5"
   },
   "source": [
    "### Import the necessary libraries or dependencies"
   ]
  },
  {
   "cell_type": "code",
   "execution_count": 1,
   "metadata": {
    "id": "sQPI1Bzz_bv5"
   },
   "outputs": [],
   "source": [
    "#Import Dependencies\n",
    "import pandas as pd\n",
    "import matplotlib.pyplot as plt\n",
    "from matplotlib.patches import Polygon\n",
    "import seaborn as sns\n",
    "import numpy as np\n",
    "from scipy import stats"
   ]
  },
  {
   "cell_type": "markdown",
   "metadata": {
    "id": "8WpI8LC7_bv7"
   },
   "source": [
    "###  Read the Dataset "
   ]
  },
  {
   "cell_type": "code",
   "execution_count": 2,
   "metadata": {
    "id": "OTzXe_vA_bv7"
   },
   "outputs": [],
   "source": [
    "#Import File\n",
    "fcv_df = pd.read_excel('../Resources/FCV&EVMT Data_6.18.19.xlsx')"
   ]
  },
  {
   "cell_type": "code",
   "execution_count": 3,
   "metadata": {
    "scrolled": true
   },
   "outputs": [
    {
     "data": {
      "text/html": [
       "<div>\n",
       "<style scoped>\n",
       "    .dataframe tbody tr th:only-of-type {\n",
       "        vertical-align: middle;\n",
       "    }\n",
       "\n",
       "    .dataframe tbody tr th {\n",
       "        vertical-align: top;\n",
       "    }\n",
       "\n",
       "    .dataframe thead th {\n",
       "        text-align: right;\n",
       "    }\n",
       "</style>\n",
       "<table border=\"1\" class=\"dataframe\">\n",
       "  <thead>\n",
       "    <tr style=\"text-align: right;\">\n",
       "      <th></th>\n",
       "      <th>id. Response ID</th>\n",
       "      <th>submitdate. Date submitted</th>\n",
       "      <th>Month Year[subm...Date submitted]</th>\n",
       "      <th>Month[Month Yea...ate submitted]]</th>\n",
       "      <th>Year[Month Year...ate submitted]]</th>\n",
       "      <th>lastpage. Last page</th>\n",
       "      <th>Carmain</th>\n",
       "      <th>Previous PHEVs</th>\n",
       "      <th>Previous BEVs</th>\n",
       "      <th>Previous HEVs</th>\n",
       "      <th>...</th>\n",
       "      <th>Highest Level of Education</th>\n",
       "      <th>Longest trip in the last 12 months</th>\n",
       "      <th>Number of trips over 200 miles in the last 12 months</th>\n",
       "      <th>One-way commute distance</th>\n",
       "      <th>Number of people in the household</th>\n",
       "      <th>Age</th>\n",
       "      <th>Gender (Male 1)</th>\n",
       "      <th>Number of vehicles in the household</th>\n",
       "      <th>Annual VMT Estimate</th>\n",
       "      <th>FCV, BEV Dummy</th>\n",
       "    </tr>\n",
       "  </thead>\n",
       "  <tbody>\n",
       "    <tr>\n",
       "      <th>0</th>\n",
       "      <td>FCV_1_3</td>\n",
       "      <td>2017/06/02 11:30:57</td>\n",
       "      <td>06/2017</td>\n",
       "      <td>6.0</td>\n",
       "      <td>2017.0</td>\n",
       "      <td>42.0</td>\n",
       "      <td>2016 Toyota Mirai</td>\n",
       "      <td>1.0</td>\n",
       "      <td>0.0</td>\n",
       "      <td>0.0</td>\n",
       "      <td>...</td>\n",
       "      <td>3.0</td>\n",
       "      <td>483.14</td>\n",
       "      <td>0.0</td>\n",
       "      <td>0.01</td>\n",
       "      <td>2.0</td>\n",
       "      <td>65.0</td>\n",
       "      <td>0.0</td>\n",
       "      <td>2</td>\n",
       "      <td>14622.000000</td>\n",
       "      <td>0.0</td>\n",
       "    </tr>\n",
       "    <tr>\n",
       "      <th>1</th>\n",
       "      <td>FCV_1_4</td>\n",
       "      <td>2017/06/02 11:15:39</td>\n",
       "      <td>06/2017</td>\n",
       "      <td>6.0</td>\n",
       "      <td>2017.0</td>\n",
       "      <td>42.0</td>\n",
       "      <td>2016 Toyota Mirai</td>\n",
       "      <td>0.0</td>\n",
       "      <td>0.0</td>\n",
       "      <td>1.0</td>\n",
       "      <td>...</td>\n",
       "      <td>4.0</td>\n",
       "      <td>568.09</td>\n",
       "      <td>1.0</td>\n",
       "      <td>10.69</td>\n",
       "      <td>3.0</td>\n",
       "      <td>65.0</td>\n",
       "      <td>0.0</td>\n",
       "      <td>3</td>\n",
       "      <td>9197.142857</td>\n",
       "      <td>0.0</td>\n",
       "    </tr>\n",
       "    <tr>\n",
       "      <th>2</th>\n",
       "      <td>FCV_1_2</td>\n",
       "      <td>2017/06/02 10:51:59</td>\n",
       "      <td>06/2017</td>\n",
       "      <td>6.0</td>\n",
       "      <td>2017.0</td>\n",
       "      <td>42.0</td>\n",
       "      <td>2016 Toyota Mirai</td>\n",
       "      <td>1.0</td>\n",
       "      <td>1.0</td>\n",
       "      <td>0.0</td>\n",
       "      <td>...</td>\n",
       "      <td>4.0</td>\n",
       "      <td>398.57</td>\n",
       "      <td>0.0</td>\n",
       "      <td>9.39</td>\n",
       "      <td>5.0</td>\n",
       "      <td>55.0</td>\n",
       "      <td>1.0</td>\n",
       "      <td>4</td>\n",
       "      <td>15360.000000</td>\n",
       "      <td>0.0</td>\n",
       "    </tr>\n",
       "    <tr>\n",
       "      <th>3</th>\n",
       "      <td>FCV_1_5</td>\n",
       "      <td>NaN</td>\n",
       "      <td>NaN</td>\n",
       "      <td>NaN</td>\n",
       "      <td>NaN</td>\n",
       "      <td>NaN</td>\n",
       "      <td>NaN</td>\n",
       "      <td>NaN</td>\n",
       "      <td>NaN</td>\n",
       "      <td>NaN</td>\n",
       "      <td>...</td>\n",
       "      <td>NaN</td>\n",
       "      <td>NaN</td>\n",
       "      <td>NaN</td>\n",
       "      <td>NaN</td>\n",
       "      <td>NaN</td>\n",
       "      <td>NaN</td>\n",
       "      <td>NaN</td>\n",
       "      <td>1</td>\n",
       "      <td>NaN</td>\n",
       "      <td>NaN</td>\n",
       "    </tr>\n",
       "    <tr>\n",
       "      <th>4</th>\n",
       "      <td>FCV_1_15</td>\n",
       "      <td>2017/06/02 19:35:59</td>\n",
       "      <td>06/2017</td>\n",
       "      <td>6.0</td>\n",
       "      <td>2017.0</td>\n",
       "      <td>42.0</td>\n",
       "      <td>2017 Toyota Mirai</td>\n",
       "      <td>1.0</td>\n",
       "      <td>0.0</td>\n",
       "      <td>0.0</td>\n",
       "      <td>...</td>\n",
       "      <td>2.0</td>\n",
       "      <td>255.16</td>\n",
       "      <td>0.0</td>\n",
       "      <td>17.63</td>\n",
       "      <td>2.0</td>\n",
       "      <td>55.0</td>\n",
       "      <td>0.0</td>\n",
       "      <td>3</td>\n",
       "      <td>5082.352941</td>\n",
       "      <td>0.0</td>\n",
       "    </tr>\n",
       "  </tbody>\n",
       "</table>\n",
       "<p>5 rows × 25 columns</p>\n",
       "</div>"
      ],
      "text/plain": [
       "  id. Response ID submitdate. Date submitted  \\\n",
       "0         FCV_1_3        2017/06/02 11:30:57   \n",
       "1         FCV_1_4        2017/06/02 11:15:39   \n",
       "2         FCV_1_2        2017/06/02 10:51:59   \n",
       "3         FCV_1_5                        NaN   \n",
       "4        FCV_1_15        2017/06/02 19:35:59   \n",
       "\n",
       "  Month Year[subm...Date submitted]  Month[Month Yea...ate submitted]]  \\\n",
       "0                           06/2017                                6.0   \n",
       "1                           06/2017                                6.0   \n",
       "2                           06/2017                                6.0   \n",
       "3                               NaN                                NaN   \n",
       "4                           06/2017                                6.0   \n",
       "\n",
       "   Year[Month Year...ate submitted]]  lastpage. Last page            Carmain  \\\n",
       "0                             2017.0                 42.0  2016 Toyota Mirai   \n",
       "1                             2017.0                 42.0  2016 Toyota Mirai   \n",
       "2                             2017.0                 42.0  2016 Toyota Mirai   \n",
       "3                                NaN                  NaN                NaN   \n",
       "4                             2017.0                 42.0  2017 Toyota Mirai   \n",
       "\n",
       "   Previous PHEVs  Previous BEVs  Previous HEVs  ...  \\\n",
       "0             1.0            0.0            0.0  ...   \n",
       "1             0.0            0.0            1.0  ...   \n",
       "2             1.0            1.0            0.0  ...   \n",
       "3             NaN            NaN            NaN  ...   \n",
       "4             1.0            0.0            0.0  ...   \n",
       "\n",
       "   Highest Level of Education  Longest trip in the last 12 months  \\\n",
       "0                         3.0                              483.14   \n",
       "1                         4.0                              568.09   \n",
       "2                         4.0                              398.57   \n",
       "3                         NaN                                 NaN   \n",
       "4                         2.0                              255.16   \n",
       "\n",
       "   Number of trips over 200 miles in the last 12 months  \\\n",
       "0                                                0.0      \n",
       "1                                                1.0      \n",
       "2                                                0.0      \n",
       "3                                                NaN      \n",
       "4                                                0.0      \n",
       "\n",
       "   One-way commute distance  Number of people in the household   Age  \\\n",
       "0                      0.01                                2.0  65.0   \n",
       "1                     10.69                                3.0  65.0   \n",
       "2                      9.39                                5.0  55.0   \n",
       "3                       NaN                                NaN   NaN   \n",
       "4                     17.63                                2.0  55.0   \n",
       "\n",
       "   Gender (Male 1)  Number of vehicles in the household  Annual VMT Estimate   \\\n",
       "0              0.0                                    2          14622.000000   \n",
       "1              0.0                                    3           9197.142857   \n",
       "2              1.0                                    4          15360.000000   \n",
       "3              NaN                                    1                   NaN   \n",
       "4              0.0                                    3           5082.352941   \n",
       "\n",
       "   FCV, BEV Dummy  \n",
       "0             0.0  \n",
       "1             0.0  \n",
       "2             0.0  \n",
       "3             NaN  \n",
       "4             0.0  \n",
       "\n",
       "[5 rows x 25 columns]"
      ]
     },
     "execution_count": 3,
     "metadata": {},
     "output_type": "execute_result"
    }
   ],
   "source": [
    "fcv_df.head(5)"
   ]
  },
  {
   "cell_type": "markdown",
   "metadata": {},
   "source": [
    "## Descriptive Analysis/EDA\n",
    "\n",
    "1. Check dimensions of the dataframe in terms of rows and columns\n",
    "2. Check data types. Ensure your data types are correct. Refer data definitions to validate\n",
    "3. If data types are not as per business definition, change the data types as per requirement\n",
    "4. Study summary statistics\n",
    "5. Check for missing values\n",
    "6. Study correlation\n",
    "7. Detect outliers"
   ]
  },
  {
   "cell_type": "markdown",
   "metadata": {
    "id": "H3SziaVY_bv8"
   },
   "source": [
    "### Examine Dataset "
   ]
  },
  {
   "cell_type": "markdown",
   "metadata": {
    "id": "OzzsF3Pg_bv-"
   },
   "source": [
    "### The dimension of the `data` dataframe. (shape, r x c)"
   ]
  },
  {
   "cell_type": "code",
   "execution_count": 4,
   "metadata": {
    "id": "zdtFn47Q_bwA"
   },
   "outputs": [
    {
     "data": {
      "text/plain": [
       "(27021, 25)"
      ]
     },
     "execution_count": 4,
     "metadata": {},
     "output_type": "execute_result"
    }
   ],
   "source": [
    "fcv_df.shape"
   ]
  },
  {
   "cell_type": "markdown",
   "metadata": {},
   "source": [
    "#### Observations: \n",
    "The original dataset has 27,021 rows and 25 columns"
   ]
  },
  {
   "cell_type": "markdown",
   "metadata": {
    "id": "DyG29Cqz_bwA"
   },
   "source": [
    "### Data Types/Categorical vs. Numerical Columns"
   ]
  },
  {
   "cell_type": "markdown",
   "metadata": {},
   "source": [
    "## Clean the dataset"
   ]
  },
  {
   "cell_type": "code",
   "execution_count": 5,
   "metadata": {},
   "outputs": [],
   "source": [
    "# Update Column Names\n",
    "fcv_df = fcv_df.rename(columns={'Month Year[subm...Date submitted]':'Month/Year Submitted',\n",
    "                                'Month[Month Yea...ate submitted]]': 'Month Submitted',\n",
    "                               'Year[Month Year...ate submitted]]':'Year Submitted',\n",
    "                               'Annual VMT Estimate ':'Annual VMT Estimate'})"
   ]
  },
  {
   "cell_type": "code",
   "execution_count": 6,
   "metadata": {
    "scrolled": true
   },
   "outputs": [],
   "source": [
    "#Split Carmain into separate columns\n",
    "fcv_df[['Model Year', 'Manufacturer', 'Model']] = fcv_df['Carmain'].str.split(' ', n=2, expand=True)\n",
    "\n",
    "#Drop Carmain, & ID as not longer needed\n",
    "fcv_df = fcv_df.drop(columns=['Carmain','id. Response ID','Month/Year Submitted','submitdate. Date submitted'],axis=1)"
   ]
  },
  {
   "cell_type": "markdown",
   "metadata": {
    "id": "wHYJkmek_bwB"
   },
   "source": [
    "### Missing Values\n",
    "\n",
    "**If we encounter with missing data, what we can do:**\n",
    "\n",
    "* leave as is\n",
    "* drop them with dropna()\n",
    "* fill missing value with fillna()\n",
    "* fill missing values with test statistics like mean\n",
    "\n",
    "Mode Inputation\n",
    "* Mode imputation means replacing missing values by the mode, or the most frequent- category value.\n"
   ]
  },
  {
   "cell_type": "code",
   "execution_count": 7,
   "metadata": {},
   "outputs": [
    {
     "data": {
      "text/plain": [
       "Month Submitted                                                                     6939\n",
       "Year Submitted                                                                      6939\n",
       "lastpage. Last page                                                                  996\n",
       "Previous PHEVs                                                                     11077\n",
       "Previous BEVs                                                                      11077\n",
       "Previous HEVs                                                                      11077\n",
       "Previous CNGs                                                                      11077\n",
       "Household Income                                                                   10057\n",
       "Importance of reducing greenhouse gas emissions (-3 not important, 3 important)     8519\n",
       "Home ownership (own 1)                                                              8077\n",
       "Home Type (detached 1)                                                              8022\n",
       "Highest Level of Education                                                          8004\n",
       "Longest trip in the last 12 months                                                 14401\n",
       "Number of trips over 200 miles in the last 12 months                               11836\n",
       "One-way commute distance                                                            7485\n",
       "Number of people in the household                                                   5187\n",
       "Age                                                                                 5418\n",
       "Gender (Male 1)                                                                     5454\n",
       "Number of vehicles in the household                                                    0\n",
       "Annual VMT Estimate                                                                 8196\n",
       "FCV, BEV Dummy                                                                     12977\n",
       "Model Year                                                                          1405\n",
       "Manufacturer                                                                        1405\n",
       "Model                                                                               1405\n",
       "dtype: int64"
      ]
     },
     "execution_count": 7,
     "metadata": {},
     "output_type": "execute_result"
    }
   ],
   "source": [
    "fcv_df.isnull().sum()"
   ]
  },
  {
   "cell_type": "code",
   "execution_count": 8,
   "metadata": {},
   "outputs": [
    {
     "data": {
      "text/html": [
       "<style type=\"text/css\">\n",
       "</style>\n",
       "<table id=\"T_317de_\">\n",
       "  <thead>\n",
       "    <tr>\n",
       "      <th class=\"blank level0\" >&nbsp;</th>\n",
       "      <th class=\"col_heading level0 col0\" >percent_missing</th>\n",
       "    </tr>\n",
       "  </thead>\n",
       "  <tbody>\n",
       "    <tr>\n",
       "      <th id=\"T_317de_level0_row0\" class=\"row_heading level0 row0\" >Month Submitted</th>\n",
       "      <td id=\"T_317de_row0_col0\" class=\"data row0 col0\" >26%</td>\n",
       "    </tr>\n",
       "    <tr>\n",
       "      <th id=\"T_317de_level0_row1\" class=\"row_heading level0 row1\" >Year Submitted</th>\n",
       "      <td id=\"T_317de_row1_col0\" class=\"data row1 col0\" >26%</td>\n",
       "    </tr>\n",
       "    <tr>\n",
       "      <th id=\"T_317de_level0_row2\" class=\"row_heading level0 row2\" >lastpage. Last page</th>\n",
       "      <td id=\"T_317de_row2_col0\" class=\"data row2 col0\" >4%</td>\n",
       "    </tr>\n",
       "    <tr>\n",
       "      <th id=\"T_317de_level0_row3\" class=\"row_heading level0 row3\" >Previous PHEVs</th>\n",
       "      <td id=\"T_317de_row3_col0\" class=\"data row3 col0\" >41%</td>\n",
       "    </tr>\n",
       "    <tr>\n",
       "      <th id=\"T_317de_level0_row4\" class=\"row_heading level0 row4\" >Previous BEVs</th>\n",
       "      <td id=\"T_317de_row4_col0\" class=\"data row4 col0\" >41%</td>\n",
       "    </tr>\n",
       "    <tr>\n",
       "      <th id=\"T_317de_level0_row5\" class=\"row_heading level0 row5\" >Previous HEVs</th>\n",
       "      <td id=\"T_317de_row5_col0\" class=\"data row5 col0\" >41%</td>\n",
       "    </tr>\n",
       "    <tr>\n",
       "      <th id=\"T_317de_level0_row6\" class=\"row_heading level0 row6\" >Previous CNGs</th>\n",
       "      <td id=\"T_317de_row6_col0\" class=\"data row6 col0\" >41%</td>\n",
       "    </tr>\n",
       "    <tr>\n",
       "      <th id=\"T_317de_level0_row7\" class=\"row_heading level0 row7\" >Household Income</th>\n",
       "      <td id=\"T_317de_row7_col0\" class=\"data row7 col0\" >37%</td>\n",
       "    </tr>\n",
       "    <tr>\n",
       "      <th id=\"T_317de_level0_row8\" class=\"row_heading level0 row8\" >Importance of reducing greenhouse gas emissions (-3 not important, 3 important)</th>\n",
       "      <td id=\"T_317de_row8_col0\" class=\"data row8 col0\" >32%</td>\n",
       "    </tr>\n",
       "    <tr>\n",
       "      <th id=\"T_317de_level0_row9\" class=\"row_heading level0 row9\" >Home ownership (own 1)</th>\n",
       "      <td id=\"T_317de_row9_col0\" class=\"data row9 col0\" >30%</td>\n",
       "    </tr>\n",
       "    <tr>\n",
       "      <th id=\"T_317de_level0_row10\" class=\"row_heading level0 row10\" >Home Type (detached 1)</th>\n",
       "      <td id=\"T_317de_row10_col0\" class=\"data row10 col0\" >30%</td>\n",
       "    </tr>\n",
       "    <tr>\n",
       "      <th id=\"T_317de_level0_row11\" class=\"row_heading level0 row11\" >Highest Level of Education</th>\n",
       "      <td id=\"T_317de_row11_col0\" class=\"data row11 col0\" >30%</td>\n",
       "    </tr>\n",
       "    <tr>\n",
       "      <th id=\"T_317de_level0_row12\" class=\"row_heading level0 row12\" >Longest trip in the last 12 months</th>\n",
       "      <td id=\"T_317de_row12_col0\" class=\"data row12 col0\" >53%</td>\n",
       "    </tr>\n",
       "    <tr>\n",
       "      <th id=\"T_317de_level0_row13\" class=\"row_heading level0 row13\" >Number of trips over 200 miles in the last 12 months</th>\n",
       "      <td id=\"T_317de_row13_col0\" class=\"data row13 col0\" >44%</td>\n",
       "    </tr>\n",
       "    <tr>\n",
       "      <th id=\"T_317de_level0_row14\" class=\"row_heading level0 row14\" >One-way commute distance</th>\n",
       "      <td id=\"T_317de_row14_col0\" class=\"data row14 col0\" >28%</td>\n",
       "    </tr>\n",
       "    <tr>\n",
       "      <th id=\"T_317de_level0_row15\" class=\"row_heading level0 row15\" >Number of people in the household</th>\n",
       "      <td id=\"T_317de_row15_col0\" class=\"data row15 col0\" >19%</td>\n",
       "    </tr>\n",
       "    <tr>\n",
       "      <th id=\"T_317de_level0_row16\" class=\"row_heading level0 row16\" >Age</th>\n",
       "      <td id=\"T_317de_row16_col0\" class=\"data row16 col0\" >20%</td>\n",
       "    </tr>\n",
       "    <tr>\n",
       "      <th id=\"T_317de_level0_row17\" class=\"row_heading level0 row17\" >Gender (Male 1)</th>\n",
       "      <td id=\"T_317de_row17_col0\" class=\"data row17 col0\" >20%</td>\n",
       "    </tr>\n",
       "    <tr>\n",
       "      <th id=\"T_317de_level0_row18\" class=\"row_heading level0 row18\" >Number of vehicles in the household</th>\n",
       "      <td id=\"T_317de_row18_col0\" class=\"data row18 col0\" >0%</td>\n",
       "    </tr>\n",
       "    <tr>\n",
       "      <th id=\"T_317de_level0_row19\" class=\"row_heading level0 row19\" >Annual VMT Estimate</th>\n",
       "      <td id=\"T_317de_row19_col0\" class=\"data row19 col0\" >30%</td>\n",
       "    </tr>\n",
       "    <tr>\n",
       "      <th id=\"T_317de_level0_row20\" class=\"row_heading level0 row20\" >FCV, BEV Dummy</th>\n",
       "      <td id=\"T_317de_row20_col0\" class=\"data row20 col0\" >48%</td>\n",
       "    </tr>\n",
       "    <tr>\n",
       "      <th id=\"T_317de_level0_row21\" class=\"row_heading level0 row21\" >Model Year</th>\n",
       "      <td id=\"T_317de_row21_col0\" class=\"data row21 col0\" >5%</td>\n",
       "    </tr>\n",
       "    <tr>\n",
       "      <th id=\"T_317de_level0_row22\" class=\"row_heading level0 row22\" >Manufacturer</th>\n",
       "      <td id=\"T_317de_row22_col0\" class=\"data row22 col0\" >5%</td>\n",
       "    </tr>\n",
       "    <tr>\n",
       "      <th id=\"T_317de_level0_row23\" class=\"row_heading level0 row23\" >Model</th>\n",
       "      <td id=\"T_317de_row23_col0\" class=\"data row23 col0\" >5%</td>\n",
       "    </tr>\n",
       "  </tbody>\n",
       "</table>\n"
      ],
      "text/plain": [
       "<pandas.io.formats.style.Styler at 0x19ee5cbb208>"
      ]
     },
     "execution_count": 8,
     "metadata": {},
     "output_type": "execute_result"
    }
   ],
   "source": [
    "percent_missing = fcv_df.isnull().sum() * 100 / len(fcv_df)\n",
    "missing_value_df = pd.DataFrame({'percent_missing': percent_missing})\n",
    "missing_value_df.style.format({'percent_missing':'{:.0f}%'})"
   ]
  },
  {
   "cell_type": "markdown",
   "metadata": {},
   "source": [
    "**Observations:**\n",
    "Most of the missing data comes from `Previous PHEVs`,`Previous BEVs`, `Previous HEVs`, `Previous CNGs`. These features are missing 41% of their data. `FC, BEV Dummy` is missing 48% of it's data. This is an important feature we are measuring. So, to have this column missing almost half of it's data is a big deal."
   ]
  },
  {
   "cell_type": "code",
   "execution_count": 9,
   "metadata": {
    "id": "b8D07NoL_bwC"
   },
   "outputs": [],
   "source": [
    "fcv_df = fcv_df.dropna()"
   ]
  },
  {
   "cell_type": "code",
   "execution_count": 10,
   "metadata": {},
   "outputs": [
    {
     "data": {
      "text/plain": [
       "Month Submitted                                                                       8\n",
       "Year Submitted                                                                        3\n",
       "lastpage. Last page                                                                   5\n",
       "Previous PHEVs                                                                        2\n",
       "Previous BEVs                                                                         2\n",
       "Previous HEVs                                                                         2\n",
       "Previous CNGs                                                                         2\n",
       "Household Income                                                                     11\n",
       "Importance of reducing greenhouse gas emissions (-3 not important, 3 important)     492\n",
       "Home ownership (own 1)                                                                2\n",
       "Home Type (detached 1)                                                                2\n",
       "Highest Level of Education                                                            4\n",
       "Longest trip in the last 12 months                                                 4521\n",
       "Number of trips over 200 miles in the last 12 months                                 65\n",
       "One-way commute distance                                                           2777\n",
       "Number of people in the household                                                    11\n",
       "Age                                                                                   8\n",
       "Gender (Male 1)                                                                       2\n",
       "Number of vehicles in the household                                                   5\n",
       "Annual VMT Estimate                                                                2640\n",
       "FCV, BEV Dummy                                                                        2\n",
       "Model Year                                                                           11\n",
       "Manufacturer                                                                         32\n",
       "Model                                                                                56\n",
       "dtype: int64"
      ]
     },
     "execution_count": 10,
     "metadata": {},
     "output_type": "execute_result"
    }
   ],
   "source": [
    "# Checking the count of unique values in each column\n",
    "fcv_df.nunique()"
   ]
  },
  {
   "cell_type": "code",
   "execution_count": 11,
   "metadata": {
    "scrolled": true
   },
   "outputs": [
    {
     "data": {
      "text/plain": [
       "(4709, 24)"
      ]
     },
     "execution_count": 11,
     "metadata": {},
     "output_type": "execute_result"
    }
   ],
   "source": [
    "fcv_df.shape"
   ]
  },
  {
   "cell_type": "markdown",
   "metadata": {},
   "source": [
    "#### Observations: \n",
    "After all rows with null values have been dropped the dataset has 4,709 rows and 26 columns"
   ]
  },
  {
   "cell_type": "code",
   "execution_count": 12,
   "metadata": {},
   "outputs": [
    {
     "data": {
      "text/plain": [
       "Month Submitted                                                                    float64\n",
       "Year Submitted                                                                     float64\n",
       "lastpage. Last page                                                                float64\n",
       "Previous PHEVs                                                                     float64\n",
       "Previous BEVs                                                                      float64\n",
       "Previous HEVs                                                                      float64\n",
       "Previous CNGs                                                                      float64\n",
       "Household Income                                                                   float64\n",
       "Importance of reducing greenhouse gas emissions (-3 not important, 3 important)    float64\n",
       "Home ownership (own 1)                                                             float64\n",
       "Home Type (detached 1)                                                             float64\n",
       "Highest Level of Education                                                         float64\n",
       "Longest trip in the last 12 months                                                 float64\n",
       "Number of trips over 200 miles in the last 12 months                               float64\n",
       "One-way commute distance                                                           float64\n",
       "Number of people in the household                                                  float64\n",
       "Age                                                                                float64\n",
       "Gender (Male 1)                                                                    float64\n",
       "Number of vehicles in the household                                                  int64\n",
       "Annual VMT Estimate                                                                float64\n",
       "FCV, BEV Dummy                                                                     float64\n",
       "Model Year                                                                          object\n",
       "Manufacturer                                                                        object\n",
       "Model                                                                               object\n",
       "dtype: object"
      ]
     },
     "execution_count": 12,
     "metadata": {},
     "output_type": "execute_result"
    }
   ],
   "source": [
    "fcv_df.dtypes"
   ]
  },
  {
   "cell_type": "code",
   "execution_count": 13,
   "metadata": {},
   "outputs": [],
   "source": [
    "# Changing the datatypes from 'float' to 'int'\n",
    "fcv_df[['Annual VMT Estimate',\n",
    "        'Age', \n",
    "        'Gender (Male 1)', \n",
    "        'Home ownership (own 1)', \n",
    "        'Home Type (detached 1)',\n",
    "        'Importance of reducing greenhouse gas emissions (-3 not important, 3 important)',\n",
    "        'Previous PHEVs', \n",
    "        'Previous BEVs', \n",
    "        'Previous HEVs', \n",
    "        'Previous CNGs',\n",
    "        'Month Submitted', \n",
    "        'Year Submitted', \n",
    "        'Number of people in the household', \n",
    "        'Highest Level of Education',\n",
    "        'Number of trips over 200 miles in the last 12 months']] = fcv_df[['Annual VMT Estimate',\n",
    "                                                                           'Age', \n",
    "                                                                           'Gender (Male 1)', \n",
    "                                                                            'Home ownership (own 1)', \n",
    "                                                                            'Home Type (detached 1)',\n",
    "                                                                            'Importance of reducing greenhouse gas emissions (-3 not important, 3 important)',\n",
    "                                                                            'Previous PHEVs', \n",
    "                                                                            'Previous BEVs', \n",
    "                                                                            'Previous HEVs', \n",
    "                                                                            'Previous CNGs',\n",
    "                                                                            'Month Submitted', \n",
    "                                                                            'Year Submitted', \n",
    "                                                                            'Number of people in the household', \n",
    "                                                                            'Highest Level of Education',\n",
    "                                                                            'Number of trips over 200 miles in the last 12 months']].astype(int) \n"
   ]
  },
  {
   "cell_type": "markdown",
   "metadata": {
    "id": "RmTpaojz_bwC"
   },
   "source": [
    "## Summary Statistics"
   ]
  },
  {
   "cell_type": "code",
   "execution_count": 14,
   "metadata": {},
   "outputs": [
    {
     "data": {
      "text/html": [
       "<div>\n",
       "<style scoped>\n",
       "    .dataframe tbody tr th:only-of-type {\n",
       "        vertical-align: middle;\n",
       "    }\n",
       "\n",
       "    .dataframe tbody tr th {\n",
       "        vertical-align: top;\n",
       "    }\n",
       "\n",
       "    .dataframe thead th {\n",
       "        text-align: right;\n",
       "    }\n",
       "</style>\n",
       "<table border=\"1\" class=\"dataframe\">\n",
       "  <thead>\n",
       "    <tr style=\"text-align: right;\">\n",
       "      <th></th>\n",
       "      <th>Month Submitted</th>\n",
       "      <th>Year Submitted</th>\n",
       "      <th>lastpage. Last page</th>\n",
       "      <th>Previous PHEVs</th>\n",
       "      <th>Previous BEVs</th>\n",
       "      <th>Previous HEVs</th>\n",
       "      <th>Previous CNGs</th>\n",
       "      <th>Household Income</th>\n",
       "      <th>Importance of reducing greenhouse gas emissions (-3 not important, 3 important)</th>\n",
       "      <th>Home ownership (own 1)</th>\n",
       "      <th>...</th>\n",
       "      <th>Highest Level of Education</th>\n",
       "      <th>Longest trip in the last 12 months</th>\n",
       "      <th>Number of trips over 200 miles in the last 12 months</th>\n",
       "      <th>One-way commute distance</th>\n",
       "      <th>Number of people in the household</th>\n",
       "      <th>Age</th>\n",
       "      <th>Gender (Male 1)</th>\n",
       "      <th>Number of vehicles in the household</th>\n",
       "      <th>Annual VMT Estimate</th>\n",
       "      <th>FCV, BEV Dummy</th>\n",
       "    </tr>\n",
       "  </thead>\n",
       "  <tbody>\n",
       "    <tr>\n",
       "      <th>count</th>\n",
       "      <td>4709.000000</td>\n",
       "      <td>4709.000000</td>\n",
       "      <td>4709.000000</td>\n",
       "      <td>4709.000000</td>\n",
       "      <td>4709.000000</td>\n",
       "      <td>4709.000000</td>\n",
       "      <td>4709.000000</td>\n",
       "      <td>4709.000000</td>\n",
       "      <td>4709.000000</td>\n",
       "      <td>4709.00000</td>\n",
       "      <td>...</td>\n",
       "      <td>4709.000000</td>\n",
       "      <td>4709.000000</td>\n",
       "      <td>4.709000e+03</td>\n",
       "      <td>4709.000000</td>\n",
       "      <td>4709.000000</td>\n",
       "      <td>4709.000000</td>\n",
       "      <td>4709.000000</td>\n",
       "      <td>4709.000000</td>\n",
       "      <td>4709.000000</td>\n",
       "      <td>4709.000000</td>\n",
       "    </tr>\n",
       "    <tr>\n",
       "      <th>mean</th>\n",
       "      <td>6.489063</td>\n",
       "      <td>2016.004672</td>\n",
       "      <td>43.518794</td>\n",
       "      <td>0.099809</td>\n",
       "      <td>0.175409</td>\n",
       "      <td>0.217244</td>\n",
       "      <td>0.005946</td>\n",
       "      <td>223311.743470</td>\n",
       "      <td>1.244426</td>\n",
       "      <td>0.87938</td>\n",
       "      <td>...</td>\n",
       "      <td>3.406668</td>\n",
       "      <td>371.820822</td>\n",
       "      <td>4.720894e+04</td>\n",
       "      <td>18.578486</td>\n",
       "      <td>3.066893</td>\n",
       "      <td>49.643661</td>\n",
       "      <td>0.218518</td>\n",
       "      <td>2.571034</td>\n",
       "      <td>12546.911871</td>\n",
       "      <td>0.949034</td>\n",
       "    </tr>\n",
       "    <tr>\n",
       "      <th>std</th>\n",
       "      <td>1.927018</td>\n",
       "      <td>0.824680</td>\n",
       "      <td>1.128866</td>\n",
       "      <td>0.299777</td>\n",
       "      <td>0.380357</td>\n",
       "      <td>0.412414</td>\n",
       "      <td>0.076889</td>\n",
       "      <td>123880.139436</td>\n",
       "      <td>1.248420</td>\n",
       "      <td>0.32572</td>\n",
       "      <td>...</td>\n",
       "      <td>0.678945</td>\n",
       "      <td>340.614394</td>\n",
       "      <td>3.238360e+06</td>\n",
       "      <td>40.951945</td>\n",
       "      <td>1.246740</td>\n",
       "      <td>12.380423</td>\n",
       "      <td>0.413284</td>\n",
       "      <td>0.898820</td>\n",
       "      <td>14703.573255</td>\n",
       "      <td>0.219952</td>\n",
       "    </tr>\n",
       "    <tr>\n",
       "      <th>min</th>\n",
       "      <td>4.000000</td>\n",
       "      <td>2015.000000</td>\n",
       "      <td>3.000000</td>\n",
       "      <td>0.000000</td>\n",
       "      <td>0.000000</td>\n",
       "      <td>0.000000</td>\n",
       "      <td>0.000000</td>\n",
       "      <td>50000.000000</td>\n",
       "      <td>-3.000000</td>\n",
       "      <td>0.00000</td>\n",
       "      <td>...</td>\n",
       "      <td>1.000000</td>\n",
       "      <td>0.210000</td>\n",
       "      <td>0.000000e+00</td>\n",
       "      <td>0.000000</td>\n",
       "      <td>1.000000</td>\n",
       "      <td>18.000000</td>\n",
       "      <td>0.000000</td>\n",
       "      <td>1.000000</td>\n",
       "      <td>-158400.000000</td>\n",
       "      <td>0.000000</td>\n",
       "    </tr>\n",
       "    <tr>\n",
       "      <th>25%</th>\n",
       "      <td>5.000000</td>\n",
       "      <td>2015.000000</td>\n",
       "      <td>43.000000</td>\n",
       "      <td>0.000000</td>\n",
       "      <td>0.000000</td>\n",
       "      <td>0.000000</td>\n",
       "      <td>0.000000</td>\n",
       "      <td>125000.000000</td>\n",
       "      <td>1.000000</td>\n",
       "      <td>1.00000</td>\n",
       "      <td>...</td>\n",
       "      <td>3.000000</td>\n",
       "      <td>171.580000</td>\n",
       "      <td>0.000000e+00</td>\n",
       "      <td>6.680000</td>\n",
       "      <td>2.000000</td>\n",
       "      <td>45.000000</td>\n",
       "      <td>0.000000</td>\n",
       "      <td>2.000000</td>\n",
       "      <td>7928.000000</td>\n",
       "      <td>1.000000</td>\n",
       "    </tr>\n",
       "    <tr>\n",
       "      <th>50%</th>\n",
       "      <td>6.000000</td>\n",
       "      <td>2016.000000</td>\n",
       "      <td>43.000000</td>\n",
       "      <td>0.000000</td>\n",
       "      <td>0.000000</td>\n",
       "      <td>0.000000</td>\n",
       "      <td>0.000000</td>\n",
       "      <td>175000.000000</td>\n",
       "      <td>2.000000</td>\n",
       "      <td>1.00000</td>\n",
       "      <td>...</td>\n",
       "      <td>4.000000</td>\n",
       "      <td>318.140000</td>\n",
       "      <td>0.000000e+00</td>\n",
       "      <td>14.000000</td>\n",
       "      <td>3.000000</td>\n",
       "      <td>45.000000</td>\n",
       "      <td>0.000000</td>\n",
       "      <td>2.000000</td>\n",
       "      <td>10838.000000</td>\n",
       "      <td>1.000000</td>\n",
       "    </tr>\n",
       "    <tr>\n",
       "      <th>75%</th>\n",
       "      <td>8.000000</td>\n",
       "      <td>2017.000000</td>\n",
       "      <td>45.000000</td>\n",
       "      <td>0.000000</td>\n",
       "      <td>0.000000</td>\n",
       "      <td>0.000000</td>\n",
       "      <td>0.000000</td>\n",
       "      <td>275000.000000</td>\n",
       "      <td>2.000000</td>\n",
       "      <td>1.00000</td>\n",
       "      <td>...</td>\n",
       "      <td>4.000000</td>\n",
       "      <td>437.340000</td>\n",
       "      <td>2.000000e+00</td>\n",
       "      <td>23.710000</td>\n",
       "      <td>4.000000</td>\n",
       "      <td>55.000000</td>\n",
       "      <td>0.000000</td>\n",
       "      <td>3.000000</td>\n",
       "      <td>14532.000000</td>\n",
       "      <td>1.000000</td>\n",
       "    </tr>\n",
       "    <tr>\n",
       "      <th>max</th>\n",
       "      <td>11.000000</td>\n",
       "      <td>2017.000000</td>\n",
       "      <td>45.000000</td>\n",
       "      <td>1.000000</td>\n",
       "      <td>1.000000</td>\n",
       "      <td>1.000000</td>\n",
       "      <td>1.000000</td>\n",
       "      <td>500000.000000</td>\n",
       "      <td>3.000000</td>\n",
       "      <td>1.00000</td>\n",
       "      <td>...</td>\n",
       "      <td>4.000000</td>\n",
       "      <td>4041.570000</td>\n",
       "      <td>2.222232e+08</td>\n",
       "      <td>2381.910000</td>\n",
       "      <td>12.000000</td>\n",
       "      <td>80.000000</td>\n",
       "      <td>1.000000</td>\n",
       "      <td>5.000000</td>\n",
       "      <td>342000.000000</td>\n",
       "      <td>1.000000</td>\n",
       "    </tr>\n",
       "  </tbody>\n",
       "</table>\n",
       "<p>8 rows × 21 columns</p>\n",
       "</div>"
      ],
      "text/plain": [
       "       Month Submitted  Year Submitted  lastpage. Last page  Previous PHEVs  \\\n",
       "count      4709.000000     4709.000000          4709.000000     4709.000000   \n",
       "mean          6.489063     2016.004672            43.518794        0.099809   \n",
       "std           1.927018        0.824680             1.128866        0.299777   \n",
       "min           4.000000     2015.000000             3.000000        0.000000   \n",
       "25%           5.000000     2015.000000            43.000000        0.000000   \n",
       "50%           6.000000     2016.000000            43.000000        0.000000   \n",
       "75%           8.000000     2017.000000            45.000000        0.000000   \n",
       "max          11.000000     2017.000000            45.000000        1.000000   \n",
       "\n",
       "       Previous BEVs  Previous HEVs  Previous CNGs  Household Income  \\\n",
       "count    4709.000000    4709.000000    4709.000000       4709.000000   \n",
       "mean        0.175409       0.217244       0.005946     223311.743470   \n",
       "std         0.380357       0.412414       0.076889     123880.139436   \n",
       "min         0.000000       0.000000       0.000000      50000.000000   \n",
       "25%         0.000000       0.000000       0.000000     125000.000000   \n",
       "50%         0.000000       0.000000       0.000000     175000.000000   \n",
       "75%         0.000000       0.000000       0.000000     275000.000000   \n",
       "max         1.000000       1.000000       1.000000     500000.000000   \n",
       "\n",
       "       Importance of reducing greenhouse gas emissions (-3 not important, 3 important)  \\\n",
       "count                                        4709.000000                                 \n",
       "mean                                            1.244426                                 \n",
       "std                                             1.248420                                 \n",
       "min                                            -3.000000                                 \n",
       "25%                                             1.000000                                 \n",
       "50%                                             2.000000                                 \n",
       "75%                                             2.000000                                 \n",
       "max                                             3.000000                                 \n",
       "\n",
       "       Home ownership (own 1)  ...  Highest Level of Education  \\\n",
       "count              4709.00000  ...                 4709.000000   \n",
       "mean                  0.87938  ...                    3.406668   \n",
       "std                   0.32572  ...                    0.678945   \n",
       "min                   0.00000  ...                    1.000000   \n",
       "25%                   1.00000  ...                    3.000000   \n",
       "50%                   1.00000  ...                    4.000000   \n",
       "75%                   1.00000  ...                    4.000000   \n",
       "max                   1.00000  ...                    4.000000   \n",
       "\n",
       "       Longest trip in the last 12 months  \\\n",
       "count                         4709.000000   \n",
       "mean                           371.820822   \n",
       "std                            340.614394   \n",
       "min                              0.210000   \n",
       "25%                            171.580000   \n",
       "50%                            318.140000   \n",
       "75%                            437.340000   \n",
       "max                           4041.570000   \n",
       "\n",
       "       Number of trips over 200 miles in the last 12 months  \\\n",
       "count                                       4.709000e+03      \n",
       "mean                                        4.720894e+04      \n",
       "std                                         3.238360e+06      \n",
       "min                                         0.000000e+00      \n",
       "25%                                         0.000000e+00      \n",
       "50%                                         0.000000e+00      \n",
       "75%                                         2.000000e+00      \n",
       "max                                         2.222232e+08      \n",
       "\n",
       "       One-way commute distance  Number of people in the household  \\\n",
       "count               4709.000000                        4709.000000   \n",
       "mean                  18.578486                           3.066893   \n",
       "std                   40.951945                           1.246740   \n",
       "min                    0.000000                           1.000000   \n",
       "25%                    6.680000                           2.000000   \n",
       "50%                   14.000000                           3.000000   \n",
       "75%                   23.710000                           4.000000   \n",
       "max                 2381.910000                          12.000000   \n",
       "\n",
       "               Age  Gender (Male 1)  Number of vehicles in the household  \\\n",
       "count  4709.000000      4709.000000                          4709.000000   \n",
       "mean     49.643661         0.218518                             2.571034   \n",
       "std      12.380423         0.413284                             0.898820   \n",
       "min      18.000000         0.000000                             1.000000   \n",
       "25%      45.000000         0.000000                             2.000000   \n",
       "50%      45.000000         0.000000                             2.000000   \n",
       "75%      55.000000         0.000000                             3.000000   \n",
       "max      80.000000         1.000000                             5.000000   \n",
       "\n",
       "       Annual VMT Estimate  FCV, BEV Dummy  \n",
       "count          4709.000000     4709.000000  \n",
       "mean          12546.911871        0.949034  \n",
       "std           14703.573255        0.219952  \n",
       "min         -158400.000000        0.000000  \n",
       "25%            7928.000000        1.000000  \n",
       "50%           10838.000000        1.000000  \n",
       "75%           14532.000000        1.000000  \n",
       "max          342000.000000        1.000000  \n",
       "\n",
       "[8 rows x 21 columns]"
      ]
     },
     "execution_count": 14,
     "metadata": {},
     "output_type": "execute_result"
    }
   ],
   "source": [
    "fcv_df.describe()"
   ]
  },
  {
   "cell_type": "code",
   "execution_count": 15,
   "metadata": {
    "scrolled": true
   },
   "outputs": [
    {
     "data": {
      "text/plain": [
       "Nissan           1401\n",
       "Tesla            1292\n",
       "Chevrolet         571\n",
       "Toyota            350\n",
       "Volkswagen        314\n",
       "Fiat              276\n",
       "BMW               152\n",
       "Ford               98\n",
       "Honda              64\n",
       "FIAT               43\n",
       "Kia                41\n",
       "Smart              32\n",
       "Mercedes-Benz      24\n",
       "Hyundai            19\n",
       "Mitsubishi          9\n",
       "smart               3\n",
       "tesla               3\n",
       "Volkswagon          2\n",
       "                    2\n",
       "Mercedes            1\n",
       "chevy               1\n",
       "VW                  1\n",
       "vw                  1\n",
       "Tesler              1\n",
       "Telsa               1\n",
       "Hyundi              1\n",
       "Chev                1\n",
       "hyundai             1\n",
       "nISSAN              1\n",
       "MBW                 1\n",
       "Nissa               1\n",
       "Chevy               1\n",
       "Name: Manufacturer, dtype: int64"
      ]
     },
     "execution_count": 15,
     "metadata": {},
     "output_type": "execute_result"
    }
   ],
   "source": [
    "fcv_df.Manufacturer.value_counts()"
   ]
  },
  {
   "cell_type": "code",
   "execution_count": 16,
   "metadata": {},
   "outputs": [
    {
     "data": {
      "text/plain": [
       "Nissan           1403\n",
       "Tesla            1297\n",
       "Chevrolet         574\n",
       "Toyota            350\n",
       "Fiat              319\n",
       "Volkswagen        318\n",
       "BMW               153\n",
       "Ford               98\n",
       "Honda              64\n",
       "Kia                41\n",
       "Smart              35\n",
       "Mercedes-Benz      25\n",
       "Hyundai            21\n",
       "Mitsubishi          9\n",
       "                    2\n",
       "Name: Manufacturer, dtype: int64"
      ]
     },
     "execution_count": 16,
     "metadata": {},
     "output_type": "execute_result"
    }
   ],
   "source": [
    "brand_mapping = {\n",
    "    'FIAT' : 'Fiat',\n",
    "    'tesla' : 'Tesla', \n",
    "    'Volkswagon' : 'Volkswagen', \n",
    "    'Mercedes' : 'Mercedes-Benz',\n",
    "    'chevy' : 'Chevrolet',\n",
    "    'VW' : 'Volkswagen',\n",
    "    'vw' : 'Volkswagen',\n",
    "    'Tesler' : 'Tesla',\n",
    "    'Chev' : 'Chevrolet',\n",
    "    'Telsa' : 'Tesla',\n",
    "    'hyundai' : 'Hyundai',\n",
    "    'nISSAN' : 'Nissan',\n",
    "    'MBW' : 'BMW',\n",
    "    'Nissa' : 'Nissan',\n",
    "    'Hyundi' : 'Hyundai',\n",
    "    'Chevy' : 'Chevrolet',\n",
    "    'smart' : 'Smart'\n",
    "}\n",
    "\n",
    "fcv_df['Manufacturer'] = fcv_df['Manufacturer'].replace(brand_mapping)\n",
    "fcv_df.Manufacturer.value_counts()"
   ]
  },
  {
   "cell_type": "code",
   "execution_count": 17,
   "metadata": {},
   "outputs": [],
   "source": [
    "model_mapping = {\n",
    "    '500E' : '500e',\n",
    "    'Model X 60D' : 'Model X',\n",
    "    'LEAF' : 'Leaf',\n",
    "    'Tuscon' : 'Tucson',\n",
    "    'Tucson FCV' : 'Tucson',\n",
    "    'S 85' : 'Model S',\n",
    "    'Tuscon fuel cell' : 'Tucson',\n",
    "    'bolt' : 'Bolt EV',\n",
    "    'Bolt' : 'Bolt EV',\n",
    "    ' 75d' : 'Model S',\n",
    "    'Model S P90D' : 'Model S',\n",
    "    'S 90D' : 'Model S',\n",
    "    'Tuscon FCV' : 'Tucson',\n",
    "    ' Chevreolet Volt' : 'Volt',\n",
    "    ' Tucson' : 'Tucson',\n",
    "    'S 85 D' : 'Model S',\n",
    "    'e golf' : 'e-Golf',\n",
    "    ' E-Golf' : 'e-Golf',\n",
    "    'eGolf' : 'e-Golf',\n",
    "    'VW  e-Golf' : 'e-Golf',\n",
    "    ' Leaf' : 'Leaf',\n",
    "    'Model S P85D' : 'Model S',\n",
    "    's' : 'Model S',\n",
    "    'Tucson fuel cell' : 'Tucson',\n",
    "    'model S' : 'Model S',\n",
    "    'Tuscan' : 'Tucson',\n",
    "    'S' : 'Model S',\n",
    "    'tuscon' : 'Tucson',\n",
    "    '85 S' : 'Model S',\n",
    "    'Model S, P85' : 'Model S',\n",
    "    ' Model S' : 'Model S',\n",
    "    ' Tuscon' : 'Tucson',\n",
    "    'Benz B Class Electric' : 'B250e',\n",
    "    ' Model X' : 'Model X',\n",
    "    'e-golf' : 'e-Golf',\n",
    "    'Focus Electric' : 'Focus',\n",
    "    'B-Class Electric Drive' : 'B250e',\n",
    "    ' Chevrolet Volt' : 'Volt',\n",
    "    'Spark' : 'Spark EV'\n",
    "    \n",
    "}\n",
    "\n",
    "fcv_df['Model'] = fcv_df['Model'].replace(model_mapping)"
   ]
  },
  {
   "cell_type": "code",
   "execution_count": 18,
   "metadata": {},
   "outputs": [
    {
     "data": {
      "text/plain": [
       "Leaf             1403\n",
       "Model S          1133\n",
       "Bolt EV           502\n",
       "500e              319\n",
       "e-Golf            319\n",
       "Mirai             208\n",
       "Model X           161\n",
       "i3                153\n",
       "RAV4 EV           142\n",
       "Focus              97\n",
       "Spark EV           72\n",
       "Fit EV             50\n",
       "Soul EV            41\n",
       "fortwo             35\n",
       "B250e              25\n",
       "Tucson             21\n",
       "Clarity            14\n",
       "i-MiEV              9\n",
       "Roadster            3\n",
       "Fusion Energi       1\n",
       "Volt                1\n",
       "Name: Model, dtype: int64"
      ]
     },
     "execution_count": 18,
     "metadata": {},
     "output_type": "execute_result"
    }
   ],
   "source": [
    "fcv_df.Model.value_counts()"
   ]
  },
  {
   "cell_type": "markdown",
   "metadata": {
    "id": "y20K1lOx_bwC"
   },
   "source": [
    "Let's check the distribution and outliers for each column in the data."
   ]
  },
  {
   "cell_type": "code",
   "execution_count": 19,
   "metadata": {},
   "outputs": [],
   "source": [
    "# Uni-variate analysis of numerical variables allow us to study their central tendency and dispersion.\n",
    "# function that will help us create boxplot and histogram for any input numerical variable.\n",
    "# This function takes the numerical column as the input and return the boxplots and histograms for the variable.\n",
    "#\n",
    "def histogram_boxplot(feature, figsize=(15,10), bins = None):\n",
    "    \"\"\" Boxplot and histogram combined\n",
    "    feature: 1-d feature array\n",
    "    figsize: size of fig (default (9,8))\n",
    "    bins: number of bins (default None / auto)\n",
    "    \"\"\"\n",
    "    f2, (ax_box2, ax_hist2) = plt.subplots(nrows = 2, # Number of rows of the subplot grid= 2\n",
    "                                           sharex = True, # x-axis will be shared among all subplots\n",
    "                                           gridspec_kw = {\"height_ratios\": (.25, .75)}, \n",
    "                                           figsize = figsize \n",
    "                                           ) # creating the 2 subplots\n",
    "    sns.boxplot(x = feature, ax=ax_box2, showmeans=True, color='lightblue') # boxplot will be created and a star will indicate the mean value of the column\n",
    "    sns.histplot(x = feature, kde=F, ax=ax_hist2, bins=bins,palette=\"winter\") if bins else sns.histplot(x = feature, kde=False, ax=ax_hist2) # For histogram\n",
    "    ax_hist2.axvline(np.mean(feature), color='green', linestyle='--') # Add mean to the histogram\n",
    "    ax_hist2.axvline(np.median(feature), color='black', linestyle='-') # Add median to the histogram"
   ]
  },
  {
   "cell_type": "code",
   "execution_count": 20,
   "metadata": {
    "scrolled": false
   },
   "outputs": [
    {
     "data": {
      "image/png": "[encoded data removed]",
      "text/plain": [
       "<Figure size 1500x1000 with 2 Axes>"
      ]
     },
     "metadata": {},
     "output_type": "display_data"
    }
   ],
   "source": [
    "# Build the histogram boxplot for Income\n",
    "histogram_boxplot(fcv_df['Household Income'])"
   ]
  },
  {
   "cell_type": "code",
   "execution_count": 21,
   "metadata": {},
   "outputs": [
    {
     "data": {
      "text/plain": [
       "Index(['Month Submitted', 'Year Submitted', 'lastpage. Last page',\n",
       "       'Previous PHEVs', 'Previous BEVs', 'Previous HEVs', 'Previous CNGs',\n",
       "       'Household Income',\n",
       "       'Importance of reducing greenhouse gas emissions (-3 not important, 3 important)',\n",
       "       'Home ownership (own 1)', 'Home Type (detached 1)',\n",
       "       'Highest Level of Education', 'Longest trip in the last 12 months',\n",
       "       'Number of trips over 200 miles in the last 12 months',\n",
       "       'One-way commute distance', 'Number of people in the household', 'Age',\n",
       "       'Gender (Male 1)', 'Number of vehicles in the household',\n",
       "       'Annual VMT Estimate', 'FCV, BEV Dummy', 'Model Year', 'Manufacturer',\n",
       "       'Model'],\n",
       "      dtype='object')"
      ]
     },
     "execution_count": 21,
     "metadata": {},
     "output_type": "execute_result"
    }
   ],
   "source": [
    "fcv_df.columns"
   ]
  },
  {
   "cell_type": "code",
   "execution_count": 22,
   "metadata": {},
   "outputs": [],
   "source": [
    "# Datasets\n",
    "previous_car = fcv_df[['Previous PHEVs','Previous BEVs', 'Previous HEVs', 'Previous CNGs']]\n",
    "household_demographics_df = fcv_df[['Household Income','Home ownership (own 1)', 'Home Type (detached 1)',\n",
    "                                    'Highest Level of Education','Number of people in the household', 'Age','Gender (Male 1)',]]\n",
    "commute_df = fcv_df[['Longest trip in the last 12 months','Number of trips over 200 miles in the last 12 months','One-way commute distance','Annual VMT Estimate']]\n",
    "current_car_df = fcv_df[['Model Year', 'Manufacturer','Model']]"
   ]
  },
  {
   "cell_type": "markdown",
   "metadata": {},
   "source": [
    "## Previous Car Owners"
   ]
  },
  {
   "cell_type": "code",
   "execution_count": 23,
   "metadata": {},
   "outputs": [
    {
     "data": {
      "text/html": [
       "<div>\n",
       "<style scoped>\n",
       "    .dataframe tbody tr th:only-of-type {\n",
       "        vertical-align: middle;\n",
       "    }\n",
       "\n",
       "    .dataframe tbody tr th {\n",
       "        vertical-align: top;\n",
       "    }\n",
       "\n",
       "    .dataframe thead th {\n",
       "        text-align: right;\n",
       "    }\n",
       "</style>\n",
       "<table border=\"1\" class=\"dataframe\">\n",
       "  <thead>\n",
       "    <tr style=\"text-align: right;\">\n",
       "      <th></th>\n",
       "      <th>Previous_Car</th>\n",
       "      <th>total</th>\n",
       "    </tr>\n",
       "  </thead>\n",
       "  <tbody>\n",
       "    <tr>\n",
       "      <th>0</th>\n",
       "      <td>Previous PHEVs</td>\n",
       "      <td>470</td>\n",
       "    </tr>\n",
       "    <tr>\n",
       "      <th>1</th>\n",
       "      <td>Previous BEVs</td>\n",
       "      <td>826</td>\n",
       "    </tr>\n",
       "    <tr>\n",
       "      <th>2</th>\n",
       "      <td>Previous HEVs</td>\n",
       "      <td>1023</td>\n",
       "    </tr>\n",
       "    <tr>\n",
       "      <th>3</th>\n",
       "      <td>Previous CNGs</td>\n",
       "      <td>28</td>\n",
       "    </tr>\n",
       "  </tbody>\n",
       "</table>\n",
       "</div>"
      ],
      "text/plain": [
       "     Previous_Car  total\n",
       "0  Previous PHEVs    470\n",
       "1   Previous BEVs    826\n",
       "2   Previous HEVs   1023\n",
       "3   Previous CNGs     28"
      ]
     },
     "execution_count": 23,
     "metadata": {},
     "output_type": "execute_result"
    }
   ],
   "source": [
    "previous_car_sum = pd.DataFrame({'total': previous_car.sum()})\n",
    "previous_car_sum = previous_car_sum.reset_index()\n",
    "previous_car_sum = previous_car_sum.rename(columns={'index': 'Previous_Car'})\n",
    "previous_car_sum"
   ]
  },
  {
   "cell_type": "code",
   "execution_count": 24,
   "metadata": {
    "scrolled": false
   },
   "outputs": [
    {
     "data": {
      "text/plain": [
       "<BarContainer object of 4 artists>"
      ]
     },
     "execution_count": 24,
     "metadata": {},
     "output_type": "execute_result"
    },
    {
     "data": {
      "image/png": "[encoded data removed]",
      "text/plain": [
       "<Figure size 640x480 with 1 Axes>"
      ]
     },
     "metadata": {},
     "output_type": "display_data"
    }
   ],
   "source": [
    "plt.bar(previous_car_sum['Previous_Car'],previous_car_sum['total'])"
   ]
  },
  {
   "cell_type": "markdown",
   "metadata": {},
   "source": [
    "## Commute Box and Whisker (before removing the outliers)"
   ]
  },
  {
   "cell_type": "code",
   "execution_count": 25,
   "metadata": {},
   "outputs": [
    {
     "data": {
      "image/png": "[encoded data removed]",
      "text/plain": [
       "<Figure size 1000x1300 with 4 Axes>"
      ]
     },
     "metadata": {},
     "output_type": "display_data"
    }
   ],
   "source": [
    "fig, axs =plt.subplots(2,2,figsize=(10, 13))\n",
    "\n",
    "axs[0,0].boxplot(commute_df['Longest trip in the last 12 months'])\n",
    "axs[0,0].set_title('Longest trip in the last 12 months')\n",
    "\n",
    "axs[0,1].boxplot(commute_df['Number of trips over 200 miles in the last 12 months'])\n",
    "axs[0,1].set_title('Number of trips over 200 miles in the last 12 months')\n",
    "\n",
    "axs[1,0].boxplot(commute_df['One-way commute distance'])\n",
    "axs[1,0].set_title('One-way commute distance')\n",
    "\n",
    "axs[1,1].boxplot(commute_df['Annual VMT Estimate'])\n",
    "axs[1,1].set_title('Annual VMT Estimate')\n",
    "\n",
    "plt.show()"
   ]
  },
  {
   "cell_type": "markdown",
   "metadata": {},
   "source": [
    "Let's check the distribution and outliers for each column in the data."
   ]
  },
  {
   "cell_type": "markdown",
   "metadata": {
    "id": "3gO4yNoS_bwD"
   },
   "source": [
    "### Distribution Plot "
   ]
  },
  {
   "cell_type": "markdown",
   "metadata": {
    "id": "tFmj2sAi_bwD"
   },
   "source": [
    "#### Observations: \n"
   ]
  },
  {
   "cell_type": "raw",
   "metadata": {
    "id": "LGKnjmYV_bwD"
   },
   "source": []
  },
  {
   "cell_type": "markdown",
   "metadata": {
    "id": "H82v-Oiq_bwD"
   },
   "source": [
    "### Check for Max and Min Values"
   ]
  },
  {
   "cell_type": "markdown",
   "metadata": {
    "id": "JiUByWjP_bwE"
   },
   "source": [
    "#### Observation:\n"
   ]
  },
  {
   "cell_type": "raw",
   "metadata": {
    "id": "pE2GYrtU_bwE"
   },
   "source": []
  },
  {
   "cell_type": "markdown",
   "metadata": {
    "id": "0xN_VJOl_bwE"
   },
   "source": [
    "### Examine the mean, median, and mode. Are the three measures of central tendency equal?\n",
    "-- this will help describe the skewness/distribution of attributes"
   ]
  },
  {
   "cell_type": "markdown",
   "metadata": {
    "id": "F381SOUJ_bwE"
   },
   "source": [
    "#### Observations: "
   ]
  },
  {
   "cell_type": "code",
   "execution_count": 26,
   "metadata": {
    "id": "NNYE_suf_bwE"
   },
   "outputs": [],
   "source": [
    "#Drop model year with 2-16\n",
    "current_car_df = current_car_df.drop([16241])"
   ]
  },
  {
   "cell_type": "code",
   "execution_count": 27,
   "metadata": {},
   "outputs": [],
   "source": [
    "#Sort by model year for plot\n",
    "current_car_df = current_car_df.sort_values('Model Year', ascending=True)"
   ]
  },
  {
   "cell_type": "code",
   "execution_count": 28,
   "metadata": {},
   "outputs": [
    {
     "data": {
      "text/plain": [
       "array(['Tesla', 'Nissan', 'Ford', 'Mitsubishi', 'Toyota', 'Fiat', 'Smart',\n",
       "       'Honda', 'Chevrolet', 'BMW', '', 'Mercedes-Benz', 'Hyundai', 'Kia',\n",
       "       'Volkswagen'], dtype=object)"
      ]
     },
     "execution_count": 28,
     "metadata": {},
     "output_type": "execute_result"
    }
   ],
   "source": [
    "current_car_df['Manufacturer'].unique()"
   ]
  },
  {
   "cell_type": "markdown",
   "metadata": {
    "id": "O8KX8Nva_bwF"
   },
   "source": [
    "### Pairplot for the variables. "
   ]
  },
  {
   "cell_type": "code",
   "execution_count": 29,
   "metadata": {
    "id": "dDj12snn_bwG",
    "scrolled": false
   },
   "outputs": [
    {
     "data": {
      "image/png": "[encoded data removed]",
      "text/plain": [
       "<Figure size 640x480 with 1 Axes>"
      ]
     },
     "metadata": {},
     "output_type": "display_data"
    }
   ],
   "source": [
    "sns.countplot(current_car_df, x='Manufacturer')\n",
    "plt.xticks(rotation=90)\n",
    "plt.show()"
   ]
  },
  {
   "cell_type": "markdown",
   "metadata": {},
   "source": [
    "## Determining the outliers in the demographics (using the z-score)"
   ]
  },
  {
   "cell_type": "markdown",
   "metadata": {},
   "source": [
    "A list of the means for each respective column in the original dataframe (before removing the outliers), as well as the total number of rows:"
   ]
  },
  {
   "cell_type": "code",
   "execution_count": 30,
   "metadata": {
    "scrolled": false
   },
   "outputs": [
    {
     "name": "stdout",
     "output_type": "stream",
     "text": [
      "COLUMN: \"Household Income\" ..... MEAN: 223311.74\n",
      "COLUMN: \"Longest trip in the last 12 months\" ..... MEAN: 371.82\n",
      "COLUMN: \"Number of trips over 200 miles in the last 12 months\" ..... MEAN: 47208.94\n",
      "COLUMN: \"One-way commute distance\" ..... MEAN: 18.58\n",
      "COLUMN: \"Number of people in the household\" ..... MEAN: 3.07\n",
      "COLUMN: \"Age\" ..... MEAN: 49.64\n",
      "COLUMN: \"Number of vehicles in the household\" ..... MEAN: 2.57\n",
      "COLUMN: \"Annual VMT Estimate\" ..... MEAN: 12546.91\n",
      "\n",
      " Total number of rows in the original fcv dataframe (without the null values): 4709\n"
     ]
    }
   ],
   "source": [
    "# Columns we want to check for outliers\n",
    "columns_with_outliers = ['Household Income',\n",
    "                        'Longest trip in the last 12 months',\n",
    "                        'Number of trips over 200 miles in the last 12 months',\n",
    "                        'One-way commute distance',\n",
    "                        'Number of people in the household',\n",
    "                        'Age',\n",
    "                        'Number of vehicles in the household',\n",
    "                        'Annual VMT Estimate']\n",
    "\n",
    "# Iterating through these columns and dispalying the column name and its respective mean value\n",
    "for i in columns_with_outliers:\n",
    "    print(f'COLUMN: \"{i}\" ..... MEAN: {round(fcv_df[i].mean(), 2)}' )\n",
    "    \n",
    "# Printing the total number of rows in the fcv dataframe\n",
    "print(f'\\n Total number of rows in the original fcv dataframe (without the null values): {len(fcv_df)}')"
   ]
  },
  {
   "cell_type": "markdown",
   "metadata": {},
   "source": [
    "A list of the means for their respective columns, as well as the total number of rows after removing any values with an absolute value that is greater than the z-score:"
   ]
  },
  {
   "cell_type": "code",
   "execution_count": 31,
   "metadata": {},
   "outputs": [
    {
     "name": "stdout",
     "output_type": "stream",
     "text": [
      "COLUMN: \"Household Income\" ..... MEAN: 195105.59 \n",
      "COLUMN: \"Longest trip in the last 12 months\" ..... MEAN: 322.73 \n",
      "COLUMN: \"Number of trips over 200 miles in the last 12 months\" ..... MEAN: 1.59 \n",
      "COLUMN: \"One-way commute distance\" ..... MEAN: 17.18 \n",
      "COLUMN: \"Number of people in the household\" ..... MEAN: 2.99 \n",
      "COLUMN: \"Age\" ..... MEAN: 47.62 \n",
      "COLUMN: \"Number of vehicles in the household\" ..... MEAN: 2.43 \n",
      "COLUMN: \"Annual VMT Estimate\" ..... MEAN: 11795.01 \n",
      "Total number of rows in the new fcv dataframe (without outliers): 3504\n"
     ]
    }
   ],
   "source": [
    "# Columns we want to check for outliers\n",
    "columns_with_outliers = ['Household Income',\n",
    "                        'Longest trip in the last 12 months',\n",
    "                        'Number of trips over 200 miles in the last 12 months',\n",
    "                        'One-way commute distance',\n",
    "                        'Number of people in the household',\n",
    "                        'Age',\n",
    "                        'Number of vehicles in the household',\n",
    "                        'Annual VMT Estimate']\n",
    "\n",
    "# Creating a new dataframe variable that does not contain values \n",
    "# beyond 2 standard deviations from the mean of each column\n",
    "fcv_df_no_outliers = fcv_df[(np.abs(stats.zscore(fcv_df[columns_with_outliers])) < 2).all(axis = 1)]\n",
    "\n",
    "# Fixing the fcv_df_no_outliers to get rid of the negative Annual VMT Estimate values\n",
    "fcv_df_no_outliers = fcv_df_no_outliers[fcv_df_no_outliers[\"Annual VMT Estimate\"] > 0] \n",
    "\n",
    "# Fixing the fcv_df_no_outliers to get rid of the extremely large Number of trips over 200 miles in the last 12 months values\n",
    "fcv_df_no_outliers = fcv_df_no_outliers[fcv_df_no_outliers['Number of trips over 200 miles in the last 12 months'] < 50]\n",
    "\n",
    "# Iterating through the above columns and dispalying the column name and its respective mean value\n",
    "for i in columns_with_outliers:\n",
    "    print(f'COLUMN: \"{i}\" ..... MEAN: {round(fcv_df_no_outliers[i].mean(), 2)} ' )\n",
    "\n",
    "print(f'Total number of rows in the new fcv dataframe (without outliers): {len(fcv_df_no_outliers)}')"
   ]
  },
  {
   "cell_type": "markdown",
   "metadata": {},
   "source": [
    "After removing the values that are beyond our z-score and filtering out values from the 'Annual VMT Estimate' and 'Number of trips over 200 miles in the last 12 months' columns, we see that we have reduced our dataframe from 4,709 rows to 3,504 rows.  The most notable observations to be made are apparent in the 'Household Income' and 'Number of trips over 200 miles in the last 12 months' columns, where the means are substantially smaller than they were before we reduced the dataframe."
   ]
  },
  {
   "cell_type": "markdown",
   "metadata": {},
   "source": [
    "## Boxplots after removing the outliers"
   ]
  },
  {
   "cell_type": "code",
   "execution_count": 32,
   "metadata": {
    "scrolled": false
   },
   "outputs": [
    {
     "data": {
      "image/png": "[encoded data removed]",
      "text/plain": [
       "<Figure size 1000x1300 with 4 Axes>"
      ]
     },
     "metadata": {},
     "output_type": "display_data"
    }
   ],
   "source": [
    "fig, axs = plt.subplots(2,2,figsize=(10, 13))\n",
    "\n",
    "axs[0,0].boxplot(fcv_df_no_outliers['Longest trip in the last 12 months'])\n",
    "axs[0,0].set_title('Longest trip in the last 12 months')\n",
    "\n",
    "axs[0,1].boxplot(fcv_df_no_outliers['Number of trips over 200 miles in the last 12 months'])\n",
    "axs[0,1].set_title('Number of trips over 200 miles in the last 12 months')\n",
    "\n",
    "axs[1,0].boxplot(fcv_df_no_outliers['One-way commute distance'])\n",
    "axs[1,0].set_title('One-way commute distance')\n",
    "\n",
    "axs[1,1].boxplot(fcv_df_no_outliers['Annual VMT Estimate'])\n",
    "axs[1,1].set_title('Annual VMT Estimate')\n",
    "\n",
    "plt.show()"
   ]
  },
  {
   "cell_type": "markdown",
   "metadata": {
    "id": "S7CMbCwL_bwG"
   },
   "source": [
    "#### Observations: "
   ]
  },
  {
   "cell_type": "raw",
   "metadata": {
    "id": "S2bPFIk9_bwG"
   },
   "source": []
  },
  {
   "cell_type": "markdown",
   "metadata": {
    "id": "pTzCIQOb_bwG"
   },
   "source": [
    "### Scatterplots "
   ]
  },
  {
   "cell_type": "code",
   "execution_count": 33,
   "metadata": {
    "id": "CNHLuzOD_bwG",
    "scrolled": false
   },
   "outputs": [],
   "source": [
    "#plt.scatter(x = 'Glucose', y = 'Insulin', data = pima)\n",
    "#plt.show()"
   ]
  },
  {
   "cell_type": "markdown",
   "metadata": {
    "id": "1AhKhAbf_bwG"
   },
   "source": [
    "#### Observations:"
   ]
  },
  {
   "cell_type": "raw",
   "metadata": {
    "id": "YScevRlr_bwG"
   },
   "source": []
  },
  {
   "cell_type": "markdown",
   "metadata": {
    "id": "NzGHKjXv_bwG"
   },
   "source": [
    "### Boxplots for Variables\n",
    "Check the distribution and outliers for each column in the data.**"
   ]
  },
  {
   "cell_type": "code",
   "execution_count": 34,
   "metadata": {
    "id": "zmWjERJM_bwH"
   },
   "outputs": [],
   "source": [
    "#plt.boxplot(pima['Age'])\n",
    "#plt.title('Boxplot of Age')\n",
    "#plt.ylabel('Age')\n",
    "#plt.show()"
   ]
  },
  {
   "cell_type": "markdown",
   "metadata": {
    "id": "Vm5bRpLz_bwH"
   },
   "source": [
    "#### Observations:\n"
   ]
  },
  {
   "cell_type": "raw",
   "metadata": {
    "id": "ID7pFghO_bwH"
   },
   "source": []
  },
  {
   "cell_type": "markdown",
   "metadata": {
    "id": "M6A_z8kr_bwH"
   },
   "source": [
    "### Histograms"
   ]
  },
  {
   "cell_type": "code",
   "execution_count": 35,
   "metadata": {
    "id": "5DpqaiXH_bwH"
   },
   "outputs": [],
   "source": [
    "#plt.hist(pima[pima['Outcome'] == 1]['Age'], bins = 5)\n",
    "#plt.title('Distribution of Age for Women who has Diabetes')\n",
    "#plt.xlabel('Age')\n",
    "#plt.ylabel('Frequency')\n",
    "#plt.show()"
   ]
  },
  {
   "cell_type": "markdown",
   "metadata": {
    "id": "InfhuW8o_bwH"
   },
   "source": [
    "#### Observations:"
   ]
  },
  {
   "cell_type": "raw",
   "metadata": {
    "id": "D6iAgeF-_bwI"
   },
   "source": [
    " "
   ]
  },
  {
   "cell_type": "markdown",
   "metadata": {
    "id": "EpTEjZ-q_bwI"
   },
   "source": [
    "### The interquartile range of all the variables"
   ]
  },
  {
   "cell_type": "code",
   "execution_count": 36,
   "metadata": {
    "id": "JVOqHx1W_bwI"
   },
   "outputs": [],
   "source": [
    "#Q1 = df.quantile(0.25)\n",
    "#Q3 = df.quantile(0.75)\n",
    "#IQR = Q3 - Q1\n",
    "#print(IQR)"
   ]
  },
  {
   "cell_type": "markdown",
   "metadata": {
    "id": "WWtc2nex_bwI"
   },
   "source": [
    "#### Observations: "
   ]
  },
  {
   "cell_type": "markdown",
   "metadata": {
    "id": "2vLWPyd-_bwI"
   },
   "source": [
    "## Export of File to CSV for database"
   ]
  },
  {
   "cell_type": "code",
   "execution_count": 37,
   "metadata": {},
   "outputs": [],
   "source": [
    "fcv_df_no_outliers.to_csv('FCV_Dataset.csv')"
   ]
  },
  {
   "cell_type": "markdown",
   "metadata": {
    "id": "KjldKKMs_bwI"
   },
   "source": [
    "### Visualize the Correlation Matrix.\n",
    "\n",
    "* Correlation is a statistic that measures the degree to which two variables move in relation to each other. A positive correlation indicates\n",
    "* the extent to which those variables increase or decrease in parallel; a negative correlation indicates the extent to which one variable\n",
    "* increases as the other decreases. Correction among multiple variables can be represented in the form of a matrix. This allows us to see which pairs have the high correlations.\n",
    "* correlation Correlation is a mutual relationship or connection between two or more things. It takes a value between (+1) and (-1)\n",
    "* The correlation between two independent events is zero, two events with zero correlations may not be independent."
   ]
  },
  {
   "cell_type": "code",
   "execution_count": 38,
   "metadata": {
    "id": "Ju8Gymxw_bwJ",
    "scrolled": true
   },
   "outputs": [],
   "source": [
    "#plt.figure(figsize = (8, 8))\n",
    "#sns.heatmap(corr_matrix, annot = True)\n",
    "\n",
    "# Display the plot\n",
    "#plt.show()"
   ]
  },
  {
   "cell_type": "markdown",
   "metadata": {
    "id": "Woaq6vqT_bwJ"
   },
   "source": [
    "#### Observations: \n"
   ]
  },
  {
   "cell_type": "raw",
   "metadata": {
    "id": "m3AKvSrM_bwJ"
   },
   "source": []
  },
  {
   "cell_type": "markdown",
   "metadata": {},
   "source": [
    "## Data Preprocessing for Modeling\n",
    "\n",
    "* Renaming Columns\n",
    "* Scaling/Normalizing\n",
    "* Dropping unnecessary columns\n",
    "* Hot encoding\n",
    "* Imputing missing values with mode/median for columns\n",
    "* Converting data types\n",
    "* Format data types\n",
    "* Apply get_dummies on the dataframe data"
   ]
  },
  {
   "cell_type": "code",
   "execution_count": null,
   "metadata": {},
   "outputs": [],
   "source": []
  },
  {
   "cell_type": "markdown",
   "metadata": {},
   "source": [
    "## Predictive Analysis/Building Models"
   ]
  },
  {
   "cell_type": "markdown",
   "metadata": {},
   "source": [
    "### **Checking the below linear regression assumptions**\n",
    "\n",
    "1. **Mean of residuals should be 0**\n",
    "2. **No Heteroscedasticity**\n",
    "3. **Linearity of variables**\n",
    "4. **Normality of error terms**"
   ]
  },
  {
   "cell_type": "code",
   "execution_count": null,
   "metadata": {},
   "outputs": [],
   "source": []
  },
  {
   "cell_type": "markdown",
   "metadata": {},
   "source": [
    "## **Actionable Insights and Business Recommendations**"
   ]
  },
  {
   "cell_type": "code",
   "execution_count": null,
   "metadata": {},
   "outputs": [],
   "source": []
  }
 ],
 "metadata": {
  "colab": {
   "collapsed_sections": [
    "5_7DfrKa_bv_",
    "V5duvKqA_bv_",
    "oILSLGBL_bwA",
    "DyG29Cqz_bwA",
    "OqnMczju_bwB",
    "wHYJkmek_bwB",
    "CpcpowUT_bwC",
    "RmTpaojz_bwC",
    "-aYGSoyf_bwC",
    "3gO4yNoS_bwD",
    "tFmj2sAi_bwD",
    "H82v-Oiq_bwD",
    "JiUByWjP_bwE",
    "0xN_VJOl_bwE",
    "F381SOUJ_bwE",
    "zQgUfx28_bwE",
    "zNopQzBy_bwF",
    "TUFPGMGX_bwF",
    "KgU-UehX_bwF",
    "O8KX8Nva_bwF",
    "S7CMbCwL_bwG",
    "pTzCIQOb_bwG",
    "1AhKhAbf_bwG",
    "NzGHKjXv_bwG",
    "Vm5bRpLz_bwH",
    "M6A_z8kr_bwH",
    "InfhuW8o_bwH",
    "EpTEjZ-q_bwI",
    "WWtc2nex_bwI",
    "KjldKKMs_bwI",
    "Woaq6vqT_bwJ"
   ],
   "name": "MIT_FDS_Project_Diabetes_Analysis_Questions-1.ipynb",
   "provenance": []
  },
  "kernelspec": {
   "display_name": "PythonData",
   "language": "python",
   "name": "pythondata"
  },
  "language_info": {
   "codemirror_mode": {
    "name": "ipython",
    "version": 3
   },
   "file_extension": ".py",
   "mimetype": "text/x-python",
   "name": "python",
   "nbconvert_exporter": "python",
   "pygments_lexer": "ipython3",
   "version": "3.7.13"
  },
  "toc": {
   "base_numbering": 1,
   "nav_menu": {},
   "number_sections": true,
   "sideBar": true,
   "skip_h1_title": false,
   "title_cell": "Table of Contents",
   "title_sidebar": "Contents",
   "toc_cell": false,
   "toc_position": {},
   "toc_section_display": true,
   "toc_window_display": false
  },
  "varInspector": {
   "cols": {
    "lenName": 16,
    "lenType": 16,
    "lenVar": 40
   },
   "kernels_config": {
    "python": {
     "delete_cmd_postfix": "",
     "delete_cmd_prefix": "del ",
     "library": "var_list.py",
     "varRefreshCmd": "print(var_dic_list())"
    },
    "r": {
     "delete_cmd_postfix": ") ",
     "delete_cmd_prefix": "rm(",
     "library": "var_list.r",
     "varRefreshCmd": "cat(var_dic_list()) "
    }
   },
   "types_to_exclude": [
    "module",
    "function",
    "builtin_function_or_method",
    "instance",
    "_Feature"
   ],
   "window_display": false
  }
 },
 "nbformat": 4,
 "nbformat_minor": 1
}
