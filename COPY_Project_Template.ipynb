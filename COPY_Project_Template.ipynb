{
 "cells": [
  {
   "cell_type": "markdown",
   "metadata": {
    "id": "BL_LfsVn_bv1"
   },
   "source": [
    "# Final Project - Maintaining EV customers\n",
    "\n",
    "---------------\n",
    "## Context\n",
    "---------------\n",
    "This dataset presents results from a survey of FCV and BEV and compared the sociodeographic profile of FCV buyers vs BEV Households.  \n",
    "\n",
    "\n",
    "-----------------\n",
    "## Objective\n",
    "-----------------\n",
    "Based on the data we want to identify Current FCV & BEV Owners Demographics and see if there are any major differences between the two car owners.  \n",
    "\n",
    "For our ML model we will attempt to predict based on the information if we can identify the customer as a FCV or BEV owner.  \n",
    "\n",
    "-------------------------\n",
    "## Data Dictionary\n",
    "-------------------------\n",
    "\n",
    "The dataset has the following information:\n",
    "- When the customer submitted their data\n",
    "- If they Previously Owned a PHEV, BEV, HEV, CNG\n",
    "- Household Income\n",
    "- Importance of Reducing Greenhouse Emissions\n",
    "- Demographics of the customer current car (year, manufacture, model)\n",
    "- Demographics on the customer's (home type, ownership of home,  education, gender, age, # of people in household)\n",
    "- Demographics on customers car usage (longest trip, number of trips over 200 miles, one way commute distance, annual VMT vehicle miles traveled)\n",
    "- If the customer is currently a FCV or BEV Current Owner\n",
    "\n",
    "\n",
    "#### Acronyms used\n",
    "- BEV: Battery Electric Vehicle\n",
    "- FCV: Fuel Cell Vehicle (Hydrogen fuel cell vehicle)\n",
    "- PHEV: Plug-in hybrid electric vehicle\n",
    "- CNG: Compressed Natural Gas (everyday car)"
   ]
  },
  {
   "cell_type": "markdown",
   "metadata": {
    "id": "vVR3oeVo_bv5"
   },
   "source": [
    "### Import the necessary libraries or dependencies"
   ]
  },
  {
   "cell_type": "code",
   "execution_count": 301,
   "metadata": {
    "id": "sQPI1Bzz_bv5"
   },
   "outputs": [],
   "source": [
    "#Import Dependencies\n",
    "import pandas as pd\n",
    "import matplotlib.pyplot as plt\n",
    "import seaborn as sns\n",
    "import numpy as np"
   ]
  },
  {
   "cell_type": "markdown",
   "metadata": {
    "id": "8WpI8LC7_bv7"
   },
   "source": [
    "###  Read the Dataset "
   ]
  },
  {
   "cell_type": "code",
   "execution_count": 302,
   "metadata": {
    "id": "OTzXe_vA_bv7"
   },
   "outputs": [],
   "source": [
    "#Import File\n",
    "fcv_df = pd.read_excel('FCV&EVMT Data_6.18.19.xlsx')"
   ]
  },
  {
   "cell_type": "markdown",
   "metadata": {},
   "source": [
    "## Descriptive Analysis/EDA\n",
    "\n",
    "1. Check dimensions of the dataframe in terms of rows and columns\n",
    "2. Check data types. Ensure your data types are correct. Refer data definitions to validate\n",
    "3. If data types are not as per business definition, change the data types as per requirement\n",
    "4. Study summary statistics\n",
    "5. Check for missing values\n",
    "6. Study correlation\n",
    "7. Detect outliers"
   ]
  },
  {
   "cell_type": "markdown",
   "metadata": {
    "id": "H3SziaVY_bv8"
   },
   "source": [
    "### Examine Dataset "
   ]
  },
  {
   "cell_type": "code",
   "execution_count": 303,
   "metadata": {
    "scrolled": false
   },
   "outputs": [
    {
     "data": {
      "text/html": [
       "<div>\n",
       "<style scoped>\n",
       "    .dataframe tbody tr th:only-of-type {\n",
       "        vertical-align: middle;\n",
       "    }\n",
       "\n",
       "    .dataframe tbody tr th {\n",
       "        vertical-align: top;\n",
       "    }\n",
       "\n",
       "    .dataframe thead th {\n",
       "        text-align: right;\n",
       "    }\n",
       "</style>\n",
       "<table border=\"1\" class=\"dataframe\">\n",
       "  <thead>\n",
       "    <tr style=\"text-align: right;\">\n",
       "      <th></th>\n",
       "      <th>id. Response ID</th>\n",
       "      <th>submitdate. Date submitted</th>\n",
       "      <th>Month Year[subm...Date submitted]</th>\n",
       "      <th>Month[Month Yea...ate submitted]]</th>\n",
       "      <th>Year[Month Year...ate submitted]]</th>\n",
       "      <th>lastpage. Last page</th>\n",
       "      <th>Carmain</th>\n",
       "      <th>Previous PHEVs</th>\n",
       "      <th>Previous BEVs</th>\n",
       "      <th>Previous HEVs</th>\n",
       "      <th>...</th>\n",
       "      <th>Highest Level of Education</th>\n",
       "      <th>Longest trip in the last 12 months</th>\n",
       "      <th>Number of trips over 200 miles in the last 12 months</th>\n",
       "      <th>One-way commute distance</th>\n",
       "      <th>Number of people in the household</th>\n",
       "      <th>Age</th>\n",
       "      <th>Gender (Male 1)</th>\n",
       "      <th>Number of vehicles in the household</th>\n",
       "      <th>Annual VMT Estimate</th>\n",
       "      <th>FCV, BEV Dummy</th>\n",
       "    </tr>\n",
       "  </thead>\n",
       "  <tbody>\n",
       "    <tr>\n",
       "      <th>0</th>\n",
       "      <td>FCV_1_3</td>\n",
       "      <td>2017/06/02 11:30:57</td>\n",
       "      <td>06/2017</td>\n",
       "      <td>6.0</td>\n",
       "      <td>2017.0</td>\n",
       "      <td>42.0</td>\n",
       "      <td>2016 Toyota Mirai</td>\n",
       "      <td>1.0</td>\n",
       "      <td>0.0</td>\n",
       "      <td>0.0</td>\n",
       "      <td>...</td>\n",
       "      <td>3.0</td>\n",
       "      <td>483.14</td>\n",
       "      <td>0.0</td>\n",
       "      <td>0.01</td>\n",
       "      <td>2.0</td>\n",
       "      <td>65.0</td>\n",
       "      <td>0.0</td>\n",
       "      <td>2</td>\n",
       "      <td>14622.000000</td>\n",
       "      <td>0.0</td>\n",
       "    </tr>\n",
       "    <tr>\n",
       "      <th>1</th>\n",
       "      <td>FCV_1_4</td>\n",
       "      <td>2017/06/02 11:15:39</td>\n",
       "      <td>06/2017</td>\n",
       "      <td>6.0</td>\n",
       "      <td>2017.0</td>\n",
       "      <td>42.0</td>\n",
       "      <td>2016 Toyota Mirai</td>\n",
       "      <td>0.0</td>\n",
       "      <td>0.0</td>\n",
       "      <td>1.0</td>\n",
       "      <td>...</td>\n",
       "      <td>4.0</td>\n",
       "      <td>568.09</td>\n",
       "      <td>1.0</td>\n",
       "      <td>10.69</td>\n",
       "      <td>3.0</td>\n",
       "      <td>65.0</td>\n",
       "      <td>0.0</td>\n",
       "      <td>3</td>\n",
       "      <td>9197.142857</td>\n",
       "      <td>0.0</td>\n",
       "    </tr>\n",
       "    <tr>\n",
       "      <th>2</th>\n",
       "      <td>FCV_1_2</td>\n",
       "      <td>2017/06/02 10:51:59</td>\n",
       "      <td>06/2017</td>\n",
       "      <td>6.0</td>\n",
       "      <td>2017.0</td>\n",
       "      <td>42.0</td>\n",
       "      <td>2016 Toyota Mirai</td>\n",
       "      <td>1.0</td>\n",
       "      <td>1.0</td>\n",
       "      <td>0.0</td>\n",
       "      <td>...</td>\n",
       "      <td>4.0</td>\n",
       "      <td>398.57</td>\n",
       "      <td>0.0</td>\n",
       "      <td>9.39</td>\n",
       "      <td>5.0</td>\n",
       "      <td>55.0</td>\n",
       "      <td>1.0</td>\n",
       "      <td>4</td>\n",
       "      <td>15360.000000</td>\n",
       "      <td>0.0</td>\n",
       "    </tr>\n",
       "    <tr>\n",
       "      <th>3</th>\n",
       "      <td>FCV_1_5</td>\n",
       "      <td>NaN</td>\n",
       "      <td>NaN</td>\n",
       "      <td>NaN</td>\n",
       "      <td>NaN</td>\n",
       "      <td>NaN</td>\n",
       "      <td>NaN</td>\n",
       "      <td>NaN</td>\n",
       "      <td>NaN</td>\n",
       "      <td>NaN</td>\n",
       "      <td>...</td>\n",
       "      <td>NaN</td>\n",
       "      <td>NaN</td>\n",
       "      <td>NaN</td>\n",
       "      <td>NaN</td>\n",
       "      <td>NaN</td>\n",
       "      <td>NaN</td>\n",
       "      <td>NaN</td>\n",
       "      <td>1</td>\n",
       "      <td>NaN</td>\n",
       "      <td>NaN</td>\n",
       "    </tr>\n",
       "    <tr>\n",
       "      <th>4</th>\n",
       "      <td>FCV_1_15</td>\n",
       "      <td>2017/06/02 19:35:59</td>\n",
       "      <td>06/2017</td>\n",
       "      <td>6.0</td>\n",
       "      <td>2017.0</td>\n",
       "      <td>42.0</td>\n",
       "      <td>2017 Toyota Mirai</td>\n",
       "      <td>1.0</td>\n",
       "      <td>0.0</td>\n",
       "      <td>0.0</td>\n",
       "      <td>...</td>\n",
       "      <td>2.0</td>\n",
       "      <td>255.16</td>\n",
       "      <td>0.0</td>\n",
       "      <td>17.63</td>\n",
       "      <td>2.0</td>\n",
       "      <td>55.0</td>\n",
       "      <td>0.0</td>\n",
       "      <td>3</td>\n",
       "      <td>5082.352941</td>\n",
       "      <td>0.0</td>\n",
       "    </tr>\n",
       "  </tbody>\n",
       "</table>\n",
       "<p>5 rows × 25 columns</p>\n",
       "</div>"
      ],
      "text/plain": [
       "  id. Response ID submitdate. Date submitted  \\\n",
       "0         FCV_1_3        2017/06/02 11:30:57   \n",
       "1         FCV_1_4        2017/06/02 11:15:39   \n",
       "2         FCV_1_2        2017/06/02 10:51:59   \n",
       "3         FCV_1_5                        NaN   \n",
       "4        FCV_1_15        2017/06/02 19:35:59   \n",
       "\n",
       "  Month Year[subm...Date submitted]  Month[Month Yea...ate submitted]]  \\\n",
       "0                           06/2017                                6.0   \n",
       "1                           06/2017                                6.0   \n",
       "2                           06/2017                                6.0   \n",
       "3                               NaN                                NaN   \n",
       "4                           06/2017                                6.0   \n",
       "\n",
       "   Year[Month Year...ate submitted]]  lastpage. Last page            Carmain  \\\n",
       "0                             2017.0                 42.0  2016 Toyota Mirai   \n",
       "1                             2017.0                 42.0  2016 Toyota Mirai   \n",
       "2                             2017.0                 42.0  2016 Toyota Mirai   \n",
       "3                                NaN                  NaN                NaN   \n",
       "4                             2017.0                 42.0  2017 Toyota Mirai   \n",
       "\n",
       "   Previous PHEVs  Previous BEVs  Previous HEVs  ...  \\\n",
       "0             1.0            0.0            0.0  ...   \n",
       "1             0.0            0.0            1.0  ...   \n",
       "2             1.0            1.0            0.0  ...   \n",
       "3             NaN            NaN            NaN  ...   \n",
       "4             1.0            0.0            0.0  ...   \n",
       "\n",
       "   Highest Level of Education  Longest trip in the last 12 months  \\\n",
       "0                         3.0                              483.14   \n",
       "1                         4.0                              568.09   \n",
       "2                         4.0                              398.57   \n",
       "3                         NaN                                 NaN   \n",
       "4                         2.0                              255.16   \n",
       "\n",
       "   Number of trips over 200 miles in the last 12 months  \\\n",
       "0                                                0.0      \n",
       "1                                                1.0      \n",
       "2                                                0.0      \n",
       "3                                                NaN      \n",
       "4                                                0.0      \n",
       "\n",
       "   One-way commute distance  Number of people in the household   Age  \\\n",
       "0                      0.01                                2.0  65.0   \n",
       "1                     10.69                                3.0  65.0   \n",
       "2                      9.39                                5.0  55.0   \n",
       "3                       NaN                                NaN   NaN   \n",
       "4                     17.63                                2.0  55.0   \n",
       "\n",
       "   Gender (Male 1)  Number of vehicles in the household  Annual VMT Estimate   \\\n",
       "0              0.0                                    2          14622.000000   \n",
       "1              0.0                                    3           9197.142857   \n",
       "2              1.0                                    4          15360.000000   \n",
       "3              NaN                                    1                   NaN   \n",
       "4              0.0                                    3           5082.352941   \n",
       "\n",
       "   FCV, BEV Dummy  \n",
       "0             0.0  \n",
       "1             0.0  \n",
       "2             0.0  \n",
       "3             NaN  \n",
       "4             0.0  \n",
       "\n",
       "[5 rows x 25 columns]"
      ]
     },
     "execution_count": 303,
     "metadata": {},
     "output_type": "execute_result"
    }
   ],
   "source": [
    "fcv_df.head()"
   ]
  },
  {
   "cell_type": "markdown",
   "metadata": {
    "id": "OzzsF3Pg_bv-"
   },
   "source": [
    "### The dimension of the `data` dataframe. (shape, r x c)"
   ]
  },
  {
   "cell_type": "markdown",
   "metadata": {
    "id": "oILSLGBL_bwA"
   },
   "source": [
    "#### Observations: \n"
   ]
  },
  {
   "cell_type": "code",
   "execution_count": 304,
   "metadata": {
    "id": "zdtFn47Q_bwA"
   },
   "outputs": [
    {
     "data": {
      "text/plain": [
       "(27021, 25)"
      ]
     },
     "execution_count": 304,
     "metadata": {},
     "output_type": "execute_result"
    }
   ],
   "source": [
    "fcv_df.shape"
   ]
  },
  {
   "cell_type": "markdown",
   "metadata": {
    "id": "DyG29Cqz_bwA"
   },
   "source": [
    "### Data Types/Categorical vs. Numerical Columns"
   ]
  },
  {
   "cell_type": "code",
   "execution_count": 305,
   "metadata": {
    "scrolled": true
   },
   "outputs": [
    {
     "data": {
      "text/plain": [
       "id. Response ID                                                                     object\n",
       "submitdate. Date submitted                                                          object\n",
       "Month Year[subm...Date submitted]                                                   object\n",
       "Month[Month Yea...ate submitted]]                                                  float64\n",
       "Year[Month Year...ate submitted]]                                                  float64\n",
       "lastpage. Last page                                                                float64\n",
       "Carmain                                                                             object\n",
       "Previous PHEVs                                                                     float64\n",
       "Previous BEVs                                                                      float64\n",
       "Previous HEVs                                                                      float64\n",
       "Previous CNGs                                                                      float64\n",
       "Household Income                                                                   float64\n",
       "Importance of reducing greenhouse gas emissions (-3 not important, 3 important)    float64\n",
       "Home ownership (own 1)                                                             float64\n",
       "Home Type (detached 1)                                                             float64\n",
       "Highest Level of Education                                                         float64\n",
       "Longest trip in the last 12 months                                                 float64\n",
       "Number of trips over 200 miles in the last 12 months                               float64\n",
       "One-way commute distance                                                           float64\n",
       "Number of people in the household                                                  float64\n",
       "Age                                                                                float64\n",
       "Gender (Male 1)                                                                    float64\n",
       "Number of vehicles in the household                                                  int64\n",
       "Annual VMT Estimate                                                                float64\n",
       "FCV, BEV Dummy                                                                     float64\n",
       "dtype: object"
      ]
     },
     "execution_count": 305,
     "metadata": {},
     "output_type": "execute_result"
    }
   ],
   "source": [
    "fcv_df.dtypes"
   ]
  },
  {
   "cell_type": "markdown",
   "metadata": {
    "id": "OqnMczju_bwB"
   },
   "source": [
    "#### Observations:"
   ]
  },
  {
   "cell_type": "raw",
   "metadata": {
    "id": "RdARzto8_bwB"
   },
   "source": []
  },
  {
   "cell_type": "markdown",
   "metadata": {
    "id": "wHYJkmek_bwB"
   },
   "source": [
    "### Missing Values\n",
    "\n",
    "**If we encounter with missing data, what we can do:**\n",
    "\n",
    "* leave as is\n",
    "* drop them with dropna()\n",
    "* fill missing value with fillna()\n",
    "* fill missing values with test statistics like mean\n",
    "\n",
    "Mode Inputation\n",
    "* Mode imputation means replacing missing values by the mode, or the most frequent- category value.\n"
   ]
  },
  {
   "cell_type": "code",
   "execution_count": 306,
   "metadata": {},
   "outputs": [
    {
     "data": {
      "text/plain": [
       "id. Response ID                                                                        0\n",
       "submitdate. Date submitted                                                          6939\n",
       "Month Year[subm...Date submitted]                                                   6939\n",
       "Month[Month Yea...ate submitted]]                                                   6939\n",
       "Year[Month Year...ate submitted]]                                                   6939\n",
       "lastpage. Last page                                                                  996\n",
       "Carmain                                                                             1405\n",
       "Previous PHEVs                                                                     11077\n",
       "Previous BEVs                                                                      11077\n",
       "Previous HEVs                                                                      11077\n",
       "Previous CNGs                                                                      11077\n",
       "Household Income                                                                   10057\n",
       "Importance of reducing greenhouse gas emissions (-3 not important, 3 important)     8519\n",
       "Home ownership (own 1)                                                              8077\n",
       "Home Type (detached 1)                                                              8022\n",
       "Highest Level of Education                                                          8004\n",
       "Longest trip in the last 12 months                                                 14401\n",
       "Number of trips over 200 miles in the last 12 months                               11836\n",
       "One-way commute distance                                                            7485\n",
       "Number of people in the household                                                   5187\n",
       "Age                                                                                 5418\n",
       "Gender (Male 1)                                                                     5454\n",
       "Number of vehicles in the household                                                    0\n",
       "Annual VMT Estimate                                                                 8196\n",
       "FCV, BEV Dummy                                                                     12977\n",
       "dtype: int64"
      ]
     },
     "execution_count": 306,
     "metadata": {},
     "output_type": "execute_result"
    }
   ],
   "source": [
    "fcv_df.isnull().sum()"
   ]
  },
  {
   "cell_type": "markdown",
   "metadata": {
    "id": "CpcpowUT_bwC"
   },
   "source": [
    "#### Observations: "
   ]
  },
  {
   "cell_type": "markdown",
   "metadata": {
    "id": "RmTpaojz_bwC"
   },
   "source": [
    "### Summary Statistics"
   ]
  },
  {
   "cell_type": "code",
   "execution_count": 307,
   "metadata": {},
   "outputs": [
    {
     "data": {
      "text/html": [
       "<div>\n",
       "<style scoped>\n",
       "    .dataframe tbody tr th:only-of-type {\n",
       "        vertical-align: middle;\n",
       "    }\n",
       "\n",
       "    .dataframe tbody tr th {\n",
       "        vertical-align: top;\n",
       "    }\n",
       "\n",
       "    .dataframe thead th {\n",
       "        text-align: right;\n",
       "    }\n",
       "</style>\n",
       "<table border=\"1\" class=\"dataframe\">\n",
       "  <thead>\n",
       "    <tr style=\"text-align: right;\">\n",
       "      <th></th>\n",
       "      <th>Month[Month Yea...ate submitted]]</th>\n",
       "      <th>Year[Month Year...ate submitted]]</th>\n",
       "      <th>lastpage. Last page</th>\n",
       "      <th>Previous PHEVs</th>\n",
       "      <th>Previous BEVs</th>\n",
       "      <th>Previous HEVs</th>\n",
       "      <th>Previous CNGs</th>\n",
       "      <th>Household Income</th>\n",
       "      <th>Importance of reducing greenhouse gas emissions (-3 not important, 3 important)</th>\n",
       "      <th>Home ownership (own 1)</th>\n",
       "      <th>...</th>\n",
       "      <th>Highest Level of Education</th>\n",
       "      <th>Longest trip in the last 12 months</th>\n",
       "      <th>Number of trips over 200 miles in the last 12 months</th>\n",
       "      <th>One-way commute distance</th>\n",
       "      <th>Number of people in the household</th>\n",
       "      <th>Age</th>\n",
       "      <th>Gender (Male 1)</th>\n",
       "      <th>Number of vehicles in the household</th>\n",
       "      <th>Annual VMT Estimate</th>\n",
       "      <th>FCV, BEV Dummy</th>\n",
       "    </tr>\n",
       "  </thead>\n",
       "  <tbody>\n",
       "    <tr>\n",
       "      <th>count</th>\n",
       "      <td>20082.000000</td>\n",
       "      <td>20082.000000</td>\n",
       "      <td>26025.000000</td>\n",
       "      <td>15944.000000</td>\n",
       "      <td>15944.000000</td>\n",
       "      <td>15944.000000</td>\n",
       "      <td>15944.000000</td>\n",
       "      <td>16964.000000</td>\n",
       "      <td>18502.000000</td>\n",
       "      <td>18944.000000</td>\n",
       "      <td>...</td>\n",
       "      <td>19017.000000</td>\n",
       "      <td>12620.000000</td>\n",
       "      <td>1.518500e+04</td>\n",
       "      <td>19536.000000</td>\n",
       "      <td>21834.000000</td>\n",
       "      <td>21603.000000</td>\n",
       "      <td>21567.000000</td>\n",
       "      <td>27021.000000</td>\n",
       "      <td>1.882500e+04</td>\n",
       "      <td>14044.000000</td>\n",
       "    </tr>\n",
       "    <tr>\n",
       "      <th>mean</th>\n",
       "      <td>7.227169</td>\n",
       "      <td>2016.549995</td>\n",
       "      <td>37.354621</td>\n",
       "      <td>0.114714</td>\n",
       "      <td>0.128638</td>\n",
       "      <td>0.235575</td>\n",
       "      <td>0.004328</td>\n",
       "      <td>191924.074511</td>\n",
       "      <td>1.701342</td>\n",
       "      <td>0.845703</td>\n",
       "      <td>...</td>\n",
       "      <td>3.336909</td>\n",
       "      <td>373.786568</td>\n",
       "      <td>1.478094e+06</td>\n",
       "      <td>19.484645</td>\n",
       "      <td>2.846341</td>\n",
       "      <td>50.044994</td>\n",
       "      <td>0.263644</td>\n",
       "      <td>2.191074</td>\n",
       "      <td>1.298698e+04</td>\n",
       "      <td>0.934420</td>\n",
       "    </tr>\n",
       "    <tr>\n",
       "      <th>std</th>\n",
       "      <td>2.182451</td>\n",
       "      <td>1.142510</td>\n",
       "      <td>13.540183</td>\n",
       "      <td>0.318686</td>\n",
       "      <td>0.334809</td>\n",
       "      <td>0.424371</td>\n",
       "      <td>0.065644</td>\n",
       "      <td>109658.500036</td>\n",
       "      <td>1.638336</td>\n",
       "      <td>0.361243</td>\n",
       "      <td>...</td>\n",
       "      <td>0.701598</td>\n",
       "      <td>358.396789</td>\n",
       "      <td>1.803439e+08</td>\n",
       "      <td>44.501239</td>\n",
       "      <td>1.253612</td>\n",
       "      <td>13.427983</td>\n",
       "      <td>0.440618</td>\n",
       "      <td>1.013026</td>\n",
       "      <td>2.773889e+04</td>\n",
       "      <td>0.247555</td>\n",
       "    </tr>\n",
       "    <tr>\n",
       "      <th>min</th>\n",
       "      <td>4.000000</td>\n",
       "      <td>2015.000000</td>\n",
       "      <td>-1.000000</td>\n",
       "      <td>0.000000</td>\n",
       "      <td>0.000000</td>\n",
       "      <td>0.000000</td>\n",
       "      <td>0.000000</td>\n",
       "      <td>50000.000000</td>\n",
       "      <td>-3.000000</td>\n",
       "      <td>0.000000</td>\n",
       "      <td>...</td>\n",
       "      <td>1.000000</td>\n",
       "      <td>0.000000</td>\n",
       "      <td>0.000000e+00</td>\n",
       "      <td>0.000000</td>\n",
       "      <td>1.000000</td>\n",
       "      <td>18.000000</td>\n",
       "      <td>0.000000</td>\n",
       "      <td>1.000000</td>\n",
       "      <td>-2.400000e+05</td>\n",
       "      <td>0.000000</td>\n",
       "    </tr>\n",
       "    <tr>\n",
       "      <th>25%</th>\n",
       "      <td>5.000000</td>\n",
       "      <td>2015.000000</td>\n",
       "      <td>42.000000</td>\n",
       "      <td>0.000000</td>\n",
       "      <td>0.000000</td>\n",
       "      <td>0.000000</td>\n",
       "      <td>0.000000</td>\n",
       "      <td>125000.000000</td>\n",
       "      <td>1.160000</td>\n",
       "      <td>1.000000</td>\n",
       "      <td>...</td>\n",
       "      <td>3.000000</td>\n",
       "      <td>169.845000</td>\n",
       "      <td>0.000000e+00</td>\n",
       "      <td>6.320000</td>\n",
       "      <td>2.000000</td>\n",
       "      <td>35.000000</td>\n",
       "      <td>0.000000</td>\n",
       "      <td>1.000000</td>\n",
       "      <td>8.000000e+03</td>\n",
       "      <td>1.000000</td>\n",
       "    </tr>\n",
       "    <tr>\n",
       "      <th>50%</th>\n",
       "      <td>8.000000</td>\n",
       "      <td>2017.000000</td>\n",
       "      <td>43.000000</td>\n",
       "      <td>0.000000</td>\n",
       "      <td>0.000000</td>\n",
       "      <td>0.000000</td>\n",
       "      <td>0.000000</td>\n",
       "      <td>175000.000000</td>\n",
       "      <td>2.570000</td>\n",
       "      <td>1.000000</td>\n",
       "      <td>...</td>\n",
       "      <td>3.000000</td>\n",
       "      <td>313.885000</td>\n",
       "      <td>0.000000e+00</td>\n",
       "      <td>14.040000</td>\n",
       "      <td>3.000000</td>\n",
       "      <td>45.000000</td>\n",
       "      <td>0.000000</td>\n",
       "      <td>2.000000</td>\n",
       "      <td>1.122720e+04</td>\n",
       "      <td>1.000000</td>\n",
       "    </tr>\n",
       "    <tr>\n",
       "      <th>75%</th>\n",
       "      <td>9.000000</td>\n",
       "      <td>2018.000000</td>\n",
       "      <td>45.000000</td>\n",
       "      <td>0.000000</td>\n",
       "      <td>0.000000</td>\n",
       "      <td>0.000000</td>\n",
       "      <td>0.000000</td>\n",
       "      <td>225000.000000</td>\n",
       "      <td>2.770000</td>\n",
       "      <td>1.000000</td>\n",
       "      <td>...</td>\n",
       "      <td>4.000000</td>\n",
       "      <td>431.147500</td>\n",
       "      <td>3.000000e+00</td>\n",
       "      <td>24.620000</td>\n",
       "      <td>4.000000</td>\n",
       "      <td>55.000000</td>\n",
       "      <td>1.000000</td>\n",
       "      <td>3.000000</td>\n",
       "      <td>1.545247e+04</td>\n",
       "      <td>1.000000</td>\n",
       "    </tr>\n",
       "    <tr>\n",
       "      <th>max</th>\n",
       "      <td>12.000000</td>\n",
       "      <td>2018.000000</td>\n",
       "      <td>49.000000</td>\n",
       "      <td>1.000000</td>\n",
       "      <td>1.000000</td>\n",
       "      <td>1.000000</td>\n",
       "      <td>1.000000</td>\n",
       "      <td>500000.000000</td>\n",
       "      <td>3.000000</td>\n",
       "      <td>1.000000</td>\n",
       "      <td>...</td>\n",
       "      <td>4.000000</td>\n",
       "      <td>4865.700000</td>\n",
       "      <td>2.222222e+10</td>\n",
       "      <td>2449.170000</td>\n",
       "      <td>13.000000</td>\n",
       "      <td>80.000000</td>\n",
       "      <td>1.000000</td>\n",
       "      <td>5.000000</td>\n",
       "      <td>3.000000e+06</td>\n",
       "      <td>1.000000</td>\n",
       "    </tr>\n",
       "  </tbody>\n",
       "</table>\n",
       "<p>8 rows × 21 columns</p>\n",
       "</div>"
      ],
      "text/plain": [
       "       Month[Month Yea...ate submitted]]  Year[Month Year...ate submitted]]  \\\n",
       "count                       20082.000000                       20082.000000   \n",
       "mean                            7.227169                        2016.549995   \n",
       "std                             2.182451                           1.142510   \n",
       "min                             4.000000                        2015.000000   \n",
       "25%                             5.000000                        2015.000000   \n",
       "50%                             8.000000                        2017.000000   \n",
       "75%                             9.000000                        2018.000000   \n",
       "max                            12.000000                        2018.000000   \n",
       "\n",
       "       lastpage. Last page  Previous PHEVs  Previous BEVs  Previous HEVs  \\\n",
       "count         26025.000000    15944.000000   15944.000000   15944.000000   \n",
       "mean             37.354621        0.114714       0.128638       0.235575   \n",
       "std              13.540183        0.318686       0.334809       0.424371   \n",
       "min              -1.000000        0.000000       0.000000       0.000000   \n",
       "25%              42.000000        0.000000       0.000000       0.000000   \n",
       "50%              43.000000        0.000000       0.000000       0.000000   \n",
       "75%              45.000000        0.000000       0.000000       0.000000   \n",
       "max              49.000000        1.000000       1.000000       1.000000   \n",
       "\n",
       "       Previous CNGs  Household Income  \\\n",
       "count   15944.000000      16964.000000   \n",
       "mean        0.004328     191924.074511   \n",
       "std         0.065644     109658.500036   \n",
       "min         0.000000      50000.000000   \n",
       "25%         0.000000     125000.000000   \n",
       "50%         0.000000     175000.000000   \n",
       "75%         0.000000     225000.000000   \n",
       "max         1.000000     500000.000000   \n",
       "\n",
       "       Importance of reducing greenhouse gas emissions (-3 not important, 3 important)  \\\n",
       "count                                       18502.000000                                 \n",
       "mean                                            1.701342                                 \n",
       "std                                             1.638336                                 \n",
       "min                                            -3.000000                                 \n",
       "25%                                             1.160000                                 \n",
       "50%                                             2.570000                                 \n",
       "75%                                             2.770000                                 \n",
       "max                                             3.000000                                 \n",
       "\n",
       "       Home ownership (own 1)  ...  Highest Level of Education  \\\n",
       "count            18944.000000  ...                19017.000000   \n",
       "mean                 0.845703  ...                    3.336909   \n",
       "std                  0.361243  ...                    0.701598   \n",
       "min                  0.000000  ...                    1.000000   \n",
       "25%                  1.000000  ...                    3.000000   \n",
       "50%                  1.000000  ...                    3.000000   \n",
       "75%                  1.000000  ...                    4.000000   \n",
       "max                  1.000000  ...                    4.000000   \n",
       "\n",
       "       Longest trip in the last 12 months  \\\n",
       "count                        12620.000000   \n",
       "mean                           373.786568   \n",
       "std                            358.396789   \n",
       "min                              0.000000   \n",
       "25%                            169.845000   \n",
       "50%                            313.885000   \n",
       "75%                            431.147500   \n",
       "max                           4865.700000   \n",
       "\n",
       "       Number of trips over 200 miles in the last 12 months  \\\n",
       "count                                       1.518500e+04      \n",
       "mean                                        1.478094e+06      \n",
       "std                                         1.803439e+08      \n",
       "min                                         0.000000e+00      \n",
       "25%                                         0.000000e+00      \n",
       "50%                                         0.000000e+00      \n",
       "75%                                         3.000000e+00      \n",
       "max                                         2.222222e+10      \n",
       "\n",
       "       One-way commute distance  Number of people in the household  \\\n",
       "count              19536.000000                       21834.000000   \n",
       "mean                  19.484645                           2.846341   \n",
       "std                   44.501239                           1.253612   \n",
       "min                    0.000000                           1.000000   \n",
       "25%                    6.320000                           2.000000   \n",
       "50%                   14.040000                           3.000000   \n",
       "75%                   24.620000                           4.000000   \n",
       "max                 2449.170000                          13.000000   \n",
       "\n",
       "                Age  Gender (Male 1)  Number of vehicles in the household  \\\n",
       "count  21603.000000     21567.000000                         27021.000000   \n",
       "mean      50.044994         0.263644                             2.191074   \n",
       "std       13.427983         0.440618                             1.013026   \n",
       "min       18.000000         0.000000                             1.000000   \n",
       "25%       35.000000         0.000000                             1.000000   \n",
       "50%       45.000000         0.000000                             2.000000   \n",
       "75%       55.000000         1.000000                             3.000000   \n",
       "max       80.000000         1.000000                             5.000000   \n",
       "\n",
       "       Annual VMT Estimate   FCV, BEV Dummy  \n",
       "count          1.882500e+04    14044.000000  \n",
       "mean           1.298698e+04        0.934420  \n",
       "std            2.773889e+04        0.247555  \n",
       "min           -2.400000e+05        0.000000  \n",
       "25%            8.000000e+03        1.000000  \n",
       "50%            1.122720e+04        1.000000  \n",
       "75%            1.545247e+04        1.000000  \n",
       "max            3.000000e+06        1.000000  \n",
       "\n",
       "[8 rows x 21 columns]"
      ]
     },
     "execution_count": 307,
     "metadata": {},
     "output_type": "execute_result"
    }
   ],
   "source": [
    "fcv_df.describe()"
   ]
  },
  {
   "cell_type": "code",
   "execution_count": 308,
   "metadata": {},
   "outputs": [],
   "source": [
    "# Update Column Names\n",
    "fcv_df = fcv_df.rename(columns={'submitdate. Date submitted': 'Date Submitted',\n",
    "                                'Month Year[subm...Date submitted]':'Month/Year Submitted',\n",
    "                                'Month[Month Yea...ate submitted]]': 'Month Submitted',\n",
    "                                'Year[Month Year...ate submitted]]':'Year Submitted',\n",
    "                                'Annual VMT Estimate ': 'Annual VMT Estimate'})"
   ]
  },
  {
   "cell_type": "code",
   "execution_count": 309,
   "metadata": {},
   "outputs": [],
   "source": [
    "#Split Carmain into separate columns\n",
    "fcv_df[['Model Year', 'Manufacturer', 'Model']] = fcv_df['Carmain'].str.split(' ', n=2, expand=True)\n",
    "\n",
    "#Drop Carmain, & ID as not longer needed\n",
    "fcv_df = fcv_df.drop(columns=['Carmain','id. Response ID', 'Month/Year Submitted', 'lastpage. Last page'],axis=1)"
   ]
  },
  {
   "cell_type": "code",
   "execution_count": 310,
   "metadata": {},
   "outputs": [
    {
     "data": {
      "text/html": [
       "<div>\n",
       "<style scoped>\n",
       "    .dataframe tbody tr th:only-of-type {\n",
       "        vertical-align: middle;\n",
       "    }\n",
       "\n",
       "    .dataframe tbody tr th {\n",
       "        vertical-align: top;\n",
       "    }\n",
       "\n",
       "    .dataframe thead th {\n",
       "        text-align: right;\n",
       "    }\n",
       "</style>\n",
       "<table border=\"1\" class=\"dataframe\">\n",
       "  <thead>\n",
       "    <tr style=\"text-align: right;\">\n",
       "      <th></th>\n",
       "      <th>Date Submitted</th>\n",
       "      <th>Month Submitted</th>\n",
       "      <th>Year Submitted</th>\n",
       "      <th>Previous PHEVs</th>\n",
       "      <th>Previous BEVs</th>\n",
       "      <th>Previous HEVs</th>\n",
       "      <th>Previous CNGs</th>\n",
       "      <th>Household Income</th>\n",
       "      <th>Importance of reducing greenhouse gas emissions (-3 not important, 3 important)</th>\n",
       "      <th>Home ownership (own 1)</th>\n",
       "      <th>...</th>\n",
       "      <th>One-way commute distance</th>\n",
       "      <th>Number of people in the household</th>\n",
       "      <th>Age</th>\n",
       "      <th>Gender (Male 1)</th>\n",
       "      <th>Number of vehicles in the household</th>\n",
       "      <th>Annual VMT Estimate</th>\n",
       "      <th>FCV, BEV Dummy</th>\n",
       "      <th>Model Year</th>\n",
       "      <th>Manufacturer</th>\n",
       "      <th>Model</th>\n",
       "    </tr>\n",
       "  </thead>\n",
       "  <tbody>\n",
       "    <tr>\n",
       "      <th>0</th>\n",
       "      <td>2017/06/02 11:30:57</td>\n",
       "      <td>6.0</td>\n",
       "      <td>2017.0</td>\n",
       "      <td>1.0</td>\n",
       "      <td>0.0</td>\n",
       "      <td>0.0</td>\n",
       "      <td>0.0</td>\n",
       "      <td>275000.0</td>\n",
       "      <td>2.52</td>\n",
       "      <td>1.0</td>\n",
       "      <td>...</td>\n",
       "      <td>0.01</td>\n",
       "      <td>2.0</td>\n",
       "      <td>65.0</td>\n",
       "      <td>0.0</td>\n",
       "      <td>2</td>\n",
       "      <td>14622.0</td>\n",
       "      <td>0.0</td>\n",
       "      <td>2016</td>\n",
       "      <td>Toyota</td>\n",
       "      <td>Mirai</td>\n",
       "    </tr>\n",
       "  </tbody>\n",
       "</table>\n",
       "<p>1 rows × 24 columns</p>\n",
       "</div>"
      ],
      "text/plain": [
       "        Date Submitted  Month Submitted  Year Submitted  Previous PHEVs  \\\n",
       "0  2017/06/02 11:30:57              6.0          2017.0             1.0   \n",
       "\n",
       "   Previous BEVs  Previous HEVs  Previous CNGs  Household Income  \\\n",
       "0            0.0            0.0            0.0          275000.0   \n",
       "\n",
       "   Importance of reducing greenhouse gas emissions (-3 not important, 3 important)  \\\n",
       "0                                               2.52                                 \n",
       "\n",
       "   Home ownership (own 1)  ...  One-way commute distance  \\\n",
       "0                     1.0  ...                      0.01   \n",
       "\n",
       "   Number of people in the household   Age  Gender (Male 1)  \\\n",
       "0                                2.0  65.0              0.0   \n",
       "\n",
       "   Number of vehicles in the household  Annual VMT Estimate  FCV, BEV Dummy  \\\n",
       "0                                    2              14622.0             0.0   \n",
       "\n",
       "   Model Year  Manufacturer  Model  \n",
       "0        2016        Toyota  Mirai  \n",
       "\n",
       "[1 rows x 24 columns]"
      ]
     },
     "execution_count": 310,
     "metadata": {},
     "output_type": "execute_result"
    }
   ],
   "source": [
    "# Viewing the first row of the dataframe\n",
    "fcv_df.head(1)"
   ]
  },
  {
   "cell_type": "markdown",
   "metadata": {},
   "source": [
    "### Dropping null values"
   ]
  },
  {
   "cell_type": "code",
   "execution_count": 311,
   "metadata": {
    "scrolled": true
   },
   "outputs": [
    {
     "name": "stdout",
     "output_type": "stream",
     "text": [
      "<class 'pandas.core.frame.DataFrame'>\n",
      "Int64Index: 4709 entries, 0 to 19724\n",
      "Data columns (total 24 columns):\n",
      " #   Column                                                                           Non-Null Count  Dtype  \n",
      "---  ------                                                                           --------------  -----  \n",
      " 0   Date Submitted                                                                   4709 non-null   object \n",
      " 1   Month Submitted                                                                  4709 non-null   float64\n",
      " 2   Year Submitted                                                                   4709 non-null   float64\n",
      " 3   Previous PHEVs                                                                   4709 non-null   float64\n",
      " 4   Previous BEVs                                                                    4709 non-null   float64\n",
      " 5   Previous HEVs                                                                    4709 non-null   float64\n",
      " 6   Previous CNGs                                                                    4709 non-null   float64\n",
      " 7   Household Income                                                                 4709 non-null   float64\n",
      " 8   Importance of reducing greenhouse gas emissions (-3 not important, 3 important)  4709 non-null   float64\n",
      " 9   Home ownership (own 1)                                                           4709 non-null   float64\n",
      " 10  Home Type (detached 1)                                                           4709 non-null   float64\n",
      " 11  Highest Level of Education                                                       4709 non-null   float64\n",
      " 12  Longest trip in the last 12 months                                               4709 non-null   float64\n",
      " 13  Number of trips over 200 miles in the last 12 months                             4709 non-null   float64\n",
      " 14  One-way commute distance                                                         4709 non-null   float64\n",
      " 15  Number of people in the household                                                4709 non-null   float64\n",
      " 16  Age                                                                              4709 non-null   float64\n",
      " 17  Gender (Male 1)                                                                  4709 non-null   float64\n",
      " 18  Number of vehicles in the household                                              4709 non-null   int64  \n",
      " 19  Annual VMT Estimate                                                              4709 non-null   float64\n",
      " 20  FCV, BEV Dummy                                                                   4709 non-null   float64\n",
      " 21  Model Year                                                                       4709 non-null   object \n",
      " 22  Manufacturer                                                                     4709 non-null   object \n",
      " 23  Model                                                                            4709 non-null   object \n",
      "dtypes: float64(19), int64(1), object(4)\n",
      "memory usage: 919.7+ KB\n"
     ]
    }
   ],
   "source": [
    "fcv_df = fcv_df.dropna()\n",
    "fcv_df.info()"
   ]
  },
  {
   "cell_type": "markdown",
   "metadata": {
    "id": "y20K1lOx_bwC"
   },
   "source": [
    "### Converting the columns into the appropriate datatypes"
   ]
  },
  {
   "cell_type": "code",
   "execution_count": 312,
   "metadata": {},
   "outputs": [
    {
     "data": {
      "text/plain": [
       "Date Submitted                                                                      object\n",
       "Month Submitted                                                                    float64\n",
       "Year Submitted                                                                     float64\n",
       "Previous PHEVs                                                                     float64\n",
       "Previous BEVs                                                                      float64\n",
       "Previous HEVs                                                                      float64\n",
       "Previous CNGs                                                                      float64\n",
       "Household Income                                                                   float64\n",
       "Importance of reducing greenhouse gas emissions (-3 not important, 3 important)    float64\n",
       "Home ownership (own 1)                                                             float64\n",
       "Home Type (detached 1)                                                             float64\n",
       "Highest Level of Education                                                         float64\n",
       "Longest trip in the last 12 months                                                 float64\n",
       "Number of trips over 200 miles in the last 12 months                               float64\n",
       "One-way commute distance                                                           float64\n",
       "Number of people in the household                                                  float64\n",
       "Age                                                                                float64\n",
       "Gender (Male 1)                                                                    float64\n",
       "Number of vehicles in the household                                                  int64\n",
       "Annual VMT Estimate                                                                float64\n",
       "FCV, BEV Dummy                                                                     float64\n",
       "Model Year                                                                          object\n",
       "Manufacturer                                                                        object\n",
       "Model                                                                               object\n",
       "dtype: object"
      ]
     },
     "execution_count": 312,
     "metadata": {},
     "output_type": "execute_result"
    }
   ],
   "source": [
    "# Viewing the original datatypes of the columns\n",
    "fcv_df.dtypes"
   ]
  },
  {
   "cell_type": "code",
   "execution_count": 313,
   "metadata": {
    "scrolled": true
   },
   "outputs": [],
   "source": [
    "# Changing the datatypes\n",
    "fcv_df['Date Submitted'] = pd.to_datetime(fcv_df['Date Submitted'])\n",
    "\n",
    "fcv_df[['Age', \n",
    "        'Gender (Male 1)', \n",
    "        'Home ownership (own 1)', \n",
    "        'Home Type (detached 1)',\n",
    "        'Importance of reducing greenhouse gas emissions (-3 not important, 3 important)',\n",
    "        'Previous PHEVs', \n",
    "        'Previous BEVs', \n",
    "        'Previous HEVs', \n",
    "        'Previous CNGs',\n",
    "        'Month Submitted', \n",
    "        'Year Submitted', \n",
    "        'Number of people in the household', \n",
    "        'Highest Level of Education',\n",
    "        'Number of trips over 200 miles in the last 12 months']] = fcv_df[['Age', \n",
    "                                                                           'Gender (Male 1)', \n",
    "                                                                            'Home ownership (own 1)', \n",
    "                                                                            'Home Type (detached 1)',\n",
    "                                                                            'Importance of reducing greenhouse gas emissions (-3 not important, 3 important)',\n",
    "                                                                            'Previous PHEVs', \n",
    "                                                                            'Previous BEVs', \n",
    "                                                                            'Previous HEVs', \n",
    "                                                                            'Previous CNGs',\n",
    "                                                                            'Month Submitted', \n",
    "                                                                            'Year Submitted', \n",
    "                                                                            'Number of people in the household', \n",
    "                                                                            'Highest Level of Education',\n",
    "                                                                            'Number of trips over 200 miles in the last 12 months']].astype(int) \n"
   ]
  },
  {
   "cell_type": "code",
   "execution_count": 314,
   "metadata": {
    "scrolled": false
   },
   "outputs": [
    {
     "data": {
      "text/plain": [
       "Date Submitted                                                                     datetime64[ns]\n",
       "Month Submitted                                                                             int32\n",
       "Year Submitted                                                                              int32\n",
       "Previous PHEVs                                                                              int32\n",
       "Previous BEVs                                                                               int32\n",
       "Previous HEVs                                                                               int32\n",
       "Previous CNGs                                                                               int32\n",
       "Household Income                                                                          float64\n",
       "Importance of reducing greenhouse gas emissions (-3 not important, 3 important)             int32\n",
       "Home ownership (own 1)                                                                      int32\n",
       "Home Type (detached 1)                                                                      int32\n",
       "Highest Level of Education                                                                  int32\n",
       "Longest trip in the last 12 months                                                        float64\n",
       "Number of trips over 200 miles in the last 12 months                                        int32\n",
       "One-way commute distance                                                                  float64\n",
       "Number of people in the household                                                           int32\n",
       "Age                                                                                         int32\n",
       "Gender (Male 1)                                                                             int32\n",
       "Number of vehicles in the household                                                         int64\n",
       "Annual VMT Estimate                                                                       float64\n",
       "FCV, BEV Dummy                                                                            float64\n",
       "Model Year                                                                                 object\n",
       "Manufacturer                                                                               object\n",
       "Model                                                                                      object\n",
       "dtype: object"
      ]
     },
     "execution_count": 314,
     "metadata": {},
     "output_type": "execute_result"
    }
   ],
   "source": [
    "# Viewing the new datatypes\n",
    "fcv_df.dtypes"
   ]
  },
  {
   "cell_type": "code",
   "execution_count": 315,
   "metadata": {
    "scrolled": false
   },
   "outputs": [
    {
     "data": {
      "text/html": [
       "<div>\n",
       "<style scoped>\n",
       "    .dataframe tbody tr th:only-of-type {\n",
       "        vertical-align: middle;\n",
       "    }\n",
       "\n",
       "    .dataframe tbody tr th {\n",
       "        vertical-align: top;\n",
       "    }\n",
       "\n",
       "    .dataframe thead th {\n",
       "        text-align: right;\n",
       "    }\n",
       "</style>\n",
       "<table border=\"1\" class=\"dataframe\">\n",
       "  <thead>\n",
       "    <tr style=\"text-align: right;\">\n",
       "      <th></th>\n",
       "      <th>Date Submitted</th>\n",
       "      <th>Month Submitted</th>\n",
       "      <th>Year Submitted</th>\n",
       "      <th>Previous PHEVs</th>\n",
       "      <th>Previous BEVs</th>\n",
       "      <th>Previous HEVs</th>\n",
       "      <th>Previous CNGs</th>\n",
       "      <th>Household Income</th>\n",
       "      <th>Importance of reducing greenhouse gas emissions (-3 not important, 3 important)</th>\n",
       "      <th>Home ownership (own 1)</th>\n",
       "      <th>...</th>\n",
       "      <th>One-way commute distance</th>\n",
       "      <th>Number of people in the household</th>\n",
       "      <th>Age</th>\n",
       "      <th>Gender (Male 1)</th>\n",
       "      <th>Number of vehicles in the household</th>\n",
       "      <th>Annual VMT Estimate</th>\n",
       "      <th>FCV, BEV Dummy</th>\n",
       "      <th>Model Year</th>\n",
       "      <th>Manufacturer</th>\n",
       "      <th>Model</th>\n",
       "    </tr>\n",
       "  </thead>\n",
       "  <tbody>\n",
       "    <tr>\n",
       "      <th>0</th>\n",
       "      <td>2017-06-02 11:30:57</td>\n",
       "      <td>6</td>\n",
       "      <td>2017</td>\n",
       "      <td>1</td>\n",
       "      <td>0</td>\n",
       "      <td>0</td>\n",
       "      <td>0</td>\n",
       "      <td>275000.0</td>\n",
       "      <td>2</td>\n",
       "      <td>1</td>\n",
       "      <td>...</td>\n",
       "      <td>0.01</td>\n",
       "      <td>2</td>\n",
       "      <td>65</td>\n",
       "      <td>0</td>\n",
       "      <td>2</td>\n",
       "      <td>14622.000000</td>\n",
       "      <td>0.0</td>\n",
       "      <td>2016</td>\n",
       "      <td>Toyota</td>\n",
       "      <td>Mirai</td>\n",
       "    </tr>\n",
       "    <tr>\n",
       "      <th>1</th>\n",
       "      <td>2017-06-02 11:15:39</td>\n",
       "      <td>6</td>\n",
       "      <td>2017</td>\n",
       "      <td>0</td>\n",
       "      <td>0</td>\n",
       "      <td>1</td>\n",
       "      <td>0</td>\n",
       "      <td>275000.0</td>\n",
       "      <td>2</td>\n",
       "      <td>1</td>\n",
       "      <td>...</td>\n",
       "      <td>10.69</td>\n",
       "      <td>3</td>\n",
       "      <td>65</td>\n",
       "      <td>0</td>\n",
       "      <td>3</td>\n",
       "      <td>9197.142857</td>\n",
       "      <td>0.0</td>\n",
       "      <td>2016</td>\n",
       "      <td>Toyota</td>\n",
       "      <td>Mirai</td>\n",
       "    </tr>\n",
       "    <tr>\n",
       "      <th>4</th>\n",
       "      <td>2017-06-02 19:35:59</td>\n",
       "      <td>6</td>\n",
       "      <td>2017</td>\n",
       "      <td>1</td>\n",
       "      <td>0</td>\n",
       "      <td>0</td>\n",
       "      <td>0</td>\n",
       "      <td>125000.0</td>\n",
       "      <td>2</td>\n",
       "      <td>1</td>\n",
       "      <td>...</td>\n",
       "      <td>17.63</td>\n",
       "      <td>2</td>\n",
       "      <td>55</td>\n",
       "      <td>0</td>\n",
       "      <td>3</td>\n",
       "      <td>5082.352941</td>\n",
       "      <td>0.0</td>\n",
       "      <td>2017</td>\n",
       "      <td>Toyota</td>\n",
       "      <td>Mirai</td>\n",
       "    </tr>\n",
       "    <tr>\n",
       "      <th>5</th>\n",
       "      <td>2017-06-06 12:11:14</td>\n",
       "      <td>6</td>\n",
       "      <td>2017</td>\n",
       "      <td>0</td>\n",
       "      <td>0</td>\n",
       "      <td>1</td>\n",
       "      <td>0</td>\n",
       "      <td>175000.0</td>\n",
       "      <td>1</td>\n",
       "      <td>1</td>\n",
       "      <td>...</td>\n",
       "      <td>3.53</td>\n",
       "      <td>2</td>\n",
       "      <td>75</td>\n",
       "      <td>0</td>\n",
       "      <td>2</td>\n",
       "      <td>13025.454545</td>\n",
       "      <td>0.0</td>\n",
       "      <td>2016</td>\n",
       "      <td>Toyota</td>\n",
       "      <td>Mirai</td>\n",
       "    </tr>\n",
       "    <tr>\n",
       "      <th>7</th>\n",
       "      <td>2017-06-02 15:57:08</td>\n",
       "      <td>6</td>\n",
       "      <td>2017</td>\n",
       "      <td>0</td>\n",
       "      <td>0</td>\n",
       "      <td>1</td>\n",
       "      <td>0</td>\n",
       "      <td>500000.0</td>\n",
       "      <td>1</td>\n",
       "      <td>1</td>\n",
       "      <td>...</td>\n",
       "      <td>28.05</td>\n",
       "      <td>3</td>\n",
       "      <td>45</td>\n",
       "      <td>0</td>\n",
       "      <td>3</td>\n",
       "      <td>18000.000000</td>\n",
       "      <td>0.0</td>\n",
       "      <td>2016</td>\n",
       "      <td>Toyota</td>\n",
       "      <td>Mirai</td>\n",
       "    </tr>\n",
       "  </tbody>\n",
       "</table>\n",
       "<p>5 rows × 24 columns</p>\n",
       "</div>"
      ],
      "text/plain": [
       "       Date Submitted  Month Submitted  Year Submitted  Previous PHEVs  \\\n",
       "0 2017-06-02 11:30:57                6            2017               1   \n",
       "1 2017-06-02 11:15:39                6            2017               0   \n",
       "4 2017-06-02 19:35:59                6            2017               1   \n",
       "5 2017-06-06 12:11:14                6            2017               0   \n",
       "7 2017-06-02 15:57:08                6            2017               0   \n",
       "\n",
       "   Previous BEVs  Previous HEVs  Previous CNGs  Household Income  \\\n",
       "0              0              0              0          275000.0   \n",
       "1              0              1              0          275000.0   \n",
       "4              0              0              0          125000.0   \n",
       "5              0              1              0          175000.0   \n",
       "7              0              1              0          500000.0   \n",
       "\n",
       "   Importance of reducing greenhouse gas emissions (-3 not important, 3 important)  \\\n",
       "0                                                  2                                 \n",
       "1                                                  2                                 \n",
       "4                                                  2                                 \n",
       "5                                                  1                                 \n",
       "7                                                  1                                 \n",
       "\n",
       "   Home ownership (own 1)  ...  One-way commute distance  \\\n",
       "0                       1  ...                      0.01   \n",
       "1                       1  ...                     10.69   \n",
       "4                       1  ...                     17.63   \n",
       "5                       1  ...                      3.53   \n",
       "7                       1  ...                     28.05   \n",
       "\n",
       "   Number of people in the household  Age  Gender (Male 1)  \\\n",
       "0                                  2   65                0   \n",
       "1                                  3   65                0   \n",
       "4                                  2   55                0   \n",
       "5                                  2   75                0   \n",
       "7                                  3   45                0   \n",
       "\n",
       "   Number of vehicles in the household  Annual VMT Estimate  FCV, BEV Dummy  \\\n",
       "0                                    2         14622.000000             0.0   \n",
       "1                                    3          9197.142857             0.0   \n",
       "4                                    3          5082.352941             0.0   \n",
       "5                                    2         13025.454545             0.0   \n",
       "7                                    3         18000.000000             0.0   \n",
       "\n",
       "   Model Year  Manufacturer  Model  \n",
       "0        2016        Toyota  Mirai  \n",
       "1        2016        Toyota  Mirai  \n",
       "4        2017        Toyota  Mirai  \n",
       "5        2016        Toyota  Mirai  \n",
       "7        2016        Toyota  Mirai  \n",
       "\n",
       "[5 rows x 24 columns]"
      ]
     },
     "execution_count": 315,
     "metadata": {},
     "output_type": "execute_result"
    }
   ],
   "source": [
    "# Viewing the dataframe\n",
    "fcv_df.head(5)"
   ]
  },
  {
   "cell_type": "markdown",
   "metadata": {},
   "source": [
    "## Determining the outliers in the demographics (via comparison to the standard deviations so as to preserve more of the dataset)"
   ]
  },
  {
   "cell_type": "code",
   "execution_count": 316,
   "metadata": {
    "scrolled": true
   },
   "outputs": [
    {
     "name": "stdout",
     "output_type": "stream",
     "text": [
      "Standard deviation of the \"Household Income\" column: 123880.139             \n",
      " Mean of the \"Household Income\" column: 223311.743 \n",
      "\n",
      "Standard deviation of the \"Longest trip in the last 12 months\" column: 340.614             \n",
      " Mean of the \"Longest trip in the last 12 months\" column: 371.821 \n",
      "\n",
      "Standard deviation of the \"Number of trips over 200 miles in the last 12 months\" column: 3238359.533             \n",
      " Mean of the \"Number of trips over 200 miles in the last 12 months\" column: 47208.937 \n",
      "\n",
      "Standard deviation of the \"One-way commute distance\" column: 40.952             \n",
      " Mean of the \"One-way commute distance\" column: 18.578 \n",
      "\n",
      "Standard deviation of the \"Number of people in the household\" column: 1.247             \n",
      " Mean of the \"Number of people in the household\" column: 3.067 \n",
      "\n",
      "Standard deviation of the \"Age\" column: 12.38             \n",
      " Mean of the \"Age\" column: 49.644 \n",
      "\n",
      "Standard deviation of the \"Number of vehicles in the household\" column: 0.899             \n",
      " Mean of the \"Number of vehicles in the household\" column: 2.571 \n",
      "\n",
      "Standard deviation of the \"Annual VMT Estimate\" column: 14703.57             \n",
      " Mean of the \"Annual VMT Estimate\" column: 12547.143 \n",
      "\n"
     ]
    }
   ],
   "source": [
    "# Defining a list that contains the columns we want to check for outliers\n",
    "columns_with_outliers = ['Household Income',\n",
    "                        'Longest trip in the last 12 months',\n",
    "                        'Number of trips over 200 miles in the last 12 months',\n",
    "                        'One-way commute distance',\n",
    "                        'Number of people in the household',\n",
    "                        'Age',\n",
    "                        'Number of vehicles in the household',\n",
    "                        'Annual VMT Estimate']\n",
    "\n",
    "# Iterating through the columns to determine the standard deviation & mean of the values of each column\n",
    "for i in columns_with_outliers:\n",
    "    print(f'Standard deviation of the \"{i}\" column: {round(fcv_df[i].std(), 3)} \\\n",
    "            \\n Mean of the \"{i}\" column: {round(fcv_df[i].mean(), 3)} \\n')"
   ]
  },
  {
   "cell_type": "markdown",
   "metadata": {},
   "source": [
    "##### We can see that from the list of each columns' standard deviations and means that our data has a very high variance.\n",
    "##### Because our data is so widely varied, we will adopt to keep only values closer to the mean, specifically within ~ 3 standard deviations\n",
    "##### (which encapsulates approximately 99.8% of the data, under the assumption that our data is approximately normally distributed)."
   ]
  },
  {
   "cell_type": "code",
   "execution_count": 317,
   "metadata": {
    "scrolled": true
   },
   "outputs": [
    {
     "name": "stdout",
     "output_type": "stream",
     "text": [
      "Household Income OUTLIERS: [] \n",
      "\n",
      "There are 0 outliers in the \"Household Income\" column \n",
      " \n",
      " \n",
      " \n",
      "Longest trip in the last 12 months OUTLIERS: [39.56, 28.94, 2844.49, 13.65, 41.24, 2378.88, 2955.47, 37.34, 2124.29, 42.59, 33.71, 2246.87, 2792.64, 32.56, 2257.28, 2492.26, 2263.91, 46.25, 3680.0, 2611.51, 2446.12, 38.18, 2833.03, 2071.31, 14.2, 0.21, 39.64, 3029.42, 42.17, 26.2, 3060.47, 43.18, 38.07, 46.02, 43.49, 2249.08, 36.61, 23.06, 2580.21, 2435.08, 2209.79, 2411.1, 2.77, 39.83, 21.06, 2622.64, 2127.64, 2515.86, 2602.83, 40.14, 2592.58, 20.14, 4041.57, 15.55, 14.69, 2664.2, 47.73, 16.94, 45.9, 2101.95, 2645.03, 1.43, 3410.34, 13.48, 8.65, 2897.6, 2395.73, 3.47, 2735.65, 2127.34, 4.2, 2366.18, 3363.85, 2057.7, 48.58, 29.49, 34.04, 35.48, 3055.77, 2403.53, 2538.15, 2503.14, 2121.36, 43.98, 2473.15, 2692.6, 17.73, 44.42, 2759.9, 33.37, 12.85, 32.39, 1.05, 15.01, 2120.6, 2164.33] \n",
      "\n",
      "There are 96 outliers in the \"Longest trip in the last 12 months\" column \n",
      " \n",
      " \n",
      " \n",
      "Number of trips over 200 miles in the last 12 months OUTLIERS: [200, 220, 55, 350, 75, 100, 2000, 120, 11000, 13000, 15000, 3000, 14000, 65, 146, 75, 60, 100, 90, 100, 56, 70, 300, 90, 70, 400, 175, 130, 100, 72, 560, 120, 60, 100, 200, 80, 225, 100, 11111, 222223222, 150, 210] \n",
      "\n",
      "There are 42 outliers in the \"Number of trips over 200 miles in the last 12 months\" column \n",
      " \n",
      " \n",
      " \n",
      "One-way commute distance OUTLIERS: [0.01, 91.78, 113.32, 0.1, 0.28, 0.48, 0.41, 83.97, 112.93, 0.45, 0.01, 150.0, 118.03, 0.2, 0.5, 0.0, 101.91, 98.66, 0.09, 0.5, 92.25, 0.4, 0.14, 91.59, 99.45, 89.53, 127.13, 157.45, 0.04, 109.02, 0.23, 153.36, 0.03, 91.44, 0.11, 671.06, 100.39, 0.0, 83.47, 2381.91, 122.44, 0.06, 126.96, 80.65, 0.0, 0.33, 88.58, 488.96, 0.07, 0.0, 86.77, 0.22, 0.3, 130.8, 83.78, 0.29, 149.59, 0.21, 93.19, 333.16, 99.04, 122.07, 91.86, 83.19, 307.62, 112.48, 112.9, 0.28, 82.53, 199.2, 214.2, 0.0, 0.0, 0.48, 89.81, 0.02, 0.01, 0.34, 0.43, 102.34, 195.64, 0.01, 0.07, 488.88, 0.02, 80.89, 0.43, 0.18, 0.0, 0.44, 111.72, 0.01, 0.01, 0.24, 0.33, 0.46] \n",
      "\n",
      "There are 96 outliers in the \"One-way commute distance\" column \n",
      " \n",
      " \n",
      " \n",
      "Number of people in the household OUTLIERS: [8, 7, 8, 7, 7, 7, 7, 9, 11, 7, 7, 8, 7, 7, 8, 7, 7, 7, 7, 8, 7, 7, 7, 8, 7, 7, 12, 7, 8, 7, 7, 7, 7, 8, 8, 7, 8, 7, 7, 8, 7, 7] \n",
      "\n",
      "There are 42 outliers in the \"Number of people in the household\" column \n",
      " \n",
      " \n",
      " \n",
      "Age OUTLIERS: [18, 80, 18, 80, 80, 80, 18, 18, 80, 18, 18, 80, 80, 80, 80, 18, 18, 80, 18, 80, 80, 80, 80, 80, 80, 80, 80, 80, 80] \n",
      "\n",
      "There are 29 outliers in the \"Age\" column \n",
      " \n",
      " \n",
      " \n",
      "Number of vehicles in the household OUTLIERS: [] \n",
      "\n",
      "There are 0 outliers in the \"Number of vehicles in the household\" column \n",
      " \n",
      " \n",
      " \n",
      "Annual VMT Estimate OUTLIERS: [124696.0, -59200.0, 75000.0, -9000.0, 160212.0, 45333.333333333336, 140713.7142857143, 1121.142857142857, 156000.0, 1200.0, -72312.0, 1100.0, 155294.11764705883, 48000.0, -18000.0, 60000.0, -19500.0, 66000.0, -18000.0, 67200.0, 55872.0, -11000.0, 600.0, -48000.0, -48000.0, -22500.0, 211764.70588235295, -31932.0, 1194.5454545454545, 45000.0, 72000.0, 1200.0, 98452.79999999999, 64800.0, 42000.0, 48666.66666666667, 48000.0, -60000.0, 170400.0, 1061.5384615384617, 81600.0, -3428.5714285714284, 72000.0, -15000.0, 54000.0, 1110.9473684210527, 10.42235294117647, 102000.0, -60000.0, 90600.0, -24600.0, 122000.0, 159600.0, 200010.0, -20400.0, -45596.0, 685.7142857142858, 162000.0, 1122.5806451612902, 44000.0, 87272.72727272728, 316112.7272727273, 72528.0, 450.0, -158400.0, 225529.5, 52800.0, -32704.0, 85285.71428571429, -39456.0, -15000.0, 96683.33333333333, 43200.0, -12672.0, 225000.0, 46500.0, -14400.0, 79200.0, -6000.0, -35200.0, 86666.66666666667, -78000.0, -64932.0, -106680.0, 170334.0, 136.0, -28038.0, 800.0, 66000.0, -15000.0, -19920.0, 294895.0, 51000.0, 342000.0, 728.3076923076924, 644.4444444444445] \n",
      "\n",
      "There are 96 outliers in the \"Annual VMT Estimate\" column \n",
      " \n",
      " \n",
      " \n"
     ]
    }
   ],
   "source": [
    "# Defining a list that contains the columns we want to check for outliers\n",
    "columns_with_outliers = ['Household Income',\n",
    "                        'Longest trip in the last 12 months',\n",
    "                        'Number of trips over 200 miles in the last 12 months',\n",
    "                        'One-way commute distance',\n",
    "                        'Number of people in the household',\n",
    "                        'Age',\n",
    "                        'Number of vehicles in the household',\n",
    "                        'Annual VMT Estimate']\n",
    "\n",
    "# Iterating through the columns that we are checking for outliers\n",
    "for i in columns_with_outliers:\n",
    "    \n",
    "    # Defining the range in which we will choose to keep outliers from the data (everything between 0.01 and 0.99)\n",
    "    # i.e., we are excluding only the outer 1% on the high and low ends of the data\n",
    "    outlier_lower_bound = fcv_df[i].quantile(0.01)\n",
    "    outlier_upper_bound = fcv_df[i].quantile(0.99)\n",
    "    \n",
    "    # Instantiating an empty list to hold the outliers for each column\n",
    "    outliers = []\n",
    "    \n",
    "    # Iterating through an individual column's values and determining if a specific value is an outlier\n",
    "    for j in fcv_df[i]:\n",
    "        \n",
    "        # If a value is below the lower bound, append it to the outlier list\n",
    "        if j < (outlier_lower_bound):\n",
    "            outliers.append(j)\n",
    "        \n",
    "        # If a value is above the upper bound, append it to the outlier list\n",
    "        elif j > (outlier_upper_bound):\n",
    "            outliers.append(j)\n",
    "    \n",
    "    # Displaying the number of outliers per column\n",
    "    print(f'{i} OUTLIERS: {outliers} \\n')\n",
    "    print(f'There are {len(outliers)} outliers in the \"{i}\" column \\n \\n \\n ')"
   ]
  },
  {
   "cell_type": "markdown",
   "metadata": {},
   "source": [
    "##### In total, we see that there is 401 outliers based on our choice of the outlier threshold."
   ]
  },
  {
   "cell_type": "code",
   "execution_count": 318,
   "metadata": {
    "scrolled": true
   },
   "outputs": [
    {
     "name": "stdout",
     "output_type": "stream",
     "text": [
      "[39.56, 28.94, 2844.49, 13.65, 41.24, 2378.88, 2955.47, 37.34, 2124.29, 42.59, 33.71, 2246.87, 2792.64, 32.56, 2257.28, 2492.26, 2263.91, 46.25, 3680.0, 2611.51, 2446.12, 38.18, 2833.03, 2071.31, 14.2, 0.21, 39.64, 3029.42, 42.17, 26.2, 3060.47, 43.18, 38.07, 46.02, 43.49, 2249.08, 36.61, 23.06, 2580.21, 2435.08, 2209.79, 2411.1, 2.77, 39.83, 21.06, 2622.64, 2127.64, 2515.86, 2602.83, 40.14, 2592.58, 20.14, 4041.57, 15.55, 14.69, 2664.2, 47.73, 16.94, 45.9, 2101.95, 2645.03, 1.43, 3410.34, 13.48, 8.65, 2897.6, 2395.73, 3.47, 2735.65, 2127.34, 4.2, 2366.18, 3363.85, 2057.7, 48.58, 29.49, 34.04, 35.48, 3055.77, 2403.53, 2538.15, 2503.14, 2121.36, 43.98, 2473.15, 2692.6, 17.73, 44.42, 2759.9, 33.37, 12.85, 32.39, 1.05, 15.01, 2120.6, 2164.33, 200, 220, 55, 350, 75, 100, 2000, 120, 11000, 13000, 15000, 3000, 14000, 65, 146, 75, 60, 100, 90, 100, 56, 70, 300, 90, 70, 400, 175, 130, 100, 72, 560, 120, 60, 100, 200, 225, 100, 11111, 150, 210, 0.01, 91.78, 113.32, 0.1, 0.28, 0.48, 75.36, 0.41, 83.97, 112.93, 0.45, 0.01, 75.53, 118.03, 0.2, 0.0, 101.91, 98.66, 0.09, 92.25, 0.4, 0.14, 91.59, 99.45, 89.53, 0.04, 0.23, 153.36, 0.03, 91.44, 0.11, 100.39, 0.0, 83.47, 2381.91, 122.44, 0.06, 75.43, 126.96, 80.65, 77.71, 0.0, 0.33, 88.58, 488.96, 0.07, 0.0, 86.77, 0.22, 0.3, 83.78, 0.29, 149.59, 0.21, 93.19, 99.04, 91.86, 83.19, 307.62, 112.48, 0.28, 79.06, 82.53, 199.2, 214.2, 0.0, 0.0, 0.48, 89.81, 0.02, 0.01, 0.34, 0.43, 102.34, 77.07, 195.64, 0.01, 0.07, 488.88, 0.02, 80.89, 0.43, 0.18, 78.23, 0.0, 0.44, 111.72, 0.01, 0.01, 0.24, 0.33, 0.46, 8, 7, 7, 7, 7, 7, 9, 11, 7, 7, 8, 7, 7, 8, 7, 7, 7, 7, 8, 7, 7, 7, 8, 7, 12, 7, 8, 7, 7, 7, 7, 8, 8, 7, 8, 7, 7, 8, 7, 18, 80, 18, 80, 80, 18, 18, 80, 18, 18, 80, 80, 80, 80, 18, 18, 80, 18, 80, 80, 80, 80, 80, 80, 80, 80, 124696.0, -59200.0, -9000.0, 160212.0, 140713.7142857143, 1121.142857142857, 156000.0, -72312.0, 1100.0, 39818.181818181816, 155294.11764705883, 48000.0, -18000.0, 60000.0, -19500.0, -18000.0, 67200.0, 55872.0, 600.0, -48000.0, -48000.0, -22500.0, 211764.70588235295, -31932.0, 1194.5454545454545, 45000.0, 72000.0, 98452.79999999999, 64800.0, 42000.0, 48666.66666666667, 48000.0, -60000.0, 170400.0, 1061.5384615384617, -3428.5714285714284, 72000.0, -15000.0, 54000.0, 1110.9473684210527, 10.42235294117647, 102000.0, -60000.0, 40000.0, 90600.0, -24600.0, 122000.0, 159600.0, 200010.0, -20400.0, -45596.0, 685.7142857142858, 1122.5806451612902, 44000.0, 87272.72727272728, 316112.7272727273, 72528.0, 450.0, -158400.0, 225529.5, 52800.0, 40000.0, -32704.0, 85285.71428571429, -39456.0, -15000.0, 96683.33333333333, -12672.0, 79200.0, -6000.0, -35200.0, 86666.66666666667, -78000.0, -64932.0, -106680.0, 170334.0, 136.0, -28038.0, 800.0, 66000.0, -15000.0, -19920.0, 294895.0, 41532.0, 51000.0, 342000.0, 728.3076923076924, 644.4444444444445]\n"
     ]
    }
   ],
   "source": [
    "# Defining a list that contains the columns we want to check for outliers\n",
    "columns_with_outliers = ['Household Income',\n",
    "                        'Longest trip in the last 12 months',\n",
    "                        'Number of trips over 200 miles in the last 12 months',\n",
    "                        'One-way commute distance',\n",
    "                        'Number of people in the household',\n",
    "                        'Age',\n",
    "                        'Number of vehicles in the household',\n",
    "                        'Annual VMT Estimate']\n",
    "\n",
    "\n",
    "# Instantiating an empty list to hold the outliers\n",
    "outliers = []\n",
    "\n",
    "# Iterating through the columns\n",
    "for i in columns_with_outliers:\n",
    "    \n",
    "    # Defining the range in which we will choose to keep outliers from the data (everything between 0.01 and 0.99)\n",
    "    outlier_lower_bound = fcv_df[i].quantile(0.01)\n",
    "    outlier_upper_bound = fcv_df[i].quantile(0.99)\n",
    "\n",
    "    # Iterating through each value for a given column\n",
    "    for j in fcv_df[i]:\n",
    "        \n",
    "        # If the value (j) is below the lower bound, drop it from the dataframe and append it to the outliers list\n",
    "        if j < (outlier_lower_bound):\n",
    "            fcv_df = fcv_df.drop(fcv_df.loc[fcv_df[i]==j].index.values)\n",
    "            outliers.append(j)\n",
    "       \n",
    "        # If the value (j) is above the upper bound, drop it from the dataframe and append it to the outliers list  \n",
    "        elif j > (outlier_upper_bound):\n",
    "            fcv_df = fcv_df.drop(fcv_df.loc[fcv_df[i]==j].index.values)\n",
    "            outliers.append(j)\n",
    "    \n",
    "# Printing out how many outliers remain (should be 0... if not, keep running this cell till it equals 0)\n",
    "print(outliers)"
   ]
  },
  {
   "cell_type": "code",
   "execution_count": 322,
   "metadata": {
    "scrolled": true
   },
   "outputs": [
    {
     "data": {
      "text/plain": [
       "4308"
      ]
     },
     "execution_count": 322,
     "metadata": {},
     "output_type": "execute_result"
    }
   ],
   "source": [
    "4709-401"
   ]
  },
  {
   "cell_type": "code",
   "execution_count": 321,
   "metadata": {},
   "outputs": [
    {
     "data": {
      "text/plain": [
       "(4328, 24)"
      ]
     },
     "execution_count": 321,
     "metadata": {},
     "output_type": "execute_result"
    }
   ],
   "source": [
    "fcv_df.shape"
   ]
  },
  {
   "cell_type": "code",
   "execution_count": 319,
   "metadata": {
    "scrolled": false
   },
   "outputs": [
    {
     "name": "stdout",
     "output_type": "stream",
     "text": [
      "<class 'pandas.core.frame.DataFrame'>\n",
      "Int64Index: 4328 entries, 1 to 19724\n",
      "Data columns (total 24 columns):\n",
      " #   Column                                                                           Non-Null Count  Dtype         \n",
      "---  ------                                                                           --------------  -----         \n",
      " 0   Date Submitted                                                                   4328 non-null   datetime64[ns]\n",
      " 1   Month Submitted                                                                  4328 non-null   int32         \n",
      " 2   Year Submitted                                                                   4328 non-null   int32         \n",
      " 3   Previous PHEVs                                                                   4328 non-null   int32         \n",
      " 4   Previous BEVs                                                                    4328 non-null   int32         \n",
      " 5   Previous HEVs                                                                    4328 non-null   int32         \n",
      " 6   Previous CNGs                                                                    4328 non-null   int32         \n",
      " 7   Household Income                                                                 4328 non-null   float64       \n",
      " 8   Importance of reducing greenhouse gas emissions (-3 not important, 3 important)  4328 non-null   int32         \n",
      " 9   Home ownership (own 1)                                                           4328 non-null   int32         \n",
      " 10  Home Type (detached 1)                                                           4328 non-null   int32         \n",
      " 11  Highest Level of Education                                                       4328 non-null   int32         \n",
      " 12  Longest trip in the last 12 months                                               4328 non-null   float64       \n",
      " 13  Number of trips over 200 miles in the last 12 months                             4328 non-null   int32         \n",
      " 14  One-way commute distance                                                         4328 non-null   float64       \n",
      " 15  Number of people in the household                                                4328 non-null   int32         \n",
      " 16  Age                                                                              4328 non-null   int32         \n",
      " 17  Gender (Male 1)                                                                  4328 non-null   int32         \n",
      " 18  Number of vehicles in the household                                              4328 non-null   int64         \n",
      " 19  Annual VMT Estimate                                                              4328 non-null   float64       \n",
      " 20  FCV, BEV Dummy                                                                   4328 non-null   float64       \n",
      " 21  Model Year                                                                       4328 non-null   object        \n",
      " 22  Manufacturer                                                                     4328 non-null   object        \n",
      " 23  Model                                                                            4328 non-null   object        \n",
      "dtypes: datetime64[ns](1), float64(5), int32(14), int64(1), object(3)\n",
      "memory usage: 608.6+ KB\n"
     ]
    }
   ],
   "source": [
    "fcv_df.info()"
   ]
  },
  {
   "cell_type": "code",
   "execution_count": 320,
   "metadata": {},
   "outputs": [
    {
     "data": {
      "text/plain": [
       "(array([ 300., 1098., 1427.,  838.,  347.,  174.,   67.,   43.,   18.,\n",
       "          16.]),\n",
       " array([ 1200.,  5040.,  8880., 12720., 16560., 20400., 24240., 28080.,\n",
       "        31920., 35760., 39600.]),\n",
       " <BarContainer object of 10 artists>)"
      ]
     },
     "execution_count": 320,
     "metadata": {},
     "output_type": "execute_result"
    },
    {
     "data": {
      "image/png": "[encoded data removed]",
      "text/plain": [
       "<Figure size 640x480 with 1 Axes>"
      ]
     },
     "metadata": {},
     "output_type": "display_data"
    }
   ],
   "source": [
    "plt.hist(fcv_df['Annual VMT Estimate'])"
   ]
  },
  {
   "cell_type": "markdown",
   "metadata": {},
   "source": [
    "## Determining the outliers in the demographics (via the interquartile range)"
   ]
  },
  {
   "cell_type": "markdown",
   "metadata": {},
   "source": [
    "#### Determining the number of outliers in each column of the dataframe\n",
    "#### (Outliers are any value that is lower than the Q1 - 1.5 * IQR or higher than Q3 + 1.5 * IQR)"
   ]
  },
  {
   "cell_type": "raw",
   "metadata": {
    "scrolled": true
   },
   "source": [
    "# Defining a list that contains the columns we want to check for outliers\n",
    "columns_with_outliers = ['Household Income',\n",
    "                        'Longest trip in the last 12 months',\n",
    "                        'Number of trips over 200 miles in the last 12 months',\n",
    "                        'One-way commute distance',\n",
    "                        'Number of people in the household',\n",
    "                        'Age',\n",
    "                        'Number of vehicles in the household',\n",
    "                        'Annual VMT Estimate']\n",
    "\n",
    "# Iterating through the columns that we are checking for outliers\n",
    "for i in columns_with_outliers:\n",
    "    \n",
    "    # Defining the interquartile range for each column's values an instantiating and empty list to hold the outliers\n",
    "    iqr = fcv_df[i].quantile(0.75) - fcv_df[i].quantile(0.25)\n",
    "    outlier_lower_bound = fcv_df[i].quantile(0.25) - 1.5*iqr\n",
    "    outlier_upper_bound = fcv_df[i].quantile(0.75) + 1.5*iqr\n",
    "    \n",
    "    # Instantiating an empty list to hold the outliers for each column\n",
    "    outliers = []\n",
    "    \n",
    "    # Iterating through an individual column's values and determining if a specific value is an outlier\n",
    "    for j in fcv_df[i]:\n",
    "        \n",
    "        # If a value is below the lower bound, append it to the outlier list\n",
    "        if j < (outlier_lower_bound):\n",
    "            outliers.append(j)\n",
    "        \n",
    "        # If a value is above the upper bound, append it to the outlier list\n",
    "        elif j > (outlier_upper_bound):\n",
    "            outliers.append(j)\n",
    "    \n",
    "    # Displaying the number of outliers per column\n",
    "    print(f'There are {len(outliers)} outliers in the \"{i}\" column')"
   ]
  },
  {
   "cell_type": "markdown",
   "metadata": {},
   "source": [
    "##### From the above list of outliers, we see that there is a total of 1,907 outliers in our data (after dropping the null values)"
   ]
  },
  {
   "cell_type": "markdown",
   "metadata": {},
   "source": [
    "##### Dropping the outliers from each column (this block of code must run several times until the output is 0.)"
   ]
  },
  {
   "cell_type": "raw",
   "metadata": {
    "scrolled": true
   },
   "source": [
    "# Defining a list that contains the columns we want to check for outliers\n",
    "columns_with_outliers = ['Household Income',\n",
    "                        'Longest trip in the last 12 months',\n",
    "                        'Number of trips over 200 miles in the last 12 months',\n",
    "                        'One-way commute distance',\n",
    "                        'Number of people in the household',\n",
    "                        'Age',\n",
    "                        'Number of vehicles in the household',\n",
    "                        'Annual VMT Estimate']\n",
    "\n",
    "\n",
    "# Instantiating an empty list to hold the outliers\n",
    "outliers = []\n",
    "\n",
    "# Iterating through the columns\n",
    "for i in columns_with_outliers:\n",
    "\n",
    "    # Defining the interquartile range and the lower and upper bounds\n",
    "    iqr = fcv_df[i].quantile(0.75) - fcv_df[i].quantile(0.25)\n",
    "    outlier_lower_bound = fcv_df[i].quantile(0.25) - 1.5*iqr\n",
    "    outlier_upper_bound = fcv_df[i].quantile(0.75) + 1.5*iqr\n",
    "\n",
    "    # Iterating through each value for a given column\n",
    "    for j in fcv_df[i]:\n",
    "        \n",
    "        # If the value (j) is below the lower bound, drop it from the dataframe and append it to the outliers list\n",
    "        if j < (outlier_lower_bound):\n",
    "            fcv_df = fcv_df.drop(fcv_df.loc[fcv_df[i]==j].index)\n",
    "            outliers.append(j)\n",
    "       \n",
    "        # If the value (j) is above the upper bound, drop it from the dataframe and append it to the outliers list  \n",
    "        elif j > (outlier_upper_bound):\n",
    "            fcv_df = fcv_df.drop(fcv_df.loc[fcv_df[i]==j].index)\n",
    "            outliers.append(j)\n",
    "    \n",
    "# Printing out how many outliers remain (should be 0... if not, keep running this cell till it equals 0)\n",
    "print(len(outliers))"
   ]
  },
  {
   "cell_type": "markdown",
   "metadata": {},
   "source": [
    "##### Checking that there are no longer any outliers in our data"
   ]
  },
  {
   "cell_type": "raw",
   "metadata": {
    "scrolled": false
   },
   "source": [
    "# Defining a list that contains the columns we want to check for outliers\n",
    "columns_with_outliers = ['Household Income',\n",
    "                        'Longest trip in the last 12 months',\n",
    "                        'Number of trips over 200 miles in the last 12 months',\n",
    "                        'One-way commute distance',\n",
    "                        'Number of people in the household',\n",
    "                        'Age',\n",
    "                        'Number of vehicles in the household',\n",
    "                        'Annual VMT Estimate']\n",
    "\n",
    "# Iterating through the columns that we are checking for outliers\n",
    "for i in columns_with_outliers:\n",
    "    \n",
    "    # Defining the interquartile range for each column's values an instantiating and empty list to hold the outliers\n",
    "    iqr = fcv_df[i].quantile(0.75) - fcv_df[i].quantile(0.25)\n",
    "    outlier_lower_bound = fcv_df[i].quantile(0.25) - 1.5*iqr\n",
    "    outlier_upper_bound = fcv_df[i].quantile(0.75) + 1.5*iqr\n",
    "    \n",
    "    # Instantiating an empty list to hold the outliers for each column\n",
    "    outliers = []\n",
    "    \n",
    "    # Iterating through an individual column's values and determining if a specific value is an outlier\n",
    "    for j in fcv_df[i]:\n",
    "        \n",
    "        # If a value is below the lower bound, append it to the outlier list\n",
    "        if j < (outlier_lower_bound):\n",
    "            outliers.append(j)\n",
    "        \n",
    "        # If a value is above the upper bound, append it to the outlier list\n",
    "        elif j > (outlier_upper_bound):\n",
    "            outliers.append(j)\n",
    "    \n",
    "    # Displaying the number of outliers per column\n",
    "    print(f'There are {len(outliers)} outliers in the \"{i}\" column')"
   ]
  },
  {
   "cell_type": "markdown",
   "metadata": {},
   "source": [
    "##### Finally, we expect for our dataframe to now have 2,193 rows, given that we originally had 4,709 rows and we have now removed the 1,907 outliers "
   ]
  },
  {
   "cell_type": "raw",
   "metadata": {},
   "source": [
    "fcv_df.shape"
   ]
  },
  {
   "cell_type": "markdown",
   "metadata": {},
   "source": [
    "## Examples of data visualization for FCV, BEV dummy vs. several different demographics"
   ]
  },
  {
   "cell_type": "code",
   "execution_count": 523,
   "metadata": {
    "scrolled": false
   },
   "outputs": [
    {
     "data": {
      "text/plain": [
       "<seaborn.axisgrid.FacetGrid at 0x22adc324c48>"
      ]
     },
     "execution_count": 523,
     "metadata": {},
     "output_type": "execute_result"
    },
    {
     "data": {
      "image/png": "[encoded data removed]",
      "text/plain": [
       "<Figure size 765.736x500 with 1 Axes>"
      ]
     },
     "metadata": {},
     "output_type": "display_data"
    }
   ],
   "source": [
    "sns.catplot(x = 'FCV, BEV Dummy', hue = 'Number of vehicles in the household', data = fcv_df, kind = 'count')"
   ]
  },
  {
   "cell_type": "code",
   "execution_count": 524,
   "metadata": {
    "scrolled": false
   },
   "outputs": [
    {
     "data": {
      "text/plain": [
       "<seaborn.axisgrid.FacetGrid at 0x22adc288ec8>"
      ]
     },
     "execution_count": 524,
     "metadata": {},
     "output_type": "execute_result"
    },
    {
     "data": {
      "image/png": "[encoded data removed]",
      "text/plain": [
       "<Figure size 880.111x500 with 1 Axes>"
      ]
     },
     "metadata": {},
     "output_type": "display_data"
    }
   ],
   "source": [
    "sns.catplot(x = 'FCV, BEV Dummy', hue = 'Number of trips over 200 miles in the last 12 months', data = fcv_df, kind = 'count')"
   ]
  },
  {
   "cell_type": "code",
   "execution_count": 525,
   "metadata": {
    "scrolled": false
   },
   "outputs": [
    {
     "data": {
      "text/plain": [
       "<seaborn.axisgrid.FacetGrid at 0x22adc2a9548>"
      ]
     },
     "execution_count": 525,
     "metadata": {},
     "output_type": "execute_result"
    },
    {
     "data": {
      "image/png": "[encoded data removed]",
      "text/plain": [
       "<Figure size 639.611x500 with 1 Axes>"
      ]
     },
     "metadata": {},
     "output_type": "display_data"
    }
   ],
   "source": [
    "sns.catplot(x = 'FCV, BEV Dummy', hue = 'Household Income', data = fcv_df, kind = 'count')"
   ]
  },
  {
   "cell_type": "code",
   "execution_count": 526,
   "metadata": {
    "scrolled": false
   },
   "outputs": [
    {
     "data": {
      "text/plain": [
       "<seaborn.axisgrid.FacetGrid at 0x22adc1b3b48>"
      ]
     },
     "execution_count": 526,
     "metadata": {},
     "output_type": "execute_result"
    },
    {
     "data": {
      "image/png": "[encoded data removed]",
      "text/plain": [
       "<Figure size 567.75x500 with 1 Axes>"
      ]
     },
     "metadata": {},
     "output_type": "display_data"
    }
   ],
   "source": [
    "sns.catplot(x = 'FCV, BEV Dummy', hue = 'Age', data = fcv_df, kind = 'count')"
   ]
  },
  {
   "cell_type": "markdown",
   "metadata": {
    "id": "H82v-Oiq_bwD"
   },
   "source": [
    "### Check for Max and Min Values"
   ]
  },
  {
   "cell_type": "code",
   "execution_count": null,
   "metadata": {},
   "outputs": [],
   "source": []
  },
  {
   "cell_type": "markdown",
   "metadata": {
    "id": "JiUByWjP_bwE"
   },
   "source": [
    "#### Observation:\n"
   ]
  },
  {
   "cell_type": "raw",
   "metadata": {
    "id": "pE2GYrtU_bwE"
   },
   "source": []
  },
  {
   "cell_type": "markdown",
   "metadata": {
    "id": "0xN_VJOl_bwE"
   },
   "source": [
    "### Examine the mean, median, and mode. Are the three measures of central tendency equal?\n",
    "-- this will help describe the skewness/distribution of attributes"
   ]
  },
  {
   "cell_type": "markdown",
   "metadata": {
    "id": "F381SOUJ_bwE"
   },
   "source": [
    "#### Observations: "
   ]
  },
  {
   "cell_type": "raw",
   "metadata": {
    "id": "NNYE_suf_bwE"
   },
   "source": []
  },
  {
   "cell_type": "markdown",
   "metadata": {
    "id": "O8KX8Nva_bwF"
   },
   "source": [
    "### Pairplot for the variables. "
   ]
  },
  {
   "cell_type": "code",
   "execution_count": 12,
   "metadata": {
    "id": "dDj12snn_bwG"
   },
   "outputs": [],
   "source": [
    "#sns.pairplot(data = pima, vars = ['Glucose', 'SkinThickness', 'DiabetesPedigreeFunction'], hue = 'Outcome')\n"
   ]
  },
  {
   "cell_type": "markdown",
   "metadata": {
    "id": "S7CMbCwL_bwG"
   },
   "source": [
    "#### Observations: "
   ]
  },
  {
   "cell_type": "raw",
   "metadata": {
    "id": "S2bPFIk9_bwG"
   },
   "source": []
  },
  {
   "cell_type": "markdown",
   "metadata": {
    "id": "pTzCIQOb_bwG"
   },
   "source": [
    "### Scatterplots "
   ]
  },
  {
   "cell_type": "code",
   "execution_count": 13,
   "metadata": {
    "id": "CNHLuzOD_bwG",
    "scrolled": false
   },
   "outputs": [],
   "source": [
    "#plt.scatter(x = 'Glucose', y = 'Insulin', data = pima)\n",
    "#plt.show()"
   ]
  },
  {
   "cell_type": "markdown",
   "metadata": {
    "id": "1AhKhAbf_bwG"
   },
   "source": [
    "#### Observations:"
   ]
  },
  {
   "cell_type": "raw",
   "metadata": {
    "id": "YScevRlr_bwG"
   },
   "source": []
  },
  {
   "cell_type": "markdown",
   "metadata": {
    "id": "NzGHKjXv_bwG"
   },
   "source": [
    "### Boxplots for Variables\n",
    "Check the distribution and outliers for each column in the data.**"
   ]
  },
  {
   "cell_type": "code",
   "execution_count": 14,
   "metadata": {
    "id": "zmWjERJM_bwH"
   },
   "outputs": [],
   "source": [
    "#plt.boxplot(pima['Age'])\n",
    "#plt.title('Boxplot of Age')\n",
    "#plt.ylabel('Age')\n",
    "#plt.show()"
   ]
  },
  {
   "cell_type": "markdown",
   "metadata": {
    "id": "Vm5bRpLz_bwH"
   },
   "source": [
    "#### Observations:\n"
   ]
  },
  {
   "cell_type": "raw",
   "metadata": {
    "id": "ID7pFghO_bwH"
   },
   "source": []
  },
  {
   "cell_type": "markdown",
   "metadata": {
    "id": "M6A_z8kr_bwH"
   },
   "source": [
    "### Histograms"
   ]
  },
  {
   "cell_type": "code",
   "execution_count": 15,
   "metadata": {
    "id": "5DpqaiXH_bwH"
   },
   "outputs": [],
   "source": [
    "#plt.hist(pima[pima['Outcome'] == 1]['Age'], bins = 5)\n",
    "#plt.title('Distribution of Age for Women who has Diabetes')\n",
    "#plt.xlabel('Age')\n",
    "#plt.ylabel('Frequency')\n",
    "#plt.show()"
   ]
  },
  {
   "cell_type": "markdown",
   "metadata": {
    "id": "InfhuW8o_bwH"
   },
   "source": [
    "#### Observations:"
   ]
  },
  {
   "cell_type": "raw",
   "metadata": {
    "id": "D6iAgeF-_bwI"
   },
   "source": [
    " "
   ]
  },
  {
   "cell_type": "markdown",
   "metadata": {
    "id": "EpTEjZ-q_bwI"
   },
   "source": [
    "### The interquartile range of all the variables"
   ]
  },
  {
   "cell_type": "code",
   "execution_count": 16,
   "metadata": {
    "id": "JVOqHx1W_bwI"
   },
   "outputs": [],
   "source": [
    "#Q1 = df.quantile(0.25)\n",
    "#Q3 = df.quantile(0.75)\n",
    "#IQR = Q3 - Q1\n",
    "#print(IQR)"
   ]
  },
  {
   "cell_type": "markdown",
   "metadata": {
    "id": "WWtc2nex_bwI"
   },
   "source": [
    "#### Observations: "
   ]
  },
  {
   "cell_type": "markdown",
   "metadata": {
    "id": "2vLWPyd-_bwI"
   },
   "source": [
    "## Export of File to CSV for database"
   ]
  },
  {
   "cell_type": "code",
   "execution_count": 17,
   "metadata": {},
   "outputs": [],
   "source": [
    "fcv_df.to_csv('Exports/FCV_Dataset.csv')"
   ]
  },
  {
   "cell_type": "markdown",
   "metadata": {
    "id": "KjldKKMs_bwI"
   },
   "source": [
    "### Visualize the Correlation Matrix.\n",
    "\n",
    "* Correlation is a statistic that measures the degree to which two variables move in relation to each other. A positive correlation indicates\n",
    "* the extent to which those variables increase or decrease in parallel; a negative correlation indicates the extent to which one variable\n",
    "* increases as the other decreases. Correction among multiple variables can be represented in the form of a matrix. This allows us to see which pairs have the high correlations.\n",
    "* correlation Correlation is a mutual relationship or connection between two or more things. It takes a value between (+1) and (-1)\n",
    "* The correlation between two independent events is zero, two events with zero correlations may not be independent."
   ]
  },
  {
   "cell_type": "code",
   "execution_count": 18,
   "metadata": {
    "id": "Ju8Gymxw_bwJ",
    "scrolled": true
   },
   "outputs": [],
   "source": [
    "#plt.figure(figsize = (8, 8))\n",
    "#sns.heatmap(corr_matrix, annot = True)\n",
    "\n",
    "# Display the plot\n",
    "#plt.show()"
   ]
  },
  {
   "cell_type": "markdown",
   "metadata": {
    "id": "Woaq6vqT_bwJ"
   },
   "source": [
    "#### Observations: \n"
   ]
  },
  {
   "cell_type": "raw",
   "metadata": {
    "id": "m3AKvSrM_bwJ"
   },
   "source": []
  },
  {
   "cell_type": "markdown",
   "metadata": {},
   "source": [
    "## Data Preprocessing for Modeling\n",
    "\n",
    "* Renaming Columns\n",
    "* Scaling/Normalizing\n",
    "* Dropping unnecessary columns\n",
    "* Hot encoding\n",
    "* Imputing missing values with mode/median for columns\n",
    "* Converting data types\n",
    "* Format data types\n",
    "* Apply get_dummies on the dataframe data"
   ]
  },
  {
   "cell_type": "code",
   "execution_count": null,
   "metadata": {},
   "outputs": [],
   "source": []
  },
  {
   "cell_type": "markdown",
   "metadata": {},
   "source": [
    "## Predictive Analysis/Building Models"
   ]
  },
  {
   "cell_type": "markdown",
   "metadata": {},
   "source": [
    "### **Checking the below linear regression assumptions**\n",
    "\n",
    "1. **Mean of residuals should be 0**\n",
    "2. **No Heteroscedasticity**\n",
    "3. **Linearity of variables**\n",
    "4. **Normality of error terms**"
   ]
  },
  {
   "cell_type": "code",
   "execution_count": null,
   "metadata": {},
   "outputs": [],
   "source": []
  },
  {
   "cell_type": "markdown",
   "metadata": {},
   "source": [
    "## **Actionable Insights and Business Recommendations**"
   ]
  },
  {
   "cell_type": "code",
   "execution_count": null,
   "metadata": {},
   "outputs": [],
   "source": []
  }
 ],
 "metadata": {
  "colab": {
   "collapsed_sections": [
    "5_7DfrKa_bv_",
    "V5duvKqA_bv_",
    "oILSLGBL_bwA",
    "DyG29Cqz_bwA",
    "OqnMczju_bwB",
    "wHYJkmek_bwB",
    "CpcpowUT_bwC",
    "RmTpaojz_bwC",
    "-aYGSoyf_bwC",
    "3gO4yNoS_bwD",
    "tFmj2sAi_bwD",
    "H82v-Oiq_bwD",
    "JiUByWjP_bwE",
    "0xN_VJOl_bwE",
    "F381SOUJ_bwE",
    "zQgUfx28_bwE",
    "zNopQzBy_bwF",
    "TUFPGMGX_bwF",
    "KgU-UehX_bwF",
    "O8KX8Nva_bwF",
    "S7CMbCwL_bwG",
    "pTzCIQOb_bwG",
    "1AhKhAbf_bwG",
    "NzGHKjXv_bwG",
    "Vm5bRpLz_bwH",
    "M6A_z8kr_bwH",
    "InfhuW8o_bwH",
    "EpTEjZ-q_bwI",
    "WWtc2nex_bwI",
    "KjldKKMs_bwI",
    "Woaq6vqT_bwJ"
   ],
   "name": "MIT_FDS_Project_Diabetes_Analysis_Questions-1.ipynb",
   "provenance": []
  },
  "kernelspec": {
   "display_name": "PythonData",
   "language": "python",
   "name": "pythondata"
  },
  "language_info": {
   "codemirror_mode": {
    "name": "ipython",
    "version": 3
   },
   "file_extension": ".py",
   "mimetype": "text/x-python",
   "name": "python",
   "nbconvert_exporter": "python",
   "pygments_lexer": "ipython3",
   "version": "3.7.13"
  },
  "toc": {
   "base_numbering": 1,
   "nav_menu": {},
   "number_sections": true,
   "sideBar": true,
   "skip_h1_title": false,
   "title_cell": "Table of Contents",
   "title_sidebar": "Contents",
   "toc_cell": false,
   "toc_position": {},
   "toc_section_display": true,
   "toc_window_display": false
  },
  "varInspector": {
   "cols": {
    "lenName": 16,
    "lenType": 16,
    "lenVar": 40
   },
   "kernels_config": {
    "python": {
     "delete_cmd_postfix": "",
     "delete_cmd_prefix": "del ",
     "library": "var_list.py",
     "varRefreshCmd": "print(var_dic_list())"
    },
    "r": {
     "delete_cmd_postfix": ") ",
     "delete_cmd_prefix": "rm(",
     "library": "var_list.r",
     "varRefreshCmd": "cat(var_dic_list()) "
    }
   },
   "types_to_exclude": [
    "module",
    "function",
    "builtin_function_or_method",
    "instance",
    "_Feature"
   ],
   "window_display": false
  }
 },
 "nbformat": 4,
 "nbformat_minor": 1
}
