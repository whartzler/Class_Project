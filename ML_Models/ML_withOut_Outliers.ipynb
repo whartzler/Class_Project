{
 "cells": [
  {
   "cell_type": "markdown",
   "metadata": {
    "id": "BL_LfsVn_bv1"
   },
   "source": [
    "# Final Project - Maintaining EV customers\n",
    "\n",
    "---------------\n",
    "## Context\n",
    "---------------\n",
    "This dataset presents results from a survey of FCV and BEV and compared the sociodeographic profile of FCV buyers vs BEV Households.  \n",
    "\n",
    "\n",
    "-----------------\n",
    "## Objective\n",
    "-----------------\n",
    "Based on the data we want to identify Current FCV & BEV Owners Demographics and see if there are any major differences between the two car owners.  \n",
    "\n",
    "For our ML model we will attemp to predict based on the information if we can identify the customer as a FCV or BEV owner.  \n",
    "\n",
    "-------------------------\n",
    "## Data Dictionary\n",
    "-------------------------\n",
    "\n",
    "The dataset has the following information:\n",
    "- When the customer submitted their data\n",
    "- If they Previously Owned a PHEV, BEV, HEV, CNG\n",
    "- Household Income\n",
    "- Importance of Reducing Greenhouse Emissions\n",
    "- Demographics of the customer current car (year, manufacture, model)\n",
    "- Demographics on the customer's (home type, ownership of home,  education, gender, age, # of people in household)\n",
    "- Demographics on customers car usage (longest trip, number of trips over 200 miles, one way commute distance, annual VMT vehicle miles traveled)\n",
    "- If the customer is currently a FCV or BEV Current Owner\n",
    "\n",
    "\n",
    "#### Acronyms used\n",
    "- BEV: Battery Electric Vehicle\n",
    "- FCV: Fuel Cell Vehicle (Hydrogen fuel cell vehicle)\n",
    "- PHEV: Plug-in hybrid electric vehicle\n",
    "- CNG: Compressed Natural Gas (everyday car)"
   ]
  },
  {
   "cell_type": "markdown",
   "metadata": {
    "id": "vVR3oeVo_bv5"
   },
   "source": [
    "### Import the necessary libraries or dependencies"
   ]
  },
  {
   "cell_type": "code",
   "execution_count": 1,
   "metadata": {
    "id": "sQPI1Bzz_bv5"
   },
   "outputs": [],
   "source": [
    "#Import Dependencies\n",
    "import pandas as pd\n",
    "import matplotlib.pyplot as plt\n",
    "import seaborn as sns\n",
    "import numpy as np\n",
    "from sklearn.linear_model import LogisticRegression\n",
    "\n",
    "from sklearn.model_selection import train_test_split\n",
    "\n",
    "from sklearn import metrics\n",
    "from sklearn.metrics import confusion_matrix, classification_report,accuracy_score,precision_score,recall_score,f1_score\n",
    "\n",
    "from sklearn import tree\n",
    "from sklearn.tree import DecisionTreeClassifier\n",
    "\n",
    "from sklearn.ensemble import BaggingClassifier\n",
    "from sklearn.ensemble import RandomForestClassifier\n",
    "from sklearn.preprocessing import LabelEncoder\n",
    "\n",
    "import scipy.stats as stats\n",
    "\n",
    "from sklearn.model_selection import GridSearchCV\n",
    "from sklearn.preprocessing import StandardScaler\n",
    "\n",
    "import warnings\n",
    "warnings.filterwarnings('ignore')"
   ]
  },
  {
   "cell_type": "markdown",
   "metadata": {
    "id": "8WpI8LC7_bv7"
   },
   "source": [
    "###  Read the Cleaned Dataset "
   ]
  },
  {
   "cell_type": "code",
   "execution_count": 2,
   "metadata": {
    "id": "OTzXe_vA_bv7"
   },
   "outputs": [],
   "source": [
    "#Import File\n",
    "fcv_df = pd.read_csv('FCV_Dataset2.csv')"
   ]
  },
  {
   "cell_type": "markdown",
   "metadata": {
    "id": "H3SziaVY_bv8"
   },
   "source": [
    "### Examine Dataset "
   ]
  },
  {
   "cell_type": "code",
   "execution_count": 3,
   "metadata": {
    "scrolled": false
   },
   "outputs": [
    {
     "data": {
      "text/html": [
       "<div>\n",
       "<style scoped>\n",
       "    .dataframe tbody tr th:only-of-type {\n",
       "        vertical-align: middle;\n",
       "    }\n",
       "\n",
       "    .dataframe tbody tr th {\n",
       "        vertical-align: top;\n",
       "    }\n",
       "\n",
       "    .dataframe thead th {\n",
       "        text-align: right;\n",
       "    }\n",
       "</style>\n",
       "<table border=\"1\" class=\"dataframe\">\n",
       "  <thead>\n",
       "    <tr style=\"text-align: right;\">\n",
       "      <th></th>\n",
       "      <th>Unnamed: 0</th>\n",
       "      <th>Month Submitted</th>\n",
       "      <th>Year Submitted</th>\n",
       "      <th>lastpage. Last page</th>\n",
       "      <th>Previous PHEVs</th>\n",
       "      <th>Previous BEVs</th>\n",
       "      <th>Previous HEVs</th>\n",
       "      <th>Previous CNGs</th>\n",
       "      <th>Household Income</th>\n",
       "      <th>Importance of reducing greenhouse gas emissions (-3 not important, 3 important)</th>\n",
       "      <th>...</th>\n",
       "      <th>One-way commute distance</th>\n",
       "      <th>Number of people in the household</th>\n",
       "      <th>Age</th>\n",
       "      <th>Gender (Male 1)</th>\n",
       "      <th>Number of vehicles in the household</th>\n",
       "      <th>Annual VMT Estimate</th>\n",
       "      <th>FCV, BEV Dummy</th>\n",
       "      <th>Model Year</th>\n",
       "      <th>Manufacturer</th>\n",
       "      <th>Model</th>\n",
       "    </tr>\n",
       "  </thead>\n",
       "  <tbody>\n",
       "    <tr>\n",
       "      <th>0</th>\n",
       "      <td>0</td>\n",
       "      <td>6</td>\n",
       "      <td>2017</td>\n",
       "      <td>42.0</td>\n",
       "      <td>1</td>\n",
       "      <td>0</td>\n",
       "      <td>0</td>\n",
       "      <td>0</td>\n",
       "      <td>275000.0</td>\n",
       "      <td>2</td>\n",
       "      <td>...</td>\n",
       "      <td>0.01</td>\n",
       "      <td>2</td>\n",
       "      <td>65</td>\n",
       "      <td>0</td>\n",
       "      <td>2</td>\n",
       "      <td>14622</td>\n",
       "      <td>0.0</td>\n",
       "      <td>2016</td>\n",
       "      <td>Toyota</td>\n",
       "      <td>Mirai</td>\n",
       "    </tr>\n",
       "    <tr>\n",
       "      <th>1</th>\n",
       "      <td>1</td>\n",
       "      <td>6</td>\n",
       "      <td>2017</td>\n",
       "      <td>42.0</td>\n",
       "      <td>0</td>\n",
       "      <td>0</td>\n",
       "      <td>1</td>\n",
       "      <td>0</td>\n",
       "      <td>275000.0</td>\n",
       "      <td>2</td>\n",
       "      <td>...</td>\n",
       "      <td>10.69</td>\n",
       "      <td>3</td>\n",
       "      <td>65</td>\n",
       "      <td>0</td>\n",
       "      <td>3</td>\n",
       "      <td>9197</td>\n",
       "      <td>0.0</td>\n",
       "      <td>2016</td>\n",
       "      <td>Toyota</td>\n",
       "      <td>Mirai</td>\n",
       "    </tr>\n",
       "    <tr>\n",
       "      <th>2</th>\n",
       "      <td>4</td>\n",
       "      <td>6</td>\n",
       "      <td>2017</td>\n",
       "      <td>42.0</td>\n",
       "      <td>1</td>\n",
       "      <td>0</td>\n",
       "      <td>0</td>\n",
       "      <td>0</td>\n",
       "      <td>125000.0</td>\n",
       "      <td>2</td>\n",
       "      <td>...</td>\n",
       "      <td>17.63</td>\n",
       "      <td>2</td>\n",
       "      <td>55</td>\n",
       "      <td>0</td>\n",
       "      <td>3</td>\n",
       "      <td>5082</td>\n",
       "      <td>0.0</td>\n",
       "      <td>2017</td>\n",
       "      <td>Toyota</td>\n",
       "      <td>Mirai</td>\n",
       "    </tr>\n",
       "    <tr>\n",
       "      <th>3</th>\n",
       "      <td>8</td>\n",
       "      <td>6</td>\n",
       "      <td>2017</td>\n",
       "      <td>42.0</td>\n",
       "      <td>0</td>\n",
       "      <td>0</td>\n",
       "      <td>0</td>\n",
       "      <td>0</td>\n",
       "      <td>125000.0</td>\n",
       "      <td>2</td>\n",
       "      <td>...</td>\n",
       "      <td>13.35</td>\n",
       "      <td>4</td>\n",
       "      <td>45</td>\n",
       "      <td>0</td>\n",
       "      <td>2</td>\n",
       "      <td>13224</td>\n",
       "      <td>0.0</td>\n",
       "      <td>2017</td>\n",
       "      <td>Toyota</td>\n",
       "      <td>Mirai</td>\n",
       "    </tr>\n",
       "    <tr>\n",
       "      <th>4</th>\n",
       "      <td>9</td>\n",
       "      <td>6</td>\n",
       "      <td>2017</td>\n",
       "      <td>42.0</td>\n",
       "      <td>1</td>\n",
       "      <td>0</td>\n",
       "      <td>1</td>\n",
       "      <td>0</td>\n",
       "      <td>225000.0</td>\n",
       "      <td>1</td>\n",
       "      <td>...</td>\n",
       "      <td>34.77</td>\n",
       "      <td>4</td>\n",
       "      <td>45</td>\n",
       "      <td>0</td>\n",
       "      <td>3</td>\n",
       "      <td>16080</td>\n",
       "      <td>0.0</td>\n",
       "      <td>2017</td>\n",
       "      <td>Honda</td>\n",
       "      <td>Clarity</td>\n",
       "    </tr>\n",
       "  </tbody>\n",
       "</table>\n",
       "<p>5 rows × 25 columns</p>\n",
       "</div>"
      ],
      "text/plain": [
       "   Unnamed: 0  Month Submitted  Year Submitted  lastpage. Last page  \\\n",
       "0           0                6            2017                 42.0   \n",
       "1           1                6            2017                 42.0   \n",
       "2           4                6            2017                 42.0   \n",
       "3           8                6            2017                 42.0   \n",
       "4           9                6            2017                 42.0   \n",
       "\n",
       "   Previous PHEVs  Previous BEVs  Previous HEVs  Previous CNGs  \\\n",
       "0               1              0              0              0   \n",
       "1               0              0              1              0   \n",
       "2               1              0              0              0   \n",
       "3               0              0              0              0   \n",
       "4               1              0              1              0   \n",
       "\n",
       "   Household Income  \\\n",
       "0          275000.0   \n",
       "1          275000.0   \n",
       "2          125000.0   \n",
       "3          125000.0   \n",
       "4          225000.0   \n",
       "\n",
       "   Importance of reducing greenhouse gas emissions (-3 not important, 3 important)  \\\n",
       "0                                                  2                                 \n",
       "1                                                  2                                 \n",
       "2                                                  2                                 \n",
       "3                                                  2                                 \n",
       "4                                                  1                                 \n",
       "\n",
       "   ...  One-way commute distance  Number of people in the household  Age  \\\n",
       "0  ...                      0.01                                  2   65   \n",
       "1  ...                     10.69                                  3   65   \n",
       "2  ...                     17.63                                  2   55   \n",
       "3  ...                     13.35                                  4   45   \n",
       "4  ...                     34.77                                  4   45   \n",
       "\n",
       "   Gender (Male 1)  Number of vehicles in the household  Annual VMT Estimate  \\\n",
       "0                0                                    2                14622   \n",
       "1                0                                    3                 9197   \n",
       "2                0                                    3                 5082   \n",
       "3                0                                    2                13224   \n",
       "4                0                                    3                16080   \n",
       "\n",
       "   FCV, BEV Dummy  Model Year  Manufacturer    Model  \n",
       "0             0.0        2016        Toyota    Mirai  \n",
       "1             0.0        2016        Toyota    Mirai  \n",
       "2             0.0        2017        Toyota    Mirai  \n",
       "3             0.0        2017        Toyota    Mirai  \n",
       "4             0.0        2017         Honda  Clarity  \n",
       "\n",
       "[5 rows x 25 columns]"
      ]
     },
     "execution_count": 3,
     "metadata": {},
     "output_type": "execute_result"
    }
   ],
   "source": [
    "fcv_df.head()"
   ]
  },
  {
   "cell_type": "markdown",
   "metadata": {
    "id": "OzzsF3Pg_bv-"
   },
   "source": [
    "### The dimension of the `data` dataframe. (shape, r x c)"
   ]
  },
  {
   "cell_type": "code",
   "execution_count": 4,
   "metadata": {
    "id": "zdtFn47Q_bwA"
   },
   "outputs": [
    {
     "data": {
      "text/plain": [
       "(3504, 25)"
      ]
     },
     "execution_count": 4,
     "metadata": {},
     "output_type": "execute_result"
    }
   ],
   "source": [
    "fcv_df.shape"
   ]
  },
  {
   "cell_type": "markdown",
   "metadata": {},
   "source": [
    "#### Observations: \n",
    "The original dataset has 27,021 rows and 25 columns"
   ]
  },
  {
   "cell_type": "markdown",
   "metadata": {
    "id": "DyG29Cqz_bwA"
   },
   "source": [
    "### Data Types/Categorical vs. Numerical Columns"
   ]
  },
  {
   "cell_type": "code",
   "execution_count": 5,
   "metadata": {
    "scrolled": true
   },
   "outputs": [
    {
     "data": {
      "text/plain": [
       "Unnamed: 0                                                                           int64\n",
       "Month Submitted                                                                      int64\n",
       "Year Submitted                                                                       int64\n",
       "lastpage. Last page                                                                float64\n",
       "Previous PHEVs                                                                       int64\n",
       "Previous BEVs                                                                        int64\n",
       "Previous HEVs                                                                        int64\n",
       "Previous CNGs                                                                        int64\n",
       "Household Income                                                                   float64\n",
       "Importance of reducing greenhouse gas emissions (-3 not important, 3 important)      int64\n",
       "Home ownership (own 1)                                                               int64\n",
       "Home Type (detached 1)                                                               int64\n",
       "Highest Level of Education                                                           int64\n",
       "Longest trip in the last 12 months                                                 float64\n",
       "Number of trips over 200 miles in the last 12 months                                 int64\n",
       "One-way commute distance                                                           float64\n",
       "Number of people in the household                                                    int64\n",
       "Age                                                                                  int64\n",
       "Gender (Male 1)                                                                      int64\n",
       "Number of vehicles in the household                                                  int64\n",
       "Annual VMT Estimate                                                                  int64\n",
       "FCV, BEV Dummy                                                                     float64\n",
       "Model Year                                                                          object\n",
       "Manufacturer                                                                        object\n",
       "Model                                                                               object\n",
       "dtype: object"
      ]
     },
     "execution_count": 5,
     "metadata": {},
     "output_type": "execute_result"
    }
   ],
   "source": [
    "fcv_df.dtypes"
   ]
  },
  {
   "cell_type": "code",
   "execution_count": 6,
   "metadata": {
    "scrolled": true
   },
   "outputs": [
    {
     "data": {
      "text/plain": [
       "(3504, 25)"
      ]
     },
     "execution_count": 6,
     "metadata": {},
     "output_type": "execute_result"
    }
   ],
   "source": [
    "fcv_df.shape"
   ]
  },
  {
   "cell_type": "markdown",
   "metadata": {},
   "source": [
    "### Summary Statistics"
   ]
  },
  {
   "cell_type": "code",
   "execution_count": 7,
   "metadata": {
    "scrolled": true
   },
   "outputs": [
    {
     "data": {
      "text/html": [
       "<div>\n",
       "<style scoped>\n",
       "    .dataframe tbody tr th:only-of-type {\n",
       "        vertical-align: middle;\n",
       "    }\n",
       "\n",
       "    .dataframe tbody tr th {\n",
       "        vertical-align: top;\n",
       "    }\n",
       "\n",
       "    .dataframe thead th {\n",
       "        text-align: right;\n",
       "    }\n",
       "</style>\n",
       "<table border=\"1\" class=\"dataframe\">\n",
       "  <thead>\n",
       "    <tr style=\"text-align: right;\">\n",
       "      <th></th>\n",
       "      <th>Unnamed: 0</th>\n",
       "      <th>Month Submitted</th>\n",
       "      <th>Year Submitted</th>\n",
       "      <th>lastpage. Last page</th>\n",
       "      <th>Previous PHEVs</th>\n",
       "      <th>Previous BEVs</th>\n",
       "      <th>Previous HEVs</th>\n",
       "      <th>Previous CNGs</th>\n",
       "      <th>Household Income</th>\n",
       "      <th>Importance of reducing greenhouse gas emissions (-3 not important, 3 important)</th>\n",
       "      <th>...</th>\n",
       "      <th>Highest Level of Education</th>\n",
       "      <th>Longest trip in the last 12 months</th>\n",
       "      <th>Number of trips over 200 miles in the last 12 months</th>\n",
       "      <th>One-way commute distance</th>\n",
       "      <th>Number of people in the household</th>\n",
       "      <th>Age</th>\n",
       "      <th>Gender (Male 1)</th>\n",
       "      <th>Number of vehicles in the household</th>\n",
       "      <th>Annual VMT Estimate</th>\n",
       "      <th>FCV, BEV Dummy</th>\n",
       "    </tr>\n",
       "  </thead>\n",
       "  <tbody>\n",
       "    <tr>\n",
       "      <th>count</th>\n",
       "      <td>3504.000000</td>\n",
       "      <td>3504.000000</td>\n",
       "      <td>3504.000000</td>\n",
       "      <td>3504.000000</td>\n",
       "      <td>3504.000000</td>\n",
       "      <td>3504.000000</td>\n",
       "      <td>3504.000000</td>\n",
       "      <td>3504.000000</td>\n",
       "      <td>3504.000000</td>\n",
       "      <td>3504.000000</td>\n",
       "      <td>...</td>\n",
       "      <td>3504.000000</td>\n",
       "      <td>3504.000000</td>\n",
       "      <td>3504.000000</td>\n",
       "      <td>3504.000000</td>\n",
       "      <td>3504.000000</td>\n",
       "      <td>3504.000000</td>\n",
       "      <td>3504.000000</td>\n",
       "      <td>3504.000000</td>\n",
       "      <td>3504.000000</td>\n",
       "      <td>3504.000000</td>\n",
       "    </tr>\n",
       "    <tr>\n",
       "      <th>mean</th>\n",
       "      <td>9662.882705</td>\n",
       "      <td>6.494578</td>\n",
       "      <td>2016.025400</td>\n",
       "      <td>43.544521</td>\n",
       "      <td>0.099315</td>\n",
       "      <td>0.164954</td>\n",
       "      <td>0.212614</td>\n",
       "      <td>0.005708</td>\n",
       "      <td>195105.593607</td>\n",
       "      <td>1.272831</td>\n",
       "      <td>...</td>\n",
       "      <td>3.387557</td>\n",
       "      <td>322.725908</td>\n",
       "      <td>1.589326</td>\n",
       "      <td>17.179247</td>\n",
       "      <td>2.994292</td>\n",
       "      <td>47.617009</td>\n",
       "      <td>0.231164</td>\n",
       "      <td>2.433219</td>\n",
       "      <td>11795.009132</td>\n",
       "      <td>0.946632</td>\n",
       "    </tr>\n",
       "    <tr>\n",
       "      <th>std</th>\n",
       "      <td>5937.770130</td>\n",
       "      <td>1.931151</td>\n",
       "      <td>0.833351</td>\n",
       "      <td>1.195320</td>\n",
       "      <td>0.299127</td>\n",
       "      <td>0.371192</td>\n",
       "      <td>0.409215</td>\n",
       "      <td>0.075345</td>\n",
       "      <td>89142.296972</td>\n",
       "      <td>1.214760</td>\n",
       "      <td>...</td>\n",
       "      <td>0.674078</td>\n",
       "      <td>196.608604</td>\n",
       "      <td>4.010692</td>\n",
       "      <td>13.943950</td>\n",
       "      <td>1.101460</td>\n",
       "      <td>10.904066</td>\n",
       "      <td>0.421637</td>\n",
       "      <td>0.723642</td>\n",
       "      <td>5714.595987</td>\n",
       "      <td>0.224797</td>\n",
       "    </tr>\n",
       "    <tr>\n",
       "      <th>min</th>\n",
       "      <td>0.000000</td>\n",
       "      <td>4.000000</td>\n",
       "      <td>2015.000000</td>\n",
       "      <td>3.000000</td>\n",
       "      <td>0.000000</td>\n",
       "      <td>0.000000</td>\n",
       "      <td>0.000000</td>\n",
       "      <td>0.000000</td>\n",
       "      <td>50000.000000</td>\n",
       "      <td>-3.000000</td>\n",
       "      <td>...</td>\n",
       "      <td>1.000000</td>\n",
       "      <td>0.210000</td>\n",
       "      <td>0.000000</td>\n",
       "      <td>0.000000</td>\n",
       "      <td>1.000000</td>\n",
       "      <td>25.000000</td>\n",
       "      <td>0.000000</td>\n",
       "      <td>1.000000</td>\n",
       "      <td>10.000000</td>\n",
       "      <td>0.000000</td>\n",
       "    </tr>\n",
       "    <tr>\n",
       "      <th>25%</th>\n",
       "      <td>4247.000000</td>\n",
       "      <td>5.000000</td>\n",
       "      <td>2015.000000</td>\n",
       "      <td>43.000000</td>\n",
       "      <td>0.000000</td>\n",
       "      <td>0.000000</td>\n",
       "      <td>0.000000</td>\n",
       "      <td>0.000000</td>\n",
       "      <td>125000.000000</td>\n",
       "      <td>1.000000</td>\n",
       "      <td>...</td>\n",
       "      <td>3.000000</td>\n",
       "      <td>162.127500</td>\n",
       "      <td>0.000000</td>\n",
       "      <td>6.757500</td>\n",
       "      <td>2.000000</td>\n",
       "      <td>35.000000</td>\n",
       "      <td>0.000000</td>\n",
       "      <td>2.000000</td>\n",
       "      <td>8000.000000</td>\n",
       "      <td>1.000000</td>\n",
       "    </tr>\n",
       "    <tr>\n",
       "      <th>50%</th>\n",
       "      <td>9660.000000</td>\n",
       "      <td>6.000000</td>\n",
       "      <td>2016.000000</td>\n",
       "      <td>43.000000</td>\n",
       "      <td>0.000000</td>\n",
       "      <td>0.000000</td>\n",
       "      <td>0.000000</td>\n",
       "      <td>0.000000</td>\n",
       "      <td>175000.000000</td>\n",
       "      <td>2.000000</td>\n",
       "      <td>...</td>\n",
       "      <td>3.000000</td>\n",
       "      <td>297.805000</td>\n",
       "      <td>0.000000</td>\n",
       "      <td>14.330000</td>\n",
       "      <td>3.000000</td>\n",
       "      <td>45.000000</td>\n",
       "      <td>0.000000</td>\n",
       "      <td>2.000000</td>\n",
       "      <td>10770.000000</td>\n",
       "      <td>1.000000</td>\n",
       "    </tr>\n",
       "    <tr>\n",
       "      <th>75%</th>\n",
       "      <td>14890.500000</td>\n",
       "      <td>8.000000</td>\n",
       "      <td>2017.000000</td>\n",
       "      <td>45.000000</td>\n",
       "      <td>0.000000</td>\n",
       "      <td>0.000000</td>\n",
       "      <td>0.000000</td>\n",
       "      <td>0.000000</td>\n",
       "      <td>237500.000000</td>\n",
       "      <td>2.000000</td>\n",
       "      <td>...</td>\n",
       "      <td>4.000000</td>\n",
       "      <td>418.937500</td>\n",
       "      <td>1.000000</td>\n",
       "      <td>23.562500</td>\n",
       "      <td>4.000000</td>\n",
       "      <td>55.000000</td>\n",
       "      <td>0.000000</td>\n",
       "      <td>3.000000</td>\n",
       "      <td>14306.250000</td>\n",
       "      <td>1.000000</td>\n",
       "    </tr>\n",
       "    <tr>\n",
       "      <th>max</th>\n",
       "      <td>19724.000000</td>\n",
       "      <td>11.000000</td>\n",
       "      <td>2017.000000</td>\n",
       "      <td>45.000000</td>\n",
       "      <td>1.000000</td>\n",
       "      <td>1.000000</td>\n",
       "      <td>1.000000</td>\n",
       "      <td>1.000000</td>\n",
       "      <td>425000.000000</td>\n",
       "      <td>3.000000</td>\n",
       "      <td>...</td>\n",
       "      <td>4.000000</td>\n",
       "      <td>1052.300000</td>\n",
       "      <td>48.000000</td>\n",
       "      <td>99.450000</td>\n",
       "      <td>5.000000</td>\n",
       "      <td>65.000000</td>\n",
       "      <td>1.000000</td>\n",
       "      <td>4.000000</td>\n",
       "      <td>41532.000000</td>\n",
       "      <td>1.000000</td>\n",
       "    </tr>\n",
       "  </tbody>\n",
       "</table>\n",
       "<p>8 rows × 22 columns</p>\n",
       "</div>"
      ],
      "text/plain": [
       "         Unnamed: 0  Month Submitted  Year Submitted  lastpage. Last page  \\\n",
       "count   3504.000000      3504.000000     3504.000000          3504.000000   \n",
       "mean    9662.882705         6.494578     2016.025400            43.544521   \n",
       "std     5937.770130         1.931151        0.833351             1.195320   \n",
       "min        0.000000         4.000000     2015.000000             3.000000   \n",
       "25%     4247.000000         5.000000     2015.000000            43.000000   \n",
       "50%     9660.000000         6.000000     2016.000000            43.000000   \n",
       "75%    14890.500000         8.000000     2017.000000            45.000000   \n",
       "max    19724.000000        11.000000     2017.000000            45.000000   \n",
       "\n",
       "       Previous PHEVs  Previous BEVs  Previous HEVs  Previous CNGs  \\\n",
       "count     3504.000000    3504.000000    3504.000000    3504.000000   \n",
       "mean         0.099315       0.164954       0.212614       0.005708   \n",
       "std          0.299127       0.371192       0.409215       0.075345   \n",
       "min          0.000000       0.000000       0.000000       0.000000   \n",
       "25%          0.000000       0.000000       0.000000       0.000000   \n",
       "50%          0.000000       0.000000       0.000000       0.000000   \n",
       "75%          0.000000       0.000000       0.000000       0.000000   \n",
       "max          1.000000       1.000000       1.000000       1.000000   \n",
       "\n",
       "       Household Income  \\\n",
       "count       3504.000000   \n",
       "mean      195105.593607   \n",
       "std        89142.296972   \n",
       "min        50000.000000   \n",
       "25%       125000.000000   \n",
       "50%       175000.000000   \n",
       "75%       237500.000000   \n",
       "max       425000.000000   \n",
       "\n",
       "       Importance of reducing greenhouse gas emissions (-3 not important, 3 important)  \\\n",
       "count                                        3504.000000                                 \n",
       "mean                                            1.272831                                 \n",
       "std                                             1.214760                                 \n",
       "min                                            -3.000000                                 \n",
       "25%                                             1.000000                                 \n",
       "50%                                             2.000000                                 \n",
       "75%                                             2.000000                                 \n",
       "max                                             3.000000                                 \n",
       "\n",
       "       ...  Highest Level of Education  Longest trip in the last 12 months  \\\n",
       "count  ...                 3504.000000                         3504.000000   \n",
       "mean   ...                    3.387557                          322.725908   \n",
       "std    ...                    0.674078                          196.608604   \n",
       "min    ...                    1.000000                            0.210000   \n",
       "25%    ...                    3.000000                          162.127500   \n",
       "50%    ...                    3.000000                          297.805000   \n",
       "75%    ...                    4.000000                          418.937500   \n",
       "max    ...                    4.000000                         1052.300000   \n",
       "\n",
       "       Number of trips over 200 miles in the last 12 months  \\\n",
       "count                                        3504.000000      \n",
       "mean                                            1.589326      \n",
       "std                                             4.010692      \n",
       "min                                             0.000000      \n",
       "25%                                             0.000000      \n",
       "50%                                             0.000000      \n",
       "75%                                             1.000000      \n",
       "max                                            48.000000      \n",
       "\n",
       "       One-way commute distance  Number of people in the household  \\\n",
       "count               3504.000000                        3504.000000   \n",
       "mean                  17.179247                           2.994292   \n",
       "std                   13.943950                           1.101460   \n",
       "min                    0.000000                           1.000000   \n",
       "25%                    6.757500                           2.000000   \n",
       "50%                   14.330000                           3.000000   \n",
       "75%                   23.562500                           4.000000   \n",
       "max                   99.450000                           5.000000   \n",
       "\n",
       "               Age  Gender (Male 1)  Number of vehicles in the household  \\\n",
       "count  3504.000000      3504.000000                          3504.000000   \n",
       "mean     47.617009         0.231164                             2.433219   \n",
       "std      10.904066         0.421637                             0.723642   \n",
       "min      25.000000         0.000000                             1.000000   \n",
       "25%      35.000000         0.000000                             2.000000   \n",
       "50%      45.000000         0.000000                             2.000000   \n",
       "75%      55.000000         0.000000                             3.000000   \n",
       "max      65.000000         1.000000                             4.000000   \n",
       "\n",
       "       Annual VMT Estimate  FCV, BEV Dummy  \n",
       "count          3504.000000     3504.000000  \n",
       "mean          11795.009132        0.946632  \n",
       "std            5714.595987        0.224797  \n",
       "min              10.000000        0.000000  \n",
       "25%            8000.000000        1.000000  \n",
       "50%           10770.000000        1.000000  \n",
       "75%           14306.250000        1.000000  \n",
       "max           41532.000000        1.000000  \n",
       "\n",
       "[8 rows x 22 columns]"
      ]
     },
     "execution_count": 7,
     "metadata": {},
     "output_type": "execute_result"
    }
   ],
   "source": [
    "fcv_df.describe()"
   ]
  },
  {
   "cell_type": "code",
   "execution_count": 8,
   "metadata": {},
   "outputs": [],
   "source": [
    "fcv_df = fcv_df.drop(columns= 'Unnamed: 0', axis=1)"
   ]
  },
  {
   "cell_type": "code",
   "execution_count": 9,
   "metadata": {
    "scrolled": true
   },
   "outputs": [
    {
     "data": {
      "text/plain": [
       "Index(['Month Submitted', 'Year Submitted', 'lastpage. Last page',\n",
       "       'Previous PHEVs', 'Previous BEVs', 'Previous HEVs', 'Previous CNGs',\n",
       "       'Household Income',\n",
       "       'Importance of reducing greenhouse gas emissions (-3 not important, 3 important)',\n",
       "       'Home ownership (own 1)', 'Home Type (detached 1)',\n",
       "       'Highest Level of Education', 'Longest trip in the last 12 months',\n",
       "       'Number of trips over 200 miles in the last 12 months',\n",
       "       'One-way commute distance', 'Number of people in the household', 'Age',\n",
       "       'Gender (Male 1)', 'Number of vehicles in the household',\n",
       "       'Annual VMT Estimate', 'FCV, BEV Dummy', 'Model Year', 'Manufacturer',\n",
       "       'Model'],\n",
       "      dtype='object')"
      ]
     },
     "execution_count": 9,
     "metadata": {},
     "output_type": "execute_result"
    }
   ],
   "source": [
    "fcv_df.columns"
   ]
  },
  {
   "cell_type": "markdown",
   "metadata": {},
   "source": [
    "# Machine Learning Models"
   ]
  },
  {
   "cell_type": "markdown",
   "metadata": {
    "id": "m3AKvSrM_bwJ"
   },
   "source": [
    "## **Proposed Approach**"
   ]
  },
  {
   "cell_type": "markdown",
   "metadata": {},
   "source": [
    "*1. Potential techniques** \n",
    "\n",
    "- Redoing descriptive analysis of data with dropping outliers and missing values. Interesting to consider the tradeoff of dropping values vs filling with median and mode. Filling with median and mode is useful, because the classification algorithm is looking for vectors of deviation from median or mode, and is probably the best way to treat unknowns. Although, you might gain different insights from classifying only on complete rows (but those might be all “good” loans, so there’s risk there too).\n",
    " - Consider different classifiers to train the data:\n",
    "    * LogisticRegression\n",
    "    * RandomForestClassifier\n",
    "    * GradientBoostingClassifier\n",
    "    * DecisionTreeClassifier\n",
    "    * XGBClassifier\n",
    "   \n",
    "-Consider which of the following metrics should be used:\n",
    "   * Accuracy, Recall, Precision\n",
    "   * F1 Score\n",
    "   * Receiving Operating Characteristics(ROC),Area under the Curve(AUC)\n",
    "   * Log Loss\n",
    "\n",
    "**2. Proposed Model Solution** \n",
    "\n",
    "1. Data preparation\n",
    "    - deal with imbalanced data sets\n",
    "    - use class_weights value in the Decision Tree and Random Forest Classifier hyperparameter value\n",
    "    - Creating dummy variables for the categorical variables - Hot Encoding\n",
    "2. Partition the data into a train and test set\n",
    "    * Identify Independent Variables\n",
    "    * Identify Dependent (Response/Target) Variable\n",
    "    * Separating the independent variables (X) and the dependent variable (Y)\n",
    "    * Split Data - use stratified sampling\n",
    "3. Use Decision Tree and Random Forest Classifer to build a model on the train data.\n",
    "    * Consider entrophy, information gain, and the ginni index\n",
    "    * Use recall to minimize False Negatives\n",
    "    * Use confusion matric to evaluate metrics and thus the model\n",
    "    * Check for overfitting\n",
    "4. Tune the model if required\n",
    "    * list of hyperparameters that can be tuned\n",
    "    * K-fold cross-validation of the parameters- maximize the score and early stopping to avoid overfitting.\n",
    "    * Random Search or Grid Search\n",
    "5. Test the data on the test set.\n",
    "    * Evaluate feature importance\n",
    "    * Evaluate metrics with confusion matrix\n",
    "\n",
    "**3. Measures of success**\n",
    "\n",
    "- Examine testing data on model and comparing its predictions to the actual predictions. \n",
    "- High recall value\n",
    "- Examine feature importance - does it make sense?\n",
    "- How robust is our model?\n"
   ]
  },
  {
   "cell_type": "markdown",
   "metadata": {},
   "source": [
    "# **Model Building - Approach**\n",
    "1. Data preparation\n",
    "2. Partition the data into train and test set\n",
    "3. Fit on the train data\n",
    "4. Tune the model and prune the tree, if required\n",
    "5. Test the model on test set"
   ]
  },
  {
   "cell_type": "markdown",
   "metadata": {},
   "source": [
    "## Data Preprocessing for Modeling\n",
    "\n",
    "* Scaling/Normalizing\n",
    "* Apply encoding on the dataframe data"
   ]
  },
  {
   "cell_type": "code",
   "execution_count": 10,
   "metadata": {},
   "outputs": [],
   "source": [
    "# copy the dataset\n",
    "df = fcv_df.copy()"
   ]
  },
  {
   "cell_type": "markdown",
   "metadata": {},
   "source": [
    "### **Separating the target variable from other variables**"
   ]
  },
  {
   "cell_type": "code",
   "execution_count": 11,
   "metadata": {},
   "outputs": [],
   "source": [
    "le = LabelEncoder()\n",
    "df['Manufacturer'] = le.fit_transform(df['Manufacturer'])\n",
    "df['Model'] = le.fit_transform(df['Model'])"
   ]
  },
  {
   "cell_type": "code",
   "execution_count": 12,
   "metadata": {},
   "outputs": [],
   "source": [
    "# Drop the dependent variable from the dataframe and create the X(independent variable) matrix\n",
    "df = df.drop(['Model Year'], axis = 1)\n",
    "X = df.drop([\"FCV, BEV Dummy\"], axis = 1)\n",
    "# Create y(dependent varibale)\n",
    "y = df[\"FCV, BEV Dummy\"]"
   ]
  },
  {
   "cell_type": "code",
   "execution_count": 73,
   "metadata": {},
   "outputs": [
    {
     "data": {
      "text/plain": [
       "0       0.0\n",
       "1       0.0\n",
       "2       0.0\n",
       "3       0.0\n",
       "4       0.0\n",
       "       ... \n",
       "3499    1.0\n",
       "3500    1.0\n",
       "3501    1.0\n",
       "3502    1.0\n",
       "3503    1.0\n",
       "Name: FCV, BEV Dummy, Length: 3504, dtype: float64"
      ]
     },
     "execution_count": 73,
     "metadata": {},
     "output_type": "execute_result"
    }
   ],
   "source": [
    "y"
   ]
  },
  {
   "cell_type": "markdown",
   "metadata": {},
   "source": [
    "Before we scale, we need to perform the train-test split...or so I thought"
   ]
  },
  {
   "cell_type": "markdown",
   "metadata": {},
   "source": [
    "\n",
    "# Scaling the data\n",
    "\n",
    "\n",
    "std_scale = StandardScaler()\n",
    "X_train_stdscale = std_scale.fit(X)\n",
    "X_train_stdscale = X_train_stdscale.transform(X)\n",
    "\n",
    "X_test_stdscale = std_scale.transform(X_test)\n"
   ]
  },
  {
   "cell_type": "code",
   "execution_count": 13,
   "metadata": {},
   "outputs": [],
   "source": [
    "sc = StandardScaler()\n",
    "\n",
    "X_scaled = sc.fit_transform(X)\n",
    "\n",
    "X_scaled = pd.DataFrame(X_scaled, columns = X.columns)"
   ]
  },
  {
   "cell_type": "code",
   "execution_count": 14,
   "metadata": {},
   "outputs": [],
   "source": [
    "# Split the data into training and test set\n",
    "X_train_stdscale, X_test_stdscale, y_train, y_test = train_test_split(\n",
    "X_scaled, y, test_size = 0.30, random_state = 1, stratify = y)"
   ]
  },
  {
   "cell_type": "markdown",
   "metadata": {},
   "source": [
    "The StandardScaler will scale features to be the standard deviation from the mean for that feature. Thus we have a range of values both positive and negative."
   ]
  },
  {
   "cell_type": "code",
   "execution_count": 15,
   "metadata": {},
   "outputs": [
    {
     "data": {
      "text/html": [
       "<div>\n",
       "<style scoped>\n",
       "    .dataframe tbody tr th:only-of-type {\n",
       "        vertical-align: middle;\n",
       "    }\n",
       "\n",
       "    .dataframe tbody tr th {\n",
       "        vertical-align: top;\n",
       "    }\n",
       "\n",
       "    .dataframe thead th {\n",
       "        text-align: right;\n",
       "    }\n",
       "</style>\n",
       "<table border=\"1\" class=\"dataframe\">\n",
       "  <thead>\n",
       "    <tr style=\"text-align: right;\">\n",
       "      <th></th>\n",
       "      <th>Month Submitted</th>\n",
       "      <th>Year Submitted</th>\n",
       "      <th>lastpage. Last page</th>\n",
       "      <th>Previous PHEVs</th>\n",
       "      <th>Previous BEVs</th>\n",
       "      <th>Previous HEVs</th>\n",
       "      <th>Previous CNGs</th>\n",
       "      <th>Household Income</th>\n",
       "      <th>Importance of reducing greenhouse gas emissions (-3 not important, 3 important)</th>\n",
       "      <th>Home ownership (own 1)</th>\n",
       "      <th>...</th>\n",
       "      <th>Longest trip in the last 12 months</th>\n",
       "      <th>Number of trips over 200 miles in the last 12 months</th>\n",
       "      <th>One-way commute distance</th>\n",
       "      <th>Number of people in the household</th>\n",
       "      <th>Age</th>\n",
       "      <th>Gender (Male 1)</th>\n",
       "      <th>Number of vehicles in the household</th>\n",
       "      <th>Annual VMT Estimate</th>\n",
       "      <th>Manufacturer</th>\n",
       "      <th>Model</th>\n",
       "    </tr>\n",
       "  </thead>\n",
       "  <tbody>\n",
       "    <tr>\n",
       "      <th>2511</th>\n",
       "      <td>-0.256142</td>\n",
       "      <td>1.169663</td>\n",
       "      <td>1.217822</td>\n",
       "      <td>-0.332063</td>\n",
       "      <td>-0.444454</td>\n",
       "      <td>1.92441</td>\n",
       "      <td>-0.075766</td>\n",
       "      <td>2.018347</td>\n",
       "      <td>0.598697</td>\n",
       "      <td>0.408928</td>\n",
       "      <td>...</td>\n",
       "      <td>-1.297615</td>\n",
       "      <td>0.601147</td>\n",
       "      <td>0.399567</td>\n",
       "      <td>0.005183</td>\n",
       "      <td>0.677183</td>\n",
       "      <td>-0.548332</td>\n",
       "      <td>-0.598750</td>\n",
       "      <td>1.085969</td>\n",
       "      <td>0.750497</td>\n",
       "      <td>0.223833</td>\n",
       "    </tr>\n",
       "    <tr>\n",
       "      <th>2465</th>\n",
       "      <td>-0.256142</td>\n",
       "      <td>1.169663</td>\n",
       "      <td>1.217822</td>\n",
       "      <td>-0.332063</td>\n",
       "      <td>-0.444454</td>\n",
       "      <td>-0.51964</td>\n",
       "      <td>-0.075766</td>\n",
       "      <td>-0.786558</td>\n",
       "      <td>0.598697</td>\n",
       "      <td>0.408928</td>\n",
       "      <td>...</td>\n",
       "      <td>2.759093</td>\n",
       "      <td>-0.396329</td>\n",
       "      <td>0.629090</td>\n",
       "      <td>-0.902833</td>\n",
       "      <td>-2.074477</td>\n",
       "      <td>-0.548332</td>\n",
       "      <td>-0.598750</td>\n",
       "      <td>-0.018378</td>\n",
       "      <td>-1.647152</td>\n",
       "      <td>-1.170911</td>\n",
       "    </tr>\n",
       "    <tr>\n",
       "      <th>1239</th>\n",
       "      <td>-0.774041</td>\n",
       "      <td>-1.230630</td>\n",
       "      <td>-0.455609</td>\n",
       "      <td>-0.332063</td>\n",
       "      <td>-0.444454</td>\n",
       "      <td>-0.51964</td>\n",
       "      <td>-0.075766</td>\n",
       "      <td>-0.225577</td>\n",
       "      <td>0.598697</td>\n",
       "      <td>-2.445420</td>\n",
       "      <td>...</td>\n",
       "      <td>-1.278895</td>\n",
       "      <td>-0.396329</td>\n",
       "      <td>-0.276808</td>\n",
       "      <td>-0.902833</td>\n",
       "      <td>-1.157257</td>\n",
       "      <td>-0.548332</td>\n",
       "      <td>-0.598750</td>\n",
       "      <td>0.984285</td>\n",
       "      <td>0.270967</td>\n",
       "      <td>-0.241082</td>\n",
       "    </tr>\n",
       "    <tr>\n",
       "      <th>2734</th>\n",
       "      <td>-0.256142</td>\n",
       "      <td>1.169663</td>\n",
       "      <td>1.217822</td>\n",
       "      <td>-0.332063</td>\n",
       "      <td>2.249952</td>\n",
       "      <td>-0.51964</td>\n",
       "      <td>-0.075766</td>\n",
       "      <td>1.457366</td>\n",
       "      <td>0.598697</td>\n",
       "      <td>0.408928</td>\n",
       "      <td>...</td>\n",
       "      <td>-0.483496</td>\n",
       "      <td>-0.396329</td>\n",
       "      <td>0.603269</td>\n",
       "      <td>0.005183</td>\n",
       "      <td>-0.240037</td>\n",
       "      <td>-0.548332</td>\n",
       "      <td>0.783345</td>\n",
       "      <td>0.560923</td>\n",
       "      <td>0.270967</td>\n",
       "      <td>-0.241082</td>\n",
       "    </tr>\n",
       "    <tr>\n",
       "      <th>153</th>\n",
       "      <td>1.815457</td>\n",
       "      <td>1.169663</td>\n",
       "      <td>-1.292324</td>\n",
       "      <td>-0.332063</td>\n",
       "      <td>-0.444454</td>\n",
       "      <td>-0.51964</td>\n",
       "      <td>-0.075766</td>\n",
       "      <td>-0.225577</td>\n",
       "      <td>0.598697</td>\n",
       "      <td>-2.445420</td>\n",
       "      <td>...</td>\n",
       "      <td>-0.624507</td>\n",
       "      <td>2.097362</td>\n",
       "      <td>1.797506</td>\n",
       "      <td>0.913199</td>\n",
       "      <td>0.677183</td>\n",
       "      <td>-0.548332</td>\n",
       "      <td>0.783345</td>\n",
       "      <td>1.899441</td>\n",
       "      <td>0.990262</td>\n",
       "      <td>-0.008624</td>\n",
       "    </tr>\n",
       "    <tr>\n",
       "      <th>...</th>\n",
       "      <td>...</td>\n",
       "      <td>...</td>\n",
       "      <td>...</td>\n",
       "      <td>...</td>\n",
       "      <td>...</td>\n",
       "      <td>...</td>\n",
       "      <td>...</td>\n",
       "      <td>...</td>\n",
       "      <td>...</td>\n",
       "      <td>...</td>\n",
       "      <td>...</td>\n",
       "      <td>...</td>\n",
       "      <td>...</td>\n",
       "      <td>...</td>\n",
       "      <td>...</td>\n",
       "      <td>...</td>\n",
       "      <td>...</td>\n",
       "      <td>...</td>\n",
       "      <td>...</td>\n",
       "      <td>...</td>\n",
       "      <td>...</td>\n",
       "    </tr>\n",
       "    <tr>\n",
       "      <th>565</th>\n",
       "      <td>-1.291941</td>\n",
       "      <td>-1.230630</td>\n",
       "      <td>-0.455609</td>\n",
       "      <td>-0.332063</td>\n",
       "      <td>-0.444454</td>\n",
       "      <td>-0.51964</td>\n",
       "      <td>-0.075766</td>\n",
       "      <td>0.896385</td>\n",
       "      <td>0.598697</td>\n",
       "      <td>0.408928</td>\n",
       "      <td>...</td>\n",
       "      <td>-0.155691</td>\n",
       "      <td>-0.396329</td>\n",
       "      <td>0.832792</td>\n",
       "      <td>0.913199</td>\n",
       "      <td>-0.240037</td>\n",
       "      <td>-0.548332</td>\n",
       "      <td>0.783345</td>\n",
       "      <td>0.175889</td>\n",
       "      <td>0.270967</td>\n",
       "      <td>-0.241082</td>\n",
       "    </tr>\n",
       "    <tr>\n",
       "      <th>71</th>\n",
       "      <td>-0.256142</td>\n",
       "      <td>1.169663</td>\n",
       "      <td>-1.292324</td>\n",
       "      <td>-0.332063</td>\n",
       "      <td>2.249952</td>\n",
       "      <td>1.92441</td>\n",
       "      <td>-0.075766</td>\n",
       "      <td>0.896385</td>\n",
       "      <td>-0.224629</td>\n",
       "      <td>0.408928</td>\n",
       "      <td>...</td>\n",
       "      <td>-0.767044</td>\n",
       "      <td>1.099886</td>\n",
       "      <td>-1.060772</td>\n",
       "      <td>-1.810849</td>\n",
       "      <td>1.594403</td>\n",
       "      <td>-0.548332</td>\n",
       "      <td>-1.980846</td>\n",
       "      <td>-0.705489</td>\n",
       "      <td>0.990262</td>\n",
       "      <td>-0.008624</td>\n",
       "    </tr>\n",
       "    <tr>\n",
       "      <th>1817</th>\n",
       "      <td>0.779658</td>\n",
       "      <td>-0.030483</td>\n",
       "      <td>-0.455609</td>\n",
       "      <td>-0.332063</td>\n",
       "      <td>-0.444454</td>\n",
       "      <td>-0.51964</td>\n",
       "      <td>-0.075766</td>\n",
       "      <td>0.335404</td>\n",
       "      <td>-1.047954</td>\n",
       "      <td>0.408928</td>\n",
       "      <td>...</td>\n",
       "      <td>-0.195879</td>\n",
       "      <td>-0.396329</td>\n",
       "      <td>0.156417</td>\n",
       "      <td>0.913199</td>\n",
       "      <td>0.677183</td>\n",
       "      <td>-0.548332</td>\n",
       "      <td>0.783345</td>\n",
       "      <td>0.035877</td>\n",
       "      <td>0.270967</td>\n",
       "      <td>-0.241082</td>\n",
       "    </tr>\n",
       "    <tr>\n",
       "      <th>3023</th>\n",
       "      <td>-0.256142</td>\n",
       "      <td>1.169663</td>\n",
       "      <td>1.217822</td>\n",
       "      <td>-0.332063</td>\n",
       "      <td>2.249952</td>\n",
       "      <td>-0.51964</td>\n",
       "      <td>-0.075766</td>\n",
       "      <td>0.335404</td>\n",
       "      <td>0.598697</td>\n",
       "      <td>0.408928</td>\n",
       "      <td>...</td>\n",
       "      <td>0.283263</td>\n",
       "      <td>-0.146960</td>\n",
       "      <td>-1.088746</td>\n",
       "      <td>-0.902833</td>\n",
       "      <td>1.594403</td>\n",
       "      <td>-0.548332</td>\n",
       "      <td>-0.598750</td>\n",
       "      <td>-0.371559</td>\n",
       "      <td>0.750497</td>\n",
       "      <td>0.456290</td>\n",
       "    </tr>\n",
       "    <tr>\n",
       "      <th>582</th>\n",
       "      <td>-1.291941</td>\n",
       "      <td>-1.230630</td>\n",
       "      <td>-0.455609</td>\n",
       "      <td>3.011472</td>\n",
       "      <td>-0.444454</td>\n",
       "      <td>-0.51964</td>\n",
       "      <td>-0.075766</td>\n",
       "      <td>1.457366</td>\n",
       "      <td>-0.224629</td>\n",
       "      <td>0.408928</td>\n",
       "      <td>...</td>\n",
       "      <td>-0.361256</td>\n",
       "      <td>-0.396329</td>\n",
       "      <td>1.052273</td>\n",
       "      <td>0.913199</td>\n",
       "      <td>-0.240037</td>\n",
       "      <td>-0.548332</td>\n",
       "      <td>0.783345</td>\n",
       "      <td>-1.241736</td>\n",
       "      <td>-1.407388</td>\n",
       "      <td>-1.635825</td>\n",
       "    </tr>\n",
       "  </tbody>\n",
       "</table>\n",
       "<p>1052 rows × 22 columns</p>\n",
       "</div>"
      ],
      "text/plain": [
       "      Month Submitted  Year Submitted  lastpage. Last page  Previous PHEVs  \\\n",
       "2511        -0.256142        1.169663             1.217822       -0.332063   \n",
       "2465        -0.256142        1.169663             1.217822       -0.332063   \n",
       "1239        -0.774041       -1.230630            -0.455609       -0.332063   \n",
       "2734        -0.256142        1.169663             1.217822       -0.332063   \n",
       "153          1.815457        1.169663            -1.292324       -0.332063   \n",
       "...               ...             ...                  ...             ...   \n",
       "565         -1.291941       -1.230630            -0.455609       -0.332063   \n",
       "71          -0.256142        1.169663            -1.292324       -0.332063   \n",
       "1817         0.779658       -0.030483            -0.455609       -0.332063   \n",
       "3023        -0.256142        1.169663             1.217822       -0.332063   \n",
       "582         -1.291941       -1.230630            -0.455609        3.011472   \n",
       "\n",
       "      Previous BEVs  Previous HEVs  Previous CNGs  Household Income  \\\n",
       "2511      -0.444454        1.92441      -0.075766          2.018347   \n",
       "2465      -0.444454       -0.51964      -0.075766         -0.786558   \n",
       "1239      -0.444454       -0.51964      -0.075766         -0.225577   \n",
       "2734       2.249952       -0.51964      -0.075766          1.457366   \n",
       "153       -0.444454       -0.51964      -0.075766         -0.225577   \n",
       "...             ...            ...            ...               ...   \n",
       "565       -0.444454       -0.51964      -0.075766          0.896385   \n",
       "71         2.249952        1.92441      -0.075766          0.896385   \n",
       "1817      -0.444454       -0.51964      -0.075766          0.335404   \n",
       "3023       2.249952       -0.51964      -0.075766          0.335404   \n",
       "582       -0.444454       -0.51964      -0.075766          1.457366   \n",
       "\n",
       "      Importance of reducing greenhouse gas emissions (-3 not important, 3 important)  \\\n",
       "2511                                           0.598697                                 \n",
       "2465                                           0.598697                                 \n",
       "1239                                           0.598697                                 \n",
       "2734                                           0.598697                                 \n",
       "153                                            0.598697                                 \n",
       "...                                                 ...                                 \n",
       "565                                            0.598697                                 \n",
       "71                                            -0.224629                                 \n",
       "1817                                          -1.047954                                 \n",
       "3023                                           0.598697                                 \n",
       "582                                           -0.224629                                 \n",
       "\n",
       "      Home ownership (own 1)  ...  Longest trip in the last 12 months  \\\n",
       "2511                0.408928  ...                           -1.297615   \n",
       "2465                0.408928  ...                            2.759093   \n",
       "1239               -2.445420  ...                           -1.278895   \n",
       "2734                0.408928  ...                           -0.483496   \n",
       "153                -2.445420  ...                           -0.624507   \n",
       "...                      ...  ...                                 ...   \n",
       "565                 0.408928  ...                           -0.155691   \n",
       "71                  0.408928  ...                           -0.767044   \n",
       "1817                0.408928  ...                           -0.195879   \n",
       "3023                0.408928  ...                            0.283263   \n",
       "582                 0.408928  ...                           -0.361256   \n",
       "\n",
       "      Number of trips over 200 miles in the last 12 months  \\\n",
       "2511                                           0.601147      \n",
       "2465                                          -0.396329      \n",
       "1239                                          -0.396329      \n",
       "2734                                          -0.396329      \n",
       "153                                            2.097362      \n",
       "...                                                 ...      \n",
       "565                                           -0.396329      \n",
       "71                                             1.099886      \n",
       "1817                                          -0.396329      \n",
       "3023                                          -0.146960      \n",
       "582                                           -0.396329      \n",
       "\n",
       "      One-way commute distance  Number of people in the household       Age  \\\n",
       "2511                  0.399567                           0.005183  0.677183   \n",
       "2465                  0.629090                          -0.902833 -2.074477   \n",
       "1239                 -0.276808                          -0.902833 -1.157257   \n",
       "2734                  0.603269                           0.005183 -0.240037   \n",
       "153                   1.797506                           0.913199  0.677183   \n",
       "...                        ...                                ...       ...   \n",
       "565                   0.832792                           0.913199 -0.240037   \n",
       "71                   -1.060772                          -1.810849  1.594403   \n",
       "1817                  0.156417                           0.913199  0.677183   \n",
       "3023                 -1.088746                          -0.902833  1.594403   \n",
       "582                   1.052273                           0.913199 -0.240037   \n",
       "\n",
       "      Gender (Male 1)  Number of vehicles in the household  \\\n",
       "2511        -0.548332                            -0.598750   \n",
       "2465        -0.548332                            -0.598750   \n",
       "1239        -0.548332                            -0.598750   \n",
       "2734        -0.548332                             0.783345   \n",
       "153         -0.548332                             0.783345   \n",
       "...               ...                                  ...   \n",
       "565         -0.548332                             0.783345   \n",
       "71          -0.548332                            -1.980846   \n",
       "1817        -0.548332                             0.783345   \n",
       "3023        -0.548332                            -0.598750   \n",
       "582         -0.548332                             0.783345   \n",
       "\n",
       "      Annual VMT Estimate  Manufacturer     Model  \n",
       "2511             1.085969      0.750497  0.223833  \n",
       "2465            -0.018378     -1.647152 -1.170911  \n",
       "1239             0.984285      0.270967 -0.241082  \n",
       "2734             0.560923      0.270967 -0.241082  \n",
       "153              1.899441      0.990262 -0.008624  \n",
       "...                   ...           ...       ...  \n",
       "565              0.175889      0.270967 -0.241082  \n",
       "71              -0.705489      0.990262 -0.008624  \n",
       "1817             0.035877      0.270967 -0.241082  \n",
       "3023            -0.371559      0.750497  0.456290  \n",
       "582             -1.241736     -1.407388 -1.635825  \n",
       "\n",
       "[1052 rows x 22 columns]"
      ]
     },
     "execution_count": 15,
     "metadata": {},
     "output_type": "execute_result"
    }
   ],
   "source": [
    "X_test_stdscale"
   ]
  },
  {
   "cell_type": "code",
   "execution_count": 16,
   "metadata": {},
   "outputs": [
    {
     "data": {
      "text/plain": [
       "(1052, 22)"
      ]
     },
     "execution_count": 16,
     "metadata": {},
     "output_type": "execute_result"
    }
   ],
   "source": [
    "X_test_stdscale.shape"
   ]
  },
  {
   "cell_type": "code",
   "execution_count": 17,
   "metadata": {
    "scrolled": true
   },
   "outputs": [
    {
     "data": {
      "text/html": [
       "<div>\n",
       "<style scoped>\n",
       "    .dataframe tbody tr th:only-of-type {\n",
       "        vertical-align: middle;\n",
       "    }\n",
       "\n",
       "    .dataframe tbody tr th {\n",
       "        vertical-align: top;\n",
       "    }\n",
       "\n",
       "    .dataframe thead th {\n",
       "        text-align: right;\n",
       "    }\n",
       "</style>\n",
       "<table border=\"1\" class=\"dataframe\">\n",
       "  <thead>\n",
       "    <tr style=\"text-align: right;\">\n",
       "      <th></th>\n",
       "      <th>Month Submitted</th>\n",
       "      <th>Year Submitted</th>\n",
       "      <th>lastpage. Last page</th>\n",
       "      <th>Previous PHEVs</th>\n",
       "      <th>Previous BEVs</th>\n",
       "      <th>Previous HEVs</th>\n",
       "      <th>Previous CNGs</th>\n",
       "      <th>Household Income</th>\n",
       "      <th>Importance of reducing greenhouse gas emissions (-3 not important, 3 important)</th>\n",
       "      <th>Home ownership (own 1)</th>\n",
       "      <th>...</th>\n",
       "      <th>Longest trip in the last 12 months</th>\n",
       "      <th>Number of trips over 200 miles in the last 12 months</th>\n",
       "      <th>One-way commute distance</th>\n",
       "      <th>Number of people in the household</th>\n",
       "      <th>Age</th>\n",
       "      <th>Gender (Male 1)</th>\n",
       "      <th>Number of vehicles in the household</th>\n",
       "      <th>Annual VMT Estimate</th>\n",
       "      <th>Manufacturer</th>\n",
       "      <th>Model</th>\n",
       "    </tr>\n",
       "  </thead>\n",
       "  <tbody>\n",
       "    <tr>\n",
       "      <th>1857</th>\n",
       "      <td>1.297558</td>\n",
       "      <td>-0.030483</td>\n",
       "      <td>-0.455609</td>\n",
       "      <td>-0.332063</td>\n",
       "      <td>-0.444454</td>\n",
       "      <td>-0.51964</td>\n",
       "      <td>-0.075766</td>\n",
       "      <td>0.335404</td>\n",
       "      <td>0.598697</td>\n",
       "      <td>0.408928</td>\n",
       "      <td>...</td>\n",
       "      <td>0.163567</td>\n",
       "      <td>-0.396329</td>\n",
       "      <td>0.450493</td>\n",
       "      <td>1.821214</td>\n",
       "      <td>-0.240037</td>\n",
       "      <td>1.823712</td>\n",
       "      <td>0.783345</td>\n",
       "      <td>0.125134</td>\n",
       "      <td>0.270967</td>\n",
       "      <td>-0.241082</td>\n",
       "    </tr>\n",
       "    <tr>\n",
       "      <th>2284</th>\n",
       "      <td>1.297558</td>\n",
       "      <td>-0.030483</td>\n",
       "      <td>-0.455609</td>\n",
       "      <td>-0.332063</td>\n",
       "      <td>-0.444454</td>\n",
       "      <td>1.92441</td>\n",
       "      <td>-0.075766</td>\n",
       "      <td>-0.225577</td>\n",
       "      <td>0.598697</td>\n",
       "      <td>0.408928</td>\n",
       "      <td>...</td>\n",
       "      <td>-0.572009</td>\n",
       "      <td>0.102409</td>\n",
       "      <td>-0.807580</td>\n",
       "      <td>-0.902833</td>\n",
       "      <td>1.594403</td>\n",
       "      <td>-0.548332</td>\n",
       "      <td>0.783345</td>\n",
       "      <td>-0.161016</td>\n",
       "      <td>0.750497</td>\n",
       "      <td>0.223833</td>\n",
       "    </tr>\n",
       "    <tr>\n",
       "      <th>3015</th>\n",
       "      <td>-0.256142</td>\n",
       "      <td>1.169663</td>\n",
       "      <td>1.217822</td>\n",
       "      <td>-0.332063</td>\n",
       "      <td>2.249952</td>\n",
       "      <td>-0.51964</td>\n",
       "      <td>-0.075766</td>\n",
       "      <td>0.335404</td>\n",
       "      <td>0.598697</td>\n",
       "      <td>0.408928</td>\n",
       "      <td>...</td>\n",
       "      <td>-0.615808</td>\n",
       "      <td>-0.396329</td>\n",
       "      <td>-0.944576</td>\n",
       "      <td>-0.902833</td>\n",
       "      <td>0.677183</td>\n",
       "      <td>-0.548332</td>\n",
       "      <td>-0.598750</td>\n",
       "      <td>-0.739617</td>\n",
       "      <td>1.230027</td>\n",
       "      <td>1.851034</td>\n",
       "    </tr>\n",
       "    <tr>\n",
       "      <th>1428</th>\n",
       "      <td>-0.256142</td>\n",
       "      <td>-0.030483</td>\n",
       "      <td>-0.455609</td>\n",
       "      <td>-0.332063</td>\n",
       "      <td>2.249952</td>\n",
       "      <td>-0.51964</td>\n",
       "      <td>-0.075766</td>\n",
       "      <td>1.457366</td>\n",
       "      <td>0.598697</td>\n",
       "      <td>0.408928</td>\n",
       "      <td>...</td>\n",
       "      <td>-0.997229</td>\n",
       "      <td>0.850517</td>\n",
       "      <td>-0.914452</td>\n",
       "      <td>-1.810849</td>\n",
       "      <td>0.677183</td>\n",
       "      <td>-0.548332</td>\n",
       "      <td>-0.598750</td>\n",
       "      <td>-0.765519</td>\n",
       "      <td>0.750497</td>\n",
       "      <td>0.223833</td>\n",
       "    </tr>\n",
       "    <tr>\n",
       "      <th>2375</th>\n",
       "      <td>1.297558</td>\n",
       "      <td>-0.030483</td>\n",
       "      <td>-0.455609</td>\n",
       "      <td>-0.332063</td>\n",
       "      <td>-0.444454</td>\n",
       "      <td>-0.51964</td>\n",
       "      <td>-0.075766</td>\n",
       "      <td>-0.225577</td>\n",
       "      <td>-1.047954</td>\n",
       "      <td>0.408928</td>\n",
       "      <td>...</td>\n",
       "      <td>-0.038182</td>\n",
       "      <td>-0.396329</td>\n",
       "      <td>-0.725095</td>\n",
       "      <td>0.005183</td>\n",
       "      <td>-1.157257</td>\n",
       "      <td>-0.548332</td>\n",
       "      <td>-0.598750</td>\n",
       "      <td>-1.020517</td>\n",
       "      <td>1.230027</td>\n",
       "      <td>1.851034</td>\n",
       "    </tr>\n",
       "    <tr>\n",
       "      <th>...</th>\n",
       "      <td>...</td>\n",
       "      <td>...</td>\n",
       "      <td>...</td>\n",
       "      <td>...</td>\n",
       "      <td>...</td>\n",
       "      <td>...</td>\n",
       "      <td>...</td>\n",
       "      <td>...</td>\n",
       "      <td>...</td>\n",
       "      <td>...</td>\n",
       "      <td>...</td>\n",
       "      <td>...</td>\n",
       "      <td>...</td>\n",
       "      <td>...</td>\n",
       "      <td>...</td>\n",
       "      <td>...</td>\n",
       "      <td>...</td>\n",
       "      <td>...</td>\n",
       "      <td>...</td>\n",
       "      <td>...</td>\n",
       "      <td>...</td>\n",
       "    </tr>\n",
       "    <tr>\n",
       "      <th>517</th>\n",
       "      <td>-1.291941</td>\n",
       "      <td>-1.230630</td>\n",
       "      <td>-0.455609</td>\n",
       "      <td>-0.332063</td>\n",
       "      <td>-0.444454</td>\n",
       "      <td>-0.51964</td>\n",
       "      <td>-0.075766</td>\n",
       "      <td>-0.225577</td>\n",
       "      <td>0.598697</td>\n",
       "      <td>0.408928</td>\n",
       "      <td>...</td>\n",
       "      <td>-0.370158</td>\n",
       "      <td>-0.396329</td>\n",
       "      <td>-0.161329</td>\n",
       "      <td>0.005183</td>\n",
       "      <td>0.677183</td>\n",
       "      <td>-0.548332</td>\n",
       "      <td>0.783345</td>\n",
       "      <td>-0.314154</td>\n",
       "      <td>0.270967</td>\n",
       "      <td>-0.241082</td>\n",
       "    </tr>\n",
       "    <tr>\n",
       "      <th>2514</th>\n",
       "      <td>-0.256142</td>\n",
       "      <td>1.169663</td>\n",
       "      <td>1.217822</td>\n",
       "      <td>3.011472</td>\n",
       "      <td>-0.444454</td>\n",
       "      <td>-0.51964</td>\n",
       "      <td>-0.075766</td>\n",
       "      <td>2.018347</td>\n",
       "      <td>0.598697</td>\n",
       "      <td>0.408928</td>\n",
       "      <td>...</td>\n",
       "      <td>-0.331904</td>\n",
       "      <td>0.601147</td>\n",
       "      <td>-0.167785</td>\n",
       "      <td>0.913199</td>\n",
       "      <td>0.677183</td>\n",
       "      <td>-0.548332</td>\n",
       "      <td>0.783345</td>\n",
       "      <td>0.795969</td>\n",
       "      <td>0.750497</td>\n",
       "      <td>0.223833</td>\n",
       "    </tr>\n",
       "    <tr>\n",
       "      <th>297</th>\n",
       "      <td>-1.291941</td>\n",
       "      <td>-1.230630</td>\n",
       "      <td>-0.455609</td>\n",
       "      <td>-0.332063</td>\n",
       "      <td>2.249952</td>\n",
       "      <td>1.92441</td>\n",
       "      <td>-0.075766</td>\n",
       "      <td>0.335404</td>\n",
       "      <td>0.598697</td>\n",
       "      <td>0.408928</td>\n",
       "      <td>...</td>\n",
       "      <td>0.673282</td>\n",
       "      <td>-0.396329</td>\n",
       "      <td>-0.117576</td>\n",
       "      <td>0.005183</td>\n",
       "      <td>0.677183</td>\n",
       "      <td>-0.548332</td>\n",
       "      <td>-0.598750</td>\n",
       "      <td>0.035877</td>\n",
       "      <td>0.990262</td>\n",
       "      <td>0.688748</td>\n",
       "    </tr>\n",
       "    <tr>\n",
       "      <th>148</th>\n",
       "      <td>1.815457</td>\n",
       "      <td>1.169663</td>\n",
       "      <td>-1.292324</td>\n",
       "      <td>-0.332063</td>\n",
       "      <td>2.249952</td>\n",
       "      <td>-0.51964</td>\n",
       "      <td>-0.075766</td>\n",
       "      <td>-1.628030</td>\n",
       "      <td>0.598697</td>\n",
       "      <td>0.408928</td>\n",
       "      <td>...</td>\n",
       "      <td>0.296490</td>\n",
       "      <td>0.102409</td>\n",
       "      <td>-0.530001</td>\n",
       "      <td>-0.902833</td>\n",
       "      <td>1.594403</td>\n",
       "      <td>-0.548332</td>\n",
       "      <td>0.783345</td>\n",
       "      <td>1.400997</td>\n",
       "      <td>0.990262</td>\n",
       "      <td>-0.008624</td>\n",
       "    </tr>\n",
       "    <tr>\n",
       "      <th>2604</th>\n",
       "      <td>-0.256142</td>\n",
       "      <td>1.169663</td>\n",
       "      <td>0.381107</td>\n",
       "      <td>-0.332063</td>\n",
       "      <td>-0.444454</td>\n",
       "      <td>-0.51964</td>\n",
       "      <td>-0.075766</td>\n",
       "      <td>-0.786558</td>\n",
       "      <td>-1.047954</td>\n",
       "      <td>0.408928</td>\n",
       "      <td>...</td>\n",
       "      <td>0.799744</td>\n",
       "      <td>0.102409</td>\n",
       "      <td>0.952574</td>\n",
       "      <td>0.913199</td>\n",
       "      <td>-0.240037</td>\n",
       "      <td>-0.548332</td>\n",
       "      <td>0.783345</td>\n",
       "      <td>1.709025</td>\n",
       "      <td>0.750497</td>\n",
       "      <td>0.223833</td>\n",
       "    </tr>\n",
       "  </tbody>\n",
       "</table>\n",
       "<p>2452 rows × 22 columns</p>\n",
       "</div>"
      ],
      "text/plain": [
       "      Month Submitted  Year Submitted  lastpage. Last page  Previous PHEVs  \\\n",
       "1857         1.297558       -0.030483            -0.455609       -0.332063   \n",
       "2284         1.297558       -0.030483            -0.455609       -0.332063   \n",
       "3015        -0.256142        1.169663             1.217822       -0.332063   \n",
       "1428        -0.256142       -0.030483            -0.455609       -0.332063   \n",
       "2375         1.297558       -0.030483            -0.455609       -0.332063   \n",
       "...               ...             ...                  ...             ...   \n",
       "517         -1.291941       -1.230630            -0.455609       -0.332063   \n",
       "2514        -0.256142        1.169663             1.217822        3.011472   \n",
       "297         -1.291941       -1.230630            -0.455609       -0.332063   \n",
       "148          1.815457        1.169663            -1.292324       -0.332063   \n",
       "2604        -0.256142        1.169663             0.381107       -0.332063   \n",
       "\n",
       "      Previous BEVs  Previous HEVs  Previous CNGs  Household Income  \\\n",
       "1857      -0.444454       -0.51964      -0.075766          0.335404   \n",
       "2284      -0.444454        1.92441      -0.075766         -0.225577   \n",
       "3015       2.249952       -0.51964      -0.075766          0.335404   \n",
       "1428       2.249952       -0.51964      -0.075766          1.457366   \n",
       "2375      -0.444454       -0.51964      -0.075766         -0.225577   \n",
       "...             ...            ...            ...               ...   \n",
       "517       -0.444454       -0.51964      -0.075766         -0.225577   \n",
       "2514      -0.444454       -0.51964      -0.075766          2.018347   \n",
       "297        2.249952        1.92441      -0.075766          0.335404   \n",
       "148        2.249952       -0.51964      -0.075766         -1.628030   \n",
       "2604      -0.444454       -0.51964      -0.075766         -0.786558   \n",
       "\n",
       "      Importance of reducing greenhouse gas emissions (-3 not important, 3 important)  \\\n",
       "1857                                           0.598697                                 \n",
       "2284                                           0.598697                                 \n",
       "3015                                           0.598697                                 \n",
       "1428                                           0.598697                                 \n",
       "2375                                          -1.047954                                 \n",
       "...                                                 ...                                 \n",
       "517                                            0.598697                                 \n",
       "2514                                           0.598697                                 \n",
       "297                                            0.598697                                 \n",
       "148                                            0.598697                                 \n",
       "2604                                          -1.047954                                 \n",
       "\n",
       "      Home ownership (own 1)  ...  Longest trip in the last 12 months  \\\n",
       "1857                0.408928  ...                            0.163567   \n",
       "2284                0.408928  ...                           -0.572009   \n",
       "3015                0.408928  ...                           -0.615808   \n",
       "1428                0.408928  ...                           -0.997229   \n",
       "2375                0.408928  ...                           -0.038182   \n",
       "...                      ...  ...                                 ...   \n",
       "517                 0.408928  ...                           -0.370158   \n",
       "2514                0.408928  ...                           -0.331904   \n",
       "297                 0.408928  ...                            0.673282   \n",
       "148                 0.408928  ...                            0.296490   \n",
       "2604                0.408928  ...                            0.799744   \n",
       "\n",
       "      Number of trips over 200 miles in the last 12 months  \\\n",
       "1857                                          -0.396329      \n",
       "2284                                           0.102409      \n",
       "3015                                          -0.396329      \n",
       "1428                                           0.850517      \n",
       "2375                                          -0.396329      \n",
       "...                                                 ...      \n",
       "517                                           -0.396329      \n",
       "2514                                           0.601147      \n",
       "297                                           -0.396329      \n",
       "148                                            0.102409      \n",
       "2604                                           0.102409      \n",
       "\n",
       "      One-way commute distance  Number of people in the household       Age  \\\n",
       "1857                  0.450493                           1.821214 -0.240037   \n",
       "2284                 -0.807580                          -0.902833  1.594403   \n",
       "3015                 -0.944576                          -0.902833  0.677183   \n",
       "1428                 -0.914452                          -1.810849  0.677183   \n",
       "2375                 -0.725095                           0.005183 -1.157257   \n",
       "...                        ...                                ...       ...   \n",
       "517                  -0.161329                           0.005183  0.677183   \n",
       "2514                 -0.167785                           0.913199  0.677183   \n",
       "297                  -0.117576                           0.005183  0.677183   \n",
       "148                  -0.530001                          -0.902833  1.594403   \n",
       "2604                  0.952574                           0.913199 -0.240037   \n",
       "\n",
       "      Gender (Male 1)  Number of vehicles in the household  \\\n",
       "1857         1.823712                             0.783345   \n",
       "2284        -0.548332                             0.783345   \n",
       "3015        -0.548332                            -0.598750   \n",
       "1428        -0.548332                            -0.598750   \n",
       "2375        -0.548332                            -0.598750   \n",
       "...               ...                                  ...   \n",
       "517         -0.548332                             0.783345   \n",
       "2514        -0.548332                             0.783345   \n",
       "297         -0.548332                            -0.598750   \n",
       "148         -0.548332                             0.783345   \n",
       "2604        -0.548332                             0.783345   \n",
       "\n",
       "      Annual VMT Estimate  Manufacturer     Model  \n",
       "1857             0.125134      0.270967 -0.241082  \n",
       "2284            -0.161016      0.750497  0.223833  \n",
       "3015            -0.739617      1.230027  1.851034  \n",
       "1428            -0.765519      0.750497  0.223833  \n",
       "2375            -1.020517      1.230027  1.851034  \n",
       "...                   ...           ...       ...  \n",
       "517             -0.314154      0.270967 -0.241082  \n",
       "2514             0.795969      0.750497  0.223833  \n",
       "297              0.035877      0.990262  0.688748  \n",
       "148              1.400997      0.990262 -0.008624  \n",
       "2604             1.709025      0.750497  0.223833  \n",
       "\n",
       "[2452 rows x 22 columns]"
      ]
     },
     "execution_count": 17,
     "metadata": {},
     "output_type": "execute_result"
    }
   ],
   "source": [
    "X_train_stdscale"
   ]
  },
  {
   "cell_type": "code",
   "execution_count": 18,
   "metadata": {},
   "outputs": [
    {
     "data": {
      "text/plain": [
       "(2452, 22)"
      ]
     },
     "execution_count": 18,
     "metadata": {},
     "output_type": "execute_result"
    }
   ],
   "source": [
    "X_train_stdscale.shape"
   ]
  },
  {
   "cell_type": "markdown",
   "metadata": {},
   "source": [
    "## **Model Evaluation Criterion**\n",
    "\n",
    "#### After understanding the problem statement, think about which evaluation metrics to consider and why. "
   ]
  },
  {
   "cell_type": "code",
   "execution_count": 19,
   "metadata": {},
   "outputs": [],
   "source": [
    "#creating metric function \n",
    "def metrics_score(actual, predicted):\n",
    "    print(classification_report(actual, predicted))\n",
    "    cm = confusion_matrix(actual, predicted)\n",
    "    plt.figure(figsize=(8,5))\n",
    "    sns.heatmap(cm, annot=True,  fmt='.2f', xticklabels=['FCV(1)', 'BEV (0)'], yticklabels=['FCV (1)', 'BEV (0)'])\n",
    "    plt.ylabel('Predicted')\n",
    "    plt.xlabel('Actual')\n",
    "    plt.show()"
   ]
  },
  {
   "cell_type": "code",
   "execution_count": 20,
   "metadata": {},
   "outputs": [],
   "source": [
    "def model_performance_classification(model, predictors, target):\n",
    "    \"\"\"\n",
    "    Function to compute different metrics to check classification model performance\n",
    "    model: classifier\n",
    "    predictors: independent variables\n",
    "    target: dependent variable\n",
    "    \"\"\"\n",
    "\n",
    "    # Predicting using the independent variables\n",
    "    pred = model.predict(predictors)\n",
    "    recall = recall_score(target, pred,average = 'macro')              # To compute recall\n",
    "    precision = precision_score(target, pred, average = 'macro')       # To compute precision\n",
    "    acc = accuracy_score(target, pred)                                 # To compute accuracy score\n",
    "    \n",
    "    # Creating a dataframe of metrics\n",
    "    df_perf = pd.DataFrame(\n",
    "        {\n",
    "            \"Precision\":  precision,\n",
    "            \"Recall\":  recall,\n",
    "            \"Accuracy\": acc,\n",
    "        },\n",
    "        \n",
    "        index = [0],\n",
    "    )\n",
    "    return df_perf"
   ]
  },
  {
   "cell_type": "code",
   "execution_count": 21,
   "metadata": {},
   "outputs": [],
   "source": [
    "##  Function to calculate recall score\n",
    "def get_accuracy_score2(model, predictors, target):\n",
    "    \"\"\"\n",
    "    model: classifier\n",
    "    predictors: independent variables\n",
    "    target: dependent variable\n",
    "    \n",
    "    Function name: get_accuracy_score\n",
    "    Determine the accuracy score from the confusion matrix\n",
    "\n",
    "    Accuracy = TP + TN/(TP + FN + TN + FP)  \n",
    "    \"\"\"\n",
    "    prediction = model.predict(predictors)\n",
    "    return accuracy_score(target, prediction)"
   ]
  },
  {
   "cell_type": "markdown",
   "metadata": {},
   "source": [
    "## Predictive Analysis/Building Models"
   ]
  },
  {
   "cell_type": "markdown",
   "metadata": {},
   "source": [
    "### **Build a Logistic Regression Model** "
   ]
  },
  {
   "cell_type": "markdown",
   "metadata": {},
   "source": [
    "- **Typically tree based classifiers are not influenced by outliers and null values. Logistical regression must deal with outliers and null values.**"
   ]
  },
  {
   "cell_type": "markdown",
   "metadata": {},
   "source": [
    "Logistic Regression is a supervised learning algorithm, generally used for **binary classification problems**, i.e., where the dependent variable is categorical and has only two possible values. In logistic regression, we use the sigmoid function to calculate the probability of an event Y, given some features X as:\n",
    "\n",
    "                                          P(Y)=1/(1 + exp(-X))"
   ]
  },
  {
   "cell_type": "code",
   "execution_count": 22,
   "metadata": {},
   "outputs": [
    {
     "data": {
      "text/plain": [
       "LogisticRegression()"
      ]
     },
     "execution_count": 22,
     "metadata": {},
     "output_type": "execute_result"
    }
   ],
   "source": [
    "# Defining the Logistic regression model\n",
    "lg = LogisticRegression()\n",
    "# Fitting the model on the training data \n",
    "lg.fit(X_train_stdscale,y_train)"
   ]
  },
  {
   "cell_type": "code",
   "execution_count": 23,
   "metadata": {},
   "outputs": [
    {
     "name": "stdout",
     "output_type": "stream",
     "text": [
      "              precision    recall  f1-score   support\n",
      "\n",
      "         0.0       0.99      1.00      1.00       131\n",
      "         1.0       1.00      1.00      1.00      2321\n",
      "\n",
      "    accuracy                           1.00      2452\n",
      "   macro avg       1.00      1.00      1.00      2452\n",
      "weighted avg       1.00      1.00      1.00      2452\n",
      "\n"
     ]
    },
    {
     "data": {
      "image/png": "[encoded data removed]",
      "text/plain": [
       "<Figure size 800x500 with 2 Axes>"
      ]
     },
     "metadata": {},
     "output_type": "display_data"
    }
   ],
   "source": [
    "#Predict for train set\n",
    "y_pred_train = lg.predict(X_train_stdscale)\n",
    "\n",
    "# Checking the performance on the training data\n",
    "metrics_score(y_train, y_pred_train)"
   ]
  },
  {
   "cell_type": "code",
   "execution_count": 24,
   "metadata": {},
   "outputs": [
    {
     "name": "stdout",
     "output_type": "stream",
     "text": [
      "              precision    recall  f1-score   support\n",
      "\n",
      "         0.0       1.00      1.00      1.00        56\n",
      "         1.0       1.00      1.00      1.00       996\n",
      "\n",
      "    accuracy                           1.00      1052\n",
      "   macro avg       1.00      1.00      1.00      1052\n",
      "weighted avg       1.00      1.00      1.00      1052\n",
      "\n"
     ]
    },
    {
     "data": {
      "image/png": "[encoded data removed]",
      "text/plain": [
       "<Figure size 800x500 with 2 Axes>"
      ]
     },
     "metadata": {},
     "output_type": "display_data"
    }
   ],
   "source": [
    "#Predict for test set\n",
    "# Checking the performance on the test dataset\n",
    "y_pred_test = lg.predict(X_test_stdscale)\n",
    "metrics_score(y_test, y_pred_test)"
   ]
  },
  {
   "cell_type": "code",
   "execution_count": 25,
   "metadata": {},
   "outputs": [
    {
     "name": "stdout",
     "output_type": "stream",
     "text": [
      "Accuracy Score: 1.0\n"
     ]
    }
   ],
   "source": [
    "print(\"Accuracy Score:\", get_accuracy_score2(lg, X_test_stdscale, y_test))"
   ]
  },
  {
   "cell_type": "code",
   "execution_count": 26,
   "metadata": {},
   "outputs": [
    {
     "data": {
      "text/html": [
       "<div>\n",
       "<style scoped>\n",
       "    .dataframe tbody tr th:only-of-type {\n",
       "        vertical-align: middle;\n",
       "    }\n",
       "\n",
       "    .dataframe tbody tr th {\n",
       "        vertical-align: top;\n",
       "    }\n",
       "\n",
       "    .dataframe thead th {\n",
       "        text-align: right;\n",
       "    }\n",
       "</style>\n",
       "<table border=\"1\" class=\"dataframe\">\n",
       "  <thead>\n",
       "    <tr style=\"text-align: right;\">\n",
       "      <th></th>\n",
       "      <th>0</th>\n",
       "    </tr>\n",
       "  </thead>\n",
       "  <tbody>\n",
       "    <tr>\n",
       "      <th>lastpage. Last page</th>\n",
       "      <td>2.169915</td>\n",
       "    </tr>\n",
       "    <tr>\n",
       "      <th>Previous BEVs</th>\n",
       "      <td>0.151041</td>\n",
       "    </tr>\n",
       "    <tr>\n",
       "      <th>Longest trip in the last 12 months</th>\n",
       "      <td>0.123237</td>\n",
       "    </tr>\n",
       "    <tr>\n",
       "      <th>Home Type (detached 1)</th>\n",
       "      <td>0.107794</td>\n",
       "    </tr>\n",
       "    <tr>\n",
       "      <th>Number of people in the household</th>\n",
       "      <td>0.087680</td>\n",
       "    </tr>\n",
       "    <tr>\n",
       "      <th>Home ownership (own 1)</th>\n",
       "      <td>0.075245</td>\n",
       "    </tr>\n",
       "    <tr>\n",
       "      <th>One-way commute distance</th>\n",
       "      <td>0.067670</td>\n",
       "    </tr>\n",
       "    <tr>\n",
       "      <th>Gender (Male 1)</th>\n",
       "      <td>0.065158</td>\n",
       "    </tr>\n",
       "    <tr>\n",
       "      <th>Household Income</th>\n",
       "      <td>0.041726</td>\n",
       "    </tr>\n",
       "    <tr>\n",
       "      <th>Model</th>\n",
       "      <td>0.007782</td>\n",
       "    </tr>\n",
       "    <tr>\n",
       "      <th>Number of trips over 200 miles in the last 12 months</th>\n",
       "      <td>0.002188</td>\n",
       "    </tr>\n",
       "    <tr>\n",
       "      <th>Previous CNGs</th>\n",
       "      <td>-0.033265</td>\n",
       "    </tr>\n",
       "    <tr>\n",
       "      <th>Previous PHEVs</th>\n",
       "      <td>-0.038702</td>\n",
       "    </tr>\n",
       "    <tr>\n",
       "      <th>Month Submitted</th>\n",
       "      <td>-0.059791</td>\n",
       "    </tr>\n",
       "    <tr>\n",
       "      <th>Highest Level of Education</th>\n",
       "      <td>-0.072092</td>\n",
       "    </tr>\n",
       "    <tr>\n",
       "      <th>Number of vehicles in the household</th>\n",
       "      <td>-0.079211</td>\n",
       "    </tr>\n",
       "    <tr>\n",
       "      <th>Previous HEVs</th>\n",
       "      <td>-0.084680</td>\n",
       "    </tr>\n",
       "    <tr>\n",
       "      <th>Importance of reducing greenhouse gas emissions (-3 not important, 3 important)</th>\n",
       "      <td>-0.151594</td>\n",
       "    </tr>\n",
       "    <tr>\n",
       "      <th>Age</th>\n",
       "      <td>-0.231094</td>\n",
       "    </tr>\n",
       "    <tr>\n",
       "      <th>Annual VMT Estimate</th>\n",
       "      <td>-0.249160</td>\n",
       "    </tr>\n",
       "    <tr>\n",
       "      <th>Manufacturer</th>\n",
       "      <td>-0.686383</td>\n",
       "    </tr>\n",
       "    <tr>\n",
       "      <th>Year Submitted</th>\n",
       "      <td>-4.369054</td>\n",
       "    </tr>\n",
       "  </tbody>\n",
       "</table>\n",
       "</div>"
      ],
      "text/plain": [
       "                                                           0\n",
       "lastpage. Last page                                 2.169915\n",
       "Previous BEVs                                       0.151041\n",
       "Longest trip in the last 12 months                  0.123237\n",
       "Home Type (detached 1)                              0.107794\n",
       "Number of people in the household                   0.087680\n",
       "Home ownership (own 1)                              0.075245\n",
       "One-way commute distance                            0.067670\n",
       "Gender (Male 1)                                     0.065158\n",
       "Household Income                                    0.041726\n",
       "Model                                               0.007782\n",
       "Number of trips over 200 miles in the last 12 m...  0.002188\n",
       "Previous CNGs                                      -0.033265\n",
       "Previous PHEVs                                     -0.038702\n",
       "Month Submitted                                    -0.059791\n",
       "Highest Level of Education                         -0.072092\n",
       "Number of vehicles in the household                -0.079211\n",
       "Previous HEVs                                      -0.084680\n",
       "Importance of reducing greenhouse gas emissions... -0.151594\n",
       "Age                                                -0.231094\n",
       "Annual VMT Estimate                                -0.249160\n",
       "Manufacturer                                       -0.686383\n",
       "Year Submitted                                     -4.369054"
      ]
     },
     "execution_count": 26,
     "metadata": {},
     "output_type": "execute_result"
    }
   ],
   "source": [
    "# Printing the coefficients of logistic regression\n",
    "cols = X.columns\n",
    "coef_lg = lg.coef_\n",
    "pd.DataFrame(coef_lg,columns = cols).T.sort_values(by = 0, ascending = False)"
   ]
  },
  {
   "cell_type": "markdown",
   "metadata": {},
   "source": [
    "### **Determine the optimal threshold:**\n",
    "- The above Logistic regression model was build on the threshold of 0.5, can we use different threshold? We can try a different threshold by running a precision-recal curve. \n",
    "- How does, accuracy, precision and recall change on the threshold?"
   ]
  },
  {
   "cell_type": "markdown",
   "metadata": {},
   "source": [
    "### **The Precision-Recall Curve for Logistic Regression**"
   ]
  },
  {
   "cell_type": "markdown",
   "metadata": {},
   "source": [
    "\n",
    "y_scores_lg = lg.predict_proba(x_train) # predict_proba gives the probability of each observation belonging to each class\n",
    "\n",
    "\n",
    "precisions_lg, recalls_lg, thresholds_lg = precision_recall_curve(y_train, y_scores_lg[:, 1])\n",
    "\n",
    "# Plot values of precisions, recalls, and thresholds\n",
    "plt.figure(figsize = (10, 7))\n",
    "\n",
    "plt.plot(thresholds_lg, precisions_lg[:-1], 'b--', label = 'precision')\n",
    "\n",
    "plt.plot(thresholds_lg, recalls_lg[:-1], 'g--', label = 'recall')\n",
    "\n",
    "plt.xlabel('Threshold')\n",
    "\n",
    "plt.legend(loc = 'upper left')"
   ]
  },
  {
   "cell_type": "code",
   "execution_count": 27,
   "metadata": {},
   "outputs": [
    {
     "data": {
      "image/png": "[encoded data removed]",
      "text/plain": [
       "<Figure size 1000x700 with 1 Axes>"
      ]
     },
     "metadata": {},
     "output_type": "display_data"
    }
   ],
   "source": [
    "from sklearn import metrics\n",
    "from sklearn.metrics import precision_recall_curve\n",
    "\n",
    "\n",
    "\n",
    "y_scores_lg = lg.predict_proba(X_train_stdscale) # predict_proba gives the probability of each observation belonging to each class\n",
    "\n",
    "\n",
    "precisions_lg, recalls_lg, thresholds_lg = precision_recall_curve(y_train, y_scores_lg[:, 1])\n",
    "\n",
    "# Plot values of precisions, recalls, and thresholds\n",
    "plt.figure(figsize = (10, 7))\n",
    "\n",
    "plt.plot(thresholds_lg, precisions_lg[:-1], 'b--', label = 'precision')\n",
    "\n",
    "plt.plot(thresholds_lg, recalls_lg[:-1], 'g--', label = 'recall')\n",
    "\n",
    "plt.xlabel('Threshold')\n",
    "\n",
    "plt.legend(loc = 'upper left')\n",
    "\n",
    "plt.ylim([0, 1])\n",
    "\n",
    "plt.show()"
   ]
  },
  {
   "cell_type": "markdown",
   "metadata": {},
   "source": [
    "**Observation:**\n",
    "\n",
    "We can see that the precision and the recall are balanced for a threshold of about 1. So, any output >= 1 will belong to class 1 (FEV). \n",
    "\n",
    "The optimal threshold for our model is going to be corresponding to the point on the curve which is closest to where precision and recall intersect right before recall takes a dive.\n",
    "\n",
    "Reviewing both precision and recall is useful in cases where there is an imbalance in the observations between the two classes. \n",
    "\n",
    "Precision-Recall curves summarize the trade-off between the true positive rate and the positive predictive value for a predictive model using different probability thresholds.\n",
    "\n",
    "Precision = fraction of TP/TP + FP out of all positive predictions which are actually positive\n",
    "Recall = fraction of  TP/TP+FN, from all the positive predictions how many were predicted correctly.\n",
    "\n",
    "Accuracy - From all the classes (positive and negative), how many of them we have predicted correctly."
   ]
  },
  {
   "cell_type": "markdown",
   "metadata": {},
   "source": [
    "\n",
    "- Can we improve this model? \n",
    "- How to get optimal parameters in order to get the best possible results?"
   ]
  },
  {
   "cell_type": "markdown",
   "metadata": {},
   "source": [
    "## **Build a Decision Tree Model**"
   ]
  },
  {
   "cell_type": "markdown",
   "metadata": {},
   "source": [
    "#### **Think about it:**\n",
    "\n",
    "Typically tree based classifiers are not influenced by outliers and null values. Logistical regression must deal with outliers and null values."
   ]
  },
  {
   "cell_type": "markdown",
   "metadata": {},
   "source": [
    "#### Data Preparation for the tree based model"
   ]
  },
  {
   "cell_type": "code",
   "execution_count": 28,
   "metadata": {},
   "outputs": [],
   "source": [
    "# We have already split the data into training and test set\n",
    "#Defining Decision tree model with class weights class_weight={0: 0.2, 1: 0.8}\n",
    "dt = DecisionTreeClassifier(class_weight = {0: 0.2, 1: 0.8}, \n",
    "                            random_state = 1)"
   ]
  },
  {
   "cell_type": "markdown",
   "metadata": {},
   "source": [
    "The data is unbalanced so we need to use weights. Try both splits 70:30 and 80:20. Which gives us the higher performance?"
   ]
  },
  {
   "cell_type": "code",
   "execution_count": 29,
   "metadata": {},
   "outputs": [
    {
     "data": {
      "text/plain": [
       "DecisionTreeClassifier(class_weight={0: 0.2, 1: 0.8}, random_state=1)"
      ]
     },
     "execution_count": 29,
     "metadata": {},
     "output_type": "execute_result"
    }
   ],
   "source": [
    "#fitting Decision tree model\n",
    "dt.fit(X_train_stdscale, y_train)"
   ]
  },
  {
   "cell_type": "code",
   "execution_count": 30,
   "metadata": {},
   "outputs": [
    {
     "name": "stdout",
     "output_type": "stream",
     "text": [
      "              precision    recall  f1-score   support\n",
      "\n",
      "         0.0       1.00      1.00      1.00       131\n",
      "         1.0       1.00      1.00      1.00      2321\n",
      "\n",
      "    accuracy                           1.00      2452\n",
      "   macro avg       1.00      1.00      1.00      2452\n",
      "weighted avg       1.00      1.00      1.00      2452\n",
      "\n"
     ]
    },
    {
     "data": {
      "image/png": "[encoded data removed]",
      "text/plain": [
       "<Figure size 800x500 with 2 Axes>"
      ]
     },
     "metadata": {},
     "output_type": "display_data"
    }
   ],
   "source": [
    "# Checking performance on the training data\n",
    "y_train_pred_dt = dt.predict(X_train_stdscale)\n",
    "metrics_score(y_train, y_train_pred_dt)"
   ]
  },
  {
   "cell_type": "code",
   "execution_count": 31,
   "metadata": {},
   "outputs": [
    {
     "name": "stdout",
     "output_type": "stream",
     "text": [
      "              precision    recall  f1-score   support\n",
      "\n",
      "         0.0       1.00      1.00      1.00        56\n",
      "         1.0       1.00      1.00      1.00       996\n",
      "\n",
      "    accuracy                           1.00      1052\n",
      "   macro avg       1.00      1.00      1.00      1052\n",
      "weighted avg       1.00      1.00      1.00      1052\n",
      "\n"
     ]
    },
    {
     "data": {
      "image/png": "[encoded data removed]",
      "text/plain": [
       "<Figure size 800x500 with 2 Axes>"
      ]
     },
     "metadata": {},
     "output_type": "display_data"
    }
   ],
   "source": [
    "# Checking performance on the testing data\n",
    "y_test_pred_dt = dt.predict(X_test_stdscale)\n",
    "metrics_score(y_test, y_test_pred_dt)"
   ]
  },
  {
   "cell_type": "code",
   "execution_count": 32,
   "metadata": {},
   "outputs": [
    {
     "name": "stdout",
     "output_type": "stream",
     "text": [
      "Accuracy Score: 1.0\n"
     ]
    }
   ],
   "source": [
    "print(\"Accuracy Score:\", get_accuracy_score2(dt, X_test_stdscale, y_test))"
   ]
  },
  {
   "cell_type": "markdown",
   "metadata": {},
   "source": [
    "- Can we improve this model? \n",
    "- How to get optimal parameters in order to get the best possible results?\n",
    "- The decision tree works well on the training data but not so well on the test data as the __________ in comparison to 1 for the training dataset, i.e., the Decision Tree is overfitting the training data."
   ]
  },
  {
   "cell_type": "markdown",
   "metadata": {},
   "source": [
    "### **Decision Tree - Hyperparameter Tuning**\n",
    "\n",
    "\n",
    "* Hyperparameter tuning is tricky in the sense that **there is no direct way to calculate how a change in the hyperparameter value will reduce the loss of your model**, so we usually resort to experimentation. We'll use Grid search to perform hyperparameter tuning.\n",
    "* **Grid search is a tuning technique that attempts to compute the optimum values of hyperparameters.** \n",
    "* **It is an exhaustive search** that is performed on the specific parameter values of a model.\n",
    "* The parameters of the estimator/model used to apply these methods are **optimized by cross-validated grid-search** over a parameter grid.\n",
    "\n",
    "**Criterion {“gini”, “entropy”}**\n",
    "\n",
    "The function to measure the quality of a split. Supported criteria are “gini” for the Gini impurity and “entropy” for the information gain.\n",
    "\n",
    "**max_depth** \n",
    "\n",
    "The maximum depth of the tree. If None, then nodes are expanded until all leaves are pure or until all leaves contain less than min_samples_split samples.\n",
    "\n",
    "**min_samples_leaf**\n",
    "\n",
    "The minimum number of samples is required to be at a leaf node. A split point at any depth will only be considered if it leaves at least min_samples_leaf training samples in each of the left and right branches. This may have the effect of smoothing the model, especially in regression."
   ]
  },
  {
   "cell_type": "markdown",
   "metadata": {},
   "source": [
    "#### Using GridSearchCV for Hyperparameter tuning on the model"
   ]
  },
  {
   "cell_type": "code",
   "execution_count": 33,
   "metadata": {},
   "outputs": [
    {
     "data": {
      "text/plain": [
       "DecisionTreeClassifier(class_weight={0: 0.2, 1: 0.8}, max_depth=2,\n",
       "                       min_samples_leaf=5, random_state=1)"
      ]
     },
     "execution_count": 33,
     "metadata": {},
     "output_type": "execute_result"
    }
   ],
   "source": [
    "# Choose the type of classifier. \n",
    "d_tree_tuned = DecisionTreeClassifier(random_state = 1, class_weight = {0: 0.2, 1: 0.8})\n",
    "\n",
    "# Grid of parameters to choose from\n",
    "parameters = {'max_depth': np.arange(2, 10), \n",
    "              'criterion': ['gini', 'entropy'],\n",
    "              'min_samples_leaf': [5, 10, 20, 25]\n",
    "             }\n",
    "# Type of scoring used to compare parameter combinations\n",
    "scorer = metrics.make_scorer(recall_score, pos_label = 1)\n",
    "\n",
    "# Run the grid search\n",
    "grid_obj = GridSearchCV(d_tree_tuned, parameters, scoring = scorer, cv = 5)\n",
    "\n",
    "# Fit the GridSearch on train dataset\n",
    "grid_obj = grid_obj.fit(X_train_stdscale, y_train)\n",
    "\n",
    "# Set the clf to the best combination of parameters\n",
    "d_tree_tuned = grid_obj.best_estimator_\n",
    "\n",
    "# Fit the best algorithm to the data. \n",
    "d_tree_tuned.fit(X_train_stdscale, y_train)"
   ]
  },
  {
   "cell_type": "code",
   "execution_count": 35,
   "metadata": {},
   "outputs": [
    {
     "name": "stdout",
     "output_type": "stream",
     "text": [
      "              precision    recall  f1-score   support\n",
      "\n",
      "         0.0       0.99      1.00      1.00       131\n",
      "         1.0       1.00      1.00      1.00      2321\n",
      "\n",
      "    accuracy                           1.00      2452\n",
      "   macro avg       1.00      1.00      1.00      2452\n",
      "weighted avg       1.00      1.00      1.00      2452\n",
      "\n"
     ]
    },
    {
     "data": {
      "image/png": "[encoded data removed]",
      "text/plain": [
       "<Figure size 800x500 with 2 Axes>"
      ]
     },
     "metadata": {},
     "output_type": "display_data"
    }
   ],
   "source": [
    "# Checking performance on the training data based on the tuned model\n",
    "y_train_pred_dt = d_tree_tuned.predict(X_train_stdscale)\n",
    "metrics_score(y_train, y_train_pred_dt)"
   ]
  },
  {
   "cell_type": "code",
   "execution_count": 36,
   "metadata": {},
   "outputs": [
    {
     "name": "stdout",
     "output_type": "stream",
     "text": [
      "              precision    recall  f1-score   support\n",
      "\n",
      "         0.0       1.00      1.00      1.00        56\n",
      "         1.0       1.00      1.00      1.00       996\n",
      "\n",
      "    accuracy                           1.00      1052\n",
      "   macro avg       1.00      1.00      1.00      1052\n",
      "weighted avg       1.00      1.00      1.00      1052\n",
      "\n"
     ]
    },
    {
     "data": {
      "image/png": "[encoded data removed]",
      "text/plain": [
       "<Figure size 800x500 with 2 Axes>"
      ]
     },
     "metadata": {},
     "output_type": "display_data"
    }
   ],
   "source": [
    "# Checking performance on the testing data based on the tuned model\n",
    "y_pred_test2 = d_tree_tuned.predict(X_test_stdscale)\n",
    "metrics_score(y_test, y_pred_test2)"
   ]
  },
  {
   "cell_type": "code",
   "execution_count": 37,
   "metadata": {},
   "outputs": [
    {
     "name": "stdout",
     "output_type": "stream",
     "text": [
      "Accuracy Score: 1.0\n"
     ]
    }
   ],
   "source": [
    "print(\"Accuracy Score:\", get_accuracy_score2(d_tree_tuned, X_test_stdscale, y_test))"
   ]
  },
  {
   "cell_type": "markdown",
   "metadata": {},
   "source": [
    "**Observations**"
   ]
  },
  {
   "cell_type": "markdown",
   "metadata": {},
   "source": [
    "### **Plotting the Decision Tree**"
   ]
  },
  {
   "cell_type": "code",
   "execution_count": 38,
   "metadata": {},
   "outputs": [
    {
     "data": {
      "text/plain": [
       "DecisionTreeClassifier(class_weight={0: 0.2, 1: 0.8}, max_depth=4,\n",
       "                       min_samples_leaf=5, random_state=1)"
      ]
     },
     "execution_count": 38,
     "metadata": {},
     "output_type": "execute_result"
    }
   ],
   "source": [
    "tree_model = DecisionTreeClassifier(class_weight = {0: 0.2, 1: 0.8}, max_depth = 4,\n",
    "                       min_samples_leaf = 5, random_state = 1)\n",
    "# Fit the best algorithm to the data\n",
    "tree_model.fit(X_train_stdscale, y_train)# Plot the decision  tree and analyze it to build the decision rule"
   ]
  },
  {
   "cell_type": "code",
   "execution_count": 39,
   "metadata": {},
   "outputs": [
    {
     "data": {
      "image/png": "[encoded data removed]",
      "text/plain": [
       "<Figure size 2000x2000 with 1 Axes>"
      ]
     },
     "metadata": {},
     "output_type": "display_data"
    }
   ],
   "source": [
    "features = list(X.columns)\n",
    "plt.figure(figsize = (20, 20))\n",
    "tree.plot_tree(tree_model, feature_names = features, filled = True, fontsize = 9, node_ids = True, class_names = True)\n",
    "plt.show()"
   ]
  },
  {
   "cell_type": "markdown",
   "metadata": {},
   "source": [
    "#### Observations:"
   ]
  },
  {
   "cell_type": "markdown",
   "metadata": {},
   "source": [
    "### **Building a Random Forest Classifier**\n",
    "\n",
    "**Random Forest is a bagging algorithm where the base models are Decision Trees.** Samples are taken from the training data and on each sample a decision tree makes a prediction. \n",
    "\n",
    "**The results from all the decision trees are combined together and the final prediction is made using voting or averaging.**"
   ]
  },
  {
   "cell_type": "code",
   "execution_count": 40,
   "metadata": {},
   "outputs": [
    {
     "data": {
      "text/plain": [
       "RandomForestClassifier(criterion='entropy', random_state=7)"
      ]
     },
     "execution_count": 40,
     "metadata": {},
     "output_type": "execute_result"
    }
   ],
   "source": [
    "# Defining Random forest Classifier\n",
    "rf_estimator = RandomForestClassifier(random_state = 7, criterion = \"entropy\")\n",
    "rf_estimator.fit(X_train_stdscale,y_train)"
   ]
  },
  {
   "cell_type": "markdown",
   "metadata": {},
   "source": [
    "#### Checking the performance on the train dataset"
   ]
  },
  {
   "cell_type": "code",
   "execution_count": 41,
   "metadata": {},
   "outputs": [
    {
     "name": "stdout",
     "output_type": "stream",
     "text": [
      "              precision    recall  f1-score   support\n",
      "\n",
      "         0.0       1.00      1.00      1.00       131\n",
      "         1.0       1.00      1.00      1.00      2321\n",
      "\n",
      "    accuracy                           1.00      2452\n",
      "   macro avg       1.00      1.00      1.00      2452\n",
      "weighted avg       1.00      1.00      1.00      2452\n",
      "\n"
     ]
    },
    {
     "data": {
      "image/png": "[encoded data removed]",
      "text/plain": [
       "<Figure size 800x500 with 2 Axes>"
      ]
     },
     "metadata": {},
     "output_type": "display_data"
    }
   ],
   "source": [
    "#Checking performance on the training data\n",
    "y_pred_train3 = rf_estimator.predict(X_train_stdscale)\n",
    "metrics_score(y_train, y_pred_train3)"
   ]
  },
  {
   "cell_type": "markdown",
   "metadata": {},
   "source": [
    "#### Checking the performance on the test dataset"
   ]
  },
  {
   "cell_type": "code",
   "execution_count": 42,
   "metadata": {},
   "outputs": [
    {
     "name": "stdout",
     "output_type": "stream",
     "text": [
      "              precision    recall  f1-score   support\n",
      "\n",
      "         0.0       1.00      1.00      1.00        56\n",
      "         1.0       1.00      1.00      1.00       996\n",
      "\n",
      "    accuracy                           1.00      1052\n",
      "   macro avg       1.00      1.00      1.00      1052\n",
      "weighted avg       1.00      1.00      1.00      1052\n",
      "\n"
     ]
    },
    {
     "data": {
      "image/png": "[encoded data removed]",
      "text/plain": [
       "<Figure size 800x500 with 2 Axes>"
      ]
     },
     "metadata": {},
     "output_type": "display_data"
    }
   ],
   "source": [
    "# Checking performance on the test data\n",
    "y_pred_test3 = rf_estimator.predict(X_test_stdscale)\n",
    "metrics_score(y_test, y_pred_test3)"
   ]
  },
  {
   "cell_type": "code",
   "execution_count": 43,
   "metadata": {},
   "outputs": [
    {
     "name": "stdout",
     "output_type": "stream",
     "text": [
      "Accuracy Score: 1.0\n"
     ]
    }
   ],
   "source": [
    "print(\"Accuracy Score:\", get_accuracy_score2(rf_estimator, X_test_stdscale, y_test))"
   ]
  },
  {
   "cell_type": "markdown",
   "metadata": {},
   "source": [
    "#### Observations"
   ]
  },
  {
   "cell_type": "markdown",
   "metadata": {},
   "source": [
    "### **Build a Random Forest model with Class Weights**"
   ]
  },
  {
   "cell_type": "code",
   "execution_count": 44,
   "metadata": {},
   "outputs": [
    {
     "data": {
      "text/plain": [
       "RandomForestClassifier(class_weight={0: 0.2, 1: 0.8}, random_state=1)"
      ]
     },
     "execution_count": 44,
     "metadata": {},
     "output_type": "execute_result"
    }
   ],
   "source": [
    "# Defining Random Forest model with class weights class_weight={0: 0.2, 1: 0.8}\n",
    "rf_weights = RandomForestClassifier(class_weight = {0: 0.2, 1: 0.8}, \n",
    "                                      random_state = 1)\n",
    "# Fitting Random Forest model\n",
    "rf_weights.fit(X_train_stdscale, y_train)"
   ]
  },
  {
   "cell_type": "markdown",
   "metadata": {},
   "source": [
    "#### Checking the performance on the train dataset"
   ]
  },
  {
   "cell_type": "code",
   "execution_count": 45,
   "metadata": {},
   "outputs": [
    {
     "name": "stdout",
     "output_type": "stream",
     "text": [
      "              precision    recall  f1-score   support\n",
      "\n",
      "         0.0       1.00      1.00      1.00       131\n",
      "         1.0       1.00      1.00      1.00      2321\n",
      "\n",
      "    accuracy                           1.00      2452\n",
      "   macro avg       1.00      1.00      1.00      2452\n",
      "weighted avg       1.00      1.00      1.00      2452\n",
      "\n"
     ]
    },
    {
     "data": {
      "image/png": "[encoded data removed]",
      "text/plain": [
       "<Figure size 800x500 with 2 Axes>"
      ]
     },
     "metadata": {},
     "output_type": "display_data"
    }
   ],
   "source": [
    "# Checking performance on the train data\n",
    "y_pred_train4 = rf_weights.predict(X_train_stdscale)\n",
    "metrics_score(y_train, y_pred_train4)"
   ]
  },
  {
   "cell_type": "markdown",
   "metadata": {},
   "source": [
    "#### Checking the performance on the test dataset"
   ]
  },
  {
   "cell_type": "code",
   "execution_count": 46,
   "metadata": {},
   "outputs": [
    {
     "name": "stdout",
     "output_type": "stream",
     "text": [
      "              precision    recall  f1-score   support\n",
      "\n",
      "         0.0       1.00      1.00      1.00        56\n",
      "         1.0       1.00      1.00      1.00       996\n",
      "\n",
      "    accuracy                           1.00      1052\n",
      "   macro avg       1.00      1.00      1.00      1052\n",
      "weighted avg       1.00      1.00      1.00      1052\n",
      "\n"
     ]
    },
    {
     "data": {
      "image/png": "[encoded data removed]",
      "text/plain": [
       "<Figure size 800x500 with 2 Axes>"
      ]
     },
     "metadata": {},
     "output_type": "display_data"
    }
   ],
   "source": [
    "# Checking performance on the test data\n",
    "y_pred_test4 = rf_weights.predict(X_test_stdscale)\n",
    "metrics_score(y_test, y_pred_test4)"
   ]
  },
  {
   "cell_type": "markdown",
   "metadata": {},
   "source": [
    "**The feature importance** of the tuned decision tree "
   ]
  },
  {
   "cell_type": "code",
   "execution_count": 47,
   "metadata": {},
   "outputs": [
    {
     "data": {
      "text/plain": [
       "array([2.94977532e-02, 8.09317307e-02, 5.37845479e-01, 2.71204392e-03,\n",
       "       9.37758346e-04, 2.91507941e-03, 1.21218613e-04, 3.24651368e-03,\n",
       "       2.58818765e-03, 8.44231133e-04, 1.37346848e-03, 1.12505208e-03,\n",
       "       9.19220895e-03, 9.39537871e-03, 6.33504368e-03, 3.09319038e-03,\n",
       "       4.71368444e-03, 8.59824539e-04, 2.51332229e-03, 9.92192444e-03,\n",
       "       1.51073631e-01, 1.38763275e-01])"
      ]
     },
     "execution_count": 47,
     "metadata": {},
     "output_type": "execute_result"
    }
   ],
   "source": [
    "# Calculate feature importance in the Random Forest model.\n",
    "importances = rf_estimator.feature_importances_\n",
    "importances"
   ]
  },
  {
   "cell_type": "code",
   "execution_count": 48,
   "metadata": {},
   "outputs": [
    {
     "data": {
      "text/plain": [
       "[(0.5378454793390197, 'lastpage. Last page'),\n",
       " (0.1510736310797692, 'Manufacturer'),\n",
       " (0.1387632749760696, 'Model'),\n",
       " (0.08093173069813091, 'Year Submitted'),\n",
       " (0.02949775317578834, 'Month Submitted'),\n",
       " (0.009921924442832093, 'Annual VMT Estimate'),\n",
       " (0.009395378705251686,\n",
       "  'Number of trips over 200 miles in the last 12 months'),\n",
       " (0.00919220895183971, 'Longest trip in the last 12 months'),\n",
       " (0.006335043681110957, 'One-way commute distance'),\n",
       " (0.004713684439829501, 'Age'),\n",
       " (0.0032465136839044686, 'Household Income'),\n",
       " (0.00309319037987959, 'Number of people in the household'),\n",
       " (0.002915079408072332, 'Previous HEVs'),\n",
       " (0.0027120439165208006, 'Previous PHEVs'),\n",
       " (0.0025881876498740656,\n",
       "  'Importance of reducing greenhouse gas emissions (-3 not important, 3 important)'),\n",
       " (0.0025133222868213905, 'Number of vehicles in the household'),\n",
       " (0.0013734684785735207, 'Home Type (detached 1)'),\n",
       " (0.0011250520761291768, 'Highest Level of Education'),\n",
       " (0.0009377583463593499, 'Previous BEVs'),\n",
       " (0.0008598245385006312, 'Gender (Male 1)'),\n",
       " (0.0008442311329074126, 'Home ownership (own 1)'),\n",
       " (0.00012121861281531095, 'Previous CNGs')]"
      ]
     },
     "execution_count": 48,
     "metadata": {},
     "output_type": "execute_result"
    }
   ],
   "source": [
    "# We can sort the features by their importance.\n",
    "sorted(zip(rf_estimator.feature_importances_, X.columns), reverse=True)"
   ]
  },
  {
   "cell_type": "code",
   "execution_count": 49,
   "metadata": {},
   "outputs": [
    {
     "data": {
      "text/plain": [
       "<AxesSubplot:xlabel='Importance'>"
      ]
     },
     "execution_count": 49,
     "metadata": {},
     "output_type": "execute_result"
    },
    {
     "data": {
      "image/png": "[encoded data removed]",
      "text/plain": [
       "<Figure size 1300x1300 with 1 Axes>"
      ]
     },
     "metadata": {},
     "output_type": "display_data"
    }
   ],
   "source": [
    "# Plot the feature importance\n",
    "importances = rf_estimator.feature_importances_\n",
    "columns = X.columns\n",
    "importance_df = pd.DataFrame(importances, index = columns, columns = ['Importance']).sort_values(by = 'Importance', ascending = False)\n",
    "\n",
    "plt.figure(figsize = (13, 13))\n",
    "sns.barplot(importance_df.Importance,importance_df.index)"
   ]
  },
  {
   "cell_type": "markdown",
   "metadata": {},
   "source": [
    "### **Tuning the Random Forest** "
   ]
  },
  {
   "cell_type": "markdown",
   "metadata": {},
   "source": [
    "* Hyperparameter tuning is tricky in the sense that **there is no direct way to calculate how a change in the hyperparameter value will reduce the loss of your model**, so we usually resort to experimentation. We'll use Grid search to perform hyperparameter tuning.\n",
    "* **Grid search is a tuning technique that attempts to compute the optimum values of hyperparameters.** \n",
    "* **It is an exhaustive search** that is performed on the specific parameter values of a model.\n",
    "* The parameters of the estimator/model used to apply these methods are **optimized by cross-validated grid-search** over a parameter grid.\n",
    "\n",
    "\n",
    "**n_estimators**: The number of trees in the forest.\n",
    "\n",
    "**min_samples_split**: The minimum number of samples required to split an internal node:\n",
    "\n",
    "**min_samples_leaf**: The minimum number of samples required to be at a leaf node. \n",
    "\n",
    "**max_features{“auto”, “sqrt”, “log2”, 'None'}**: The number of features to consider when looking for the best split.\n",
    "\n",
    "- If “auto”, then max_features=sqrt(n_features).\n",
    "\n",
    "- If “sqrt”, then max_features=sqrt(n_features) (same as “auto”).\n",
    "\n",
    "- If “log2”, then max_features=log2(n_features).\n",
    "\n",
    "- If None, then max_features=n_features."
   ]
  },
  {
   "cell_type": "markdown",
   "metadata": {},
   "source": [
    "#### **Warning:** This may take a long time depending on the parameters you tune."
   ]
  },
  {
   "cell_type": "code",
   "execution_count": 51,
   "metadata": {},
   "outputs": [],
   "source": [
    "# Choose the type of classifier. \n",
    "rf_estimator_tuned = RandomForestClassifier(class_weight = {0: 0.2, 1: 0.8}, random_state = 1)\n",
    "\n",
    "# Grid of parameters to choose from\n",
    "# n_estimators are the number of trees\n",
    "parameters = {\"n_estimators\": [80, 90, 110],\n",
    "    \"max_depth\": [5, 6, 7, 8],\n",
    "    \"max_features\": ['auto', 'sqrt']}\n",
    "# [0.8, 0.9, 1]\n",
    "# Type of scoring used to compare parameter combinations\n",
    "scorer = metrics.make_scorer(recall_score, pos_label = 1)\n",
    "\n",
    "# Run the grid search\n",
    "grid_obj = GridSearchCV(rf_estimator_tuned, parameters, scoring = scorer, cv = 5)\n",
    "\n",
    "#fit the GridSearch on train dataset\n",
    "grid_obj = grid_obj.fit(X_train_stdscale, y_train)\n",
    "\n",
    "# Set the clf to the best combination of parameters\n",
    "rf_estimator_tuned_base = grid_obj.best_estimator_"
   ]
  },
  {
   "cell_type": "code",
   "execution_count": 52,
   "metadata": {},
   "outputs": [
    {
     "data": {
      "text/plain": [
       "{'bootstrap': True,\n",
       " 'ccp_alpha': 0.0,\n",
       " 'class_weight': {0: 0.2, 1: 0.8},\n",
       " 'criterion': 'gini',\n",
       " 'max_depth': 5,\n",
       " 'max_features': 'auto',\n",
       " 'max_leaf_nodes': None,\n",
       " 'max_samples': None,\n",
       " 'min_impurity_decrease': 0.0,\n",
       " 'min_samples_leaf': 1,\n",
       " 'min_samples_split': 2,\n",
       " 'min_weight_fraction_leaf': 0.0,\n",
       " 'n_estimators': 80,\n",
       " 'n_jobs': None,\n",
       " 'oob_score': False,\n",
       " 'random_state': 1,\n",
       " 'verbose': 0,\n",
       " 'warm_start': False}"
      ]
     },
     "execution_count": 52,
     "metadata": {},
     "output_type": "execute_result"
    }
   ],
   "source": [
    "rf_estimator_tuned_base.get_params()"
   ]
  },
  {
   "cell_type": "markdown",
   "metadata": {},
   "source": [
    "#### Checking the performance on the train dataset"
   ]
  },
  {
   "cell_type": "code",
   "execution_count": 53,
   "metadata": {},
   "outputs": [
    {
     "name": "stdout",
     "output_type": "stream",
     "text": [
      "              precision    recall  f1-score   support\n",
      "\n",
      "         0.0       1.00      1.00      1.00       131\n",
      "         1.0       1.00      1.00      1.00      2321\n",
      "\n",
      "    accuracy                           1.00      2452\n",
      "   macro avg       1.00      1.00      1.00      2452\n",
      "weighted avg       1.00      1.00      1.00      2452\n",
      "\n"
     ]
    },
    {
     "data": {
      "image/png": "[encoded data removed]",
      "text/plain": [
       "<Figure size 800x500 with 2 Axes>"
      ]
     },
     "metadata": {},
     "output_type": "display_data"
    }
   ],
   "source": [
    "# Checking performance on the training data\n",
    "y_pred_train_rf_tuned_base = rf_estimator_tuned_base.predict(X_train_stdscale)\n",
    "metrics_score(y_train, y_pred_train_rf_tuned_base)"
   ]
  },
  {
   "cell_type": "markdown",
   "metadata": {},
   "source": [
    "#### Checking the performance on the test dataset"
   ]
  },
  {
   "cell_type": "code",
   "execution_count": 54,
   "metadata": {},
   "outputs": [
    {
     "name": "stdout",
     "output_type": "stream",
     "text": [
      "              precision    recall  f1-score   support\n",
      "\n",
      "         0.0       1.00      1.00      1.00        56\n",
      "         1.0       1.00      1.00      1.00       996\n",
      "\n",
      "    accuracy                           1.00      1052\n",
      "   macro avg       1.00      1.00      1.00      1052\n",
      "weighted avg       1.00      1.00      1.00      1052\n",
      "\n"
     ]
    },
    {
     "data": {
      "image/png": "[encoded data removed]",
      "text/plain": [
       "<Figure size 800x500 with 2 Axes>"
      ]
     },
     "metadata": {},
     "output_type": "display_data"
    }
   ],
   "source": [
    "# Checking performace on test dataset\n",
    "y_pred_test_rf_tuned_base = rf_estimator_tuned_base.predict(X_test_stdscale)\n",
    "metrics_score(y_test, y_pred_test_rf_tuned_base)"
   ]
  },
  {
   "cell_type": "code",
   "execution_count": 55,
   "metadata": {},
   "outputs": [
    {
     "name": "stdout",
     "output_type": "stream",
     "text": [
      "Accuracy Score: 1.0\n"
     ]
    }
   ],
   "source": [
    "print(\"Accuracy Score:\", get_accuracy_score2(rf_estimator_tuned_base, X_test_stdscale, y_test))\n"
   ]
  },
  {
   "cell_type": "markdown",
   "metadata": {},
   "source": [
    "### **XGBoost**\n",
    "\n",
    "- XGBoost stands for Extreme Gradient Boosting.\n",
    "- XGBoost is a tree-based ensemble machine learning technique that improves prediction power and performance by improvising on the Gradient Boosting framework and incorporating reliable approximation algorithms. \n"
   ]
  },
  {
   "cell_type": "code",
   "execution_count": 56,
   "metadata": {},
   "outputs": [
    {
     "name": "stdout",
     "output_type": "stream",
     "text": [
      "Requirement already satisfied: xgboost in /Users/christystreet/opt/anaconda3/lib/python3.9/site-packages (1.7.4)\r\n",
      "Requirement already satisfied: scipy in /Users/christystreet/opt/anaconda3/lib/python3.9/site-packages (from xgboost) (1.9.1)\r\n",
      "Requirement already satisfied: numpy in /Users/christystreet/opt/anaconda3/lib/python3.9/site-packages (from xgboost) (1.21.5)\r\n"
     ]
    },
    {
     "data": {
      "text/html": [
       "<div>\n",
       "<style scoped>\n",
       "    .dataframe tbody tr th:only-of-type {\n",
       "        vertical-align: middle;\n",
       "    }\n",
       "\n",
       "    .dataframe tbody tr th {\n",
       "        vertical-align: top;\n",
       "    }\n",
       "\n",
       "    .dataframe thead th {\n",
       "        text-align: right;\n",
       "    }\n",
       "</style>\n",
       "<table border=\"1\" class=\"dataframe\">\n",
       "  <thead>\n",
       "    <tr style=\"text-align: right;\">\n",
       "      <th></th>\n",
       "      <th>Precision</th>\n",
       "      <th>Recall</th>\n",
       "      <th>Accuracy</th>\n",
       "    </tr>\n",
       "  </thead>\n",
       "  <tbody>\n",
       "    <tr>\n",
       "      <th>0</th>\n",
       "      <td>1.0</td>\n",
       "      <td>1.0</td>\n",
       "      <td>1.0</td>\n",
       "    </tr>\n",
       "  </tbody>\n",
       "</table>\n",
       "</div>"
      ],
      "text/plain": [
       "   Precision  Recall  Accuracy\n",
       "0        1.0     1.0       1.0"
      ]
     },
     "execution_count": 56,
     "metadata": {},
     "output_type": "execute_result"
    }
   ],
   "source": [
    "# XGBoost Classifier\n",
    "# Importing the XGBClassifier from the xgboost library\n",
    "!pip install xgboost\n",
    "from xgboost import XGBClassifier\n",
    "import xgboost as xgb\n",
    "\n",
    "xgb_model2 = XGBClassifier(random_state = 1, eval_metric = 'logloss')\n",
    "\n",
    "# Fitting the model\n",
    "xgb_model2.fit(X_train_stdscale,y_train)\n",
    "\n",
    "# Model Performance on the test data\n",
    "xgb_perf_test = model_performance_classification(xgb_model2,X_test_stdscale,y_test)\n",
    "xgb_perf_test"
   ]
  },
  {
   "cell_type": "markdown",
   "metadata": {},
   "source": [
    "#### Checking the performance on the train dataset"
   ]
  },
  {
   "cell_type": "code",
   "execution_count": 57,
   "metadata": {},
   "outputs": [
    {
     "name": "stdout",
     "output_type": "stream",
     "text": [
      "              precision    recall  f1-score   support\n",
      "\n",
      "         0.0       1.00      1.00      1.00       131\n",
      "         1.0       1.00      1.00      1.00      2321\n",
      "\n",
      "    accuracy                           1.00      2452\n",
      "   macro avg       1.00      1.00      1.00      2452\n",
      "weighted avg       1.00      1.00      1.00      2452\n",
      "\n"
     ]
    },
    {
     "data": {
      "image/png": "[encoded data removed]",
      "text/plain": [
       "<Figure size 800x500 with 2 Axes>"
      ]
     },
     "metadata": {},
     "output_type": "display_data"
    }
   ],
   "source": [
    "y_pred_train_xgb = xgb_model2.predict(X_train_stdscale)\n",
    "metrics_score(y_train, y_pred_train_xgb)"
   ]
  },
  {
   "cell_type": "markdown",
   "metadata": {},
   "source": [
    "#### Checking the performance on the test dataset"
   ]
  },
  {
   "cell_type": "code",
   "execution_count": 58,
   "metadata": {},
   "outputs": [
    {
     "name": "stdout",
     "output_type": "stream",
     "text": [
      "              precision    recall  f1-score   support\n",
      "\n",
      "         0.0       1.00      1.00      1.00        56\n",
      "         1.0       1.00      1.00      1.00       996\n",
      "\n",
      "    accuracy                           1.00      1052\n",
      "   macro avg       1.00      1.00      1.00      1052\n",
      "weighted avg       1.00      1.00      1.00      1052\n",
      "\n"
     ]
    },
    {
     "data": {
      "image/png": "[encoded data removed]",
      "text/plain": [
       "<Figure size 800x500 with 2 Axes>"
      ]
     },
     "metadata": {},
     "output_type": "display_data"
    }
   ],
   "source": [
    "y_pred_test_xgb = xgb_model2.predict(X_test_stdscale)\n",
    "metrics_score(y_test, y_pred_test_xgb)"
   ]
  },
  {
   "cell_type": "code",
   "execution_count": 59,
   "metadata": {},
   "outputs": [
    {
     "name": "stdout",
     "output_type": "stream",
     "text": [
      "Accuracy Score: 1.0\n"
     ]
    }
   ],
   "source": [
    "print(\"Accuracy Score:\", get_accuracy_score2(xgb_model2, X_test_stdscale, y_test))"
   ]
  },
  {
   "cell_type": "markdown",
   "metadata": {},
   "source": [
    "### **Tuning the XGBoost Model**"
   ]
  },
  {
   "cell_type": "code",
   "execution_count": 60,
   "metadata": {},
   "outputs": [],
   "source": [
    "# Choose the type of classifier. \n",
    "xgb_model_tuned = XGBClassifier(max_delta_step = 1, random_state = 1, eval_metric = 'logloss')\n",
    "\n",
    "# Grid of parameters to choose from\n",
    "parameters = {\"n_estimators\": [80, 90, 110],\n",
    "    \"max_depth\": [5, 6, 7, 8],\n",
    "     \"learning_rate\": [0.1, 0.01, 0.05]}\n",
    "\n",
    "# Type of scoring used to compare parameter combinations\n",
    "scorer = metrics.make_scorer(recall_score, pos_label = 1)\n",
    "\n",
    "# Run the grid search\n",
    "grid_obj = GridSearchCV(xgb_model_tuned, parameters, scoring = scorer, cv = 5)\n",
    "\n",
    "#fit the GridSearch on train dataset\n",
    "grid_obj = grid_obj.fit(X_train_stdscale, y_train)\n",
    "\n",
    "# Set the clf to the best combination of parameters\n",
    "xgb_estimator_tuned_base = grid_obj.best_estimator_"
   ]
  },
  {
   "cell_type": "code",
   "execution_count": 61,
   "metadata": {},
   "outputs": [
    {
     "data": {
      "text/plain": [
       "{'objective': 'binary:logistic',\n",
       " 'use_label_encoder': None,\n",
       " 'base_score': None,\n",
       " 'booster': None,\n",
       " 'callbacks': None,\n",
       " 'colsample_bylevel': None,\n",
       " 'colsample_bynode': None,\n",
       " 'colsample_bytree': None,\n",
       " 'early_stopping_rounds': None,\n",
       " 'enable_categorical': False,\n",
       " 'eval_metric': 'logloss',\n",
       " 'feature_types': None,\n",
       " 'gamma': None,\n",
       " 'gpu_id': None,\n",
       " 'grow_policy': None,\n",
       " 'importance_type': None,\n",
       " 'interaction_constraints': None,\n",
       " 'learning_rate': 0.1,\n",
       " 'max_bin': None,\n",
       " 'max_cat_threshold': None,\n",
       " 'max_cat_to_onehot': None,\n",
       " 'max_delta_step': 1,\n",
       " 'max_depth': 5,\n",
       " 'max_leaves': None,\n",
       " 'min_child_weight': None,\n",
       " 'missing': nan,\n",
       " 'monotone_constraints': None,\n",
       " 'n_estimators': 80,\n",
       " 'n_jobs': None,\n",
       " 'num_parallel_tree': None,\n",
       " 'predictor': None,\n",
       " 'random_state': 1,\n",
       " 'reg_alpha': None,\n",
       " 'reg_lambda': None,\n",
       " 'sampling_method': None,\n",
       " 'scale_pos_weight': None,\n",
       " 'subsample': None,\n",
       " 'tree_method': None,\n",
       " 'validate_parameters': None,\n",
       " 'verbosity': None}"
      ]
     },
     "execution_count": 61,
     "metadata": {},
     "output_type": "execute_result"
    }
   ],
   "source": [
    "xgb_estimator_tuned_base.get_params()"
   ]
  },
  {
   "cell_type": "markdown",
   "metadata": {},
   "source": [
    "#### Checking the performance on the train dataset"
   ]
  },
  {
   "cell_type": "code",
   "execution_count": 62,
   "metadata": {},
   "outputs": [
    {
     "name": "stdout",
     "output_type": "stream",
     "text": [
      "              precision    recall  f1-score   support\n",
      "\n",
      "         0.0       0.99      1.00      1.00       131\n",
      "         1.0       1.00      1.00      1.00      2321\n",
      "\n",
      "    accuracy                           1.00      2452\n",
      "   macro avg       1.00      1.00      1.00      2452\n",
      "weighted avg       1.00      1.00      1.00      2452\n",
      "\n"
     ]
    },
    {
     "data": {
      "image/png": "[encoded data removed]",
      "text/plain": [
       "<Figure size 800x500 with 2 Axes>"
      ]
     },
     "metadata": {},
     "output_type": "display_data"
    }
   ],
   "source": [
    "y_pred_train_xgb_tuned = xgb_estimator_tuned_base.predict(X_train_stdscale)\n",
    "metrics_score(y_train, y_pred_train_xgb_tuned)"
   ]
  },
  {
   "cell_type": "markdown",
   "metadata": {},
   "source": [
    "#### Checking the performance on the test dataset"
   ]
  },
  {
   "cell_type": "code",
   "execution_count": 63,
   "metadata": {},
   "outputs": [
    {
     "name": "stdout",
     "output_type": "stream",
     "text": [
      "              precision    recall  f1-score   support\n",
      "\n",
      "         0.0       1.00      1.00      1.00        56\n",
      "         1.0       1.00      1.00      1.00       996\n",
      "\n",
      "    accuracy                           1.00      1052\n",
      "   macro avg       1.00      1.00      1.00      1052\n",
      "weighted avg       1.00      1.00      1.00      1052\n",
      "\n"
     ]
    },
    {
     "data": {
      "image/png": "[encoded data removed]",
      "text/plain": [
       "<Figure size 800x500 with 2 Axes>"
      ]
     },
     "metadata": {},
     "output_type": "display_data"
    }
   ],
   "source": [
    "y_pred_test_xgb_tuned = xgb_estimator_tuned_base.predict(X_test_stdscale)\n",
    "metrics_score(y_test, y_pred_test_xgb_tuned)"
   ]
  },
  {
   "cell_type": "markdown",
   "metadata": {},
   "source": [
    "#### **Observations**"
   ]
  },
  {
   "cell_type": "markdown",
   "metadata": {},
   "source": [
    "### **Comparing Model Performances**  "
   ]
  },
  {
   "cell_type": "code",
   "execution_count": 65,
   "metadata": {},
   "outputs": [],
   "source": [
    "def get_recall_score(model,flag=True,X_train_stdscale=X_train_stdscale,X_test_stdscale=X_test_stdscale):\n",
    "    '''\n",
    "    model : classifier to predict values of X\n",
    "\n",
    "    '''\n",
    "    a = [] # defining an empty list to store train and test results\n",
    "    pred_train = model.predict(X_train_stdscale)\n",
    "    pred_test = model.predict(X_test_stdscale)\n",
    "    train_recall = metrics.recall_score(y_train,pred_train)\n",
    "    test_recall = metrics.recall_score(y_test,pred_test)\n",
    "    a.append(train_recall) # adding train recall to list \n",
    "    a.append(test_recall) # adding test recall to list\n",
    "    \n",
    "    # If the flag is set to True then only the following print statements will be dispayed. The default value is set to True.\n",
    "    if flag == True: \n",
    "        print(\"Recall on training set : \",metrics.recall_score(y_train,pred_train))\n",
    "        print(\"Recall on test set : \",metrics.recall_score(y_test,pred_test))\n",
    "    \n",
    "    return a # returning the list with train and test scores"
   ]
  },
  {
   "cell_type": "code",
   "execution_count": 66,
   "metadata": {},
   "outputs": [],
   "source": [
    "##  Function to calculate precision score\n",
    "def get_precision_score(model,flag=True,X_train=X_train_stdscale,X_test= X_test_stdscale):\n",
    "    '''\n",
    "    model : classifier to predict values of X\n",
    "\n",
    "    '''\n",
    "    b = []  # defining an empty list to store train and test results\n",
    "    pred_train = model.predict(X_train_stdscale)\n",
    "    pred_test = model.predict(X_test_stdscale)\n",
    "    train_precision = metrics.precision_score(y_train,pred_train)\n",
    "    test_precision = metrics.precision_score(y_test,pred_test)\n",
    "    b.append(train_precision) # adding train precision to list\n",
    "    b.append(test_precision) # adding test precision to list\n",
    "    \n",
    "    # If the flag is set to True then only the following print statements will be dispayed. The default value is set to True.\n",
    "    if flag == True: \n",
    "        print(\"Precision on training set : \",metrics.precision_score(y_train,pred_train))\n",
    "        print(\"Precision on test set : \",metrics.precision_score(y_test,pred_test))\n",
    "\n",
    "    return b # returning the list with train and test scores"
   ]
  },
  {
   "cell_type": "code",
   "execution_count": 70,
   "metadata": {},
   "outputs": [],
   "source": [
    "##  Function to calculate accuracy score\n",
    "def get_accuracy_score(model,flag=True,X_train_stdscale=X_train_stdscale,X_test_stdscale=X_test_stdscale):\n",
    "    '''\n",
    "    model : classifier to predict values of X\n",
    "\n",
    "    '''\n",
    "    c = [] # defining an empty list to store train and test results\n",
    "    train_acc = model.score(X_train_stdscale,y_train)\n",
    "    test_acc = model.score(X_test_stdscale,y_test)\n",
    "    c.append(train_acc) # adding train accuracy to list\n",
    "    c.append(test_acc) # adding test accuracy to list\n",
    "    \n",
    "    # If the flag is set to True then only the following print statements will be dispayed. The default value is set to True.\n",
    "    if flag == True:\n",
    "        print(\"Accuracy on training set : \", model.score(X_train_stdscale,y_train))\n",
    "        print(\"Accuracy on test set : \",model.score(X_test_stdscale,y_test))\n",
    "    \n",
    "    return c # returning the list with train and test scores"
   ]
  },
  {
   "cell_type": "code",
   "execution_count": 71,
   "metadata": {},
   "outputs": [],
   "source": [
    "# Make the list of all the model names \n",
    "\n",
    "# logistical regression: lg\n",
    "# decision tree: dt\n",
    "# decision tree tuned w/GridSearch: d_tree_tuned\n",
    "# random forest: rf_estimator\n",
    "# random forest w/weights: rf_weights\n",
    "# tuned random forest: rf_estimator_tuned_base\n",
    "models = [lg,dt,d_tree_tuned,rf_estimator,rf_weights, rf_estimator_tuned_base, xgb_model2, xgb_estimator_tuned_base]\n",
    "\n",
    "# defining empty lists to add train and test results\n",
    "acc_train = []\n",
    "acc_test = []\n",
    "recall_train = []\n",
    "recall_test = []\n",
    "precision_train = []\n",
    "precision_test = []\n",
    "\n",
    "# looping through all the models to get the accuracy,recall and precision scores\n",
    "for model in models:\n",
    "     # accuracy score\n",
    "    j = get_accuracy_score(model,False)\n",
    "    acc_train.append(j[0])\n",
    "    acc_test.append(j[1])\n",
    "\n",
    "    # recall score\n",
    "    k = get_recall_score(model,False)\n",
    "    recall_train.append(k[0])\n",
    "    recall_test.append(k[1])\n",
    "\n",
    "    # precision score\n",
    "    l = get_precision_score(model,False)\n",
    "    precision_train.append(l[0])\n",
    "    precision_test.append(l[1])"
   ]
  },
  {
   "cell_type": "code",
   "execution_count": 72,
   "metadata": {},
   "outputs": [
    {
     "data": {
      "text/html": [
       "<div>\n",
       "<style scoped>\n",
       "    .dataframe tbody tr th:only-of-type {\n",
       "        vertical-align: middle;\n",
       "    }\n",
       "\n",
       "    .dataframe tbody tr th {\n",
       "        vertical-align: top;\n",
       "    }\n",
       "\n",
       "    .dataframe thead th {\n",
       "        text-align: right;\n",
       "    }\n",
       "</style>\n",
       "<table border=\"1\" class=\"dataframe\">\n",
       "  <thead>\n",
       "    <tr style=\"text-align: right;\">\n",
       "      <th></th>\n",
       "      <th>Model</th>\n",
       "      <th>Train_Accuracy</th>\n",
       "      <th>Test_Accuracy</th>\n",
       "      <th>Train_Recall</th>\n",
       "      <th>Test_Recall</th>\n",
       "      <th>Train_Precision</th>\n",
       "      <th>Test_Precision</th>\n",
       "    </tr>\n",
       "  </thead>\n",
       "  <tbody>\n",
       "    <tr>\n",
       "      <th>0</th>\n",
       "      <td>Logistical Regression</td>\n",
       "      <td>0.999592</td>\n",
       "      <td>1.0</td>\n",
       "      <td>0.999569</td>\n",
       "      <td>1.0</td>\n",
       "      <td>1.0</td>\n",
       "      <td>1.0</td>\n",
       "    </tr>\n",
       "    <tr>\n",
       "      <th>1</th>\n",
       "      <td>Decision Tree</td>\n",
       "      <td>1.000000</td>\n",
       "      <td>1.0</td>\n",
       "      <td>1.000000</td>\n",
       "      <td>1.0</td>\n",
       "      <td>1.0</td>\n",
       "      <td>1.0</td>\n",
       "    </tr>\n",
       "    <tr>\n",
       "      <th>2</th>\n",
       "      <td>Tuned Decision Tree</td>\n",
       "      <td>0.999592</td>\n",
       "      <td>1.0</td>\n",
       "      <td>0.999569</td>\n",
       "      <td>1.0</td>\n",
       "      <td>1.0</td>\n",
       "      <td>1.0</td>\n",
       "    </tr>\n",
       "    <tr>\n",
       "      <th>3</th>\n",
       "      <td>Random Forest</td>\n",
       "      <td>1.000000</td>\n",
       "      <td>1.0</td>\n",
       "      <td>1.000000</td>\n",
       "      <td>1.0</td>\n",
       "      <td>1.0</td>\n",
       "      <td>1.0</td>\n",
       "    </tr>\n",
       "    <tr>\n",
       "      <th>4</th>\n",
       "      <td>Random Forest w/weights</td>\n",
       "      <td>1.000000</td>\n",
       "      <td>1.0</td>\n",
       "      <td>1.000000</td>\n",
       "      <td>1.0</td>\n",
       "      <td>1.0</td>\n",
       "      <td>1.0</td>\n",
       "    </tr>\n",
       "    <tr>\n",
       "      <th>5</th>\n",
       "      <td>Tuned Random Forest</td>\n",
       "      <td>1.000000</td>\n",
       "      <td>1.0</td>\n",
       "      <td>1.000000</td>\n",
       "      <td>1.0</td>\n",
       "      <td>1.0</td>\n",
       "      <td>1.0</td>\n",
       "    </tr>\n",
       "    <tr>\n",
       "      <th>6</th>\n",
       "      <td>XGBoost</td>\n",
       "      <td>1.000000</td>\n",
       "      <td>1.0</td>\n",
       "      <td>1.000000</td>\n",
       "      <td>1.0</td>\n",
       "      <td>1.0</td>\n",
       "      <td>1.0</td>\n",
       "    </tr>\n",
       "    <tr>\n",
       "      <th>7</th>\n",
       "      <td>Tuned XGBoost</td>\n",
       "      <td>0.999592</td>\n",
       "      <td>1.0</td>\n",
       "      <td>0.999569</td>\n",
       "      <td>1.0</td>\n",
       "      <td>1.0</td>\n",
       "      <td>1.0</td>\n",
       "    </tr>\n",
       "  </tbody>\n",
       "</table>\n",
       "</div>"
      ],
      "text/plain": [
       "                     Model  Train_Accuracy  Test_Accuracy  Train_Recall  \\\n",
       "0    Logistical Regression        0.999592            1.0      0.999569   \n",
       "1            Decision Tree        1.000000            1.0      1.000000   \n",
       "2      Tuned Decision Tree        0.999592            1.0      0.999569   \n",
       "3            Random Forest        1.000000            1.0      1.000000   \n",
       "4  Random Forest w/weights        1.000000            1.0      1.000000   \n",
       "5      Tuned Random Forest        1.000000            1.0      1.000000   \n",
       "6                  XGBoost        1.000000            1.0      1.000000   \n",
       "7            Tuned XGBoost        0.999592            1.0      0.999569   \n",
       "\n",
       "   Test_Recall  Train_Precision  Test_Precision  \n",
       "0          1.0              1.0             1.0  \n",
       "1          1.0              1.0             1.0  \n",
       "2          1.0              1.0             1.0  \n",
       "3          1.0              1.0             1.0  \n",
       "4          1.0              1.0             1.0  \n",
       "5          1.0              1.0             1.0  \n",
       "6          1.0              1.0             1.0  \n",
       "7          1.0              1.0             1.0  "
      ]
     },
     "execution_count": 72,
     "metadata": {},
     "output_type": "execute_result"
    }
   ],
   "source": [
    "# Compare the models\n",
    "comparison_frame = pd.DataFrame({'Model':['Logistical Regression', 'Decision Tree', 'Tuned Decision Tree', \n",
    "                                          'Random Forest','Random Forest w/weights', \n",
    "                                          'Tuned Random Forest', 'XGBoost', 'Tuned XGBoost'], \n",
    "                                          'Train_Accuracy': acc_train,\n",
    "                                          'Test_Accuracy': acc_test,\n",
    "                                          'Train_Recall': recall_train,\n",
    "                                          'Test_Recall': recall_test,\n",
    "                                          'Train_Precision': precision_train,\n",
    "                                          'Test_Precision': precision_test}) \n",
    "comparison_frame"
   ]
  }
 ],
 "metadata": {
  "colab": {
   "collapsed_sections": [
    "5_7DfrKa_bv_",
    "V5duvKqA_bv_",
    "oILSLGBL_bwA",
    "DyG29Cqz_bwA",
    "OqnMczju_bwB",
    "wHYJkmek_bwB",
    "CpcpowUT_bwC",
    "RmTpaojz_bwC",
    "-aYGSoyf_bwC",
    "3gO4yNoS_bwD",
    "tFmj2sAi_bwD",
    "H82v-Oiq_bwD",
    "JiUByWjP_bwE",
    "0xN_VJOl_bwE",
    "F381SOUJ_bwE",
    "zQgUfx28_bwE",
    "zNopQzBy_bwF",
    "TUFPGMGX_bwF",
    "KgU-UehX_bwF",
    "O8KX8Nva_bwF",
    "S7CMbCwL_bwG",
    "pTzCIQOb_bwG",
    "1AhKhAbf_bwG",
    "NzGHKjXv_bwG",
    "Vm5bRpLz_bwH",
    "M6A_z8kr_bwH",
    "InfhuW8o_bwH",
    "EpTEjZ-q_bwI",
    "WWtc2nex_bwI",
    "KjldKKMs_bwI",
    "Woaq6vqT_bwJ"
   ],
   "name": "MIT_FDS_Project_Diabetes_Analysis_Questions-1.ipynb",
   "provenance": []
  },
  "kernelspec": {
   "display_name": "Python 3 (ipykernel)",
   "language": "python",
   "name": "python3"
  },
  "language_info": {
   "codemirror_mode": {
    "name": "ipython",
    "version": 3
   },
   "file_extension": ".py",
   "mimetype": "text/x-python",
   "name": "python",
   "nbconvert_exporter": "python",
   "pygments_lexer": "ipython3",
   "version": "3.9.13"
  },
  "toc": {
   "base_numbering": 1,
   "nav_menu": {},
   "number_sections": true,
   "sideBar": true,
   "skip_h1_title": false,
   "title_cell": "Table of Contents",
   "title_sidebar": "Contents",
   "toc_cell": false,
   "toc_position": {},
   "toc_section_display": true,
   "toc_window_display": false
  },
  "varInspector": {
   "cols": {
    "lenName": 16,
    "lenType": 16,
    "lenVar": 40
   },
   "kernels_config": {
    "python": {
     "delete_cmd_postfix": "",
     "delete_cmd_prefix": "del ",
     "library": "var_list.py",
     "varRefreshCmd": "print(var_dic_list())"
    },
    "r": {
     "delete_cmd_postfix": ") ",
     "delete_cmd_prefix": "rm(",
     "library": "var_list.r",
     "varRefreshCmd": "cat(var_dic_list()) "
    }
   },
   "types_to_exclude": [
    "module",
    "function",
    "builtin_function_or_method",
    "instance",
    "_Feature"
   ],
   "window_display": false
  }
 },
 "nbformat": 4,
 "nbformat_minor": 1
}
