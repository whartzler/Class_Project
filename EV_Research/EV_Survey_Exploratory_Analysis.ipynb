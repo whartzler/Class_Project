{
 "cells": [
  {
   "cell_type": "code",
   "execution_count": 47,
   "id": "e76acf21",
   "metadata": {},
   "outputs": [],
   "source": [
    "# Importing dependencies\n",
    "import pandas as pd\n",
    "import matplotlib.pyplot as plt"
   ]
  },
  {
   "cell_type": "code",
   "execution_count": 48,
   "id": "82a70fb5",
   "metadata": {
    "scrolled": true
   },
   "outputs": [
    {
     "data": {
      "text/html": [
       "<div>\n",
       "<style scoped>\n",
       "    .dataframe tbody tr th:only-of-type {\n",
       "        vertical-align: middle;\n",
       "    }\n",
       "\n",
       "    .dataframe tbody tr th {\n",
       "        vertical-align: top;\n",
       "    }\n",
       "\n",
       "    .dataframe thead th {\n",
       "        text-align: right;\n",
       "    }\n",
       "</style>\n",
       "<table border=\"1\" class=\"dataframe\">\n",
       "  <thead>\n",
       "    <tr style=\"text-align: right;\">\n",
       "      <th></th>\n",
       "      <th>id. Response ID</th>\n",
       "      <th>submitdate. Date submitted</th>\n",
       "      <th>Month Year[subm...Date submitted]</th>\n",
       "      <th>Month[Month Yea...ate submitted]]</th>\n",
       "      <th>Year[Month Year...ate submitted]]</th>\n",
       "      <th>lastpage. Last page</th>\n",
       "      <th>Carmain</th>\n",
       "      <th>Previous PHEVs</th>\n",
       "      <th>Previous BEVs</th>\n",
       "      <th>Previous HEVs</th>\n",
       "      <th>...</th>\n",
       "      <th>Highest Level of Education</th>\n",
       "      <th>Longest trip in the last 12 months</th>\n",
       "      <th>Number of trips over 200 miles in the last 12 months</th>\n",
       "      <th>One-way commute distance</th>\n",
       "      <th>Number of people in the household</th>\n",
       "      <th>Age</th>\n",
       "      <th>Gender (Male 1)</th>\n",
       "      <th>Number of vehicles in the household</th>\n",
       "      <th>Annual VMT Estimate</th>\n",
       "      <th>FCV, BEV Dummy</th>\n",
       "    </tr>\n",
       "  </thead>\n",
       "  <tbody>\n",
       "    <tr>\n",
       "      <th>0</th>\n",
       "      <td>FCV_1_3</td>\n",
       "      <td>2017/06/02 11:30:57</td>\n",
       "      <td>06/2017</td>\n",
       "      <td>6.0</td>\n",
       "      <td>2017.0</td>\n",
       "      <td>42.0</td>\n",
       "      <td>2016 Toyota Mirai</td>\n",
       "      <td>1.0</td>\n",
       "      <td>0.0</td>\n",
       "      <td>0.0</td>\n",
       "      <td>...</td>\n",
       "      <td>3.0</td>\n",
       "      <td>483.14</td>\n",
       "      <td>0.0</td>\n",
       "      <td>0.01</td>\n",
       "      <td>2.0</td>\n",
       "      <td>65.0</td>\n",
       "      <td>0.0</td>\n",
       "      <td>2</td>\n",
       "      <td>14622.000000</td>\n",
       "      <td>0.0</td>\n",
       "    </tr>\n",
       "    <tr>\n",
       "      <th>1</th>\n",
       "      <td>FCV_1_4</td>\n",
       "      <td>2017/06/02 11:15:39</td>\n",
       "      <td>06/2017</td>\n",
       "      <td>6.0</td>\n",
       "      <td>2017.0</td>\n",
       "      <td>42.0</td>\n",
       "      <td>2016 Toyota Mirai</td>\n",
       "      <td>0.0</td>\n",
       "      <td>0.0</td>\n",
       "      <td>1.0</td>\n",
       "      <td>...</td>\n",
       "      <td>4.0</td>\n",
       "      <td>568.09</td>\n",
       "      <td>1.0</td>\n",
       "      <td>10.69</td>\n",
       "      <td>3.0</td>\n",
       "      <td>65.0</td>\n",
       "      <td>0.0</td>\n",
       "      <td>3</td>\n",
       "      <td>9197.142857</td>\n",
       "      <td>0.0</td>\n",
       "    </tr>\n",
       "    <tr>\n",
       "      <th>2</th>\n",
       "      <td>FCV_1_2</td>\n",
       "      <td>2017/06/02 10:51:59</td>\n",
       "      <td>06/2017</td>\n",
       "      <td>6.0</td>\n",
       "      <td>2017.0</td>\n",
       "      <td>42.0</td>\n",
       "      <td>2016 Toyota Mirai</td>\n",
       "      <td>1.0</td>\n",
       "      <td>1.0</td>\n",
       "      <td>0.0</td>\n",
       "      <td>...</td>\n",
       "      <td>4.0</td>\n",
       "      <td>398.57</td>\n",
       "      <td>0.0</td>\n",
       "      <td>9.39</td>\n",
       "      <td>5.0</td>\n",
       "      <td>55.0</td>\n",
       "      <td>1.0</td>\n",
       "      <td>4</td>\n",
       "      <td>15360.000000</td>\n",
       "      <td>0.0</td>\n",
       "    </tr>\n",
       "    <tr>\n",
       "      <th>3</th>\n",
       "      <td>FCV_1_5</td>\n",
       "      <td>NaN</td>\n",
       "      <td>NaN</td>\n",
       "      <td>NaN</td>\n",
       "      <td>NaN</td>\n",
       "      <td>NaN</td>\n",
       "      <td>NaN</td>\n",
       "      <td>NaN</td>\n",
       "      <td>NaN</td>\n",
       "      <td>NaN</td>\n",
       "      <td>...</td>\n",
       "      <td>NaN</td>\n",
       "      <td>NaN</td>\n",
       "      <td>NaN</td>\n",
       "      <td>NaN</td>\n",
       "      <td>NaN</td>\n",
       "      <td>NaN</td>\n",
       "      <td>NaN</td>\n",
       "      <td>1</td>\n",
       "      <td>NaN</td>\n",
       "      <td>NaN</td>\n",
       "    </tr>\n",
       "    <tr>\n",
       "      <th>4</th>\n",
       "      <td>FCV_1_15</td>\n",
       "      <td>2017/06/02 19:35:59</td>\n",
       "      <td>06/2017</td>\n",
       "      <td>6.0</td>\n",
       "      <td>2017.0</td>\n",
       "      <td>42.0</td>\n",
       "      <td>2017 Toyota Mirai</td>\n",
       "      <td>1.0</td>\n",
       "      <td>0.0</td>\n",
       "      <td>0.0</td>\n",
       "      <td>...</td>\n",
       "      <td>2.0</td>\n",
       "      <td>255.16</td>\n",
       "      <td>0.0</td>\n",
       "      <td>17.63</td>\n",
       "      <td>2.0</td>\n",
       "      <td>55.0</td>\n",
       "      <td>0.0</td>\n",
       "      <td>3</td>\n",
       "      <td>5082.352941</td>\n",
       "      <td>0.0</td>\n",
       "    </tr>\n",
       "  </tbody>\n",
       "</table>\n",
       "<p>5 rows × 25 columns</p>\n",
       "</div>"
      ],
      "text/plain": [
       "  id. Response ID submitdate. Date submitted  \\\n",
       "0         FCV_1_3        2017/06/02 11:30:57   \n",
       "1         FCV_1_4        2017/06/02 11:15:39   \n",
       "2         FCV_1_2        2017/06/02 10:51:59   \n",
       "3         FCV_1_5                        NaN   \n",
       "4        FCV_1_15        2017/06/02 19:35:59   \n",
       "\n",
       "  Month Year[subm...Date submitted]  Month[Month Yea...ate submitted]]  \\\n",
       "0                           06/2017                                6.0   \n",
       "1                           06/2017                                6.0   \n",
       "2                           06/2017                                6.0   \n",
       "3                               NaN                                NaN   \n",
       "4                           06/2017                                6.0   \n",
       "\n",
       "   Year[Month Year...ate submitted]]  lastpage. Last page            Carmain  \\\n",
       "0                             2017.0                 42.0  2016 Toyota Mirai   \n",
       "1                             2017.0                 42.0  2016 Toyota Mirai   \n",
       "2                             2017.0                 42.0  2016 Toyota Mirai   \n",
       "3                                NaN                  NaN                NaN   \n",
       "4                             2017.0                 42.0  2017 Toyota Mirai   \n",
       "\n",
       "   Previous PHEVs  Previous BEVs  Previous HEVs  ...  \\\n",
       "0             1.0            0.0            0.0  ...   \n",
       "1             0.0            0.0            1.0  ...   \n",
       "2             1.0            1.0            0.0  ...   \n",
       "3             NaN            NaN            NaN  ...   \n",
       "4             1.0            0.0            0.0  ...   \n",
       "\n",
       "   Highest Level of Education  Longest trip in the last 12 months  \\\n",
       "0                         3.0                              483.14   \n",
       "1                         4.0                              568.09   \n",
       "2                         4.0                              398.57   \n",
       "3                         NaN                                 NaN   \n",
       "4                         2.0                              255.16   \n",
       "\n",
       "   Number of trips over 200 miles in the last 12 months  \\\n",
       "0                                                0.0      \n",
       "1                                                1.0      \n",
       "2                                                0.0      \n",
       "3                                                NaN      \n",
       "4                                                0.0      \n",
       "\n",
       "   One-way commute distance  Number of people in the household   Age  \\\n",
       "0                      0.01                                2.0  65.0   \n",
       "1                     10.69                                3.0  65.0   \n",
       "2                      9.39                                5.0  55.0   \n",
       "3                       NaN                                NaN   NaN   \n",
       "4                     17.63                                2.0  55.0   \n",
       "\n",
       "   Gender (Male 1)  Number of vehicles in the household  Annual VMT Estimate   \\\n",
       "0              0.0                                    2          14622.000000   \n",
       "1              0.0                                    3           9197.142857   \n",
       "2              1.0                                    4          15360.000000   \n",
       "3              NaN                                    1                   NaN   \n",
       "4              0.0                                    3           5082.352941   \n",
       "\n",
       "   FCV, BEV Dummy  \n",
       "0             0.0  \n",
       "1             0.0  \n",
       "2             0.0  \n",
       "3             NaN  \n",
       "4             0.0  \n",
       "\n",
       "[5 rows x 25 columns]"
      ]
     },
     "execution_count": 48,
     "metadata": {},
     "output_type": "execute_result"
    }
   ],
   "source": [
    "# Loading data\n",
    "raw_data = pd.read_excel('FCV&EVMT Data_6.18.19.xlsx')\n",
    "raw_data.head()"
   ]
  },
  {
   "cell_type": "code",
   "execution_count": 49,
   "id": "a4af98a9",
   "metadata": {
    "scrolled": true
   },
   "outputs": [
    {
     "data": {
      "text/plain": [
       "Index(['id. Response ID', 'submitdate. Date submitted',\n",
       "       'Month Year[subm...Date submitted]',\n",
       "       'Month[Month Yea...ate submitted]]',\n",
       "       'Year[Month Year...ate submitted]]', 'lastpage. Last page', 'Carmain',\n",
       "       'Previous PHEVs', 'Previous BEVs', 'Previous HEVs', 'Previous CNGs',\n",
       "       'Household Income',\n",
       "       'Importance of reducing greenhouse gas emissions (-3 not important, 3 important)',\n",
       "       'Home ownership (own 1)', 'Home Type (detached 1)',\n",
       "       'Highest Level of Education', 'Longest trip in the last 12 months',\n",
       "       'Number of trips over 200 miles in the last 12 months',\n",
       "       'One-way commute distance', 'Number of people in the household', 'Age',\n",
       "       'Gender (Male 1)', 'Number of vehicles in the household',\n",
       "       'Annual VMT Estimate ', 'FCV, BEV Dummy'],\n",
       "      dtype='object')"
      ]
     },
     "execution_count": 49,
     "metadata": {},
     "output_type": "execute_result"
    }
   ],
   "source": [
    "# Viewing columns\n",
    "raw_data.columns"
   ]
  },
  {
   "cell_type": "code",
   "execution_count": 50,
   "id": "068766aa",
   "metadata": {
    "scrolled": true
   },
   "outputs": [
    {
     "name": "stdout",
     "output_type": "stream",
     "text": [
      "<class 'pandas.core.frame.DataFrame'>\n",
      "RangeIndex: 27021 entries, 0 to 27020\n",
      "Data columns (total 25 columns):\n",
      " #   Column                                                                           Non-Null Count  Dtype  \n",
      "---  ------                                                                           --------------  -----  \n",
      " 0   id. Response ID                                                                  27021 non-null  object \n",
      " 1   submitdate. Date submitted                                                       20082 non-null  object \n",
      " 2   Month Year[subm...Date submitted]                                                20082 non-null  object \n",
      " 3   Month[Month Yea...ate submitted]]                                                20082 non-null  float64\n",
      " 4   Year[Month Year...ate submitted]]                                                20082 non-null  float64\n",
      " 5   lastpage. Last page                                                              26025 non-null  float64\n",
      " 6   Carmain                                                                          25616 non-null  object \n",
      " 7   Previous PHEVs                                                                   15944 non-null  float64\n",
      " 8   Previous BEVs                                                                    15944 non-null  float64\n",
      " 9   Previous HEVs                                                                    15944 non-null  float64\n",
      " 10  Previous CNGs                                                                    15944 non-null  float64\n",
      " 11  Household Income                                                                 16964 non-null  float64\n",
      " 12  Importance of reducing greenhouse gas emissions (-3 not important, 3 important)  18502 non-null  float64\n",
      " 13  Home ownership (own 1)                                                           18944 non-null  float64\n",
      " 14  Home Type (detached 1)                                                           18999 non-null  float64\n",
      " 15  Highest Level of Education                                                       19017 non-null  float64\n",
      " 16  Longest trip in the last 12 months                                               12620 non-null  float64\n",
      " 17  Number of trips over 200 miles in the last 12 months                             15185 non-null  float64\n",
      " 18  One-way commute distance                                                         19536 non-null  float64\n",
      " 19  Number of people in the household                                                21834 non-null  float64\n",
      " 20  Age                                                                              21603 non-null  float64\n",
      " 21  Gender (Male 1)                                                                  21567 non-null  float64\n",
      " 22  Number of vehicles in the household                                              27021 non-null  int64  \n",
      " 23  Annual VMT Estimate                                                              18825 non-null  float64\n",
      " 24  FCV, BEV Dummy                                                                   14044 non-null  float64\n",
      "dtypes: float64(20), int64(1), object(4)\n",
      "memory usage: 5.2+ MB\n"
     ]
    }
   ],
   "source": [
    "# Viewing the columns & datatypes\n",
    "raw_data.info()"
   ]
  },
  {
   "cell_type": "code",
   "execution_count": 51,
   "id": "fa7f2f51",
   "metadata": {
    "scrolled": true
   },
   "outputs": [
    {
     "name": "stdout",
     "output_type": "stream",
     "text": [
      "<class 'pandas.core.frame.DataFrame'>\n",
      "Int64Index: 4709 entries, 0 to 19724\n",
      "Data columns (total 25 columns):\n",
      " #   Column                                                                           Non-Null Count  Dtype  \n",
      "---  ------                                                                           --------------  -----  \n",
      " 0   id. Response ID                                                                  4709 non-null   object \n",
      " 1   submitdate. Date submitted                                                       4709 non-null   object \n",
      " 2   Month Year[subm...Date submitted]                                                4709 non-null   object \n",
      " 3   Month[Month Yea...ate submitted]]                                                4709 non-null   float64\n",
      " 4   Year[Month Year...ate submitted]]                                                4709 non-null   float64\n",
      " 5   lastpage. Last page                                                              4709 non-null   float64\n",
      " 6   Carmain                                                                          4709 non-null   object \n",
      " 7   Previous PHEVs                                                                   4709 non-null   float64\n",
      " 8   Previous BEVs                                                                    4709 non-null   float64\n",
      " 9   Previous HEVs                                                                    4709 non-null   float64\n",
      " 10  Previous CNGs                                                                    4709 non-null   float64\n",
      " 11  Household Income                                                                 4709 non-null   float64\n",
      " 12  Importance of reducing greenhouse gas emissions (-3 not important, 3 important)  4709 non-null   float64\n",
      " 13  Home ownership (own 1)                                                           4709 non-null   float64\n",
      " 14  Home Type (detached 1)                                                           4709 non-null   float64\n",
      " 15  Highest Level of Education                                                       4709 non-null   float64\n",
      " 16  Longest trip in the last 12 months                                               4709 non-null   float64\n",
      " 17  Number of trips over 200 miles in the last 12 months                             4709 non-null   float64\n",
      " 18  One-way commute distance                                                         4709 non-null   float64\n",
      " 19  Number of people in the household                                                4709 non-null   float64\n",
      " 20  Age                                                                              4709 non-null   float64\n",
      " 21  Gender (Male 1)                                                                  4709 non-null   float64\n",
      " 22  Number of vehicles in the household                                              4709 non-null   int64  \n",
      " 23  Annual VMT Estimate                                                              4709 non-null   float64\n",
      " 24  FCV, BEV Dummy                                                                   4709 non-null   float64\n",
      "dtypes: float64(20), int64(1), object(4)\n",
      "memory usage: 956.5+ KB\n"
     ]
    }
   ],
   "source": [
    "# Dropping all rows with null values \n",
    "clean_df = raw_data.dropna()\n",
    "clean_df.info()"
   ]
  },
  {
   "cell_type": "code",
   "execution_count": 52,
   "id": "5483b147",
   "metadata": {},
   "outputs": [
    {
     "data": {
      "text/plain": [
       "0"
      ]
     },
     "execution_count": 52,
     "metadata": {},
     "output_type": "execute_result"
    }
   ],
   "source": [
    "# Viewing if the test df has duplicated values\n",
    "clean_df.duplicated().sum()"
   ]
  },
  {
   "cell_type": "code",
   "execution_count": 82,
   "id": "8834738a",
   "metadata": {},
   "outputs": [
    {
     "data": {
      "text/plain": [
       "Carmain\n",
       "2015 Tesla Model S          502\n",
       "2017 Chevrolet Bolt EV      498\n",
       "2015 Nissan Leaf            470\n",
       "2016 Volkswagen e-Golf      308\n",
       "2013 Nissan Leaf            305\n",
       "2016 Nissan Leaf            277\n",
       "2016 Tesla Model S          254\n",
       "2013 Tesla Model S          194\n",
       "2014 Nissan Leaf            144\n",
       "2017 Toyota Mirai           137\n",
       "2016 Tesla Model X          136\n",
       "2014 Tesla Model S           99\n",
       "2014 Fiat 500e               87\n",
       "2012 Nissan Leaf             81\n",
       "2013 Fiat 500e               80\n",
       "2015 BMW i3                  75\n",
       "2016 Fiat 500e               75\n",
       "2017 Nissan Leaf             75\n",
       "2016 Toyota Mirai            71\n",
       "2014 Toyota RAV4 EV          67\n",
       "2014 Chevrolet Spark EV      60\n",
       "2014 Ford Focus Electric     56\n",
       "2013 Toyota RAV4 EV          47\n",
       "2011 Nissan Leaf             46\n",
       "2014 BMW i3                  43\n",
       "2012 Tesla Model S           43\n",
       "2016 FIAT 500e               37\n",
       "2016 Kia Soul EV             35\n",
       "2015 Fiat 500e               33\n",
       "2014 Honda Fit EV            29\n",
       "Name: Highest Level of Education, dtype: int64"
      ]
     },
     "execution_count": 82,
     "metadata": {},
     "output_type": "execute_result"
    }
   ],
   "source": [
    "# Viewing the carmain column (how many people owned specific car models)\n",
    "cars_by_model = clean_df.groupby('Carmain').count()['Highest Level of Education'].sort_values(ascending = False)\n",
    "cars_by_model[:30]"
   ]
  },
  {
   "cell_type": "code",
   "execution_count": 53,
   "id": "2eafc2d1",
   "metadata": {},
   "outputs": [
    {
     "data": {
      "text/plain": [
       "count    4709.000000\n",
       "mean       49.643661\n",
       "std        12.380423\n",
       "min        18.000000\n",
       "25%        45.000000\n",
       "50%        45.000000\n",
       "75%        55.000000\n",
       "max        80.000000\n",
       "Name: Age, dtype: float64"
      ]
     },
     "execution_count": 53,
     "metadata": {},
     "output_type": "execute_result"
    }
   ],
   "source": [
    "# Viewing the age column \n",
    "clean_df['Age'].describe()"
   ]
  },
  {
   "cell_type": "code",
   "execution_count": 54,
   "id": "0eaedd71",
   "metadata": {
    "scrolled": true
   },
   "outputs": [
    {
     "data": {
      "text/plain": [
       "count      4709.000000\n",
       "mean     223311.743470\n",
       "std      123880.139436\n",
       "min       50000.000000\n",
       "25%      125000.000000\n",
       "50%      175000.000000\n",
       "75%      275000.000000\n",
       "max      500000.000000\n",
       "Name: Household Income, dtype: float64"
      ]
     },
     "execution_count": 54,
     "metadata": {},
     "output_type": "execute_result"
    }
   ],
   "source": [
    "# Viewing the household income column \n",
    "clean_df['Household Income'].describe()"
   ]
  },
  {
   "cell_type": "code",
   "execution_count": 55,
   "id": "1fb07581",
   "metadata": {},
   "outputs": [
    {
     "data": {
      "text/plain": [
       "0        1.0\n",
       "1        0.0\n",
       "4        1.0\n",
       "5        0.0\n",
       "7        0.0\n",
       "        ... \n",
       "19708    0.0\n",
       "19712    0.0\n",
       "19717    1.0\n",
       "19723    0.0\n",
       "19724    0.0\n",
       "Name: Previous PHEVs, Length: 4709, dtype: float64"
      ]
     },
     "execution_count": 55,
     "metadata": {},
     "output_type": "execute_result"
    }
   ],
   "source": [
    "# Viewing the Previous PHEVs column\n",
    "clean_df['Previous PHEVs']"
   ]
  },
  {
   "cell_type": "code",
   "execution_count": 56,
   "id": "c2d5161e",
   "metadata": {},
   "outputs": [
    {
     "data": {
      "text/plain": [
       "count    4709.000000\n",
       "mean        1.715364\n",
       "std         1.576913\n",
       "min        -3.000000\n",
       "25%         1.240000\n",
       "50%         2.550000\n",
       "75%         2.740000\n",
       "max         3.000000\n",
       "Name: Importance of reducing greenhouse gas emissions (-3 not important, 3 important), dtype: float64"
      ]
     },
     "execution_count": 56,
     "metadata": {},
     "output_type": "execute_result"
    }
   ],
   "source": [
    "# Viewing the importance of emissions column\n",
    "clean_df['Importance of reducing greenhouse gas emissions (-3 not important, 3 important)'].describe()"
   ]
  },
  {
   "cell_type": "code",
   "execution_count": 57,
   "id": "34b43cbe",
   "metadata": {},
   "outputs": [
    {
     "data": {
      "text/plain": [
       "count    4709.000000\n",
       "mean       18.578486\n",
       "std        40.951945\n",
       "min         0.000000\n",
       "25%         6.680000\n",
       "50%        14.000000\n",
       "75%        23.710000\n",
       "max      2381.910000\n",
       "Name: One-way commute distance, dtype: float64"
      ]
     },
     "execution_count": 57,
     "metadata": {},
     "output_type": "execute_result"
    }
   ],
   "source": [
    "# Commute Distance\n",
    "clean_df['One-way commute distance'].describe()"
   ]
  },
  {
   "cell_type": "code",
   "execution_count": 60,
   "id": "5daae89d",
   "metadata": {
    "scrolled": false
   },
   "outputs": [
    {
     "data": {
      "text/plain": [
       "(-20.0, 1000.0)"
      ]
     },
     "execution_count": 60,
     "metadata": {},
     "output_type": "execute_result"
    },
    {
     "data": {
      "image/png": "[encoded data removed]",
      "text/plain": [
       "<Figure size 640x480 with 1 Axes>"
      ]
     },
     "metadata": {},
     "output_type": "display_data"
    }
   ],
   "source": [
    "# Defining axes\n",
    "x_axis = test['Importance of reducing greenhouse gas emissions (-3 not important, 3 important)'].values\n",
    "y_axis = test['One-way commute distance'].values\n",
    "\n",
    "# Plotting data\n",
    "plt.scatter(x_axis, y_axis)\n",
    "plt.title('Greenhouse importance vs. Commute Distance')\n",
    "plt.ylabel('One-way Commute Distance')\n",
    "plt.xlabel('Greenhouse Emissions Importance')\n",
    "plt.ylim(-20, 1000)"
   ]
  },
  {
   "cell_type": "markdown",
   "id": "f3c58633",
   "metadata": {},
   "source": [
    "### -3 corresponds to the consumer not caring about greenhouse emissions, while +3 corresponds to the consumer caring a lot about greenhouse emissions"
   ]
  },
  {
   "cell_type": "code",
   "execution_count": 83,
   "id": "7435bec1",
   "metadata": {},
   "outputs": [
    {
     "data": {
      "text/plain": [
       "(-20.0, 1000.0)"
      ]
     },
     "execution_count": 83,
     "metadata": {},
     "output_type": "execute_result"
    },
    {
     "data": {
      "image/png": "[encoded data removed]",
      "text/plain": [
       "<Figure size 640x480 with 1 Axes>"
      ]
     },
     "metadata": {},
     "output_type": "display_data"
    }
   ],
   "source": [
    "# Defining axes\n",
    "x_axis = test['Number of trips over 200 miles in the last 12 months'].values\n",
    "y_axis = test['One-way commute distance'].values\n",
    "\n",
    "# Plotting data\n",
    "plt.scatter(x_axis, y_axis)\n",
    "plt.title('Greenhouse importance vs. Commute Distance')\n",
    "plt.ylabel('One-way Commute Distance')\n",
    "plt.xlabel('Greenhouse Emissions Importance')\n",
    "plt.ylim(-20, 1000)"
   ]
  },
  {
   "cell_type": "code",
   "execution_count": null,
   "id": "9eb43f0e",
   "metadata": {},
   "outputs": [],
   "source": []
  }
 ],
 "metadata": {
  "kernelspec": {
   "display_name": "PythonData",
   "language": "python",
   "name": "pythondata"
  },
  "language_info": {
   "codemirror_mode": {
    "name": "ipython",
    "version": 3
   },
   "file_extension": ".py",
   "mimetype": "text/x-python",
   "name": "python",
   "nbconvert_exporter": "python",
   "pygments_lexer": "ipython3",
   "version": "3.7.13"
  }
 },
 "nbformat": 4,
 "nbformat_minor": 5
}
