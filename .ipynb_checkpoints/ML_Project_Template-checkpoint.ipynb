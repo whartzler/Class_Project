{
 "cells": [
  {
   "cell_type": "markdown",
   "metadata": {
    "id": "BL_LfsVn_bv1"
   },
   "source": [
    "# Final Project - Maintaining EV customers\n",
    "\n",
    "---------------\n",
    "## Context\n",
    "---------------\n",
    "This dataset presents results from a survey of FCV and BEV and compared the sociodeographic profile of FCV buyers vs BEV Households.  \n",
    "\n",
    "\n",
    "-----------------\n",
    "## Objective\n",
    "-----------------\n",
    "Based on the data we want to identify Current FCV & BEV Owners Demographics and see if there are any major differences between the two car owners.  \n",
    "\n",
    "For our ML model we will attemp to predict based on the information if we can identify the customer as a FCV or BEV owner.  \n",
    "\n",
    "-------------------------\n",
    "## Data Dictionary\n",
    "-------------------------\n",
    "\n",
    "The dataset has the following information:\n",
    "- When the customer submitted their data\n",
    "- If they Previously Owned a PHEV, BEV, HEV, CNG\n",
    "- Household Income\n",
    "- Importance of Reducing Greenhouse Emissions\n",
    "- Demographics of the customer current car (year, manufacture, model)\n",
    "- Demographics on the customer's (home type, ownership of home,  education, gender, age, # of people in household)\n",
    "- Demographics on customers car usage (longest trip, number of trips over 200 miles, one way commute distance, annual VMT vehicle miles traveled)\n",
    "- If the customer is currently a FCV or BEV Current Owner\n",
    "\n",
    "\n",
    "#### Acronyms used\n",
    "- BEV: Battery Electric Vehicle\n",
    "- FCV: Fuel Cell Vehicle (Hydrogen fuel cell vehicle)\n",
    "- PHEV: Plug-in hybrid electric vehicle\n",
    "- CNG: Compressed Natural Gas (everyday car)"
   ]
  },
  {
   "cell_type": "markdown",
   "metadata": {
    "id": "vVR3oeVo_bv5"
   },
   "source": [
    "### Import the necessary libraries or dependencies"
   ]
  },
  {
   "cell_type": "code",
   "execution_count": 28,
   "metadata": {
    "id": "sQPI1Bzz_bv5"
   },
   "outputs": [],
   "source": [
    "#Import Dependencies\n",
    "import pandas as pd\n",
    "import matplotlib.pyplot as plt\n",
    "import seaborn as sns\n",
    "import numpy as np\n",
    "from sklearn.linear_model import LogisticRegression"
   ]
  },
  {
   "cell_type": "markdown",
   "metadata": {
    "id": "8WpI8LC7_bv7"
   },
   "source": [
    "###  Read the Dataset "
   ]
  },
  {
   "cell_type": "code",
   "execution_count": 5,
   "metadata": {
    "id": "OTzXe_vA_bv7"
   },
   "outputs": [],
   "source": [
    "#Import File\n",
    "fcv_df = pd.read_excel('resources/EV_Cal.xlsx')"
   ]
  },
  {
   "cell_type": "markdown",
   "metadata": {},
   "source": [
    "## Descriptive Analysis/EDA\n",
    "\n",
    "1. Check dimensions of the dataframe in terms of rows and columns\n",
    "2. Check data types. Ensure your data types are correct. Refer data definitions to validate\n",
    "3. If data types are not as per business definition, change the data types as per requirement\n",
    "4. Study summary statistics\n",
    "5. Check for missing values\n",
    "6. Study correlation\n",
    "7. Detect outliers"
   ]
  },
  {
   "cell_type": "markdown",
   "metadata": {
    "id": "H3SziaVY_bv8"
   },
   "source": [
    "### Examine Dataset "
   ]
  },
  {
   "cell_type": "code",
   "execution_count": 6,
   "metadata": {
    "scrolled": true
   },
   "outputs": [
    {
     "data": {
      "text/html": [
       "<div>\n",
       "<style scoped>\n",
       "    .dataframe tbody tr th:only-of-type {\n",
       "        vertical-align: middle;\n",
       "    }\n",
       "\n",
       "    .dataframe tbody tr th {\n",
       "        vertical-align: top;\n",
       "    }\n",
       "\n",
       "    .dataframe thead th {\n",
       "        text-align: right;\n",
       "    }\n",
       "</style>\n",
       "<table border=\"1\" class=\"dataframe\">\n",
       "  <thead>\n",
       "    <tr style=\"text-align: right;\">\n",
       "      <th></th>\n",
       "      <th>id. Response ID</th>\n",
       "      <th>submitdate. Date submitted</th>\n",
       "      <th>Month Year[subm...Date submitted]</th>\n",
       "      <th>Month[Month Yea...ate submitted]]</th>\n",
       "      <th>Year[Month Year...ate submitted]]</th>\n",
       "      <th>lastpage. Last page</th>\n",
       "      <th>Carmain</th>\n",
       "      <th>Previous PHEVs</th>\n",
       "      <th>Previous BEVs</th>\n",
       "      <th>Previous HEVs</th>\n",
       "      <th>...</th>\n",
       "      <th>Highest Level of Education</th>\n",
       "      <th>Longest trip in the last 12 months</th>\n",
       "      <th>Number of trips over 200 miles in the last 12 months</th>\n",
       "      <th>One-way commute distance</th>\n",
       "      <th>Number of people in the household</th>\n",
       "      <th>Age</th>\n",
       "      <th>Gender (Male 1)</th>\n",
       "      <th>Number of vehicles in the household</th>\n",
       "      <th>Annual VMT Estimate</th>\n",
       "      <th>FCV, BEV Dummy</th>\n",
       "    </tr>\n",
       "  </thead>\n",
       "  <tbody>\n",
       "    <tr>\n",
       "      <th>0</th>\n",
       "      <td>FCV_1_3</td>\n",
       "      <td>2017/06/02 11:30:57</td>\n",
       "      <td>06/2017</td>\n",
       "      <td>6.0</td>\n",
       "      <td>2017.0</td>\n",
       "      <td>42.0</td>\n",
       "      <td>2016 Toyota Mirai</td>\n",
       "      <td>1.0</td>\n",
       "      <td>0.0</td>\n",
       "      <td>0.0</td>\n",
       "      <td>...</td>\n",
       "      <td>3.0</td>\n",
       "      <td>483.14</td>\n",
       "      <td>0.0</td>\n",
       "      <td>0.01</td>\n",
       "      <td>2.0</td>\n",
       "      <td>65.0</td>\n",
       "      <td>0.0</td>\n",
       "      <td>2</td>\n",
       "      <td>14622.000000</td>\n",
       "      <td>0.0</td>\n",
       "    </tr>\n",
       "    <tr>\n",
       "      <th>1</th>\n",
       "      <td>FCV_1_4</td>\n",
       "      <td>2017/06/02 11:15:39</td>\n",
       "      <td>06/2017</td>\n",
       "      <td>6.0</td>\n",
       "      <td>2017.0</td>\n",
       "      <td>42.0</td>\n",
       "      <td>2016 Toyota Mirai</td>\n",
       "      <td>0.0</td>\n",
       "      <td>0.0</td>\n",
       "      <td>1.0</td>\n",
       "      <td>...</td>\n",
       "      <td>4.0</td>\n",
       "      <td>568.09</td>\n",
       "      <td>1.0</td>\n",
       "      <td>10.69</td>\n",
       "      <td>3.0</td>\n",
       "      <td>65.0</td>\n",
       "      <td>0.0</td>\n",
       "      <td>3</td>\n",
       "      <td>9197.142857</td>\n",
       "      <td>0.0</td>\n",
       "    </tr>\n",
       "    <tr>\n",
       "      <th>2</th>\n",
       "      <td>FCV_1_2</td>\n",
       "      <td>2017/06/02 10:51:59</td>\n",
       "      <td>06/2017</td>\n",
       "      <td>6.0</td>\n",
       "      <td>2017.0</td>\n",
       "      <td>42.0</td>\n",
       "      <td>2016 Toyota Mirai</td>\n",
       "      <td>1.0</td>\n",
       "      <td>1.0</td>\n",
       "      <td>0.0</td>\n",
       "      <td>...</td>\n",
       "      <td>4.0</td>\n",
       "      <td>398.57</td>\n",
       "      <td>0.0</td>\n",
       "      <td>9.39</td>\n",
       "      <td>5.0</td>\n",
       "      <td>55.0</td>\n",
       "      <td>1.0</td>\n",
       "      <td>4</td>\n",
       "      <td>15360.000000</td>\n",
       "      <td>0.0</td>\n",
       "    </tr>\n",
       "    <tr>\n",
       "      <th>3</th>\n",
       "      <td>FCV_1_5</td>\n",
       "      <td>NaN</td>\n",
       "      <td>NaN</td>\n",
       "      <td>NaN</td>\n",
       "      <td>NaN</td>\n",
       "      <td>NaN</td>\n",
       "      <td>NaN</td>\n",
       "      <td>NaN</td>\n",
       "      <td>NaN</td>\n",
       "      <td>NaN</td>\n",
       "      <td>...</td>\n",
       "      <td>NaN</td>\n",
       "      <td>NaN</td>\n",
       "      <td>NaN</td>\n",
       "      <td>NaN</td>\n",
       "      <td>NaN</td>\n",
       "      <td>NaN</td>\n",
       "      <td>NaN</td>\n",
       "      <td>1</td>\n",
       "      <td>NaN</td>\n",
       "      <td>NaN</td>\n",
       "    </tr>\n",
       "    <tr>\n",
       "      <th>4</th>\n",
       "      <td>FCV_1_15</td>\n",
       "      <td>2017/06/02 19:35:59</td>\n",
       "      <td>06/2017</td>\n",
       "      <td>6.0</td>\n",
       "      <td>2017.0</td>\n",
       "      <td>42.0</td>\n",
       "      <td>2017 Toyota Mirai</td>\n",
       "      <td>1.0</td>\n",
       "      <td>0.0</td>\n",
       "      <td>0.0</td>\n",
       "      <td>...</td>\n",
       "      <td>2.0</td>\n",
       "      <td>255.16</td>\n",
       "      <td>0.0</td>\n",
       "      <td>17.63</td>\n",
       "      <td>2.0</td>\n",
       "      <td>55.0</td>\n",
       "      <td>0.0</td>\n",
       "      <td>3</td>\n",
       "      <td>5082.352941</td>\n",
       "      <td>0.0</td>\n",
       "    </tr>\n",
       "  </tbody>\n",
       "</table>\n",
       "<p>5 rows × 25 columns</p>\n",
       "</div>"
      ],
      "text/plain": [
       "  id. Response ID submitdate. Date submitted  \\\n",
       "0         FCV_1_3        2017/06/02 11:30:57   \n",
       "1         FCV_1_4        2017/06/02 11:15:39   \n",
       "2         FCV_1_2        2017/06/02 10:51:59   \n",
       "3         FCV_1_5                        NaN   \n",
       "4        FCV_1_15        2017/06/02 19:35:59   \n",
       "\n",
       "  Month Year[subm...Date submitted]  Month[Month Yea...ate submitted]]  \\\n",
       "0                           06/2017                                6.0   \n",
       "1                           06/2017                                6.0   \n",
       "2                           06/2017                                6.0   \n",
       "3                               NaN                                NaN   \n",
       "4                           06/2017                                6.0   \n",
       "\n",
       "   Year[Month Year...ate submitted]]  lastpage. Last page            Carmain  \\\n",
       "0                             2017.0                 42.0  2016 Toyota Mirai   \n",
       "1                             2017.0                 42.0  2016 Toyota Mirai   \n",
       "2                             2017.0                 42.0  2016 Toyota Mirai   \n",
       "3                                NaN                  NaN                NaN   \n",
       "4                             2017.0                 42.0  2017 Toyota Mirai   \n",
       "\n",
       "   Previous PHEVs  Previous BEVs  Previous HEVs  ...  \\\n",
       "0             1.0            0.0            0.0  ...   \n",
       "1             0.0            0.0            1.0  ...   \n",
       "2             1.0            1.0            0.0  ...   \n",
       "3             NaN            NaN            NaN  ...   \n",
       "4             1.0            0.0            0.0  ...   \n",
       "\n",
       "   Highest Level of Education  Longest trip in the last 12 months  \\\n",
       "0                         3.0                              483.14   \n",
       "1                         4.0                              568.09   \n",
       "2                         4.0                              398.57   \n",
       "3                         NaN                                 NaN   \n",
       "4                         2.0                              255.16   \n",
       "\n",
       "   Number of trips over 200 miles in the last 12 months  \\\n",
       "0                                                0.0      \n",
       "1                                                1.0      \n",
       "2                                                0.0      \n",
       "3                                                NaN      \n",
       "4                                                0.0      \n",
       "\n",
       "   One-way commute distance  Number of people in the household   Age  \\\n",
       "0                      0.01                                2.0  65.0   \n",
       "1                     10.69                                3.0  65.0   \n",
       "2                      9.39                                5.0  55.0   \n",
       "3                       NaN                                NaN   NaN   \n",
       "4                     17.63                                2.0  55.0   \n",
       "\n",
       "   Gender (Male 1)  Number of vehicles in the household  Annual VMT Estimate   \\\n",
       "0              0.0                                    2          14622.000000   \n",
       "1              0.0                                    3           9197.142857   \n",
       "2              1.0                                    4          15360.000000   \n",
       "3              NaN                                    1                   NaN   \n",
       "4              0.0                                    3           5082.352941   \n",
       "\n",
       "   FCV, BEV Dummy  \n",
       "0             0.0  \n",
       "1             0.0  \n",
       "2             0.0  \n",
       "3             NaN  \n",
       "4             0.0  \n",
       "\n",
       "[5 rows x 25 columns]"
      ]
     },
     "execution_count": 6,
     "metadata": {},
     "output_type": "execute_result"
    }
   ],
   "source": [
    "fcv_df.head()"
   ]
  },
  {
   "cell_type": "markdown",
   "metadata": {
    "id": "OzzsF3Pg_bv-"
   },
   "source": [
    "### The dimension of the `data` dataframe. (shape, r x c)"
   ]
  },
  {
   "cell_type": "code",
   "execution_count": 7,
   "metadata": {
    "id": "zdtFn47Q_bwA"
   },
   "outputs": [
    {
     "data": {
      "text/plain": [
       "(27021, 25)"
      ]
     },
     "execution_count": 7,
     "metadata": {},
     "output_type": "execute_result"
    }
   ],
   "source": [
    "fcv_df.shape"
   ]
  },
  {
   "cell_type": "markdown",
   "metadata": {},
   "source": [
    "#### Observations: \n",
    "The original dataset has 27,021 rows and 25 columns"
   ]
  },
  {
   "cell_type": "markdown",
   "metadata": {
    "id": "DyG29Cqz_bwA"
   },
   "source": [
    "### Data Types/Categorical vs. Numerical Columns"
   ]
  },
  {
   "cell_type": "code",
   "execution_count": 8,
   "metadata": {
    "scrolled": true
   },
   "outputs": [
    {
     "data": {
      "text/plain": [
       "id. Response ID                                                                     object\n",
       "submitdate. Date submitted                                                          object\n",
       "Month Year[subm...Date submitted]                                                   object\n",
       "Month[Month Yea...ate submitted]]                                                  float64\n",
       "Year[Month Year...ate submitted]]                                                  float64\n",
       "lastpage. Last page                                                                float64\n",
       "Carmain                                                                             object\n",
       "Previous PHEVs                                                                     float64\n",
       "Previous BEVs                                                                      float64\n",
       "Previous HEVs                                                                      float64\n",
       "Previous CNGs                                                                      float64\n",
       "Household Income                                                                   float64\n",
       "Importance of reducing greenhouse gas emissions (-3 not important, 3 important)    float64\n",
       "Home ownership (own 1)                                                             float64\n",
       "Home Type (detached 1)                                                             float64\n",
       "Highest Level of Education                                                         float64\n",
       "Longest trip in the last 12 months                                                 float64\n",
       "Number of trips over 200 miles in the last 12 months                               float64\n",
       "One-way commute distance                                                           float64\n",
       "Number of people in the household                                                  float64\n",
       "Age                                                                                float64\n",
       "Gender (Male 1)                                                                    float64\n",
       "Number of vehicles in the household                                                  int64\n",
       "Annual VMT Estimate                                                                float64\n",
       "FCV, BEV Dummy                                                                     float64\n",
       "dtype: object"
      ]
     },
     "execution_count": 8,
     "metadata": {},
     "output_type": "execute_result"
    }
   ],
   "source": [
    "fcv_df.dtypes"
   ]
  },
  {
   "cell_type": "markdown",
   "metadata": {
    "id": "OqnMczju_bwB"
   },
   "source": [
    "#### Observations:"
   ]
  },
  {
   "cell_type": "markdown",
   "metadata": {
    "id": "RdARzto8_bwB"
   },
   "source": [
    "Lots of floats that need to be converted to integers. Possibly need to convert object to datetime."
   ]
  },
  {
   "cell_type": "markdown",
   "metadata": {
    "id": "wHYJkmek_bwB"
   },
   "source": [
    "### Missing Values\n",
    "\n",
    "**If we encounter with missing data, what we can do:**\n",
    "\n",
    "* leave as is\n",
    "* drop them with dropna()\n",
    "* fill missing value with fillna()\n",
    "* fill missing values with test statistics like mean\n",
    "\n",
    "Mode Inputation\n",
    "* Mode imputation means replacing missing values by the mode, or the most frequent- category value.\n"
   ]
  },
  {
   "cell_type": "code",
   "execution_count": 9,
   "metadata": {},
   "outputs": [
    {
     "data": {
      "text/plain": [
       "id. Response ID                                                                        0\n",
       "submitdate. Date submitted                                                          6939\n",
       "Month Year[subm...Date submitted]                                                   6939\n",
       "Month[Month Yea...ate submitted]]                                                   6939\n",
       "Year[Month Year...ate submitted]]                                                   6939\n",
       "lastpage. Last page                                                                  996\n",
       "Carmain                                                                             1405\n",
       "Previous PHEVs                                                                     11077\n",
       "Previous BEVs                                                                      11077\n",
       "Previous HEVs                                                                      11077\n",
       "Previous CNGs                                                                      11077\n",
       "Household Income                                                                   10057\n",
       "Importance of reducing greenhouse gas emissions (-3 not important, 3 important)     8519\n",
       "Home ownership (own 1)                                                              8077\n",
       "Home Type (detached 1)                                                              8022\n",
       "Highest Level of Education                                                          8004\n",
       "Longest trip in the last 12 months                                                 14401\n",
       "Number of trips over 200 miles in the last 12 months                               11836\n",
       "One-way commute distance                                                            7485\n",
       "Number of people in the household                                                   5187\n",
       "Age                                                                                 5418\n",
       "Gender (Male 1)                                                                     5454\n",
       "Number of vehicles in the household                                                    0\n",
       "Annual VMT Estimate                                                                 8196\n",
       "FCV, BEV Dummy                                                                     12977\n",
       "dtype: int64"
      ]
     },
     "execution_count": 9,
     "metadata": {},
     "output_type": "execute_result"
    }
   ],
   "source": [
    "fcv_df.isnull().sum()"
   ]
  },
  {
   "cell_type": "markdown",
   "metadata": {
    "id": "CpcpowUT_bwC"
   },
   "source": [
    "#### Observations: "
   ]
  },
  {
   "cell_type": "code",
   "execution_count": 10,
   "metadata": {},
   "outputs": [
    {
     "data": {
      "text/html": [
       "<style type=\"text/css\">\n",
       "</style>\n",
       "<table id=\"T_74c82\">\n",
       "  <thead>\n",
       "    <tr>\n",
       "      <th class=\"blank level0\" >&nbsp;</th>\n",
       "      <th id=\"T_74c82_level0_col0\" class=\"col_heading level0 col0\" >percent_missing</th>\n",
       "    </tr>\n",
       "  </thead>\n",
       "  <tbody>\n",
       "    <tr>\n",
       "      <th id=\"T_74c82_level0_row0\" class=\"row_heading level0 row0\" >id. Response ID</th>\n",
       "      <td id=\"T_74c82_row0_col0\" class=\"data row0 col0\" >0%</td>\n",
       "    </tr>\n",
       "    <tr>\n",
       "      <th id=\"T_74c82_level0_row1\" class=\"row_heading level0 row1\" >submitdate. Date submitted</th>\n",
       "      <td id=\"T_74c82_row1_col0\" class=\"data row1 col0\" >26%</td>\n",
       "    </tr>\n",
       "    <tr>\n",
       "      <th id=\"T_74c82_level0_row2\" class=\"row_heading level0 row2\" >Month Year[subm...Date submitted]</th>\n",
       "      <td id=\"T_74c82_row2_col0\" class=\"data row2 col0\" >26%</td>\n",
       "    </tr>\n",
       "    <tr>\n",
       "      <th id=\"T_74c82_level0_row3\" class=\"row_heading level0 row3\" >Month[Month Yea...ate submitted]]</th>\n",
       "      <td id=\"T_74c82_row3_col0\" class=\"data row3 col0\" >26%</td>\n",
       "    </tr>\n",
       "    <tr>\n",
       "      <th id=\"T_74c82_level0_row4\" class=\"row_heading level0 row4\" >Year[Month Year...ate submitted]]</th>\n",
       "      <td id=\"T_74c82_row4_col0\" class=\"data row4 col0\" >26%</td>\n",
       "    </tr>\n",
       "    <tr>\n",
       "      <th id=\"T_74c82_level0_row5\" class=\"row_heading level0 row5\" >lastpage. Last page</th>\n",
       "      <td id=\"T_74c82_row5_col0\" class=\"data row5 col0\" >4%</td>\n",
       "    </tr>\n",
       "    <tr>\n",
       "      <th id=\"T_74c82_level0_row6\" class=\"row_heading level0 row6\" >Carmain</th>\n",
       "      <td id=\"T_74c82_row6_col0\" class=\"data row6 col0\" >5%</td>\n",
       "    </tr>\n",
       "    <tr>\n",
       "      <th id=\"T_74c82_level0_row7\" class=\"row_heading level0 row7\" >Previous PHEVs</th>\n",
       "      <td id=\"T_74c82_row7_col0\" class=\"data row7 col0\" >41%</td>\n",
       "    </tr>\n",
       "    <tr>\n",
       "      <th id=\"T_74c82_level0_row8\" class=\"row_heading level0 row8\" >Previous BEVs</th>\n",
       "      <td id=\"T_74c82_row8_col0\" class=\"data row8 col0\" >41%</td>\n",
       "    </tr>\n",
       "    <tr>\n",
       "      <th id=\"T_74c82_level0_row9\" class=\"row_heading level0 row9\" >Previous HEVs</th>\n",
       "      <td id=\"T_74c82_row9_col0\" class=\"data row9 col0\" >41%</td>\n",
       "    </tr>\n",
       "    <tr>\n",
       "      <th id=\"T_74c82_level0_row10\" class=\"row_heading level0 row10\" >Previous CNGs</th>\n",
       "      <td id=\"T_74c82_row10_col0\" class=\"data row10 col0\" >41%</td>\n",
       "    </tr>\n",
       "    <tr>\n",
       "      <th id=\"T_74c82_level0_row11\" class=\"row_heading level0 row11\" >Household Income</th>\n",
       "      <td id=\"T_74c82_row11_col0\" class=\"data row11 col0\" >37%</td>\n",
       "    </tr>\n",
       "    <tr>\n",
       "      <th id=\"T_74c82_level0_row12\" class=\"row_heading level0 row12\" >Importance of reducing greenhouse gas emissions (-3 not important, 3 important)</th>\n",
       "      <td id=\"T_74c82_row12_col0\" class=\"data row12 col0\" >32%</td>\n",
       "    </tr>\n",
       "    <tr>\n",
       "      <th id=\"T_74c82_level0_row13\" class=\"row_heading level0 row13\" >Home ownership (own 1)</th>\n",
       "      <td id=\"T_74c82_row13_col0\" class=\"data row13 col0\" >30%</td>\n",
       "    </tr>\n",
       "    <tr>\n",
       "      <th id=\"T_74c82_level0_row14\" class=\"row_heading level0 row14\" >Home Type (detached 1)</th>\n",
       "      <td id=\"T_74c82_row14_col0\" class=\"data row14 col0\" >30%</td>\n",
       "    </tr>\n",
       "    <tr>\n",
       "      <th id=\"T_74c82_level0_row15\" class=\"row_heading level0 row15\" >Highest Level of Education</th>\n",
       "      <td id=\"T_74c82_row15_col0\" class=\"data row15 col0\" >30%</td>\n",
       "    </tr>\n",
       "    <tr>\n",
       "      <th id=\"T_74c82_level0_row16\" class=\"row_heading level0 row16\" >Longest trip in the last 12 months</th>\n",
       "      <td id=\"T_74c82_row16_col0\" class=\"data row16 col0\" >53%</td>\n",
       "    </tr>\n",
       "    <tr>\n",
       "      <th id=\"T_74c82_level0_row17\" class=\"row_heading level0 row17\" >Number of trips over 200 miles in the last 12 months</th>\n",
       "      <td id=\"T_74c82_row17_col0\" class=\"data row17 col0\" >44%</td>\n",
       "    </tr>\n",
       "    <tr>\n",
       "      <th id=\"T_74c82_level0_row18\" class=\"row_heading level0 row18\" >One-way commute distance</th>\n",
       "      <td id=\"T_74c82_row18_col0\" class=\"data row18 col0\" >28%</td>\n",
       "    </tr>\n",
       "    <tr>\n",
       "      <th id=\"T_74c82_level0_row19\" class=\"row_heading level0 row19\" >Number of people in the household</th>\n",
       "      <td id=\"T_74c82_row19_col0\" class=\"data row19 col0\" >19%</td>\n",
       "    </tr>\n",
       "    <tr>\n",
       "      <th id=\"T_74c82_level0_row20\" class=\"row_heading level0 row20\" >Age</th>\n",
       "      <td id=\"T_74c82_row20_col0\" class=\"data row20 col0\" >20%</td>\n",
       "    </tr>\n",
       "    <tr>\n",
       "      <th id=\"T_74c82_level0_row21\" class=\"row_heading level0 row21\" >Gender (Male 1)</th>\n",
       "      <td id=\"T_74c82_row21_col0\" class=\"data row21 col0\" >20%</td>\n",
       "    </tr>\n",
       "    <tr>\n",
       "      <th id=\"T_74c82_level0_row22\" class=\"row_heading level0 row22\" >Number of vehicles in the household</th>\n",
       "      <td id=\"T_74c82_row22_col0\" class=\"data row22 col0\" >0%</td>\n",
       "    </tr>\n",
       "    <tr>\n",
       "      <th id=\"T_74c82_level0_row23\" class=\"row_heading level0 row23\" >Annual VMT Estimate </th>\n",
       "      <td id=\"T_74c82_row23_col0\" class=\"data row23 col0\" >30%</td>\n",
       "    </tr>\n",
       "    <tr>\n",
       "      <th id=\"T_74c82_level0_row24\" class=\"row_heading level0 row24\" >FCV, BEV Dummy</th>\n",
       "      <td id=\"T_74c82_row24_col0\" class=\"data row24 col0\" >48%</td>\n",
       "    </tr>\n",
       "  </tbody>\n",
       "</table>\n"
      ],
      "text/plain": [
       "<pandas.io.formats.style.Styler at 0x7fe988ef3550>"
      ]
     },
     "execution_count": 10,
     "metadata": {},
     "output_type": "execute_result"
    }
   ],
   "source": [
    "percent_missing = fcv_df.isnull().sum() * 100 / len(fcv_df)\n",
    "missing_value_df = pd.DataFrame({'percent_missing': percent_missing})\n",
    "missing_value_df.style.format({'percent_missing':'{:.0f}%'})"
   ]
  },
  {
   "cell_type": "markdown",
   "metadata": {},
   "source": [
    "**Observations:**\n",
    "Most of the missing data comes from `Previous PHEVs`,`Previous BEVs`, `Previous HEVs`, `Previous CNGs`. These features are missing 41% of their data. `FC, BEV Dummy` is missing 48% of it's data. This is an important feature we are measuring. So, to have this column missing almost half of it's data is a big deal."
   ]
  },
  {
   "cell_type": "code",
   "execution_count": 14,
   "metadata": {
    "id": "b8D07NoL_bwC"
   },
   "outputs": [],
   "source": [
    "fcv_df = fcv_df.dropna()"
   ]
  },
  {
   "cell_type": "code",
   "execution_count": 15,
   "metadata": {
    "scrolled": true
   },
   "outputs": [
    {
     "data": {
      "text/plain": [
       "(4709, 25)"
      ]
     },
     "execution_count": 15,
     "metadata": {},
     "output_type": "execute_result"
    }
   ],
   "source": [
    "fcv_df.shape"
   ]
  },
  {
   "cell_type": "markdown",
   "metadata": {},
   "source": [
    "#### Observations: \n",
    "After all rows with null values have been dropped the dataset has 4,709 rows and 26 columns"
   ]
  },
  {
   "cell_type": "code",
   "execution_count": 16,
   "metadata": {},
   "outputs": [
    {
     "data": {
      "text/plain": [
       "id. Response ID                                                                    4709\n",
       "submitdate. Date submitted                                                         4693\n",
       "Month Year[subm...Date submitted]                                                    15\n",
       "Month[Month Yea...ate submitted]]                                                     8\n",
       "Year[Month Year...ate submitted]]                                                     3\n",
       "lastpage. Last page                                                                   5\n",
       "Carmain                                                                             112\n",
       "Previous PHEVs                                                                        2\n",
       "Previous BEVs                                                                         2\n",
       "Previous HEVs                                                                         2\n",
       "Previous CNGs                                                                         2\n",
       "Household Income                                                                     11\n",
       "Importance of reducing greenhouse gas emissions (-3 not important, 3 important)     492\n",
       "Home ownership (own 1)                                                                2\n",
       "Home Type (detached 1)                                                                2\n",
       "Highest Level of Education                                                            4\n",
       "Longest trip in the last 12 months                                                 4521\n",
       "Number of trips over 200 miles in the last 12 months                                 65\n",
       "One-way commute distance                                                           2777\n",
       "Number of people in the household                                                    11\n",
       "Age                                                                                   8\n",
       "Gender (Male 1)                                                                       2\n",
       "Number of vehicles in the household                                                   5\n",
       "Annual VMT Estimate                                                                2640\n",
       "FCV, BEV Dummy                                                                        2\n",
       "dtype: int64"
      ]
     },
     "execution_count": 16,
     "metadata": {},
     "output_type": "execute_result"
    }
   ],
   "source": [
    "# Checking the count of unique values in each column\n",
    "fcv_df.nunique()"
   ]
  },
  {
   "cell_type": "markdown",
   "metadata": {},
   "source": [
    "#### Observations: \n",
    "After all rows with null values have been dropped the dataset has 4,709 rows and 26 columns"
   ]
  },
  {
   "cell_type": "markdown",
   "metadata": {
    "id": "RmTpaojz_bwC"
   },
   "source": [
    "### Summary Statistics"
   ]
  },
  {
   "cell_type": "code",
   "execution_count": 17,
   "metadata": {},
   "outputs": [
    {
     "data": {
      "text/html": [
       "<div>\n",
       "<style scoped>\n",
       "    .dataframe tbody tr th:only-of-type {\n",
       "        vertical-align: middle;\n",
       "    }\n",
       "\n",
       "    .dataframe tbody tr th {\n",
       "        vertical-align: top;\n",
       "    }\n",
       "\n",
       "    .dataframe thead th {\n",
       "        text-align: right;\n",
       "    }\n",
       "</style>\n",
       "<table border=\"1\" class=\"dataframe\">\n",
       "  <thead>\n",
       "    <tr style=\"text-align: right;\">\n",
       "      <th></th>\n",
       "      <th>Month[Month Yea...ate submitted]]</th>\n",
       "      <th>Year[Month Year...ate submitted]]</th>\n",
       "      <th>lastpage. Last page</th>\n",
       "      <th>Previous PHEVs</th>\n",
       "      <th>Previous BEVs</th>\n",
       "      <th>Previous HEVs</th>\n",
       "      <th>Previous CNGs</th>\n",
       "      <th>Household Income</th>\n",
       "      <th>Importance of reducing greenhouse gas emissions (-3 not important, 3 important)</th>\n",
       "      <th>Home ownership (own 1)</th>\n",
       "      <th>...</th>\n",
       "      <th>Highest Level of Education</th>\n",
       "      <th>Longest trip in the last 12 months</th>\n",
       "      <th>Number of trips over 200 miles in the last 12 months</th>\n",
       "      <th>One-way commute distance</th>\n",
       "      <th>Number of people in the household</th>\n",
       "      <th>Age</th>\n",
       "      <th>Gender (Male 1)</th>\n",
       "      <th>Number of vehicles in the household</th>\n",
       "      <th>Annual VMT Estimate</th>\n",
       "      <th>FCV, BEV Dummy</th>\n",
       "    </tr>\n",
       "  </thead>\n",
       "  <tbody>\n",
       "    <tr>\n",
       "      <th>count</th>\n",
       "      <td>4709.000000</td>\n",
       "      <td>4709.000000</td>\n",
       "      <td>4709.000000</td>\n",
       "      <td>4709.000000</td>\n",
       "      <td>4709.000000</td>\n",
       "      <td>4709.000000</td>\n",
       "      <td>4709.000000</td>\n",
       "      <td>4709.000000</td>\n",
       "      <td>4709.000000</td>\n",
       "      <td>4709.00000</td>\n",
       "      <td>...</td>\n",
       "      <td>4709.000000</td>\n",
       "      <td>4709.000000</td>\n",
       "      <td>4.709000e+03</td>\n",
       "      <td>4709.000000</td>\n",
       "      <td>4709.000000</td>\n",
       "      <td>4709.000000</td>\n",
       "      <td>4709.000000</td>\n",
       "      <td>4709.000000</td>\n",
       "      <td>4709.000000</td>\n",
       "      <td>4709.000000</td>\n",
       "    </tr>\n",
       "    <tr>\n",
       "      <th>mean</th>\n",
       "      <td>6.489063</td>\n",
       "      <td>2016.004672</td>\n",
       "      <td>43.518794</td>\n",
       "      <td>0.099809</td>\n",
       "      <td>0.175409</td>\n",
       "      <td>0.217244</td>\n",
       "      <td>0.005946</td>\n",
       "      <td>223311.743470</td>\n",
       "      <td>1.715364</td>\n",
       "      <td>0.87938</td>\n",
       "      <td>...</td>\n",
       "      <td>3.406668</td>\n",
       "      <td>371.820822</td>\n",
       "      <td>4.720894e+04</td>\n",
       "      <td>18.578486</td>\n",
       "      <td>3.066893</td>\n",
       "      <td>49.643661</td>\n",
       "      <td>0.218518</td>\n",
       "      <td>2.571034</td>\n",
       "      <td>12547.143431</td>\n",
       "      <td>0.949034</td>\n",
       "    </tr>\n",
       "    <tr>\n",
       "      <th>std</th>\n",
       "      <td>1.927018</td>\n",
       "      <td>0.824680</td>\n",
       "      <td>1.128866</td>\n",
       "      <td>0.299777</td>\n",
       "      <td>0.380357</td>\n",
       "      <td>0.412414</td>\n",
       "      <td>0.076889</td>\n",
       "      <td>123880.139436</td>\n",
       "      <td>1.576913</td>\n",
       "      <td>0.32572</td>\n",
       "      <td>...</td>\n",
       "      <td>0.678945</td>\n",
       "      <td>340.614394</td>\n",
       "      <td>3.238360e+06</td>\n",
       "      <td>40.951945</td>\n",
       "      <td>1.246740</td>\n",
       "      <td>12.380423</td>\n",
       "      <td>0.413284</td>\n",
       "      <td>0.898820</td>\n",
       "      <td>14703.569790</td>\n",
       "      <td>0.219952</td>\n",
       "    </tr>\n",
       "    <tr>\n",
       "      <th>min</th>\n",
       "      <td>4.000000</td>\n",
       "      <td>2015.000000</td>\n",
       "      <td>3.000000</td>\n",
       "      <td>0.000000</td>\n",
       "      <td>0.000000</td>\n",
       "      <td>0.000000</td>\n",
       "      <td>0.000000</td>\n",
       "      <td>50000.000000</td>\n",
       "      <td>-3.000000</td>\n",
       "      <td>0.00000</td>\n",
       "      <td>...</td>\n",
       "      <td>1.000000</td>\n",
       "      <td>0.210000</td>\n",
       "      <td>0.000000e+00</td>\n",
       "      <td>0.000000</td>\n",
       "      <td>1.000000</td>\n",
       "      <td>18.000000</td>\n",
       "      <td>0.000000</td>\n",
       "      <td>1.000000</td>\n",
       "      <td>-158400.000000</td>\n",
       "      <td>0.000000</td>\n",
       "    </tr>\n",
       "    <tr>\n",
       "      <th>25%</th>\n",
       "      <td>5.000000</td>\n",
       "      <td>2015.000000</td>\n",
       "      <td>43.000000</td>\n",
       "      <td>0.000000</td>\n",
       "      <td>0.000000</td>\n",
       "      <td>0.000000</td>\n",
       "      <td>0.000000</td>\n",
       "      <td>125000.000000</td>\n",
       "      <td>1.240000</td>\n",
       "      <td>1.00000</td>\n",
       "      <td>...</td>\n",
       "      <td>3.000000</td>\n",
       "      <td>171.580000</td>\n",
       "      <td>0.000000e+00</td>\n",
       "      <td>6.680000</td>\n",
       "      <td>2.000000</td>\n",
       "      <td>45.000000</td>\n",
       "      <td>0.000000</td>\n",
       "      <td>2.000000</td>\n",
       "      <td>7928.571429</td>\n",
       "      <td>1.000000</td>\n",
       "    </tr>\n",
       "    <tr>\n",
       "      <th>50%</th>\n",
       "      <td>6.000000</td>\n",
       "      <td>2016.000000</td>\n",
       "      <td>43.000000</td>\n",
       "      <td>0.000000</td>\n",
       "      <td>0.000000</td>\n",
       "      <td>0.000000</td>\n",
       "      <td>0.000000</td>\n",
       "      <td>175000.000000</td>\n",
       "      <td>2.550000</td>\n",
       "      <td>1.00000</td>\n",
       "      <td>...</td>\n",
       "      <td>4.000000</td>\n",
       "      <td>318.140000</td>\n",
       "      <td>0.000000e+00</td>\n",
       "      <td>14.000000</td>\n",
       "      <td>3.000000</td>\n",
       "      <td>45.000000</td>\n",
       "      <td>0.000000</td>\n",
       "      <td>2.000000</td>\n",
       "      <td>10838.709677</td>\n",
       "      <td>1.000000</td>\n",
       "    </tr>\n",
       "    <tr>\n",
       "      <th>75%</th>\n",
       "      <td>8.000000</td>\n",
       "      <td>2017.000000</td>\n",
       "      <td>45.000000</td>\n",
       "      <td>0.000000</td>\n",
       "      <td>0.000000</td>\n",
       "      <td>0.000000</td>\n",
       "      <td>0.000000</td>\n",
       "      <td>275000.000000</td>\n",
       "      <td>2.740000</td>\n",
       "      <td>1.00000</td>\n",
       "      <td>...</td>\n",
       "      <td>4.000000</td>\n",
       "      <td>437.340000</td>\n",
       "      <td>2.000000e+00</td>\n",
       "      <td>23.710000</td>\n",
       "      <td>4.000000</td>\n",
       "      <td>55.000000</td>\n",
       "      <td>0.000000</td>\n",
       "      <td>3.000000</td>\n",
       "      <td>14532.000000</td>\n",
       "      <td>1.000000</td>\n",
       "    </tr>\n",
       "    <tr>\n",
       "      <th>max</th>\n",
       "      <td>11.000000</td>\n",
       "      <td>2017.000000</td>\n",
       "      <td>45.000000</td>\n",
       "      <td>1.000000</td>\n",
       "      <td>1.000000</td>\n",
       "      <td>1.000000</td>\n",
       "      <td>1.000000</td>\n",
       "      <td>500000.000000</td>\n",
       "      <td>3.000000</td>\n",
       "      <td>1.00000</td>\n",
       "      <td>...</td>\n",
       "      <td>4.000000</td>\n",
       "      <td>4041.570000</td>\n",
       "      <td>2.222232e+08</td>\n",
       "      <td>2381.910000</td>\n",
       "      <td>12.000000</td>\n",
       "      <td>80.000000</td>\n",
       "      <td>1.000000</td>\n",
       "      <td>5.000000</td>\n",
       "      <td>342000.000000</td>\n",
       "      <td>1.000000</td>\n",
       "    </tr>\n",
       "  </tbody>\n",
       "</table>\n",
       "<p>8 rows × 21 columns</p>\n",
       "</div>"
      ],
      "text/plain": [
       "       Month[Month Yea...ate submitted]]  Year[Month Year...ate submitted]]  \\\n",
       "count                        4709.000000                        4709.000000   \n",
       "mean                            6.489063                        2016.004672   \n",
       "std                             1.927018                           0.824680   \n",
       "min                             4.000000                        2015.000000   \n",
       "25%                             5.000000                        2015.000000   \n",
       "50%                             6.000000                        2016.000000   \n",
       "75%                             8.000000                        2017.000000   \n",
       "max                            11.000000                        2017.000000   \n",
       "\n",
       "       lastpage. Last page  Previous PHEVs  Previous BEVs  Previous HEVs  \\\n",
       "count          4709.000000     4709.000000    4709.000000    4709.000000   \n",
       "mean             43.518794        0.099809       0.175409       0.217244   \n",
       "std               1.128866        0.299777       0.380357       0.412414   \n",
       "min               3.000000        0.000000       0.000000       0.000000   \n",
       "25%              43.000000        0.000000       0.000000       0.000000   \n",
       "50%              43.000000        0.000000       0.000000       0.000000   \n",
       "75%              45.000000        0.000000       0.000000       0.000000   \n",
       "max              45.000000        1.000000       1.000000       1.000000   \n",
       "\n",
       "       Previous CNGs  Household Income  \\\n",
       "count    4709.000000       4709.000000   \n",
       "mean        0.005946     223311.743470   \n",
       "std         0.076889     123880.139436   \n",
       "min         0.000000      50000.000000   \n",
       "25%         0.000000     125000.000000   \n",
       "50%         0.000000     175000.000000   \n",
       "75%         0.000000     275000.000000   \n",
       "max         1.000000     500000.000000   \n",
       "\n",
       "       Importance of reducing greenhouse gas emissions (-3 not important, 3 important)  \\\n",
       "count                                        4709.000000                                 \n",
       "mean                                            1.715364                                 \n",
       "std                                             1.576913                                 \n",
       "min                                            -3.000000                                 \n",
       "25%                                             1.240000                                 \n",
       "50%                                             2.550000                                 \n",
       "75%                                             2.740000                                 \n",
       "max                                             3.000000                                 \n",
       "\n",
       "       Home ownership (own 1)  ...  Highest Level of Education  \\\n",
       "count              4709.00000  ...                 4709.000000   \n",
       "mean                  0.87938  ...                    3.406668   \n",
       "std                   0.32572  ...                    0.678945   \n",
       "min                   0.00000  ...                    1.000000   \n",
       "25%                   1.00000  ...                    3.000000   \n",
       "50%                   1.00000  ...                    4.000000   \n",
       "75%                   1.00000  ...                    4.000000   \n",
       "max                   1.00000  ...                    4.000000   \n",
       "\n",
       "       Longest trip in the last 12 months  \\\n",
       "count                         4709.000000   \n",
       "mean                           371.820822   \n",
       "std                            340.614394   \n",
       "min                              0.210000   \n",
       "25%                            171.580000   \n",
       "50%                            318.140000   \n",
       "75%                            437.340000   \n",
       "max                           4041.570000   \n",
       "\n",
       "       Number of trips over 200 miles in the last 12 months  \\\n",
       "count                                       4.709000e+03      \n",
       "mean                                        4.720894e+04      \n",
       "std                                         3.238360e+06      \n",
       "min                                         0.000000e+00      \n",
       "25%                                         0.000000e+00      \n",
       "50%                                         0.000000e+00      \n",
       "75%                                         2.000000e+00      \n",
       "max                                         2.222232e+08      \n",
       "\n",
       "       One-way commute distance  Number of people in the household  \\\n",
       "count               4709.000000                        4709.000000   \n",
       "mean                  18.578486                           3.066893   \n",
       "std                   40.951945                           1.246740   \n",
       "min                    0.000000                           1.000000   \n",
       "25%                    6.680000                           2.000000   \n",
       "50%                   14.000000                           3.000000   \n",
       "75%                   23.710000                           4.000000   \n",
       "max                 2381.910000                          12.000000   \n",
       "\n",
       "               Age  Gender (Male 1)  Number of vehicles in the household  \\\n",
       "count  4709.000000      4709.000000                          4709.000000   \n",
       "mean     49.643661         0.218518                             2.571034   \n",
       "std      12.380423         0.413284                             0.898820   \n",
       "min      18.000000         0.000000                             1.000000   \n",
       "25%      45.000000         0.000000                             2.000000   \n",
       "50%      45.000000         0.000000                             2.000000   \n",
       "75%      55.000000         0.000000                             3.000000   \n",
       "max      80.000000         1.000000                             5.000000   \n",
       "\n",
       "       Annual VMT Estimate   FCV, BEV Dummy  \n",
       "count           4709.000000     4709.000000  \n",
       "mean           12547.143431        0.949034  \n",
       "std            14703.569790        0.219952  \n",
       "min          -158400.000000        0.000000  \n",
       "25%             7928.571429        1.000000  \n",
       "50%            10838.709677        1.000000  \n",
       "75%            14532.000000        1.000000  \n",
       "max           342000.000000        1.000000  \n",
       "\n",
       "[8 rows x 21 columns]"
      ]
     },
     "execution_count": 17,
     "metadata": {},
     "output_type": "execute_result"
    }
   ],
   "source": [
    "fcv_df.describe()"
   ]
  },
  {
   "cell_type": "code",
   "execution_count": 18,
   "metadata": {},
   "outputs": [],
   "source": [
    "# Update Column Names\n",
    "fcv_df = fcv_df.rename(columns={'Month Year[subm...Date submitted]':'Month/Year Submitted',\n",
    "                                'Month[Month Yea...ate submitted]]': 'Month Submitted',\n",
    "                               'Year[Month Year...ate submitted]]':'Year Submitted'})"
   ]
  },
  {
   "cell_type": "code",
   "execution_count": 19,
   "metadata": {},
   "outputs": [
    {
     "data": {
      "text/html": [
       "<div>\n",
       "<style scoped>\n",
       "    .dataframe tbody tr th:only-of-type {\n",
       "        vertical-align: middle;\n",
       "    }\n",
       "\n",
       "    .dataframe tbody tr th {\n",
       "        vertical-align: top;\n",
       "    }\n",
       "\n",
       "    .dataframe thead th {\n",
       "        text-align: right;\n",
       "    }\n",
       "</style>\n",
       "<table border=\"1\" class=\"dataframe\">\n",
       "  <thead>\n",
       "    <tr style=\"text-align: right;\">\n",
       "      <th></th>\n",
       "      <th>submitdate. Date submitted</th>\n",
       "      <th>Month/Year Submitted</th>\n",
       "      <th>Month Submitted</th>\n",
       "      <th>Year Submitted</th>\n",
       "      <th>lastpage. Last page</th>\n",
       "      <th>Previous PHEVs</th>\n",
       "      <th>Previous BEVs</th>\n",
       "      <th>Previous HEVs</th>\n",
       "      <th>Previous CNGs</th>\n",
       "      <th>Household Income</th>\n",
       "      <th>...</th>\n",
       "      <th>One-way commute distance</th>\n",
       "      <th>Number of people in the household</th>\n",
       "      <th>Age</th>\n",
       "      <th>Gender (Male 1)</th>\n",
       "      <th>Number of vehicles in the household</th>\n",
       "      <th>Annual VMT Estimate</th>\n",
       "      <th>FCV, BEV Dummy</th>\n",
       "      <th>Model Year</th>\n",
       "      <th>Manufacturer</th>\n",
       "      <th>Model</th>\n",
       "    </tr>\n",
       "  </thead>\n",
       "  <tbody>\n",
       "    <tr>\n",
       "      <th>0</th>\n",
       "      <td>2017/06/02 11:30:57</td>\n",
       "      <td>06/2017</td>\n",
       "      <td>6.0</td>\n",
       "      <td>2017.0</td>\n",
       "      <td>42.0</td>\n",
       "      <td>1.0</td>\n",
       "      <td>0.0</td>\n",
       "      <td>0.0</td>\n",
       "      <td>0.0</td>\n",
       "      <td>275000.0</td>\n",
       "      <td>...</td>\n",
       "      <td>0.01</td>\n",
       "      <td>2.0</td>\n",
       "      <td>65.0</td>\n",
       "      <td>0.0</td>\n",
       "      <td>2</td>\n",
       "      <td>14622.000000</td>\n",
       "      <td>0.0</td>\n",
       "      <td>2016</td>\n",
       "      <td>Toyota</td>\n",
       "      <td>Mirai</td>\n",
       "    </tr>\n",
       "    <tr>\n",
       "      <th>1</th>\n",
       "      <td>2017/06/02 11:15:39</td>\n",
       "      <td>06/2017</td>\n",
       "      <td>6.0</td>\n",
       "      <td>2017.0</td>\n",
       "      <td>42.0</td>\n",
       "      <td>0.0</td>\n",
       "      <td>0.0</td>\n",
       "      <td>1.0</td>\n",
       "      <td>0.0</td>\n",
       "      <td>275000.0</td>\n",
       "      <td>...</td>\n",
       "      <td>10.69</td>\n",
       "      <td>3.0</td>\n",
       "      <td>65.0</td>\n",
       "      <td>0.0</td>\n",
       "      <td>3</td>\n",
       "      <td>9197.142857</td>\n",
       "      <td>0.0</td>\n",
       "      <td>2016</td>\n",
       "      <td>Toyota</td>\n",
       "      <td>Mirai</td>\n",
       "    </tr>\n",
       "    <tr>\n",
       "      <th>4</th>\n",
       "      <td>2017/06/02 19:35:59</td>\n",
       "      <td>06/2017</td>\n",
       "      <td>6.0</td>\n",
       "      <td>2017.0</td>\n",
       "      <td>42.0</td>\n",
       "      <td>1.0</td>\n",
       "      <td>0.0</td>\n",
       "      <td>0.0</td>\n",
       "      <td>0.0</td>\n",
       "      <td>125000.0</td>\n",
       "      <td>...</td>\n",
       "      <td>17.63</td>\n",
       "      <td>2.0</td>\n",
       "      <td>55.0</td>\n",
       "      <td>0.0</td>\n",
       "      <td>3</td>\n",
       "      <td>5082.352941</td>\n",
       "      <td>0.0</td>\n",
       "      <td>2017</td>\n",
       "      <td>Toyota</td>\n",
       "      <td>Mirai</td>\n",
       "    </tr>\n",
       "    <tr>\n",
       "      <th>5</th>\n",
       "      <td>2017/06/06 12:11:14</td>\n",
       "      <td>06/2017</td>\n",
       "      <td>6.0</td>\n",
       "      <td>2017.0</td>\n",
       "      <td>42.0</td>\n",
       "      <td>0.0</td>\n",
       "      <td>0.0</td>\n",
       "      <td>1.0</td>\n",
       "      <td>0.0</td>\n",
       "      <td>175000.0</td>\n",
       "      <td>...</td>\n",
       "      <td>3.53</td>\n",
       "      <td>2.0</td>\n",
       "      <td>75.0</td>\n",
       "      <td>0.0</td>\n",
       "      <td>2</td>\n",
       "      <td>13025.454545</td>\n",
       "      <td>0.0</td>\n",
       "      <td>2016</td>\n",
       "      <td>Toyota</td>\n",
       "      <td>Mirai</td>\n",
       "    </tr>\n",
       "    <tr>\n",
       "      <th>7</th>\n",
       "      <td>2017/06/02 15:57:08</td>\n",
       "      <td>06/2017</td>\n",
       "      <td>6.0</td>\n",
       "      <td>2017.0</td>\n",
       "      <td>42.0</td>\n",
       "      <td>0.0</td>\n",
       "      <td>0.0</td>\n",
       "      <td>1.0</td>\n",
       "      <td>0.0</td>\n",
       "      <td>500000.0</td>\n",
       "      <td>...</td>\n",
       "      <td>28.05</td>\n",
       "      <td>3.0</td>\n",
       "      <td>45.0</td>\n",
       "      <td>0.0</td>\n",
       "      <td>3</td>\n",
       "      <td>18000.000000</td>\n",
       "      <td>0.0</td>\n",
       "      <td>2016</td>\n",
       "      <td>Toyota</td>\n",
       "      <td>Mirai</td>\n",
       "    </tr>\n",
       "  </tbody>\n",
       "</table>\n",
       "<p>5 rows × 26 columns</p>\n",
       "</div>"
      ],
      "text/plain": [
       "  submitdate. Date submitted Month/Year Submitted  Month Submitted  \\\n",
       "0        2017/06/02 11:30:57              06/2017              6.0   \n",
       "1        2017/06/02 11:15:39              06/2017              6.0   \n",
       "4        2017/06/02 19:35:59              06/2017              6.0   \n",
       "5        2017/06/06 12:11:14              06/2017              6.0   \n",
       "7        2017/06/02 15:57:08              06/2017              6.0   \n",
       "\n",
       "   Year Submitted  lastpage. Last page  Previous PHEVs  Previous BEVs  \\\n",
       "0          2017.0                 42.0             1.0            0.0   \n",
       "1          2017.0                 42.0             0.0            0.0   \n",
       "4          2017.0                 42.0             1.0            0.0   \n",
       "5          2017.0                 42.0             0.0            0.0   \n",
       "7          2017.0                 42.0             0.0            0.0   \n",
       "\n",
       "   Previous HEVs  Previous CNGs  Household Income  ...  \\\n",
       "0            0.0            0.0          275000.0  ...   \n",
       "1            1.0            0.0          275000.0  ...   \n",
       "4            0.0            0.0          125000.0  ...   \n",
       "5            1.0            0.0          175000.0  ...   \n",
       "7            1.0            0.0          500000.0  ...   \n",
       "\n",
       "   One-way commute distance  Number of people in the household   Age  \\\n",
       "0                      0.01                                2.0  65.0   \n",
       "1                     10.69                                3.0  65.0   \n",
       "4                     17.63                                2.0  55.0   \n",
       "5                      3.53                                2.0  75.0   \n",
       "7                     28.05                                3.0  45.0   \n",
       "\n",
       "   Gender (Male 1)  Number of vehicles in the household  Annual VMT Estimate   \\\n",
       "0              0.0                                    2          14622.000000   \n",
       "1              0.0                                    3           9197.142857   \n",
       "4              0.0                                    3           5082.352941   \n",
       "5              0.0                                    2          13025.454545   \n",
       "7              0.0                                    3          18000.000000   \n",
       "\n",
       "   FCV, BEV Dummy  Model Year  Manufacturer  Model  \n",
       "0             0.0        2016        Toyota  Mirai  \n",
       "1             0.0        2016        Toyota  Mirai  \n",
       "4             0.0        2017        Toyota  Mirai  \n",
       "5             0.0        2016        Toyota  Mirai  \n",
       "7             0.0        2016        Toyota  Mirai  \n",
       "\n",
       "[5 rows x 26 columns]"
      ]
     },
     "execution_count": 19,
     "metadata": {},
     "output_type": "execute_result"
    }
   ],
   "source": [
    "#Split Carmain into separate columns\n",
    "fcv_df[['Model Year', 'Manufacturer', 'Model']] = fcv_df['Carmain'].str.split(' ', n=2, expand=True)\n",
    "\n",
    "#Drop Carmain, & ID as not longer needed\n",
    "fcv_df = fcv_df.drop(columns=['Carmain','id. Response ID'],axis=1)\n",
    "\n",
    "fcv_df.head(5)"
   ]
  },
  {
   "cell_type": "code",
   "execution_count": 20,
   "metadata": {},
   "outputs": [],
   "source": [
    "# Changing the data type of float type column to integer. \n",
    "fcv_df['Previous BEVs'] = fcv_df['Previous BEVs'].astype(\"int32\")\n",
    "fcv_df['Previous PHEVs'] = fcv_df['Previous PHEVs'].astype(\"int32\")\n",
    "fcv_df['Previous HEVs'] = fcv_df['Previous HEVs'].astype(\"int32\")\n",
    "fcv_df['Previous CNGs'] = fcv_df['Previous CNGs'].astype(\"int32\")\n",
    "fcv_df['Number of people in the household'] = fcv_df['Number of people in the household'].astype(\"int32\")\n",
    "fcv_df['FCV, BEV Dummy'] = fcv_df['FCV, BEV Dummy'].astype(\"int32\")\n",
    "fcv_df['Age'] = fcv_df['Age'].astype(\"int32\")\n",
    "fcv_df['Gender (Male 1)'] = fcv_df['Gender (Male 1)'].astype(\"int32\")\n",
    "fcv_df['Month Submitted'] = fcv_df['Month Submitted'].astype(\"int32\")\n",
    "fcv_df['Year Submitted'] = fcv_df['Year Submitted'].astype(\"int32\")"
   ]
  },
  {
   "cell_type": "code",
   "execution_count": 21,
   "metadata": {
    "scrolled": true
   },
   "outputs": [
    {
     "data": {
      "text/plain": [
       "Index(['submitdate. Date submitted', 'Month/Year Submitted', 'Month Submitted',\n",
       "       'Year Submitted', 'lastpage. Last page', 'Previous PHEVs',\n",
       "       'Previous BEVs', 'Previous HEVs', 'Previous CNGs', 'Household Income',\n",
       "       'Importance of reducing greenhouse gas emissions (-3 not important, 3 important)',\n",
       "       'Home ownership (own 1)', 'Home Type (detached 1)',\n",
       "       'Highest Level of Education', 'Longest trip in the last 12 months',\n",
       "       'Number of trips over 200 miles in the last 12 months',\n",
       "       'One-way commute distance', 'Number of people in the household', 'Age',\n",
       "       'Gender (Male 1)', 'Number of vehicles in the household',\n",
       "       'Annual VMT Estimate ', 'FCV, BEV Dummy', 'Model Year', 'Manufacturer',\n",
       "       'Model'],\n",
       "      dtype='object')"
      ]
     },
     "execution_count": 21,
     "metadata": {},
     "output_type": "execute_result"
    }
   ],
   "source": [
    "fcv_df.columns"
   ]
  },
  {
   "cell_type": "code",
   "execution_count": 22,
   "metadata": {},
   "outputs": [
    {
     "data": {
      "text/html": [
       "<div>\n",
       "<style scoped>\n",
       "    .dataframe tbody tr th:only-of-type {\n",
       "        vertical-align: middle;\n",
       "    }\n",
       "\n",
       "    .dataframe tbody tr th {\n",
       "        vertical-align: top;\n",
       "    }\n",
       "\n",
       "    .dataframe thead th {\n",
       "        text-align: right;\n",
       "    }\n",
       "</style>\n",
       "<table border=\"1\" class=\"dataframe\">\n",
       "  <thead>\n",
       "    <tr style=\"text-align: right;\">\n",
       "      <th></th>\n",
       "      <th>submitdate. Date submitted</th>\n",
       "      <th>Month/Year Submitted</th>\n",
       "      <th>Month Submitted</th>\n",
       "      <th>Year Submitted</th>\n",
       "      <th>lastpage. Last page</th>\n",
       "      <th>Previous PHEVs</th>\n",
       "      <th>Previous BEVs</th>\n",
       "      <th>Previous HEVs</th>\n",
       "      <th>Previous CNGs</th>\n",
       "      <th>Household Income</th>\n",
       "      <th>...</th>\n",
       "      <th>One-way commute distance</th>\n",
       "      <th>Number of people in the household</th>\n",
       "      <th>Age</th>\n",
       "      <th>Gender (Male 1)</th>\n",
       "      <th>Number of vehicles in the household</th>\n",
       "      <th>Annual VMT Estimate</th>\n",
       "      <th>FCV, BEV Dummy</th>\n",
       "      <th>Model Year</th>\n",
       "      <th>Manufacturer</th>\n",
       "      <th>Model</th>\n",
       "    </tr>\n",
       "  </thead>\n",
       "  <tbody>\n",
       "    <tr>\n",
       "      <th>0</th>\n",
       "      <td>2017/06/02 11:30:57</td>\n",
       "      <td>06/2017</td>\n",
       "      <td>6</td>\n",
       "      <td>2017</td>\n",
       "      <td>42.0</td>\n",
       "      <td>1</td>\n",
       "      <td>0</td>\n",
       "      <td>0</td>\n",
       "      <td>0</td>\n",
       "      <td>275000.0</td>\n",
       "      <td>...</td>\n",
       "      <td>0.01</td>\n",
       "      <td>2</td>\n",
       "      <td>65</td>\n",
       "      <td>0</td>\n",
       "      <td>2</td>\n",
       "      <td>14622.000000</td>\n",
       "      <td>0</td>\n",
       "      <td>2016</td>\n",
       "      <td>Toyota</td>\n",
       "      <td>Mirai</td>\n",
       "    </tr>\n",
       "    <tr>\n",
       "      <th>1</th>\n",
       "      <td>2017/06/02 11:15:39</td>\n",
       "      <td>06/2017</td>\n",
       "      <td>6</td>\n",
       "      <td>2017</td>\n",
       "      <td>42.0</td>\n",
       "      <td>0</td>\n",
       "      <td>0</td>\n",
       "      <td>1</td>\n",
       "      <td>0</td>\n",
       "      <td>275000.0</td>\n",
       "      <td>...</td>\n",
       "      <td>10.69</td>\n",
       "      <td>3</td>\n",
       "      <td>65</td>\n",
       "      <td>0</td>\n",
       "      <td>3</td>\n",
       "      <td>9197.142857</td>\n",
       "      <td>0</td>\n",
       "      <td>2016</td>\n",
       "      <td>Toyota</td>\n",
       "      <td>Mirai</td>\n",
       "    </tr>\n",
       "    <tr>\n",
       "      <th>4</th>\n",
       "      <td>2017/06/02 19:35:59</td>\n",
       "      <td>06/2017</td>\n",
       "      <td>6</td>\n",
       "      <td>2017</td>\n",
       "      <td>42.0</td>\n",
       "      <td>1</td>\n",
       "      <td>0</td>\n",
       "      <td>0</td>\n",
       "      <td>0</td>\n",
       "      <td>125000.0</td>\n",
       "      <td>...</td>\n",
       "      <td>17.63</td>\n",
       "      <td>2</td>\n",
       "      <td>55</td>\n",
       "      <td>0</td>\n",
       "      <td>3</td>\n",
       "      <td>5082.352941</td>\n",
       "      <td>0</td>\n",
       "      <td>2017</td>\n",
       "      <td>Toyota</td>\n",
       "      <td>Mirai</td>\n",
       "    </tr>\n",
       "    <tr>\n",
       "      <th>5</th>\n",
       "      <td>2017/06/06 12:11:14</td>\n",
       "      <td>06/2017</td>\n",
       "      <td>6</td>\n",
       "      <td>2017</td>\n",
       "      <td>42.0</td>\n",
       "      <td>0</td>\n",
       "      <td>0</td>\n",
       "      <td>1</td>\n",
       "      <td>0</td>\n",
       "      <td>175000.0</td>\n",
       "      <td>...</td>\n",
       "      <td>3.53</td>\n",
       "      <td>2</td>\n",
       "      <td>75</td>\n",
       "      <td>0</td>\n",
       "      <td>2</td>\n",
       "      <td>13025.454545</td>\n",
       "      <td>0</td>\n",
       "      <td>2016</td>\n",
       "      <td>Toyota</td>\n",
       "      <td>Mirai</td>\n",
       "    </tr>\n",
       "    <tr>\n",
       "      <th>7</th>\n",
       "      <td>2017/06/02 15:57:08</td>\n",
       "      <td>06/2017</td>\n",
       "      <td>6</td>\n",
       "      <td>2017</td>\n",
       "      <td>42.0</td>\n",
       "      <td>0</td>\n",
       "      <td>0</td>\n",
       "      <td>1</td>\n",
       "      <td>0</td>\n",
       "      <td>500000.0</td>\n",
       "      <td>...</td>\n",
       "      <td>28.05</td>\n",
       "      <td>3</td>\n",
       "      <td>45</td>\n",
       "      <td>0</td>\n",
       "      <td>3</td>\n",
       "      <td>18000.000000</td>\n",
       "      <td>0</td>\n",
       "      <td>2016</td>\n",
       "      <td>Toyota</td>\n",
       "      <td>Mirai</td>\n",
       "    </tr>\n",
       "  </tbody>\n",
       "</table>\n",
       "<p>5 rows × 26 columns</p>\n",
       "</div>"
      ],
      "text/plain": [
       "  submitdate. Date submitted Month/Year Submitted  Month Submitted  \\\n",
       "0        2017/06/02 11:30:57              06/2017                6   \n",
       "1        2017/06/02 11:15:39              06/2017                6   \n",
       "4        2017/06/02 19:35:59              06/2017                6   \n",
       "5        2017/06/06 12:11:14              06/2017                6   \n",
       "7        2017/06/02 15:57:08              06/2017                6   \n",
       "\n",
       "   Year Submitted  lastpage. Last page  Previous PHEVs  Previous BEVs  \\\n",
       "0            2017                 42.0               1              0   \n",
       "1            2017                 42.0               0              0   \n",
       "4            2017                 42.0               1              0   \n",
       "5            2017                 42.0               0              0   \n",
       "7            2017                 42.0               0              0   \n",
       "\n",
       "   Previous HEVs  Previous CNGs  Household Income  ...  \\\n",
       "0              0              0          275000.0  ...   \n",
       "1              1              0          275000.0  ...   \n",
       "4              0              0          125000.0  ...   \n",
       "5              1              0          175000.0  ...   \n",
       "7              1              0          500000.0  ...   \n",
       "\n",
       "   One-way commute distance  Number of people in the household  Age  \\\n",
       "0                      0.01                                  2   65   \n",
       "1                     10.69                                  3   65   \n",
       "4                     17.63                                  2   55   \n",
       "5                      3.53                                  2   75   \n",
       "7                     28.05                                  3   45   \n",
       "\n",
       "   Gender (Male 1)  Number of vehicles in the household  Annual VMT Estimate   \\\n",
       "0                0                                    2          14622.000000   \n",
       "1                0                                    3           9197.142857   \n",
       "4                0                                    3           5082.352941   \n",
       "5                0                                    2          13025.454545   \n",
       "7                0                                    3          18000.000000   \n",
       "\n",
       "   FCV, BEV Dummy  Model Year  Manufacturer  Model  \n",
       "0               0        2016        Toyota  Mirai  \n",
       "1               0        2016        Toyota  Mirai  \n",
       "4               0        2017        Toyota  Mirai  \n",
       "5               0        2016        Toyota  Mirai  \n",
       "7               0        2016        Toyota  Mirai  \n",
       "\n",
       "[5 rows x 26 columns]"
      ]
     },
     "execution_count": 22,
     "metadata": {},
     "output_type": "execute_result"
    }
   ],
   "source": [
    "fcv_df.head()"
   ]
  },
  {
   "cell_type": "code",
   "execution_count": null,
   "metadata": {},
   "outputs": [],
   "source": []
  },
  {
   "cell_type": "markdown",
   "metadata": {
    "id": "y20K1lOx_bwC"
   },
   "source": [
    "Let's check the distribution and outliers for each column in the data."
   ]
  },
  {
   "cell_type": "code",
   "execution_count": 25,
   "metadata": {},
   "outputs": [],
   "source": [
    "# Uni-variate analysis of numerical variables allow us to study their central tendency and dispersion.\n",
    "# function that will help us create boxplot and histogram for any input numerical variable.\n",
    "# This function takes the numerical column as the input and return the boxplots and histograms for the variable.\n",
    "#\n",
    "def histogram_boxplot(feature, figsize=(15,10), bins = None):\n",
    "    \"\"\" Boxplot and histogram combined\n",
    "    feature: 1-d feature array\n",
    "    figsize: size of fig (default (9,8))\n",
    "    bins: number of bins (default None / auto)\n",
    "    \"\"\"\n",
    "    f2, (ax_box2, ax_hist2) = plt.subplots(nrows = 2, # Number of rows of the subplot grid= 2\n",
    "                                           sharex = True, # x-axis will be shared among all subplots\n",
    "                                           gridspec_kw = {\"height_ratios\": (.25, .75)}, \n",
    "                                           figsize = figsize \n",
    "                                           ) # creating the 2 subplots\n",
    "    sns.boxplot(x = feature, ax=ax_box2, showmeans=True, color='lightblue') # boxplot will be created and a star will indicate the mean value of the column\n",
    "    sns.histplot(x = feature, kde=F, ax=ax_hist2, bins=bins,palette=\"winter\") if bins else sns.histplot(x = feature, kde=False, ax=ax_hist2) # For histogram\n",
    "    ax_hist2.axvline(np.mean(feature), color='green', linestyle='--') # Add mean to the histogram\n",
    "    ax_hist2.axvline(np.median(feature), color='black', linestyle='-') # Add median to the histogram"
   ]
  },
  {
   "cell_type": "code",
   "execution_count": 26,
   "metadata": {},
   "outputs": [
    {
     "data": {
      "image/png": "[encoded data removed]",
      "text/plain": [
       "<Figure size 1500x1000 with 2 Axes>"
      ]
     },
     "metadata": {},
     "output_type": "display_data"
    }
   ],
   "source": [
    "# Build the histogram boxplot for Income\n",
    "histogram_boxplot(fcv_df['Household Income'])"
   ]
  },
  {
   "cell_type": "markdown",
   "metadata": {
    "id": "3gO4yNoS_bwD"
   },
   "source": [
    "### Distribution Plot "
   ]
  },
  {
   "cell_type": "code",
   "execution_count": 11,
   "metadata": {
    "id": "k4ulBXrW_bwD"
   },
   "outputs": [],
   "source": [
    "#sns.displot(fcv_df['col_name'], kind = 'kde')\n"
   ]
  },
  {
   "cell_type": "markdown",
   "metadata": {
    "id": "tFmj2sAi_bwD"
   },
   "source": [
    "#### Observations: \n"
   ]
  },
  {
   "cell_type": "raw",
   "metadata": {
    "id": "LGKnjmYV_bwD"
   },
   "source": []
  },
  {
   "cell_type": "markdown",
   "metadata": {
    "id": "H82v-Oiq_bwD"
   },
   "source": [
    "### Check for Max and Min Values"
   ]
  },
  {
   "cell_type": "markdown",
   "metadata": {
    "id": "JiUByWjP_bwE"
   },
   "source": [
    "#### Observation:\n"
   ]
  },
  {
   "cell_type": "raw",
   "metadata": {
    "id": "pE2GYrtU_bwE"
   },
   "source": []
  },
  {
   "cell_type": "markdown",
   "metadata": {
    "id": "0xN_VJOl_bwE"
   },
   "source": [
    "### Examine the mean, median, and mode. Are the three measures of central tendency equal?\n",
    "-- this will help describe the skewness/distribution of attributes"
   ]
  },
  {
   "cell_type": "markdown",
   "metadata": {
    "id": "F381SOUJ_bwE"
   },
   "source": [
    "#### Observations: "
   ]
  },
  {
   "cell_type": "raw",
   "metadata": {
    "id": "NNYE_suf_bwE"
   },
   "source": []
  },
  {
   "cell_type": "markdown",
   "metadata": {
    "id": "O8KX8Nva_bwF"
   },
   "source": [
    "### Pairplot for the variables. "
   ]
  },
  {
   "cell_type": "code",
   "execution_count": 12,
   "metadata": {
    "id": "dDj12snn_bwG"
   },
   "outputs": [],
   "source": [
    "#sns.pairplot(data = pima, vars = ['Glucose', 'SkinThickness', 'DiabetesPedigreeFunction'], hue = 'Outcome')\n"
   ]
  },
  {
   "cell_type": "markdown",
   "metadata": {
    "id": "S7CMbCwL_bwG"
   },
   "source": [
    "#### Observations: "
   ]
  },
  {
   "cell_type": "raw",
   "metadata": {
    "id": "S2bPFIk9_bwG"
   },
   "source": []
  },
  {
   "cell_type": "markdown",
   "metadata": {
    "id": "pTzCIQOb_bwG"
   },
   "source": [
    "### Scatterplots "
   ]
  },
  {
   "cell_type": "code",
   "execution_count": 13,
   "metadata": {
    "id": "CNHLuzOD_bwG",
    "scrolled": false
   },
   "outputs": [],
   "source": [
    "#plt.scatter(x = 'Glucose', y = 'Insulin', data = pima)\n",
    "#plt.show()"
   ]
  },
  {
   "cell_type": "markdown",
   "metadata": {
    "id": "1AhKhAbf_bwG"
   },
   "source": [
    "#### Observations:"
   ]
  },
  {
   "cell_type": "raw",
   "metadata": {
    "id": "YScevRlr_bwG"
   },
   "source": []
  },
  {
   "cell_type": "markdown",
   "metadata": {
    "id": "NzGHKjXv_bwG"
   },
   "source": [
    "### Boxplots for Variables\n",
    "Check the distribution and outliers for each column in the data.**"
   ]
  },
  {
   "cell_type": "code",
   "execution_count": 14,
   "metadata": {
    "id": "zmWjERJM_bwH"
   },
   "outputs": [],
   "source": [
    "#plt.boxplot(pima['Age'])\n",
    "#plt.title('Boxplot of Age')\n",
    "#plt.ylabel('Age')\n",
    "#plt.show()"
   ]
  },
  {
   "cell_type": "markdown",
   "metadata": {
    "id": "Vm5bRpLz_bwH"
   },
   "source": [
    "#### Observations:\n"
   ]
  },
  {
   "cell_type": "raw",
   "metadata": {
    "id": "ID7pFghO_bwH"
   },
   "source": []
  },
  {
   "cell_type": "markdown",
   "metadata": {
    "id": "M6A_z8kr_bwH"
   },
   "source": [
    "### Histograms"
   ]
  },
  {
   "cell_type": "code",
   "execution_count": 15,
   "metadata": {
    "id": "5DpqaiXH_bwH"
   },
   "outputs": [],
   "source": [
    "#plt.hist(pima[pima['Outcome'] == 1]['Age'], bins = 5)\n",
    "#plt.title('Distribution of Age for Women who has Diabetes')\n",
    "#plt.xlabel('Age')\n",
    "#plt.ylabel('Frequency')\n",
    "#plt.show()"
   ]
  },
  {
   "cell_type": "markdown",
   "metadata": {
    "id": "InfhuW8o_bwH"
   },
   "source": [
    "#### Observations:"
   ]
  },
  {
   "cell_type": "raw",
   "metadata": {
    "id": "D6iAgeF-_bwI"
   },
   "source": [
    " "
   ]
  },
  {
   "cell_type": "markdown",
   "metadata": {
    "id": "EpTEjZ-q_bwI"
   },
   "source": [
    "### The interquartile range of all the variables"
   ]
  },
  {
   "cell_type": "code",
   "execution_count": 16,
   "metadata": {
    "id": "JVOqHx1W_bwI"
   },
   "outputs": [],
   "source": [
    "#Q1 = df.quantile(0.25)\n",
    "#Q3 = df.quantile(0.75)\n",
    "#IQR = Q3 - Q1\n",
    "#print(IQR)"
   ]
  },
  {
   "cell_type": "markdown",
   "metadata": {
    "id": "WWtc2nex_bwI"
   },
   "source": [
    "#### Observations: "
   ]
  },
  {
   "cell_type": "markdown",
   "metadata": {
    "id": "2vLWPyd-_bwI"
   },
   "source": [
    "## Export of File to CSV for database"
   ]
  },
  {
   "cell_type": "code",
   "execution_count": 12,
   "metadata": {},
   "outputs": [],
   "source": [
    "fcv_df.to_csv('resources/FCV_Dataset.csv')"
   ]
  },
  {
   "cell_type": "markdown",
   "metadata": {
    "id": "KjldKKMs_bwI"
   },
   "source": [
    "### Visualize the Correlation Matrix.\n",
    "\n",
    "* Correlation is a statistic that measures the degree to which two variables move in relation to each other. A positive correlation indicates\n",
    "* the extent to which those variables increase or decrease in parallel; a negative correlation indicates the extent to which one variable\n",
    "* increases as the other decreases. Correction among multiple variables can be represented in the form of a matrix. This allows us to see which pairs have the high correlations.\n",
    "* correlation Correlation is a mutual relationship or connection between two or more things. It takes a value between (+1) and (-1)\n",
    "* The correlation between two independent events is zero, two events with zero correlations may not be independent."
   ]
  },
  {
   "cell_type": "code",
   "execution_count": 18,
   "metadata": {
    "id": "Ju8Gymxw_bwJ",
    "scrolled": true
   },
   "outputs": [],
   "source": [
    "#plt.figure(figsize = (8, 8))\n",
    "#sns.heatmap(corr_matrix, annot = True)\n",
    "\n",
    "# Display the plot\n",
    "#plt.show()"
   ]
  },
  {
   "cell_type": "markdown",
   "metadata": {
    "id": "Woaq6vqT_bwJ"
   },
   "source": [
    "#### Observations: \n"
   ]
  },
  {
   "cell_type": "markdown",
   "metadata": {
    "id": "m3AKvSrM_bwJ"
   },
   "source": [
    "## **Proposed Approach**"
   ]
  },
  {
   "cell_type": "markdown",
   "metadata": {},
   "source": [
    "*1. Potential techniques** \n",
    "\n",
    "- Redoing descriptive analysis of data with dropping outliers and missing values. Interesting to consider the tradeoff of dropping values vs filling with median and mode. Filling with median and mode is useful, because the classification algorithm is looking for vectors of deviation from median or mode, and is probably the best way to treat unknowns. Although, you might gain different insights from classifying only on complete rows (but those might be all “good” loans, so there’s risk there too).\n",
    " - Consider different classifiers to train the data:\n",
    "    * LogisticRegression\n",
    "    * RandomForestClassifier\n",
    "    * GradientBoostingClassifier\n",
    "    * DecisionTreeClassifier\n",
    "    * GaussianNB\n",
    "    * XGBClassifier\n",
    "    * LGBMClassifier\n",
    "-Consider which of the following metrics should be used:\n",
    "   * Accuracy, Recall, Precision\n",
    "   * F1 Score\n",
    "   * Receiving Operating Characteristics(ROC),Area under the Curve(AUC)\n",
    "   * Log Loss\n",
    "\n",
    "**2. Proposed Model Solution** \n",
    "\n",
    "1. Data preparation\n",
    "    - deal with imbalanced data sets\n",
    "    - use class_weights value in the Decision Tree and Random Forest Classifier hyperparameter value\n",
    "    - Creating dummy variables for the categorical variables - Hot Encoding\n",
    "2. Partition the data into a train and test set\n",
    "    * Identify Independent Variables\n",
    "    * Identify Dependent (Response/Target) Variable\n",
    "    * Separating the independent variables (X) and the dependent variable (Y)\n",
    "    * Split Data - use stratified sampling\n",
    "3. Use Decision Tree and Random Forest Classifer to build a model on the train data.\n",
    "    * Consider entrophy, information gain, and the ginni index\n",
    "    * Use recall to minimize False Negatives\n",
    "    * Use confusion matric to evaluate metrics and thus the model\n",
    "    * Check for overfitting\n",
    "4. Tune the model if required\n",
    "    * list of hyperparameters that can be tuned\n",
    "    * K-fold cross-validation of the parameters- maximize the score and early stopping to avoid overfitting.\n",
    "    * Random Search or Grid Search\n",
    "5. Test the data on the test set.\n",
    "    * Evaluate feature importance\n",
    "    * Evaluate metrics with confusion matrix\n",
    "\n",
    "**3. Measures of success**\n",
    "\n",
    "- Examine testing data on model and comparing its predictions to the actual predictions. \n",
    "- High recall value. Bank wants Recall to be maximized, the greater the Recall the higher the chances of minimizing false negatives. Hence, the focus should be on increasing Recall or minimizing the false negatives or in other words identifying the true positives (i.e., Class 1) so that the bank can minimize the BAD loans.\n",
    "- High accuracy would tell us if our model is a good predictor or not. \n",
    "- Examine feature importance - does it make sense?\n",
    "- How robust is our model?\n"
   ]
  },
  {
   "cell_type": "markdown",
   "metadata": {},
   "source": [
    "## **Model Building - Approach**\n",
    "1. Data preparation\n",
    "2. Partition the data into train and test set\n",
    "3. Fit on the train data\n",
    "4. Tune the model and prune the tree, if required\n",
    "5. Test the model on test set"
   ]
  },
  {
   "cell_type": "markdown",
   "metadata": {},
   "source": [
    "## Data Preprocessing for Modeling\n",
    "\n",
    "* Renaming Columns\n",
    "* Scaling/Normalizing\n",
    "* Dropping unnecessary columns\n",
    "* Hot encoding\n",
    "* Imputing missing values with mode/median for columns\n",
    "* Converting data types\n",
    "* Format data types\n",
    "* Apply get_dummies on the dataframe data"
   ]
  },
  {
   "cell_type": "markdown",
   "metadata": {},
   "source": [
    "## Predictive Analysis/Building Models"
   ]
  },
  {
   "cell_type": "markdown",
   "metadata": {},
   "source": [
    "### **Checking the below linear regression assumptions**\n",
    "\n",
    "1. **Mean of residuals should be 0**\n",
    "2. **No Heteroscedasticity**\n",
    "3. **Linearity of variables**\n",
    "4. **Normality of error terms**"
   ]
  },
  {
   "cell_type": "markdown",
   "metadata": {},
   "source": [
    "### **Build a Logistic Regression Model** "
   ]
  },
  {
   "cell_type": "markdown",
   "metadata": {},
   "source": [
    "- **Typically tree based classifiers are not influenced by outliers and null values. Logistical regression must deal with outliers and null values.**"
   ]
  },
  {
   "cell_type": "markdown",
   "metadata": {},
   "source": [
    "Logistic Regression is a supervised learning algorithm, generally used for **binary classification problems**, i.e., where the dependent variable is categorical and has only two possible values. In logistic regression, we use the sigmoid function to calculate the probability of an event Y, given some features X as:\n",
    "\n",
    "                                          P(Y)=1/(1 + exp(-X))"
   ]
  },
  {
   "cell_type": "code",
   "execution_count": null,
   "metadata": {},
   "outputs": [],
   "source": [
    "# Split the data into training and test set\n",
    "X_train, X_test, y_train, y_test = train_test_split(\n",
    "X, y, test_size = 0.30, random_state = 1)"
   ]
  },
  {
   "cell_type": "code",
   "execution_count": null,
   "metadata": {},
   "outputs": [],
   "source": [
    "# Defining the Logistic regression model\n",
    "lg = LogisticRegression()\n",
    "# Fitting the model on the training data \n",
    "lg.fit(X_train,y_train)"
   ]
  },
  {
   "cell_type": "code",
   "execution_count": null,
   "metadata": {},
   "outputs": [],
   "source": [
    "#Predict for train set\n",
    "y_pred_train = lg.predict(X_train)\n",
    "\n",
    "# Checking the performance on the training data\n",
    "metrics_score(y_train, y_pred_train)"
   ]
  },
  {
   "cell_type": "code",
   "execution_count": null,
   "metadata": {},
   "outputs": [],
   "source": [
    "#Predict for test set\n",
    "# Checking the performance on the test dataset\n",
    "y_pred_test = lg.predict(X_test)\n",
    "metrics_score(y_test, y_pred_test)"
   ]
  },
  {
   "cell_type": "code",
   "execution_count": null,
   "metadata": {},
   "outputs": [],
   "source": [
    "print(\"Recall Score:\", get_recall_score2(lg, X_test, y_test))"
   ]
  },
  {
   "cell_type": "code",
   "execution_count": null,
   "metadata": {},
   "outputs": [],
   "source": [
    "# Printing the coefficients of logistic regression\n",
    "cols = X.columns\n",
    "coef_lg = lg.coef_\n",
    "pd.DataFrame(coef_lg,columns = cols).T.sort_values(by = 0, ascending = False)"
   ]
  },
  {
   "cell_type": "markdown",
   "metadata": {},
   "source": [
    "### **Think about it:**\n",
    "- The above Logistic regression model was build on the threshold of 0.5, can we use different threshold? We can try a different threshold by running a precision-recal curve. \n",
    "- How does, accuracy, precision and recall change on the threshold?"
   ]
  },
  {
   "cell_type": "markdown",
   "metadata": {},
   "source": [
    "### **The Precision-Recall Curve for Logistic Regression**"
   ]
  },
  {
   "cell_type": "code",
   "execution_count": 29,
   "metadata": {},
   "outputs": [
    {
     "ename": "NameError",
     "evalue": "name 'lg' is not defined",
     "output_type": "error",
     "traceback": [
      "\u001b[0;31m---------------------------------------------------------------------------\u001b[0m",
      "\u001b[0;31mNameError\u001b[0m                                 Traceback (most recent call last)",
      "\u001b[0;32m/var/folders/3x/2h18rggj19n0gtsh92d8tpsc0000gn/T/ipykernel_88305/1880271789.py\u001b[0m in \u001b[0;36m<module>\u001b[0;34m\u001b[0m\n\u001b[0;32m----> 1\u001b[0;31m \u001b[0my_scores_lg\u001b[0m \u001b[0;34m=\u001b[0m \u001b[0mlg\u001b[0m\u001b[0;34m.\u001b[0m\u001b[0mpredict_proba\u001b[0m\u001b[0;34m(\u001b[0m\u001b[0mX_train\u001b[0m\u001b[0;34m)\u001b[0m \u001b[0;31m# predict_proba gives the probability of each observation belonging to each class\u001b[0m\u001b[0;34m\u001b[0m\u001b[0;34m\u001b[0m\u001b[0m\n\u001b[0m\u001b[1;32m      2\u001b[0m \u001b[0;34m\u001b[0m\u001b[0m\n\u001b[1;32m      3\u001b[0m \u001b[0;34m\u001b[0m\u001b[0m\n\u001b[1;32m      4\u001b[0m \u001b[0mprecisions_lg\u001b[0m\u001b[0;34m,\u001b[0m \u001b[0mrecalls_lg\u001b[0m\u001b[0;34m,\u001b[0m \u001b[0mthresholds_lg\u001b[0m \u001b[0;34m=\u001b[0m \u001b[0mprecision_recall_curve\u001b[0m\u001b[0;34m(\u001b[0m\u001b[0my_train\u001b[0m\u001b[0;34m,\u001b[0m \u001b[0my_scores_lg\u001b[0m\u001b[0;34m[\u001b[0m\u001b[0;34m:\u001b[0m\u001b[0;34m,\u001b[0m \u001b[0;36m1\u001b[0m\u001b[0;34m]\u001b[0m\u001b[0;34m)\u001b[0m\u001b[0;34m\u001b[0m\u001b[0;34m\u001b[0m\u001b[0m\n\u001b[1;32m      5\u001b[0m \u001b[0;34m\u001b[0m\u001b[0m\n",
      "\u001b[0;31mNameError\u001b[0m: name 'lg' is not defined"
     ]
    }
   ],
   "source": [
    "y_scores_lg = lg.predict_proba(X_train) # predict_proba gives the probability of each observation belonging to each class\n",
    "\n",
    "\n",
    "precisions_lg, recalls_lg, thresholds_lg = precision_recall_curve(y_train, y_scores_lg[:, 1])\n",
    "\n",
    "# Plot values of precisions, recalls, and thresholds\n",
    "plt.figure(figsize = (10, 7))\n",
    "\n",
    "plt.plot(thresholds_lg, precisions_lg[:-1], 'b--', label = 'precision')\n",
    "\n",
    "plt.plot(thresholds_lg, recalls_lg[:-1], 'g--', label = 'recall')\n",
    "\n",
    "plt.xlabel('Threshold')\n",
    "\n",
    "plt.legend(loc = 'upper left')\n",
    "\n",
    "plt.ylim([0, 1])\n",
    "\n",
    "plt.show()"
   ]
  },
  {
   "cell_type": "markdown",
   "metadata": {},
   "source": [
    "\n",
    "- Can we improve this model? \n",
    "- How to get optimal parameters in order to get the best possible results?"
   ]
  },
  {
   "cell_type": "markdown",
   "metadata": {},
   "source": [
    "### **Build a Decision Tree Model**"
   ]
  },
  {
   "cell_type": "markdown",
   "metadata": {},
   "source": [
    "### **Think about it:**\n",
    "\n",
    "Typically tree based classifiers are not influenced by outliers and null values. Logistical regression must deal with outliers and null values."
   ]
  },
  {
   "cell_type": "markdown",
   "metadata": {},
   "source": [
    "#### Data Preparation for the tree based model"
   ]
  },
  {
   "cell_type": "code",
   "execution_count": null,
   "metadata": {},
   "outputs": [],
   "source": [
    " # hot-encoding\n"
   ]
  },
  {
   "cell_type": "code",
   "execution_count": null,
   "metadata": {},
   "outputs": [],
   "source": [
    "# Separating the target variable y and independent variable/Define target vector\n",
    "\n",
    "X = df_loans.copy()\n",
    "X = X.drop(\"bad\", axis=1)\n",
    "X.head()\n"
   ]
  },
  {
   "cell_type": "code",
   "execution_count": null,
   "metadata": {},
   "outputs": [],
   "source": [
    "# Define target vector\n",
    "y = df_loans[\"bad\"].values.reshape(-1, 1)\n",
    "y[:5]"
   ]
  },
  {
   "cell_type": "code",
   "execution_count": null,
   "metadata": {},
   "outputs": [],
   "source": [
    "# We have already split the data into training and test set\n",
    "#Defining Decision tree model with class weights class_weight={0: 0.2, 1: 0.8}\n",
    "dt = DecisionTreeClassifier(class_weight = {0: 0.2, 1: 0.8}, \n",
    "                            random_state = 1)"
   ]
  },
  {
   "cell_type": "code",
   "execution_count": null,
   "metadata": {},
   "outputs": [],
   "source": [
    "#fitting Decision tree model\n",
    "dt.fit(X_train, y_train)"
   ]
  },
  {
   "cell_type": "code",
   "execution_count": null,
   "metadata": {},
   "outputs": [],
   "source": [
    "# Checking performance on the training data\n",
    "y_train_pred_dt = dt.predict(X_train)\n",
    "metrics_score(y_train, y_train_pred_dt)"
   ]
  },
  {
   "cell_type": "code",
   "execution_count": null,
   "metadata": {},
   "outputs": [],
   "source": [
    "# Checking performance on the testing data\n",
    "y_test_pred_dt = dt.predict(X_test)\n",
    "metrics_score(y_test, y_test_pred_dt)"
   ]
  },
  {
   "cell_type": "code",
   "execution_count": null,
   "metadata": {},
   "outputs": [],
   "source": [
    "print(\"Recall Score:\", get_recall_score2(dt, X_test, y_test))"
   ]
  },
  {
   "cell_type": "markdown",
   "metadata": {},
   "source": [
    "- Can we improve this model? \n",
    "- How to get optimal parameters in order to get the best possible results?"
   ]
  },
  {
   "cell_type": "markdown",
   "metadata": {},
   "source": [
    "### **Decision Tree - Hyperparameter Tuning**\n",
    "\n",
    "\n",
    "* Hyperparameter tuning is tricky in the sense that **there is no direct way to calculate how a change in the hyperparameter value will reduce the loss of your model**, so we usually resort to experimentation. We'll use Grid search to perform hyperparameter tuning.\n",
    "* **Grid search is a tuning technique that attempts to compute the optimum values of hyperparameters.** \n",
    "* **It is an exhaustive search** that is performed on the specific parameter values of a model.\n",
    "* The parameters of the estimator/model used to apply these methods are **optimized by cross-validated grid-search** over a parameter grid.\n",
    "\n",
    "**Criterion {“gini”, “entropy”}**\n",
    "\n",
    "The function to measure the quality of a split. Supported criteria are “gini” for the Gini impurity and “entropy” for the information gain.\n",
    "\n",
    "**max_depth** \n",
    "\n",
    "The maximum depth of the tree. If None, then nodes are expanded until all leaves are pure or until all leaves contain less than min_samples_split samples.\n",
    "\n",
    "**min_samples_leaf**\n",
    "\n",
    "The minimum number of samples is required to be at a leaf node. A split point at any depth will only be considered if it leaves at least min_samples_leaf training samples in each of the left and right branches. This may have the effect of smoothing the model, especially in regression."
   ]
  },
  {
   "cell_type": "markdown",
   "metadata": {},
   "source": [
    "#### Using GridSearchCV for Hyperparameter tuning on the model"
   ]
  },
  {
   "cell_type": "code",
   "execution_count": null,
   "metadata": {},
   "outputs": [],
   "source": [
    "# Choose the type of classifier. \n",
    "d_tree_tuned = DecisionTreeClassifier(random_state = 1, class_weight = {0: 0.2, 1: 0.8})\n",
    "\n",
    "# Grid of parameters to choose from\n",
    "parameters = {'max_depth': np.arange(2, 10), \n",
    "              'criterion': ['gini', 'entropy'],\n",
    "              'min_samples_leaf': [5, 10, 20, 25]\n",
    "             }\n",
    "# Type of scoring used to compare parameter combinations\n",
    "scorer = metrics.make_scorer(recall_score, pos_label = 1)\n",
    "\n",
    "# Run the grid search\n",
    "grid_obj = GridSearchCV(d_tree_tuned, parameters, scoring = scorer, cv = 5)\n",
    "\n",
    "# Fit the GridSearch on train dataset\n",
    "grid_obj = grid_obj.fit(X_train, y_train)\n",
    "\n",
    "# Set the clf to the best combination of parameters\n",
    "d_tree_tuned = grid_obj.best_estimator_\n",
    "\n",
    "# Fit the best algorithm to the data. \n",
    "d_tree_tuned.fit(X_train, y_train)"
   ]
  },
  {
   "cell_type": "code",
   "execution_count": null,
   "metadata": {},
   "outputs": [],
   "source": [
    "# Checking performance on the training data based on the tuned model\n",
    "y_train_pred_dt = d_tree_tuned.predict(X_train)\n",
    "metrics_score(y_train, y_train_pred_dt)"
   ]
  },
  {
   "cell_type": "code",
   "execution_count": null,
   "metadata": {},
   "outputs": [],
   "source": [
    "# Checking performance on the testing data based on the tuned model\n",
    "y_pred_test2 = d_tree_tuned.predict(X_test)\n",
    "metrics_score(y_test, y_pred_test2)"
   ]
  },
  {
   "cell_type": "code",
   "execution_count": null,
   "metadata": {},
   "outputs": [],
   "source": [
    "print(\"Recall Score:\", get_recall_score2(d_tree_tuned, X_test, y_test))"
   ]
  },
  {
   "cell_type": "code",
   "execution_count": null,
   "metadata": {},
   "outputs": [],
   "source": []
  },
  {
   "cell_type": "code",
   "execution_count": null,
   "metadata": {},
   "outputs": [],
   "source": []
  },
  {
   "cell_type": "code",
   "execution_count": null,
   "metadata": {},
   "outputs": [],
   "source": []
  },
  {
   "cell_type": "code",
   "execution_count": null,
   "metadata": {},
   "outputs": [],
   "source": []
  },
  {
   "cell_type": "code",
   "execution_count": null,
   "metadata": {},
   "outputs": [],
   "source": []
  },
  {
   "cell_type": "markdown",
   "metadata": {},
   "source": [
    "## **Actionable Insights and Business Recommendations**"
   ]
  },
  {
   "cell_type": "code",
   "execution_count": null,
   "metadata": {},
   "outputs": [],
   "source": []
  }
 ],
 "metadata": {
  "colab": {
   "collapsed_sections": [
    "5_7DfrKa_bv_",
    "V5duvKqA_bv_",
    "oILSLGBL_bwA",
    "DyG29Cqz_bwA",
    "OqnMczju_bwB",
    "wHYJkmek_bwB",
    "CpcpowUT_bwC",
    "RmTpaojz_bwC",
    "-aYGSoyf_bwC",
    "3gO4yNoS_bwD",
    "tFmj2sAi_bwD",
    "H82v-Oiq_bwD",
    "JiUByWjP_bwE",
    "0xN_VJOl_bwE",
    "F381SOUJ_bwE",
    "zQgUfx28_bwE",
    "zNopQzBy_bwF",
    "TUFPGMGX_bwF",
    "KgU-UehX_bwF",
    "O8KX8Nva_bwF",
    "S7CMbCwL_bwG",
    "pTzCIQOb_bwG",
    "1AhKhAbf_bwG",
    "NzGHKjXv_bwG",
    "Vm5bRpLz_bwH",
    "M6A_z8kr_bwH",
    "InfhuW8o_bwH",
    "EpTEjZ-q_bwI",
    "WWtc2nex_bwI",
    "KjldKKMs_bwI",
    "Woaq6vqT_bwJ"
   ],
   "name": "MIT_FDS_Project_Diabetes_Analysis_Questions-1.ipynb",
   "provenance": []
  },
  "kernelspec": {
   "display_name": "Python 3 (ipykernel)",
   "language": "python",
   "name": "python3"
  },
  "language_info": {
   "codemirror_mode": {
    "name": "ipython",
    "version": 3
   },
   "file_extension": ".py",
   "mimetype": "text/x-python",
   "name": "python",
   "nbconvert_exporter": "python",
   "pygments_lexer": "ipython3",
   "version": "3.9.13"
  },
  "toc": {
   "base_numbering": 1,
   "nav_menu": {},
   "number_sections": true,
   "sideBar": true,
   "skip_h1_title": false,
   "title_cell": "Table of Contents",
   "title_sidebar": "Contents",
   "toc_cell": false,
   "toc_position": {},
   "toc_section_display": true,
   "toc_window_display": false
  },
  "varInspector": {
   "cols": {
    "lenName": 16,
    "lenType": 16,
    "lenVar": 40
   },
   "kernels_config": {
    "python": {
     "delete_cmd_postfix": "",
     "delete_cmd_prefix": "del ",
     "library": "var_list.py",
     "varRefreshCmd": "print(var_dic_list())"
    },
    "r": {
     "delete_cmd_postfix": ") ",
     "delete_cmd_prefix": "rm(",
     "library": "var_list.r",
     "varRefreshCmd": "cat(var_dic_list()) "
    }
   },
   "types_to_exclude": [
    "module",
    "function",
    "builtin_function_or_method",
    "instance",
    "_Feature"
   ],
   "window_display": false
  }
 },
 "nbformat": 4,
 "nbformat_minor": 1
}
