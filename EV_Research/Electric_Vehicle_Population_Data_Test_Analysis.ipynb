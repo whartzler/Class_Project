{
 "cells": [
  {
   "cell_type": "markdown",
   "id": "35aca5fc",
   "metadata": {},
   "source": [
    "# Importing our dependencies and loading the data"
   ]
  },
  {
   "cell_type": "code",
   "execution_count": 147,
   "id": "4fb6e819",
   "metadata": {},
   "outputs": [],
   "source": [
    "import pandas as pd\n",
    "import matplotlib.pyplot as plt"
   ]
  },
  {
   "cell_type": "code",
   "execution_count": 148,
   "id": "01a69497",
   "metadata": {},
   "outputs": [
    {
     "data": {
      "text/html": [
       "<div>\n",
       "<style scoped>\n",
       "    .dataframe tbody tr th:only-of-type {\n",
       "        vertical-align: middle;\n",
       "    }\n",
       "\n",
       "    .dataframe tbody tr th {\n",
       "        vertical-align: top;\n",
       "    }\n",
       "\n",
       "    .dataframe thead th {\n",
       "        text-align: right;\n",
       "    }\n",
       "</style>\n",
       "<table border=\"1\" class=\"dataframe\">\n",
       "  <thead>\n",
       "    <tr style=\"text-align: right;\">\n",
       "      <th></th>\n",
       "      <th>VIN (1-10)</th>\n",
       "      <th>County</th>\n",
       "      <th>City</th>\n",
       "      <th>State</th>\n",
       "      <th>Postal Code</th>\n",
       "      <th>Model Year</th>\n",
       "      <th>Make</th>\n",
       "      <th>Model</th>\n",
       "      <th>Electric Vehicle Type</th>\n",
       "      <th>Clean Alternative Fuel Vehicle (CAFV) Eligibility</th>\n",
       "      <th>Electric Range</th>\n",
       "      <th>Base MSRP</th>\n",
       "      <th>Legislative District</th>\n",
       "      <th>DOL Vehicle ID</th>\n",
       "      <th>Vehicle Location</th>\n",
       "      <th>Electric Utility</th>\n",
       "      <th>2020 Census Tract</th>\n",
       "    </tr>\n",
       "  </thead>\n",
       "  <tbody>\n",
       "    <tr>\n",
       "      <th>0</th>\n",
       "      <td>5YJ3E1EA8J</td>\n",
       "      <td>San Diego</td>\n",
       "      <td>Oceanside</td>\n",
       "      <td>CA</td>\n",
       "      <td>92051.0</td>\n",
       "      <td>2018</td>\n",
       "      <td>TESLA</td>\n",
       "      <td>MODEL 3</td>\n",
       "      <td>Battery Electric Vehicle (BEV)</td>\n",
       "      <td>Clean Alternative Fuel Vehicle Eligible</td>\n",
       "      <td>215</td>\n",
       "      <td>0</td>\n",
       "      <td>NaN</td>\n",
       "      <td>153998050</td>\n",
       "      <td>NaN</td>\n",
       "      <td>NaN</td>\n",
       "      <td>6.073019e+09</td>\n",
       "    </tr>\n",
       "    <tr>\n",
       "      <th>1</th>\n",
       "      <td>3FA6P0PU7H</td>\n",
       "      <td>Sedgwick</td>\n",
       "      <td>Derby</td>\n",
       "      <td>KS</td>\n",
       "      <td>67037.0</td>\n",
       "      <td>2017</td>\n",
       "      <td>FORD</td>\n",
       "      <td>FUSION</td>\n",
       "      <td>Plug-in Hybrid Electric Vehicle (PHEV)</td>\n",
       "      <td>Not eligible due to low battery range</td>\n",
       "      <td>21</td>\n",
       "      <td>0</td>\n",
       "      <td>NaN</td>\n",
       "      <td>138214331</td>\n",
       "      <td>POINT (-97.27013 37.54531)</td>\n",
       "      <td>NaN</td>\n",
       "      <td>2.017301e+10</td>\n",
       "    </tr>\n",
       "    <tr>\n",
       "      <th>2</th>\n",
       "      <td>1N4AZ0CP8D</td>\n",
       "      <td>Snohomish</td>\n",
       "      <td>Marysville</td>\n",
       "      <td>WA</td>\n",
       "      <td>98271.0</td>\n",
       "      <td>2013</td>\n",
       "      <td>NISSAN</td>\n",
       "      <td>LEAF</td>\n",
       "      <td>Battery Electric Vehicle (BEV)</td>\n",
       "      <td>Clean Alternative Fuel Vehicle Eligible</td>\n",
       "      <td>75</td>\n",
       "      <td>0</td>\n",
       "      <td>38.0</td>\n",
       "      <td>3129059</td>\n",
       "      <td>POINT (-122.19388 48.15353)</td>\n",
       "      <td>PUGET SOUND ENERGY INC</td>\n",
       "      <td>5.306105e+10</td>\n",
       "    </tr>\n",
       "    <tr>\n",
       "      <th>3</th>\n",
       "      <td>WBY8P8C58K</td>\n",
       "      <td>Kitsap</td>\n",
       "      <td>Bremerton</td>\n",
       "      <td>WA</td>\n",
       "      <td>98337.0</td>\n",
       "      <td>2019</td>\n",
       "      <td>BMW</td>\n",
       "      <td>I3</td>\n",
       "      <td>Plug-in Hybrid Electric Vehicle (PHEV)</td>\n",
       "      <td>Clean Alternative Fuel Vehicle Eligible</td>\n",
       "      <td>126</td>\n",
       "      <td>0</td>\n",
       "      <td>26.0</td>\n",
       "      <td>166525635</td>\n",
       "      <td>POINT (-122.62749 47.565)</td>\n",
       "      <td>PUGET SOUND ENERGY INC</td>\n",
       "      <td>5.303508e+10</td>\n",
       "    </tr>\n",
       "    <tr>\n",
       "      <th>4</th>\n",
       "      <td>5YJ3E1EA7K</td>\n",
       "      <td>Snohomish</td>\n",
       "      <td>Edmonds</td>\n",
       "      <td>WA</td>\n",
       "      <td>98026.0</td>\n",
       "      <td>2019</td>\n",
       "      <td>TESLA</td>\n",
       "      <td>MODEL 3</td>\n",
       "      <td>Battery Electric Vehicle (BEV)</td>\n",
       "      <td>Clean Alternative Fuel Vehicle Eligible</td>\n",
       "      <td>220</td>\n",
       "      <td>0</td>\n",
       "      <td>32.0</td>\n",
       "      <td>475248315</td>\n",
       "      <td>POINT (-122.31768 47.87166)</td>\n",
       "      <td>PUGET SOUND ENERGY INC</td>\n",
       "      <td>5.306105e+10</td>\n",
       "    </tr>\n",
       "  </tbody>\n",
       "</table>\n",
       "</div>"
      ],
      "text/plain": [
       "   VIN (1-10)     County        City State  Postal Code  Model Year    Make  \\\n",
       "0  5YJ3E1EA8J  San Diego   Oceanside    CA      92051.0        2018   TESLA   \n",
       "1  3FA6P0PU7H   Sedgwick       Derby    KS      67037.0        2017    FORD   \n",
       "2  1N4AZ0CP8D  Snohomish  Marysville    WA      98271.0        2013  NISSAN   \n",
       "3  WBY8P8C58K     Kitsap   Bremerton    WA      98337.0        2019     BMW   \n",
       "4  5YJ3E1EA7K  Snohomish     Edmonds    WA      98026.0        2019   TESLA   \n",
       "\n",
       "     Model                   Electric Vehicle Type  \\\n",
       "0  MODEL 3          Battery Electric Vehicle (BEV)   \n",
       "1   FUSION  Plug-in Hybrid Electric Vehicle (PHEV)   \n",
       "2     LEAF          Battery Electric Vehicle (BEV)   \n",
       "3       I3  Plug-in Hybrid Electric Vehicle (PHEV)   \n",
       "4  MODEL 3          Battery Electric Vehicle (BEV)   \n",
       "\n",
       "  Clean Alternative Fuel Vehicle (CAFV) Eligibility  Electric Range  \\\n",
       "0           Clean Alternative Fuel Vehicle Eligible             215   \n",
       "1             Not eligible due to low battery range              21   \n",
       "2           Clean Alternative Fuel Vehicle Eligible              75   \n",
       "3           Clean Alternative Fuel Vehicle Eligible             126   \n",
       "4           Clean Alternative Fuel Vehicle Eligible             220   \n",
       "\n",
       "   Base MSRP  Legislative District  DOL Vehicle ID  \\\n",
       "0          0                   NaN       153998050   \n",
       "1          0                   NaN       138214331   \n",
       "2          0                  38.0         3129059   \n",
       "3          0                  26.0       166525635   \n",
       "4          0                  32.0       475248315   \n",
       "\n",
       "              Vehicle Location        Electric Utility  2020 Census Tract  \n",
       "0                          NaN                     NaN       6.073019e+09  \n",
       "1   POINT (-97.27013 37.54531)                     NaN       2.017301e+10  \n",
       "2  POINT (-122.19388 48.15353)  PUGET SOUND ENERGY INC       5.306105e+10  \n",
       "3    POINT (-122.62749 47.565)  PUGET SOUND ENERGY INC       5.303508e+10  \n",
       "4  POINT (-122.31768 47.87166)  PUGET SOUND ENERGY INC       5.306105e+10  "
      ]
     },
     "execution_count": 148,
     "metadata": {},
     "output_type": "execute_result"
    }
   ],
   "source": [
    "raw_EV_df = pd.read_csv('Electric_Vehicle_Population_Data.csv')\n",
    "raw_EV_df.head()"
   ]
  },
  {
   "cell_type": "markdown",
   "id": "8e62aba2",
   "metadata": {},
   "source": [
    "# Basic DataFrame cleansing"
   ]
  },
  {
   "cell_type": "code",
   "execution_count": 149,
   "id": "5dfc179f",
   "metadata": {
    "scrolled": true
   },
   "outputs": [
    {
     "data": {
      "text/plain": [
       "Index(['VIN (1-10)', 'County', 'City', 'State', 'Postal Code', 'Model Year',\n",
       "       'Make', 'Model', 'Electric Vehicle Type',\n",
       "       'Clean Alternative Fuel Vehicle (CAFV) Eligibility', 'Electric Range',\n",
       "       'Base MSRP', 'Legislative District', 'DOL Vehicle ID',\n",
       "       'Vehicle Location', 'Electric Utility', '2020 Census Tract'],\n",
       "      dtype='object')"
      ]
     },
     "execution_count": 149,
     "metadata": {},
     "output_type": "execute_result"
    }
   ],
   "source": [
    "# Viewing columns\n",
    "raw_EV_df.columns"
   ]
  },
  {
   "cell_type": "code",
   "execution_count": 150,
   "id": "6df6ff8c",
   "metadata": {},
   "outputs": [
    {
     "name": "stdout",
     "output_type": "stream",
     "text": [
      "<class 'pandas.core.frame.DataFrame'>\n",
      "Int64Index: 118336 entries, 2 to 118958\n",
      "Data columns (total 17 columns):\n",
      " #   Column                                             Non-Null Count   Dtype  \n",
      "---  ------                                             --------------   -----  \n",
      " 0   VIN (1-10)                                         118336 non-null  object \n",
      " 1   County                                             118336 non-null  object \n",
      " 2   City                                               118336 non-null  object \n",
      " 3   State                                              118336 non-null  object \n",
      " 4   Postal Code                                        118336 non-null  float64\n",
      " 5   Model Year                                         118336 non-null  int64  \n",
      " 6   Make                                               118336 non-null  object \n",
      " 7   Model                                              118336 non-null  object \n",
      " 8   Electric Vehicle Type                              118336 non-null  object \n",
      " 9   Clean Alternative Fuel Vehicle (CAFV) Eligibility  118336 non-null  object \n",
      " 10  Electric Range                                     118336 non-null  int64  \n",
      " 11  Base MSRP                                          118336 non-null  int64  \n",
      " 12  Legislative District                               118336 non-null  float64\n",
      " 13  DOL Vehicle ID                                     118336 non-null  int64  \n",
      " 14  Vehicle Location                                   118336 non-null  object \n",
      " 15  Electric Utility                                   118336 non-null  object \n",
      " 16  2020 Census Tract                                  118336 non-null  float64\n",
      "dtypes: float64(3), int64(4), object(10)\n",
      "memory usage: 16.3+ MB\n"
     ]
    }
   ],
   "source": [
    "# Dropping null values\n",
    "clean_EV = EV_df.dropna()\n",
    "clean_EV.info()"
   ]
  },
  {
   "cell_type": "code",
   "execution_count": 151,
   "id": "048efc18",
   "metadata": {},
   "outputs": [
    {
     "data": {
      "text/plain": [
       "0"
      ]
     },
     "execution_count": 151,
     "metadata": {},
     "output_type": "execute_result"
    }
   ],
   "source": [
    "# Determining if there is duplicated values\n",
    "clean_EV.duplicated().sum()"
   ]
  },
  {
   "cell_type": "code",
   "execution_count": 152,
   "id": "3ad34501",
   "metadata": {},
   "outputs": [
    {
     "data": {
      "text/plain": [
       "VIN (1-10)                                            object\n",
       "County                                                object\n",
       "City                                                  object\n",
       "State                                                 object\n",
       "Postal Code                                          float64\n",
       "Model Year                                             int64\n",
       "Make                                                  object\n",
       "Model                                                 object\n",
       "Electric Vehicle Type                                 object\n",
       "Clean Alternative Fuel Vehicle (CAFV) Eligibility     object\n",
       "Electric Range                                         int64\n",
       "Base MSRP                                              int64\n",
       "Legislative District                                 float64\n",
       "DOL Vehicle ID                                         int64\n",
       "Vehicle Location                                      object\n",
       "Electric Utility                                      object\n",
       "2020 Census Tract                                    float64\n",
       "dtype: object"
      ]
     },
     "execution_count": 152,
     "metadata": {},
     "output_type": "execute_result"
    }
   ],
   "source": [
    "# Determining the datatypes of each column\n",
    "clean_EV.dtypes"
   ]
  },
  {
   "cell_type": "code",
   "execution_count": 153,
   "id": "43ae9394",
   "metadata": {},
   "outputs": [
    {
     "name": "stderr",
     "output_type": "stream",
     "text": [
      "C:\\Users\\devil\\Anaconda3\\envs\\PythonData\\lib\\site-packages\\ipykernel_launcher.py:2: SettingWithCopyWarning: \n",
      "A value is trying to be set on a copy of a slice from a DataFrame.\n",
      "Try using .loc[row_indexer,col_indexer] = value instead\n",
      "\n",
      "See the caveats in the documentation: https://pandas.pydata.org/pandas-docs/stable/user_guide/indexing.html#returning-a-view-versus-a-copy\n",
      "  \n"
     ]
    }
   ],
   "source": [
    "# Changing the Postal Code column to int instead of float\n",
    "clean_EV['Postal Code'] = clean_EV['Postal Code'].astype('int64')"
   ]
  },
  {
   "cell_type": "code",
   "execution_count": 154,
   "id": "b00dcefe",
   "metadata": {
    "scrolled": true
   },
   "outputs": [
    {
     "data": {
      "text/plain": [
       "VIN (1-10)                                            object\n",
       "County                                                object\n",
       "City                                                  object\n",
       "State                                                 object\n",
       "Postal Code                                            int64\n",
       "Model Year                                             int64\n",
       "Make                                                  object\n",
       "Model                                                 object\n",
       "Electric Vehicle Type                                 object\n",
       "Clean Alternative Fuel Vehicle (CAFV) Eligibility     object\n",
       "Electric Range                                         int64\n",
       "Base MSRP                                              int64\n",
       "Legislative District                                 float64\n",
       "DOL Vehicle ID                                         int64\n",
       "Vehicle Location                                      object\n",
       "Electric Utility                                      object\n",
       "2020 Census Tract                                    float64\n",
       "dtype: object"
      ]
     },
     "execution_count": 154,
     "metadata": {},
     "output_type": "execute_result"
    }
   ],
   "source": [
    "# Viewing the datatypes of the clean_EV DataFrame\n",
    "clean_EV.dtypes"
   ]
  },
  {
   "cell_type": "code",
   "execution_count": 155,
   "id": "02ee0983",
   "metadata": {},
   "outputs": [
    {
     "name": "stderr",
     "output_type": "stream",
     "text": [
      "C:\\Users\\devil\\Anaconda3\\envs\\PythonData\\lib\\site-packages\\ipykernel_launcher.py:2: SettingWithCopyWarning: \n",
      "A value is trying to be set on a copy of a slice from a DataFrame.\n",
      "Try using .loc[row_indexer,col_indexer] = value instead\n",
      "\n",
      "See the caveats in the documentation: https://pandas.pydata.org/pandas-docs/stable/user_guide/indexing.html#returning-a-view-versus-a-copy\n",
      "  \n"
     ]
    }
   ],
   "source": [
    "# Changing the datatype of the Legislative District column to int instead of float\n",
    "clean_EV['Legislative District'] = clean_EV['Legislative District'].astype('int64')"
   ]
  },
  {
   "cell_type": "code",
   "execution_count": 156,
   "id": "b24efb8f",
   "metadata": {
    "scrolled": false
   },
   "outputs": [
    {
     "data": {
      "text/html": [
       "<div>\n",
       "<style scoped>\n",
       "    .dataframe tbody tr th:only-of-type {\n",
       "        vertical-align: middle;\n",
       "    }\n",
       "\n",
       "    .dataframe tbody tr th {\n",
       "        vertical-align: top;\n",
       "    }\n",
       "\n",
       "    .dataframe thead th {\n",
       "        text-align: right;\n",
       "    }\n",
       "</style>\n",
       "<table border=\"1\" class=\"dataframe\">\n",
       "  <thead>\n",
       "    <tr style=\"text-align: right;\">\n",
       "      <th></th>\n",
       "      <th>VIN (1-10)</th>\n",
       "      <th>County</th>\n",
       "      <th>City</th>\n",
       "      <th>State</th>\n",
       "      <th>Postal Code</th>\n",
       "      <th>Model Year</th>\n",
       "      <th>Make</th>\n",
       "      <th>Model</th>\n",
       "      <th>Electric Vehicle Type</th>\n",
       "      <th>Clean Alternative Fuel Vehicle (CAFV) Eligibility</th>\n",
       "      <th>Electric Range</th>\n",
       "      <th>Base MSRP</th>\n",
       "      <th>Legislative District</th>\n",
       "      <th>DOL Vehicle ID</th>\n",
       "      <th>Vehicle Location</th>\n",
       "      <th>Electric Utility</th>\n",
       "      <th>2020 Census Tract</th>\n",
       "    </tr>\n",
       "  </thead>\n",
       "  <tbody>\n",
       "    <tr>\n",
       "      <th>2</th>\n",
       "      <td>1N4AZ0CP8D</td>\n",
       "      <td>Snohomish</td>\n",
       "      <td>Marysville</td>\n",
       "      <td>WA</td>\n",
       "      <td>98271</td>\n",
       "      <td>2013</td>\n",
       "      <td>NISSAN</td>\n",
       "      <td>LEAF</td>\n",
       "      <td>Battery Electric Vehicle (BEV)</td>\n",
       "      <td>Clean Alternative Fuel Vehicle Eligible</td>\n",
       "      <td>75</td>\n",
       "      <td>0</td>\n",
       "      <td>38</td>\n",
       "      <td>3129059</td>\n",
       "      <td>POINT (-122.19388 48.15353)</td>\n",
       "      <td>PUGET SOUND ENERGY INC</td>\n",
       "      <td>5.306105e+10</td>\n",
       "    </tr>\n",
       "    <tr>\n",
       "      <th>3</th>\n",
       "      <td>WBY8P8C58K</td>\n",
       "      <td>Kitsap</td>\n",
       "      <td>Bremerton</td>\n",
       "      <td>WA</td>\n",
       "      <td>98337</td>\n",
       "      <td>2019</td>\n",
       "      <td>BMW</td>\n",
       "      <td>I3</td>\n",
       "      <td>Plug-in Hybrid Electric Vehicle (PHEV)</td>\n",
       "      <td>Clean Alternative Fuel Vehicle Eligible</td>\n",
       "      <td>126</td>\n",
       "      <td>0</td>\n",
       "      <td>26</td>\n",
       "      <td>166525635</td>\n",
       "      <td>POINT (-122.62749 47.565)</td>\n",
       "      <td>PUGET SOUND ENERGY INC</td>\n",
       "      <td>5.303508e+10</td>\n",
       "    </tr>\n",
       "    <tr>\n",
       "      <th>4</th>\n",
       "      <td>5YJ3E1EA7K</td>\n",
       "      <td>Snohomish</td>\n",
       "      <td>Edmonds</td>\n",
       "      <td>WA</td>\n",
       "      <td>98026</td>\n",
       "      <td>2019</td>\n",
       "      <td>TESLA</td>\n",
       "      <td>MODEL 3</td>\n",
       "      <td>Battery Electric Vehicle (BEV)</td>\n",
       "      <td>Clean Alternative Fuel Vehicle Eligible</td>\n",
       "      <td>220</td>\n",
       "      <td>0</td>\n",
       "      <td>32</td>\n",
       "      <td>475248315</td>\n",
       "      <td>POINT (-122.31768 47.87166)</td>\n",
       "      <td>PUGET SOUND ENERGY INC</td>\n",
       "      <td>5.306105e+10</td>\n",
       "    </tr>\n",
       "    <tr>\n",
       "      <th>5</th>\n",
       "      <td>1G1FZ6S07L</td>\n",
       "      <td>Walla Walla</td>\n",
       "      <td>Walla Walla</td>\n",
       "      <td>WA</td>\n",
       "      <td>99362</td>\n",
       "      <td>2020</td>\n",
       "      <td>CHEVROLET</td>\n",
       "      <td>BOLT EV</td>\n",
       "      <td>Battery Electric Vehicle (BEV)</td>\n",
       "      <td>Clean Alternative Fuel Vehicle Eligible</td>\n",
       "      <td>259</td>\n",
       "      <td>0</td>\n",
       "      <td>16</td>\n",
       "      <td>150312991</td>\n",
       "      <td>POINT (-118.34261 46.07068)</td>\n",
       "      <td>PACIFICORP</td>\n",
       "      <td>5.307192e+10</td>\n",
       "    </tr>\n",
       "    <tr>\n",
       "      <th>6</th>\n",
       "      <td>KNDCC3LG1L</td>\n",
       "      <td>Snohomish</td>\n",
       "      <td>Everett</td>\n",
       "      <td>WA</td>\n",
       "      <td>98204</td>\n",
       "      <td>2020</td>\n",
       "      <td>KIA</td>\n",
       "      <td>NIRO</td>\n",
       "      <td>Battery Electric Vehicle (BEV)</td>\n",
       "      <td>Clean Alternative Fuel Vehicle Eligible</td>\n",
       "      <td>239</td>\n",
       "      <td>0</td>\n",
       "      <td>21</td>\n",
       "      <td>152471728</td>\n",
       "      <td>POINT (-122.25527 47.90456)</td>\n",
       "      <td>PUGET SOUND ENERGY INC</td>\n",
       "      <td>5.306104e+10</td>\n",
       "    </tr>\n",
       "  </tbody>\n",
       "</table>\n",
       "</div>"
      ],
      "text/plain": [
       "   VIN (1-10)       County         City State  Postal Code  Model Year  \\\n",
       "2  1N4AZ0CP8D    Snohomish   Marysville    WA        98271        2013   \n",
       "3  WBY8P8C58K       Kitsap    Bremerton    WA        98337        2019   \n",
       "4  5YJ3E1EA7K    Snohomish      Edmonds    WA        98026        2019   \n",
       "5  1G1FZ6S07L  Walla Walla  Walla Walla    WA        99362        2020   \n",
       "6  KNDCC3LG1L    Snohomish      Everett    WA        98204        2020   \n",
       "\n",
       "        Make    Model                   Electric Vehicle Type  \\\n",
       "2     NISSAN     LEAF          Battery Electric Vehicle (BEV)   \n",
       "3        BMW       I3  Plug-in Hybrid Electric Vehicle (PHEV)   \n",
       "4      TESLA  MODEL 3          Battery Electric Vehicle (BEV)   \n",
       "5  CHEVROLET  BOLT EV          Battery Electric Vehicle (BEV)   \n",
       "6        KIA     NIRO          Battery Electric Vehicle (BEV)   \n",
       "\n",
       "  Clean Alternative Fuel Vehicle (CAFV) Eligibility  Electric Range  \\\n",
       "2           Clean Alternative Fuel Vehicle Eligible              75   \n",
       "3           Clean Alternative Fuel Vehicle Eligible             126   \n",
       "4           Clean Alternative Fuel Vehicle Eligible             220   \n",
       "5           Clean Alternative Fuel Vehicle Eligible             259   \n",
       "6           Clean Alternative Fuel Vehicle Eligible             239   \n",
       "\n",
       "   Base MSRP  Legislative District  DOL Vehicle ID  \\\n",
       "2          0                    38         3129059   \n",
       "3          0                    26       166525635   \n",
       "4          0                    32       475248315   \n",
       "5          0                    16       150312991   \n",
       "6          0                    21       152471728   \n",
       "\n",
       "              Vehicle Location        Electric Utility  2020 Census Tract  \n",
       "2  POINT (-122.19388 48.15353)  PUGET SOUND ENERGY INC       5.306105e+10  \n",
       "3    POINT (-122.62749 47.565)  PUGET SOUND ENERGY INC       5.303508e+10  \n",
       "4  POINT (-122.31768 47.87166)  PUGET SOUND ENERGY INC       5.306105e+10  \n",
       "5  POINT (-118.34261 46.07068)              PACIFICORP       5.307192e+10  \n",
       "6  POINT (-122.25527 47.90456)  PUGET SOUND ENERGY INC       5.306104e+10  "
      ]
     },
     "execution_count": 156,
     "metadata": {},
     "output_type": "execute_result"
    }
   ],
   "source": [
    "# Viewing df\n",
    "clean_EV.head()"
   ]
  },
  {
   "cell_type": "markdown",
   "id": "64e53d15",
   "metadata": {},
   "source": [
    "# Viewing specific attributes of the dataset"
   ]
  },
  {
   "cell_type": "code",
   "execution_count": 157,
   "id": "77fff51e",
   "metadata": {},
   "outputs": [
    {
     "data": {
      "text/plain": [
       "34"
      ]
     },
     "execution_count": 157,
     "metadata": {},
     "output_type": "execute_result"
    }
   ],
   "source": [
    "# Determining the number of car manufacturers present in the data\n",
    "clean_EV['Make'].nunique()"
   ]
  },
  {
   "cell_type": "markdown",
   "id": "f9294d1f",
   "metadata": {},
   "source": [
    "## Cars grouped based on their manufacturers in descending order"
   ]
  },
  {
   "cell_type": "code",
   "execution_count": 158,
   "id": "cec6d204",
   "metadata": {
    "scrolled": true
   },
   "outputs": [
    {
     "data": {
      "text/plain": [
       "Make\n",
       "TESLA             54478\n",
       "NISSAN            12853\n",
       "CHEVROLET         10502\n",
       "FORD               6307\n",
       "BMW                5168\n",
       "KIA                4689\n",
       "TOYOTA             4470\n",
       "VOLKSWAGEN         2964\n",
       "AUDI               2401\n",
       "VOLVO              2270\n",
       "CHRYSLER           1872\n",
       "HYUNDAI            1699\n",
       "JEEP               1465\n",
       "RIVIAN             1170\n",
       "PORSCHE             882\n",
       "FIAT                808\n",
       "HONDA               791\n",
       "MINI                685\n",
       "POLESTAR            605\n",
       "MITSUBISHI          593\n",
       "MERCEDES-BENZ       569\n",
       "SMART               269\n",
       "JAGUAR              214\n",
       "LINCOLN             180\n",
       "SUBARU              112\n",
       "CADILLAC            106\n",
       "LUCID MOTORS         85\n",
       "LEXUS                40\n",
       "LAND ROVER           35\n",
       "GENESIS              24\n",
       "FISKER               17\n",
       "AZURE DYNAMICS        7\n",
       "TH!NK                 3\n",
       "BENTLEY               3\n",
       "Name: Model, dtype: int64"
      ]
     },
     "execution_count": 158,
     "metadata": {},
     "output_type": "execute_result"
    }
   ],
   "source": [
    "car_manufacturers = clean_EV.groupby('Make').count()['Model'].sort_values(ascending = False)\n",
    "car_manufacturers"
   ]
  },
  {
   "cell_type": "markdown",
   "id": "073cf1c8",
   "metadata": {},
   "source": [
    "## Number of cars by model year in ascending order"
   ]
  },
  {
   "cell_type": "code",
   "execution_count": 159,
   "id": "6f26d69d",
   "metadata": {},
   "outputs": [
    {
     "data": {
      "text/plain": [
       "Model Year\n",
       "2022    27508\n",
       "2021    18318\n",
       "2018    14215\n",
       "2020    10814\n",
       "2019    10265\n",
       "2017     8523\n",
       "2023     7323\n",
       "2016     5655\n",
       "2015     4909\n",
       "2013     4611\n",
       "2014     3613\n",
       "2012     1692\n",
       "2011      832\n",
       "2008       22\n",
       "2010       21\n",
       "2000        8\n",
       "1999        3\n",
       "2002        2\n",
       "1998        1\n",
       "1997        1\n",
       "Name: County, dtype: int64"
      ]
     },
     "execution_count": 159,
     "metadata": {},
     "output_type": "execute_result"
    }
   ],
   "source": [
    "cars_by_year = clean_EV.groupby('Model Year').count()['County'].sort_values(ascending = False)\n",
    "cars_by_year"
   ]
  },
  {
   "cell_type": "markdown",
   "id": "b0bb6df2",
   "metadata": {},
   "source": [
    "## Number of cars by county in descending order"
   ]
  },
  {
   "cell_type": "markdown",
   "id": "b40a5271",
   "metadata": {},
   "source": [
    "##### The following information shows that the majority of the electric vehicles in our dataset are from King, Snohomish, and Pierce counties.\n",
    "##### This should not be surprising, as these counties contain many of the major cities of Washington state (Seattle, Tacoma, Bellevue, etc)."
   ]
  },
  {
   "cell_type": "code",
   "execution_count": 160,
   "id": "cb872733",
   "metadata": {
    "scrolled": true
   },
   "outputs": [
    {
     "data": {
      "text/plain": [
       "County\n",
       "King            62290\n",
       "Snohomish       13251\n",
       "Pierce           9004\n",
       "Clark            7078\n",
       "Thurston         4297\n",
       "Kitsap           3992\n",
       "Whatcom          2970\n",
       "Spokane          2919\n",
       "Benton           1443\n",
       "Island           1346\n",
       "Skagit           1281\n",
       "Clallam           762\n",
       "San Juan          743\n",
       "Jefferson         714\n",
       "Chelan            695\n",
       "Yakima            664\n",
       "Cowlitz           598\n",
       "Mason             567\n",
       "Lewis             459\n",
       "Grays Harbor      414\n",
       "Kittitas          407\n",
       "Franklin          387\n",
       "Grant             344\n",
       "Walla Walla       316\n",
       "Douglas           234\n",
       "Whitman           197\n",
       "Klickitat         183\n",
       "Okanogan          154\n",
       "Pacific           151\n",
       "Skamania          145\n",
       "Stevens            93\n",
       "Asotin             50\n",
       "Wahkiakum          41\n",
       "Pend Oreille       35\n",
       "Adams              35\n",
       "Lincoln            32\n",
       "Ferry              27\n",
       "Columbia           14\n",
       "Garfield            4\n",
       "Name: Model, dtype: int64"
      ]
     },
     "execution_count": 160,
     "metadata": {},
     "output_type": "execute_result"
    }
   ],
   "source": [
    "cars_by_county = clean_EV.groupby('County').count()['Model'].sort_values(ascending = False)\n",
    "cars_by_county"
   ]
  },
  {
   "cell_type": "markdown",
   "id": "acc06f0e",
   "metadata": {},
   "source": [
    "## Number of cars based on electric vehicle type"
   ]
  },
  {
   "cell_type": "code",
   "execution_count": 161,
   "id": "b5834e7f",
   "metadata": {},
   "outputs": [
    {
     "data": {
      "text/plain": [
       "Electric Vehicle Type\n",
       "Battery Electric Vehicle (BEV)            91007\n",
       "Plug-in Hybrid Electric Vehicle (PHEV)    27329\n",
       "Name: Model, dtype: int64"
      ]
     },
     "execution_count": 161,
     "metadata": {},
     "output_type": "execute_result"
    }
   ],
   "source": [
    "cars_by_ev_type = clean_EV.groupby('Electric Vehicle Type').count()['Model'].sort_values(ascending = False)\n",
    "cars_by_ev_type"
   ]
  },
  {
   "cell_type": "markdown",
   "id": "7a1d735c",
   "metadata": {},
   "source": [
    "## Cars based on electric range"
   ]
  },
  {
   "cell_type": "code",
   "execution_count": 162,
   "id": "75359aaa",
   "metadata": {
    "scrolled": true
   },
   "outputs": [
    {
     "name": "stdout",
     "output_type": "stream",
     "text": [
      "337\n",
      "82.85516664413197\n",
      "0\n"
     ]
    }
   ],
   "source": [
    "# Max range\n",
    "print(clean_EV['Electric Range'].max())\n",
    "\n",
    "# Mean range\n",
    "print(clean_EV[\"Electric Range\"].mean())\n",
    "\n",
    "# Mininum range\n",
    "print(clean_EV[\"Electric Range\"].min())"
   ]
  },
  {
   "cell_type": "code",
   "execution_count": 163,
   "id": "7d38586c",
   "metadata": {},
   "outputs": [
    {
     "data": {
      "text/plain": [
       "count    118336.000000\n",
       "mean         82.855167\n",
       "std         101.149029\n",
       "min           0.000000\n",
       "25%           0.000000\n",
       "50%          26.000000\n",
       "75%         204.000000\n",
       "max         337.000000\n",
       "Name: Electric Range, dtype: float64"
      ]
     },
     "execution_count": 163,
     "metadata": {},
     "output_type": "execute_result"
    }
   ],
   "source": [
    "# Summary of electric range of vehicles\n",
    "clean_EV['Electric Range'].describe()"
   ]
  },
  {
   "cell_type": "markdown",
   "id": "73d73f44",
   "metadata": {},
   "source": [
    "## Viewing the Electric Range via a scatter plot"
   ]
  },
  {
   "cell_type": "code",
   "execution_count": 164,
   "id": "d781a96b",
   "metadata": {
    "scrolled": false
   },
   "outputs": [
    {
     "data": {
      "text/plain": [
       "Text(0.5, 0, 'Model Year')"
      ]
     },
     "execution_count": 164,
     "metadata": {},
     "output_type": "execute_result"
    },
    {
     "data": {
      "image/png": "[encoded data removed]",
      "text/plain": [
       "<Figure size 640x480 with 1 Axes>"
      ]
     },
     "metadata": {},
     "output_type": "display_data"
    }
   ],
   "source": [
    "# Defining axes\n",
    "x_axis = cars_by_year.index\n",
    "y_axis = cars_by_year.values\n",
    "\n",
    "# Plotting data\n",
    "plt.scatter(x_axis, y_axis)\n",
    "plt.title('Cars Registered per Year')\n",
    "plt.ylabel('Cars Registered')\n",
    "plt.xlabel(\"Model Year\")"
   ]
  },
  {
   "cell_type": "markdown",
   "id": "dffcc08f",
   "metadata": {},
   "source": [
    "##### We see that the previous scatterplot shows that the number of electric vehicles registered in Washington \n",
    "##### state is increasing exponentially. (2023 can be removed, since this year has not registered the total # of electric vehicles).\n",
    "##### Though, given that this data was uploaded in February of 2023, and that there is approx. 7000 entries for 2023, we can \n",
    "##### infer that there will be many more entries for 2023. (One could possibly fit this data with an exponential model and use it to extrapolate \n",
    "##### how many cars will be registered for 2023 and on.)"
   ]
  },
  {
   "cell_type": "markdown",
   "id": "780c356d",
   "metadata": {},
   "source": [
    "## Viewing the data based on the CAFV eligibility"
   ]
  },
  {
   "cell_type": "code",
   "execution_count": 165,
   "id": "7e6dafb5",
   "metadata": {
    "scrolled": true
   },
   "outputs": [
    {
     "data": {
      "text/plain": [
       "Clean Alternative Fuel Vehicle (CAFV) Eligibility\n",
       "Clean Alternative Fuel Vehicle Eligible                         58551\n",
       "Eligibility unknown as battery range has not been researched    44712\n",
       "Not eligible due to low battery range                           15073\n",
       "Name: City, dtype: int64"
      ]
     },
     "execution_count": 165,
     "metadata": {},
     "output_type": "execute_result"
    }
   ],
   "source": [
    "clean_EV.groupby('Clean Alternative Fuel Vehicle (CAFV) Eligibility').count()['City']"
   ]
  },
  {
   "cell_type": "markdown",
   "id": "95abba85",
   "metadata": {},
   "source": [
    "## Viewing the data based on the Base MSRP (we see that there is significant outliers that are skewing this data)"
   ]
  },
  {
   "cell_type": "code",
   "execution_count": 166,
   "id": "deaa932b",
   "metadata": {
    "scrolled": true
   },
   "outputs": [
    {
     "data": {
      "text/plain": [
       "count    118336.000000\n",
       "mean       1680.319091\n",
       "std       10426.972937\n",
       "min           0.000000\n",
       "25%           0.000000\n",
       "50%           0.000000\n",
       "75%           0.000000\n",
       "max      845000.000000\n",
       "Name: Base MSRP, dtype: float64"
      ]
     },
     "execution_count": 166,
     "metadata": {},
     "output_type": "execute_result"
    }
   ],
   "source": [
    "clean_EV['Base MSRP'].describe()"
   ]
  },
  {
   "cell_type": "code",
   "execution_count": null,
   "id": "d2c57d71",
   "metadata": {},
   "outputs": [],
   "source": []
  }
 ],
 "metadata": {
  "kernelspec": {
   "display_name": "PythonData",
   "language": "python",
   "name": "pythondata"
  },
  "language_info": {
   "codemirror_mode": {
    "name": "ipython",
    "version": 3
   },
   "file_extension": ".py",
   "mimetype": "text/x-python",
   "name": "python",
   "nbconvert_exporter": "python",
   "pygments_lexer": "ipython3",
   "version": "3.7.13"
  }
 },
 "nbformat": 4,
 "nbformat_minor": 5
}
